{
 "cells": [
  {
   "cell_type": "code",
   "execution_count": 1,
   "id": "599c7de2",
   "metadata": {},
   "outputs": [
    {
     "name": "stdout",
     "output_type": "stream",
     "text": [
      "Coroutine started\n",
      "Coroutine finished\n"
     ]
    }
   ],
   "source": [
    "import asyncio\n",
    "\n",
    "async def my_coroutine():\n",
    "    print(\"Coroutine started\")\n",
    "    await asyncio.sleep(1)\n",
    "    print('Coroutine finished')\n",
    "\n",
    "async def main():\n",
    "    await my_coroutine()\n",
    "\n",
    "# 在 Jupyter Notebook 中，直接使用 await 運行 main()\n",
    "await main()"
   ]
  },
  {
   "cell_type": "code",
   "execution_count": 4,
   "id": "1a89a7d5",
   "metadata": {},
   "outputs": [
    {
     "name": "stdout",
     "output_type": "stream",
     "text": [
      "任務1 開始執行\n",
      "任務2 開始執行\n",
      "任務2 完成，耗時 1 秒\n",
      "任務1 完成，耗時 2 秒\n"
     ]
    }
   ],
   "source": [
    "async def say_hello(name, delay):\n",
    "    print(f\"{name} 開始執行\")\n",
    "    await asyncio.sleep(delay)  # 模擬 I/O 等待\n",
    "    print(f\"{name} 完成，耗時 {delay} 秒\")\n",
    "\n",
    "async def main():\n",
    "    # 同時執行多個任務\n",
    "    await asyncio.gather(say_hello(\"任務1\", 2), say_hello(\"任務2\", 1))\n",
    "\n",
    "# 執行非同步程式\n",
    "#asyncio.run(main())\n",
    "await main()"
   ]
  },
  {
   "cell_type": "code",
   "execution_count": 2,
   "id": "d15b5d25",
   "metadata": {},
   "outputs": [
    {
     "name": "stdout",
     "output_type": "stream",
     "text": [
      "開始抓取 網站1\n",
      "開始抓取 網站2\n",
      "開始抓取 網站3\n",
      "完成抓取 網站2\n",
      "完成抓取 網站1\n",
      "完成抓取 網站3\n",
      "所有資料： ['資料來自 網站1', '資料來自 網站2', '資料來自 網站3']\n"
     ]
    }
   ],
   "source": [
    "import asyncio\n",
    "\n",
    "async def fetch_data(url, delay):\n",
    "    print(f\"開始抓取 {url}\")\n",
    "    await asyncio.sleep(delay)  # 模擬網路延遲\n",
    "    print(f\"完成抓取 {url}\")\n",
    "    return f\"資料來自 {url}\"\n",
    "\n",
    "async def main():\n",
    "    urls = [(\"網站1\", 2), (\"網站2\", 1), (\"網站3\", 3)]\n",
    "    tasks = [fetch_data(url, delay) for url, delay in urls]\n",
    "    results = await asyncio.gather(*tasks)\n",
    "    print(\"所有資料：\", results)\n",
    "\n",
    "#asyncio.run(main()) #py檔執行\n",
    "await main() # ipynb檔執行"
   ]
  }
 ],
 "metadata": {
  "kernelspec": {
   "display_name": "chihlee1",
   "language": "python",
   "name": "python3"
  },
  "language_info": {
   "codemirror_mode": {
    "name": "ipython",
    "version": 3
   },
   "file_extension": ".py",
   "mimetype": "text/x-python",
   "name": "python",
   "nbconvert_exporter": "python",
   "pygments_lexer": "ipython3",
   "version": "3.10.16"
  }
 },
 "nbformat": 4,
 "nbformat_minor": 5
}
