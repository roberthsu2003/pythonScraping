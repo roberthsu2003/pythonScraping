{
 "cells": [
  {
   "cell_type": "markdown",
   "id": "a5c74b2c",
   "metadata": {},
   "source": [
    "# 在 Jupyter Notebook 執行 asyncio 程式\n",
    "Jupyter Notebook 的 event loop 已經啟動，直接使用 `await` 會出現 `'await' outside function` 錯誤。  \n",
    "可使用 `nest_asyncio` 套件解決此問題。"
   ]
  },
  {
   "cell_type": "code",
   "execution_count": 8,
   "id": "572de068",
   "metadata": {},
   "outputs": [
    {
     "name": "stdout",
     "output_type": "stream",
     "text": [
      "Requirement already satisfied: nest_asyncio in /opt/miniconda3/envs/web_crawler/lib/python3.11/site-packages (1.6.0)\n"
     ]
    }
   ],
   "source": [
    "# 安裝 nest_asyncio 套件\n",
    "!pip install nest_asyncio"
   ]
  },
  {
   "cell_type": "code",
   "execution_count": 9,
   "id": "f364d3c7",
   "metadata": {},
   "outputs": [],
   "source": [
    "import nest_asyncio\n",
    "nest_asyncio.apply()"
   ]
  },
  {
   "cell_type": "code",
   "execution_count": 15,
   "id": "be0d03bc",
   "metadata": {},
   "outputs": [
    {
     "name": "stdout",
     "output_type": "stream",
     "text": [
      "任務1開始執行\n",
      "任務2開始執行\n",
      "任務2完成,耗時1秒\n",
      "任務1完成,耗時2秒\n"
     ]
    }
   ],
   "source": [
    "import asyncio\n",
    "async def say_hello(name, delay):\n",
    "    print(f\"{name}開始執行\")\n",
    "    await asyncio.sleep(delay) #模擬I/O等待\n",
    "    print(f\"{name}完成,耗時{delay}秒\")\n",
    "\n",
    "async def main():\n",
    "    # 同時執行多個任務\n",
    "    await asyncio.gather(say_hello(\"任務1\",2), say_hello(\"任務2\", 1))\n",
    "\n",
    "await main()"
   ]
  }
 ],
 "metadata": {
  "kernelspec": {
   "display_name": "web_crawler",
   "language": "python",
   "name": "python3"
  },
  "language_info": {
   "codemirror_mode": {
    "name": "ipython",
    "version": 3
   },
   "file_extension": ".py",
   "mimetype": "text/x-python",
   "name": "python",
   "nbconvert_exporter": "python",
   "pygments_lexer": "ipython3",
   "version": "3.11.13"
  }
 },
 "nbformat": 4,
 "nbformat_minor": 5
}
