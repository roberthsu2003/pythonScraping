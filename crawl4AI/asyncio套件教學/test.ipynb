{
 "cells": [
  {
   "cell_type": "markdown",
   "id": "a5c74b2c",
   "metadata": {},
   "source": [
    "# 在 Jupyter Notebook 執行 asyncio 程式\n",
    "Jupyter Notebook 的 event loop 已經啟動，直接使用 `await` 會出現 `'await' outside function` 錯誤。  \n",
    "可使用 `nest_asyncio` 套件解決此問題。"
   ]
  },
  {
   "cell_type": "code",
   "execution_count": 8,
   "id": "572de068",
   "metadata": {},
   "outputs": [
    {
     "name": "stdout",
     "output_type": "stream",
     "text": [
      "Requirement already satisfied: nest_asyncio in /opt/miniconda3/envs/web_crawler/lib/python3.11/site-packages (1.6.0)\n"
     ]
    }
   ],
   "source": [
    "# 安裝 nest_asyncio 套件\n",
    "!pip install nest_asyncio"
   ]
  },
  {
   "cell_type": "code",
   "execution_count": 9,
   "id": "f364d3c7",
   "metadata": {},
   "outputs": [],
   "source": [
    "import nest_asyncio\n",
    "nest_asyncio.apply()"
   ]
  },
  {
   "cell_type": "code",
   "execution_count": 15,
   "id": "be0d03bc",
   "metadata": {},
   "outputs": [
    {
     "name": "stdout",
     "output_type": "stream",
     "text": [
      "任務1開始執行\n",
      "任務2開始執行\n",
      "任務2完成,耗時1秒\n",
      "任務1完成,耗時2秒\n"
     ]
    }
   ],
   "source": [
    "import asyncio\n",
    "async def say_hello(name, delay):\n",
    "    print(f\"{name}開始執行\")\n",
    "    await asyncio.sleep(delay) #模擬I/O等待\n",
    "    print(f\"{name}完成,耗時{delay}秒\")\n",
    "\n",
    "async def main():\n",
    "    # 同時執行多個任務\n",
    "    await asyncio.gather(say_hello(\"任務1\",2), say_hello(\"任務2\", 1))\n",
    "\n",
    "await main()"
   ]
  },
  {
   "cell_type": "code",
   "execution_count": 1,
   "id": "296e87b3",
   "metadata": {},
   "outputs": [
    {
     "name": "stdout",
     "output_type": "stream",
     "text": [
      "開始抓取網站1\n",
      "開始抓取網站2\n",
      "開始抓取網站3\n",
      "完成抓取網站2\n",
      "完成抓取網站1\n",
      "完成抓取網站3\n",
      "所有資料: ['資料來自網站1', '資料來自網站2', '資料來自網站3']\n"
     ]
    }
   ],
   "source": [
    "import asyncio\n",
    "async def fetch_data(url, delay):\n",
    "    print(f'開始抓取{url}')\n",
    "    await asyncio.sleep(delay)\n",
    "    print(f\"完成抓取{url}\")\n",
    "    return f\"資料來自{url}\"\n",
    "\n",
    "async def main():\n",
    "    urls = [('網站1',2), ('網站2', 1), ('網站3', 3)]\n",
    "    tasks = [fetch_data(url, delay) for url, delay in urls]\n",
    "    result = await asyncio.gather(*tasks)\n",
    "    print('所有資料:',result)\n",
    "\n",
    "await main()"
   ]
  },
  {
   "cell_type": "code",
   "execution_count": 3,
   "id": "ad8dd04f",
   "metadata": {},
   "outputs": [
    {
     "name": "stdout",
     "output_type": "stream",
     "text": [
      "開始任務1\n",
      "任務1完成\n",
      "開始任務2\n",
      "任務2完成\n",
      "同步總耗時:3.01秒\n"
     ]
    }
   ],
   "source": [
    "import time \n",
    "\n",
    "def task(id, delay):\n",
    "    print(f'開始任務{id}')\n",
    "    time.sleep(delay)\n",
    "    print(f'任務{id}完成')\n",
    "\n",
    "start = time.time()\n",
    "task(1, 1)\n",
    "task(2, 2)\n",
    "print(f'同步總耗時:{time.time() - start:.2f}秒')"
   ]
  },
  {
   "cell_type": "code",
   "execution_count": 5,
   "id": "378d94c1",
   "metadata": {},
   "outputs": [
    {
     "name": "stdout",
     "output_type": "stream",
     "text": [
      "開始任務1\n",
      "開始任務2\n",
      "任務1完成\n",
      "任務2完成\n",
      "同步總耗時:2.00秒\n"
     ]
    }
   ],
   "source": [
    "import asyncio\n",
    "async def task(id, delay):\n",
    "    print(f'開始任務{id}')\n",
    "    await asyncio.sleep(delay)\n",
    "    print(f'任務{id}完成')\n",
    "\n",
    "start = time.time()\n",
    "async def main():\n",
    "    tasks = [task(1,1), task(2,2)]\n",
    "    await asyncio.gather(*tasks)\n",
    "await main()\n",
    "print(f'同步總耗時:{time.time() - start:.2f}秒')"
   ]
  },
  {
   "cell_type": "code",
   "execution_count": 6,
   "id": "8023bbde",
   "metadata": {},
   "outputs": [
    {
     "name": "stdout",
     "output_type": "stream",
     "text": [
      "開始任務1\n",
      "任務1完成\n",
      "開始任務2\n",
      "任務2完成\n",
      "同步總耗時:3.00秒\n"
     ]
    }
   ],
   "source": [
    "import asyncio\n",
    "async def task(id, delay):\n",
    "    print(f'開始任務{id}')\n",
    "    await asyncio.sleep(delay)\n",
    "    print(f'任務{id}完成')\n",
    "\n",
    "start = time.time()\n",
    "async def main():\n",
    "    await task(1,1)\n",
    "    await task(2,2)\n",
    "    \n",
    "await main()\n",
    "print(f'同步總耗時:{time.time() - start:.2f}秒')"
   ]
  },
  {
   "cell_type": "code",
   "execution_count": 7,
   "id": "5b86a481",
   "metadata": {},
   "outputs": [
    {
     "name": "stdout",
     "output_type": "stream",
     "text": [
      "開始任務1\n",
      "開始任務2\n",
      "任務1完成\n",
      "任務2完成\n",
      "同步總耗時:2.00秒\n"
     ]
    }
   ],
   "source": [
    "import asyncio\n",
    "async def task(id, delay):\n",
    "    print(f'開始任務{id}')\n",
    "    await asyncio.sleep(delay)\n",
    "    print(f'任務{id}完成')\n",
    "\n",
    "start = time.time()\n",
    "async def main():\n",
    "    task1 = asyncio.create_task(task(1,1))\n",
    "    task2 = asyncio.create_task(task(2,2))\n",
    "    await task1\n",
    "    await task2\n",
    "   \n",
    "    \n",
    "await main()\n",
    "print(f'同步總耗時:{time.time() - start:.2f}秒')"
   ]
  },
  {
   "cell_type": "code",
   "execution_count": 2,
   "id": "31b9a32c",
   "metadata": {},
   "outputs": [
    {
     "name": "stdout",
     "output_type": "stream",
     "text": [
      "抓取https://github.com完成\n",
      "抓取https://python.org完成\n",
      "抓取https://example.com完成\n",
      "https://example.com 的內容：\n",
      "<!doctype html>\n",
      "<html>\n",
      "<head>\n",
      "    <title>Example Domain</title>\n",
      "\n",
      "    <meta charset=\"utf-8\" />\n",
      "    <meta http-equiv=\"Content-type\" content=\"text/html; charset=utf-8\" />\n",
      "    <meta name=\"viewport\" conten...\n",
      "\n",
      "https://python.org 的內容：\n",
      "<!doctype html>\n",
      "<!--[if lt IE 7]>   <html class=\"no-js ie6 lt-ie7 lt-ie8 lt-ie9\">   <![endif]-->\n",
      "<!--[if IE 7]>      <html class=\"no-js ie7 lt-ie8 lt-ie9\">          <![endif]-->\n",
      "<!--[if IE 8]>      <h...\n",
      "\n",
      "https://github.com 的內容：\n",
      "\n",
      "\n",
      "\n",
      "\n",
      "\n",
      "\n",
      "\n",
      "\n",
      "<!DOCTYPE html>\n",
      "<html\n",
      "  lang=\"en\"\n",
      "  data-color-mode=\"dark\" data-dark-theme=\"dark\"\n",
      "  data-color-mode=\"light\" data-light-theme=\"light\" data-dark-theme=\"dark\"\n",
      "  data-a11y-animated-images=\"system\"...\n",
      "\n",
      "抓取https://python.org完成\n",
      "抓取https://example.com完成\n",
      "https://example.com 的內容：\n",
      "<!doctype html>\n",
      "<html>\n",
      "<head>\n",
      "    <title>Example Domain</title>\n",
      "\n",
      "    <meta charset=\"utf-8\" />\n",
      "    <meta http-equiv=\"Content-type\" content=\"text/html; charset=utf-8\" />\n",
      "    <meta name=\"viewport\" conten...\n",
      "\n",
      "https://python.org 的內容：\n",
      "<!doctype html>\n",
      "<!--[if lt IE 7]>   <html class=\"no-js ie6 lt-ie7 lt-ie8 lt-ie9\">   <![endif]-->\n",
      "<!--[if IE 7]>      <html class=\"no-js ie7 lt-ie8 lt-ie9\">          <![endif]-->\n",
      "<!--[if IE 8]>      <h...\n",
      "\n",
      "https://github.com 的內容：\n",
      "\n",
      "\n",
      "\n",
      "\n",
      "\n",
      "\n",
      "\n",
      "\n",
      "<!DOCTYPE html>\n",
      "<html\n",
      "  lang=\"en\"\n",
      "  data-color-mode=\"dark\" data-dark-theme=\"dark\"\n",
      "  data-color-mode=\"light\" data-light-theme=\"light\" data-dark-theme=\"dark\"\n",
      "  data-a11y-animated-images=\"system\"...\n",
      "\n"
     ]
    }
   ],
   "source": [
    "import asyncio\n",
    "import aiohttp\n",
    "\n",
    "async def fetch_url(url):\n",
    "    async with aiohttp.ClientSession() as session:\n",
    "        async with session.get(url) as response:\n",
    "            print(f\"抓取{url}完成\")\n",
    "            return await response.text()\n",
    "\n",
    "async def main():\n",
    "    urls = [\"https://example.com\", \"https://python.org\", \"https://github.com\"]\n",
    "    tasks = [fetch_url(url) for url in urls]\n",
    "    results = await asyncio.gather(*tasks)\n",
    "    for url, content in zip(urls, results):\n",
    "        print(f\"{url} 的內容：\\n{content[:200]}...\\n\")  # 只顯示前200字，避免太長\n",
    "\n",
    "await main()"
   ]
  },
  {
   "cell_type": "code",
   "execution_count": null,
   "id": "c3263574",
   "metadata": {},
   "outputs": [
    {
     "name": "stdout",
     "output_type": "stream",
     "text": [
      "抓取https://invalid-url失數:Cannot connect to host invalid-url:443 ssl:default [nodename nor servname provided, or not known]\n",
      "https://example.com 的內容：\n",
      "<!doctype html>\n",
      "<html>\n",
      "<head>\n",
      "    <title>Example Domain</title>\n",
      "\n",
      "    <meta charset=\"utf-8\" />\n",
      "    <meta http-equiv=\"Content-type\" content=\"text/html; charset=utf-8\" />\n",
      "    <meta name=\"viewport\" conten...\n",
      "\n"
     ]
    },
    {
     "ename": "TypeError",
     "evalue": "'NoneType' object is not subscriptable",
     "output_type": "error",
     "traceback": [
      "\u001b[31m---------------------------------------------------------------------------\u001b[39m",
      "\u001b[31mTypeError\u001b[39m                                 Traceback (most recent call last)",
      "\u001b[36mCell\u001b[39m\u001b[36m \u001b[39m\u001b[32mIn[3]\u001b[39m\u001b[32m, line 19\u001b[39m\n\u001b[32m     16\u001b[39m     \u001b[38;5;28;01mfor\u001b[39;00m url, content \u001b[38;5;129;01min\u001b[39;00m \u001b[38;5;28mzip\u001b[39m(urls, results):\n\u001b[32m     17\u001b[39m         \u001b[38;5;28mprint\u001b[39m(\u001b[33mf\u001b[39m\u001b[33m\"\u001b[39m\u001b[38;5;132;01m{\u001b[39;00murl\u001b[38;5;132;01m}\u001b[39;00m\u001b[33m 的內容：\u001b[39m\u001b[38;5;130;01m\\n\u001b[39;00m\u001b[38;5;132;01m{\u001b[39;00mcontent[:\u001b[32m200\u001b[39m]\u001b[38;5;132;01m}\u001b[39;00m\u001b[33m...\u001b[39m\u001b[38;5;130;01m\\n\u001b[39;00m\u001b[33m\"\u001b[39m)  \u001b[38;5;66;03m# 只顯示前200字，避免太長\u001b[39;00m\n\u001b[32m---> \u001b[39m\u001b[32m19\u001b[39m \u001b[38;5;28;01mawait\u001b[39;00m main()\n",
      "\u001b[36mCell\u001b[39m\u001b[36m \u001b[39m\u001b[32mIn[3]\u001b[39m\u001b[32m, line 17\u001b[39m, in \u001b[36mmain\u001b[39m\u001b[34m()\u001b[39m\n\u001b[32m     15\u001b[39m results = \u001b[38;5;28;01mawait\u001b[39;00m asyncio.gather(*[fetch_url(url) \u001b[38;5;28;01mfor\u001b[39;00m url \u001b[38;5;129;01min\u001b[39;00m urls], return_exceptions=\u001b[38;5;28;01mTrue\u001b[39;00m)\n\u001b[32m     16\u001b[39m \u001b[38;5;28;01mfor\u001b[39;00m url, content \u001b[38;5;129;01min\u001b[39;00m \u001b[38;5;28mzip\u001b[39m(urls, results):\n\u001b[32m---> \u001b[39m\u001b[32m17\u001b[39m     \u001b[38;5;28mprint\u001b[39m(\u001b[33mf\u001b[39m\u001b[33m\"\u001b[39m\u001b[38;5;132;01m{\u001b[39;00murl\u001b[38;5;132;01m}\u001b[39;00m\u001b[33m 的內容：\u001b[39m\u001b[38;5;130;01m\\n\u001b[39;00m\u001b[38;5;132;01m{\u001b[39;00m\u001b[43mcontent\u001b[49m\u001b[43m[\u001b[49m\u001b[43m:\u001b[49m\u001b[32;43m200\u001b[39;49m\u001b[43m]\u001b[49m\u001b[38;5;132;01m}\u001b[39;00m\u001b[33m...\u001b[39m\u001b[38;5;130;01m\\n\u001b[39;00m\u001b[33m\"\u001b[39m)\n",
      "\u001b[31mTypeError\u001b[39m: 'NoneType' object is not subscriptable"
     ]
    }
   ],
   "source": [
    "import asyncio\n",
    "import aiohttp\n",
    "\n",
    "async def fetch_url(url):\n",
    "    try:\n",
    "        async with aiohttp.ClientSession() as session:\n",
    "            async with session.get(url,timeout=2) as response:\n",
    "                return await response.text()\n",
    "    except Exception as e:\n",
    "        print(f'抓取{url}失數:{e}')\n",
    "        return None\n",
    "\n",
    "async def main():\n",
    "    urls =  [\"https://example.com\", \"https://invalid-url\", \"https://python.org\"]\n",
    "    results = await asyncio.gather(*[fetch_url(url) for url in urls], return_exceptions=True)\n",
    "    for url, content in zip(urls, results):\n",
    "        if content is None:\n",
    "            print(f\"{url} 發生錯誤\\n\")\n",
    "        else:\n",
    "            print(f\"{url} 的內容：\\n{content[:200]}...\\n\")  # 只顯示前200字，避免太長\n",
    "\n",
    "await main()"
   ]
  }
 ],
 "metadata": {
  "kernelspec": {
   "display_name": "web_crawler",
   "language": "python",
   "name": "python3"
  },
  "language_info": {
   "codemirror_mode": {
    "name": "ipython",
    "version": 3
   },
   "file_extension": ".py",
   "mimetype": "text/x-python",
   "name": "python",
   "nbconvert_exporter": "python",
   "pygments_lexer": "ipython3",
   "version": "3.11.13"
  }
 },
 "nbformat": 4,
 "nbformat_minor": 5
}
