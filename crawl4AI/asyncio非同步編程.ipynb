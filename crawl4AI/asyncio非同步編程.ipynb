{
 "cells": [
  {
   "cell_type": "code",
   "execution_count": 6,
   "id": "599c7de2",
   "metadata": {},
   "outputs": [
    {
     "name": "stdout",
     "output_type": "stream",
     "text": [
      "Coroutine started\n",
      "Coroutine finished\n"
     ]
    }
   ],
   "source": [
    "import asyncio\n",
    "\n",
    "async def my_coroutine():\n",
    "    print(\"Coroutine started\")\n",
    "    await asyncio.sleep(1)\n",
    "    print('Coroutine finished')\n",
    "\n",
    "async def main():\n",
    "    await my_coroutine()\n",
    "\n",
    "# 在 Jupyter Notebook 中，直接使用 await 運行 main()\n",
    "await main()"
   ]
  }
 ],
 "metadata": {
  "kernelspec": {
   "display_name": "chihlee1",
   "language": "python",
   "name": "python3"
  },
  "language_info": {
   "codemirror_mode": {
    "name": "ipython",
    "version": 3
   },
   "file_extension": ".py",
   "mimetype": "text/x-python",
   "name": "python",
   "nbconvert_exporter": "python",
   "pygments_lexer": "ipython3",
   "version": "3.10.16"
  }
 },
 "nbformat": 4,
 "nbformat_minor": 5
}
