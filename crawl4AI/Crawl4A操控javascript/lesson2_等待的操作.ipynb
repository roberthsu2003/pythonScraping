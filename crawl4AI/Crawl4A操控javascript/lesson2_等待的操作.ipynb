{
 "cells": [
  {
   "cell_type": "markdown",
   "id": "26804f5e",
   "metadata": {},
   "source": [
    "## 基於 CSS 的等待\n",
    "\n",
    "有時，你只想等待特定元素出現。例如：\n",
    "\n",
    "注意會一直等待(只可以程碼向下拉才有用)"
   ]
  },
  {
   "cell_type": "code",
   "execution_count": null,
   "id": "b9e9d2cd",
   "metadata": {},
   "outputs": [],
   "source": [
    "import asyncio\n",
    "from crawl4ai import AsyncWebCrawler, CrawlerRunConfig,BrowserConfig\n",
    "\n",
    "async def main():\n",
    "    base_browser = BrowserConfig(\n",
    "        browser_type=\"chromium\",\n",
    "        headless=False\n",
    "    )\n",
    "    config = CrawlerRunConfig(\n",
    "        #Wait for at least 30 items on Hacker News\n",
    "        wait_for=\"css:.athing:nth-child(30)\"\n",
    "    )\n",
    "\n",
    "    async with AsyncWebCrawler(config=base_browser) as crawler:\n",
    "        result = await crawler.arun(\n",
    "            url = 'https://news.ycombinator.com',\n",
    "            config=config\n",
    "        )\n",
    "        print(\"We have at least 30 items loader!\")\n",
    "        print(\"Total items in HTML:\",result.cleaned_html)\n",
    "\n",
    "if __name__ == \"__main__\":\n",
    "    await main()"
   ]
  },
  {
   "cell_type": "markdown",
   "id": "5f0bedbb",
   "metadata": {},
   "source": [
    "### 基於javascript\n",
    "\n",
    "- 可以手動操作"
   ]
  },
  {
   "cell_type": "code",
   "execution_count": null,
   "id": "c0883da9",
   "metadata": {},
   "outputs": [],
   "source": [
    "import asyncio\n",
    "from crawl4ai import AsyncWebCrawler, CrawlerRunConfig,BrowserConfig\n",
    "\n",
    "async def main():\n",
    "    base_browser = BrowserConfig(\n",
    "        browser_type=\"chromium\",\n",
    "        headless=False\n",
    "    )\n",
    "\n",
    "    wait_condition = \"\"\"()=>{\n",
    "        const items = document.querySelectorAll('.athing')\n",
    "        return items.length > 50;\n",
    "    }\n",
    "    \n",
    "    \"\"\"\n",
    "\n",
    "    config = CrawlerRunConfig(\n",
    "        #Wait for at least 30 items on Hacker News\n",
    "        wait_for=f\"js:{wait_condition}\"\n",
    "    )\n",
    "\n",
    "    async with AsyncWebCrawler(config=base_browser) as crawler:\n",
    "        result = await crawler.arun(\n",
    "            url = 'https://news.ycombinator.com',\n",
    "            config=config\n",
    "        )\n",
    "        print(\"We have at least 30 items loader!\")\n",
    "        print(\"Total items in HTML:\",result.cleaned_html)\n",
    "\n",
    "if __name__ == \"__main__\":\n",
    "    await main()"
   ]
  }
 ],
 "metadata": {
  "kernelspec": {
   "display_name": "web_crawler",
   "language": "python",
   "name": "python3"
  },
  "language_info": {
   "codemirror_mode": {
    "name": "ipython",
    "version": 3
   },
   "file_extension": ".py",
   "mimetype": "text/x-python",
   "name": "python",
   "nbconvert_exporter": "python",
   "pygments_lexer": "ipython3",
   "version": "3.11.13"
  }
 },
 "nbformat": 4,
 "nbformat_minor": 5
}
