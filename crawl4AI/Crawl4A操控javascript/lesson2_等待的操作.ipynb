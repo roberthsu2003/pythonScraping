{
 "cells": [
  {
   "cell_type": "markdown",
   "id": "26804f5e",
   "metadata": {},
   "source": [
    "## 基於 CSS 的等待\n",
    "\n",
    "### [一般的等待,使用官網lazy loading](https://docs.crawl4ai.com/advanced/lazy-loading/)\n",
    "\n",
    "有時，你只想等待特定元素出現。例如：\n",
    "\n",
    "注意會一直等待(只可以程碼向下拉才有用)"
   ]
  },
  {
   "cell_type": "code",
   "execution_count": null,
   "id": "b9e9d2cd",
   "metadata": {},
   "outputs": [],
   "source": [
    "import asyncio\n",
    "from crawl4ai import AsyncWebCrawler, CrawlerRunConfig,BrowserConfig\n",
    "\n",
    "async def main():\n",
    "    base_browser = BrowserConfig(\n",
    "        browser_type=\"chromium\",\n",
    "        headless=False\n",
    "    )\n",
    "    config = CrawlerRunConfig(\n",
    "        #Wait for at least 30 items on Hacker News\n",
    "        wait_for=\"css:.athing:nth-child(30)\"\n",
    "    )\n",
    "\n",
    "    async with AsyncWebCrawler(config=base_browser) as crawler:\n",
    "        result = await crawler.arun(\n",
    "            url = 'https://news.ycombinator.com',\n",
    "            config=config\n",
    "        )\n",
    "        print(\"We have at least 30 items loader!\")\n",
    "        print(\"Total items in HTML:\",result.cleaned_html)\n",
    "\n",
    "if __name__ == \"__main__\":\n",
    "    await main()"
   ]
  },
  {
   "cell_type": "markdown",
   "id": "5f0bedbb",
   "metadata": {},
   "source": [
    "### 基於javascript\n",
    "\n",
    "- 可以手動操作"
   ]
  },
  {
   "cell_type": "code",
   "execution_count": 1,
   "id": "c0883da9",
   "metadata": {},
   "outputs": [
    {
     "data": {
      "text/html": [
       "<pre style=\"white-space:pre;overflow-x:auto;line-height:normal;font-family:Menlo,'DejaVu Sans Mono',consolas,'Courier New',monospace\"><span style=\"color: #008080; text-decoration-color: #008080; font-weight: bold\">[</span><span style=\"color: #008080; text-decoration-color: #008080\">INIT</span><span style=\"color: #008080; text-decoration-color: #008080; font-weight: bold\">]</span><span style=\"color: #008080; text-decoration-color: #008080\">.... → Crawl4AI </span><span style=\"color: #008080; text-decoration-color: #008080; font-weight: bold\">0.6</span><span style=\"color: #008080; text-decoration-color: #008080\">.</span><span style=\"color: #008080; text-decoration-color: #008080; font-weight: bold\">3</span><span style=\"color: #008080; text-decoration-color: #008080\"> </span>\n",
       "</pre>\n"
      ],
      "text/plain": [
       "\u001b[1;36m[\u001b[0m\u001b[36mINIT\u001b[0m\u001b[1;36m]\u001b[0m\u001b[36m...\u001b[0m\u001b[36m. → Crawl4AI \u001b[0m\u001b[1;36m0.6\u001b[0m\u001b[36m.\u001b[0m\u001b[1;36m3\u001b[0m\u001b[36m \u001b[0m\n"
      ]
     },
     "metadata": {},
     "output_type": "display_data"
    },
    {
     "data": {
      "text/html": [
       "<pre style=\"white-space:pre;overflow-x:auto;line-height:normal;font-family:Menlo,'DejaVu Sans Mono',consolas,'Courier New',monospace\"><span style=\"color: #008000; text-decoration-color: #008000; font-weight: bold\">[</span><span style=\"color: #008000; text-decoration-color: #008000\">FETCH</span><span style=\"color: #008000; text-decoration-color: #008000; font-weight: bold\">]</span><span style=\"color: #008000; text-decoration-color: #008000\">... ↓ </span><span style=\"color: #008000; text-decoration-color: #008000; text-decoration: underline\">https://news.ycombinator.com</span><span style=\"color: #008000; text-decoration-color: #008000\">                                                                         |</span>\n",
       "<span style=\"color: #008000; text-decoration-color: #008000\">✓ | ⏱: </span><span style=\"color: #008000; text-decoration-color: #008000; font-weight: bold\">1.</span><span style=\"color: #008000; text-decoration-color: #008000\">45s </span>\n",
       "</pre>\n"
      ],
      "text/plain": [
       "\u001b[1;32m[\u001b[0m\u001b[32mFETCH\u001b[0m\u001b[1;32m]\u001b[0m\u001b[32m...\u001b[0m\u001b[32m ↓ \u001b[0m\u001b[4;32mhttps://news.ycombinator.com\u001b[0m\u001b[32m                                                                         |\u001b[0m\n",
       "\u001b[32m✓\u001b[0m\u001b[32m | ⏱: \u001b[0m\u001b[1;32m1.\u001b[0m\u001b[32m45s \u001b[0m\n"
      ]
     },
     "metadata": {},
     "output_type": "display_data"
    },
    {
     "data": {
      "text/html": [
       "<pre style=\"white-space:pre;overflow-x:auto;line-height:normal;font-family:Menlo,'DejaVu Sans Mono',consolas,'Courier New',monospace\"><span style=\"color: #008000; text-decoration-color: #008000; font-weight: bold\">[</span><span style=\"color: #008000; text-decoration-color: #008000\">SCRAPE</span><span style=\"color: #008000; text-decoration-color: #008000; font-weight: bold\">]</span><span style=\"color: #008000; text-decoration-color: #008000\">.. ◆ </span><span style=\"color: #008000; text-decoration-color: #008000; text-decoration: underline\">https://news.ycombinator.com</span><span style=\"color: #008000; text-decoration-color: #008000\">                                                                         |</span>\n",
       "<span style=\"color: #008000; text-decoration-color: #008000\">✓ | ⏱: </span><span style=\"color: #008000; text-decoration-color: #008000; font-weight: bold\">0.</span><span style=\"color: #008000; text-decoration-color: #008000\">04s </span>\n",
       "</pre>\n"
      ],
      "text/plain": [
       "\u001b[1;32m[\u001b[0m\u001b[32mSCRAPE\u001b[0m\u001b[1;32m]\u001b[0m\u001b[32m.. ◆ \u001b[0m\u001b[4;32mhttps://news.ycombinator.com\u001b[0m\u001b[32m                                                                         |\u001b[0m\n",
       "\u001b[32m✓\u001b[0m\u001b[32m | ⏱: \u001b[0m\u001b[1;32m0.\u001b[0m\u001b[32m04s \u001b[0m\n"
      ]
     },
     "metadata": {},
     "output_type": "display_data"
    },
    {
     "data": {
      "text/html": [
       "<pre style=\"white-space:pre;overflow-x:auto;line-height:normal;font-family:Menlo,'DejaVu Sans Mono',consolas,'Courier New',monospace\"><span style=\"color: #008000; text-decoration-color: #008000; font-weight: bold\">[</span><span style=\"color: #008000; text-decoration-color: #008000\">COMPLETE</span><span style=\"color: #008000; text-decoration-color: #008000; font-weight: bold\">]</span><span style=\"color: #008000; text-decoration-color: #008000\"> ● </span><span style=\"color: #008000; text-decoration-color: #008000; text-decoration: underline\">https://news.ycombinator.com</span><span style=\"color: #008000; text-decoration-color: #008000\">                                                                         |</span>\n",
       "<span style=\"color: #008000; text-decoration-color: #008000\">✓ | ⏱: </span><span style=\"color: #008000; text-decoration-color: #008000; font-weight: bold\">1.</span><span style=\"color: #008000; text-decoration-color: #008000\">49s </span>\n",
       "</pre>\n"
      ],
      "text/plain": [
       "\u001b[1;32m[\u001b[0m\u001b[32mCOMPLETE\u001b[0m\u001b[1;32m]\u001b[0m\u001b[32m ● \u001b[0m\u001b[4;32mhttps://news.ycombinator.com\u001b[0m\u001b[32m                                                                         |\u001b[0m\n",
       "\u001b[32m✓\u001b[0m\u001b[32m | ⏱: \u001b[0m\u001b[1;32m1.\u001b[0m\u001b[32m49s \u001b[0m\n"
      ]
     },
     "metadata": {},
     "output_type": "display_data"
    },
    {
     "name": "stdout",
     "output_type": "stream",
     "text": [
      "We have at least 30 items loader!\n",
      "Total items in HTML: <center><table width=\"85%\"><tbody><tr><td><table width=\"100%\"><tbody><tr><td><a href=\"https://news.ycombinator.com\"><img height=\"18\" src=\"y18.svg\" style=\"border:1px white solid; display:block\" width=\"18\"/></a></td><td><span><b><a href=\"news\">Hacker News</a></b><a href=\"newest\">new</a> | <a href=\"front\">past</a> | <a href=\"newcomments\">comments</a> | <a href=\"ask\">ask</a> | <a href=\"show\">show</a> | <a href=\"jobs\">jobs</a> | <a href=\"submit\">submit</a></span></td><td><span><a href=\"login?goto=news%3Fp%3D2\">login</a></span></td></tr></tbody></table></td></tr><tr></tr><tr><td><table><tbody><tr><td><span>31.</span></td><td><center><a href=\"vote?id=44437015&amp;how=up&amp;goto=news%3Fp%3D2\"></a></center></td><td><span><a href=\"https://blog.greg.technology/2025/06/30/fastly.html\">The wanton destruction of a creative-tech era</a><span> (<a href=\"from?site=greg.technology\"><span>greg.technology</span></a>)</span></span></td></tr><tr><td></td><td><span><span>85 points</span> by <a href=\"user?id=gregsadetsky\">gregsadetsky</a> <span title=\"2025-07-01T19:00:24 1751396424\"><a href=\"item?id=44437015\">10 hours ago</a></span> | <a href=\"hide?id=44437015&amp;goto=news%3Fp%3D2\">hide</a> | <a href=\"item?id=44437015\">10 comments</a></span></td></tr><tr></tr><tr><td><span>32.</span></td><td><center><a href=\"vote?id=44413957&amp;how=up&amp;goto=news%3Fp%3D2\"></a></center></td><td><span><a href=\"https://www.laphamsquarterly.org/roundtable/all-good-editors-are-pirates\">All Good Editors Are Pirates: In Memory of Lewis H. Lapham</a><span> (<a href=\"from?site=laphamsquarterly.org\"><span>laphamsquarterly.org</span></a>)</span></span></td></tr><tr><td></td><td><span><span>66 points</span> by <a href=\"user?id=Caiero\">Caiero</a> <span title=\"2025-06-29T15:39:16 1751211556\"><a href=\"item?id=44413957\">13 hours ago</a></span> | <a href=\"hide?id=44413957&amp;goto=news%3Fp%3D2\">hide</a> | <a href=\"item?id=44413957\">11 comments</a></span></td></tr><tr></tr><tr><td><span>33.</span></td><td><center><a href=\"vote?id=44435211&amp;how=up&amp;goto=news%3Fp%3D2\"></a></center></td><td><span><a href=\"https://apps.apple.com/us/app/hackernewt-for-hacker-news/id6448201970\">Show HN: HackerNewt – Breadth-first exploring HN client for iOS</a><span> (<a href=\"from?site=apps.apple.com\"><span>apps.apple.com</span></a>)</span></span></td></tr><tr><td></td><td><span><span>47 points</span> by <a href=\"user?id=hnand\">hnand</a> <span title=\"2025-07-01T15:57:23 1751385443\"><a href=\"item?id=44435211\">13 hours ago</a></span> | <a href=\"hide?id=44435211&amp;goto=news%3Fp%3D2\">hide</a> | <a href=\"item?id=44435211\">23 comments</a></span></td></tr><tr></tr><tr><td><span>34.</span></td><td><center><a href=\"vote?id=44411586&amp;how=up&amp;goto=news%3Fp%3D2\"></a></center></td><td><span><a href=\"https://github.com/raiyanyahya/yacs\">Show HN: A local secrets manager with easy backup</a><span> (<a href=\"from?site=github.com/raiyanyahya\"><span>github.com/raiyanyahya</span></a>)</span></span></td></tr><tr><td></td><td><span><span>8 points</span> by <a href=\"user?id=RaiyanYahya\">RaiyanYahya</a> <span title=\"2025-06-29T09:30:09 1751189409\"><a href=\"item?id=44411586\">3 hours ago</a></span> | <a href=\"hide?id=44411586&amp;goto=news%3Fp%3D2\">hide</a> | <a href=\"item?id=44411586\">7 comments</a></span></td></tr><tr></tr><tr><td><span>35.</span></td><td><center><a href=\"vote?id=44437539&amp;how=up&amp;goto=news%3Fp%3D2\"></a></center></td><td><span><a href=\"https://practical.engineering/blog/2025/7/1/the-hidden-engineering-of-liquid-dampers-in-skyscrapers\">The Hidden Engineering of Liquid Dampers in Skyscrapers</a><span> (<a href=\"from?site=practical.engineering\"><span>practical.engineering</span></a>)</span></span></td></tr><tr><td></td><td><span><span>44 points</span> by <a href=\"user?id=chmaynard\">chmaynard</a> <span title=\"2025-07-01T20:03:58 1751400238\"><a href=\"item?id=44437539\">8 hours ago</a></span> | <a href=\"hide?id=44437539&amp;goto=news%3Fp%3D2\">hide</a> | <a href=\"item?id=44437539\">13 comments</a></span></td></tr><tr></tr><tr><td><span>36.</span></td><td><center><a href=\"vote?id=44438890&amp;how=up&amp;goto=news%3Fp%3D2\"></a></center></td><td><span><a href=\"https://www.bloomberg.com/graphics/2025-america-hot-garbage-problem-toxic-landfills\">America's Hot Garbage Problem</a><span> (<a href=\"from?site=bloomberg.com\"><span>bloomberg.com</span></a>)</span></span></td></tr><tr><td></td><td><span><span>58 points</span> by <a href=\"user?id=petethomas\">petethomas</a> <span title=\"2025-07-01T23:29:28 1751412568\"><a href=\"item?id=44438890\">5 hours ago</a></span> | <a href=\"hide?id=44438890&amp;goto=news%3Fp%3D2\">hide</a> | <a href=\"item?id=44438890\">21 comments</a></span></td></tr><tr></tr><tr><td><span>37.</span></td><td><center><a href=\"vote?id=44397921&amp;how=up&amp;goto=news%3Fp%3D2\"></a></center></td><td><span><a href=\"https://www.quantamagazine.org/when-did-nature-burst-into-vivid-color-20250627/\">When Did Nature Burst into Vivid Color?</a><span> (<a href=\"from?site=quantamagazine.org\"><span>quantamagazine.org</span></a>)</span></span></td></tr><tr><td></td><td><span><span>87 points</span> by <a href=\"user?id=jandrewrogers\">jandrewrogers</a> <span title=\"2025-06-27T16:09:09 1751040549\"><a href=\"item?id=44397921\">17 hours ago</a></span> | <a href=\"hide?id=44397921&amp;goto=news%3Fp%3D2\">hide</a> | <a href=\"item?id=44397921\">62 comments</a></span></td></tr><tr></tr><tr><td><span>38.</span></td><td><center><a href=\"vote?id=44436984&amp;how=up&amp;goto=news%3Fp%3D2\"></a></center></td><td><span><a href=\"https://jakearchibald.com/2025/give-footnotes-the-boot/\">Give footnotes the boot – alternatives to footnotes on the web</a><span> (<a href=\"from?site=jakearchibald.com\"><span>jakearchibald.com</span></a>)</span></span></td></tr><tr><td></td><td><span><span>15 points</span> by <a href=\"user?id=jaffathecake\">jaffathecake</a> <span title=\"2025-07-01T18:55:43 1751396143\"><a href=\"item?id=44436984\">10 hours ago</a></span> | <a href=\"hide?id=44436984&amp;goto=news%3Fp%3D2\">hide</a> | <a href=\"item?id=44436984\">14 comments</a></span></td></tr><tr></tr><tr><td><span>39.</span></td><td><center><a href=\"vote?id=44409276&amp;how=up&amp;goto=news%3Fp%3D2\"></a></center></td><td><span><a href=\"https://crates.io/crates/muxio\">Muxio: Rust layered stream and RPC toolkit</a><span> (<a href=\"from?site=crates.io\"><span>crates.io</span></a>)</span></span></td></tr><tr><td></td><td><span><span>29 points</span> by <a href=\"user?id=zombiej5\">zombiej5</a> <span title=\"2025-06-29T00:19:13 1751156353\"><a href=\"item?id=44409276\">9 hours ago</a></span> | <a href=\"hide?id=44409276&amp;goto=news%3Fp%3D2\">hide</a> | <a href=\"item?id=44409276\">1 comment</a></span></td></tr><tr></tr><tr><td><span>40.</span></td><td><center><a href=\"vote?id=44438900&amp;how=up&amp;goto=news%3Fp%3D2\"></a></center></td><td><span><a href=\"https://catstret.ch/202506/sun-ray-shenanigans/\">Using Sun Ray thin clients in 2025</a><span> (<a href=\"from?site=catstret.ch\"><span>catstret.ch</span></a>)</span></span></td></tr><tr><td></td><td><span><span>90 points</span> by <a href=\"user?id=todsacerdoti\">todsacerdoti</a> <span title=\"2025-07-01T23:30:35 1751412635\"><a href=\"item?id=44438900\">5 hours ago</a></span> | <a href=\"hide?id=44438900&amp;goto=news%3Fp%3D2\">hide</a> | <a href=\"item?id=44438900\">30 comments</a></span></td></tr><tr></tr><tr><td><span>41.</span></td><td><center><a href=\"vote?id=44436031&amp;how=up&amp;goto=news%3Fp%3D2\"></a></center></td><td><span><a href=\"item?id=44436031\">Show HN: Arch-Router – 1.5B model for LLM routing by preferences, not benchmarks</a></span></td></tr><tr><td></td><td><span><span>51 points</span> by <a href=\"user?id=adilhafeez\">adilhafeez</a> <span title=\"2025-07-01T17:13:11 1751389991\"><a href=\"item?id=44436031\">11 hours ago</a></span> | <a href=\"hide?id=44436031&amp;goto=news%3Fp%3D2\">hide</a> | <a href=\"item?id=44436031\">15 comments</a></span></td></tr><tr></tr><tr><td><span>42.</span></td><td><center><a href=\"vote?id=44413945&amp;how=up&amp;goto=news%3Fp%3D2\"></a></center></td><td><span><a href=\"https://www.nature.com/articles/s40494-025-01599-w\">The Palette of the Medieval North</a><span> (<a href=\"from?site=nature.com\"><span>nature.com</span></a>)</span></span></td></tr><tr><td></td><td><span><span>13 points</span> by <a href=\"user?id=bryanrasmussen\">bryanrasmussen</a> <span title=\"2025-06-29T15:37:09 1751211429\"><a href=\"item?id=44413945\">8 hours ago</a></span> | <a href=\"hide?id=44413945&amp;goto=news%3Fp%3D2\">hide</a> | <a href=\"item?id=44413945\">1 comment</a></span></td></tr><tr></tr><tr><td><span>43.</span></td><td><center><a href=\"vote?id=44428438&amp;how=up&amp;goto=news%3Fp%3D2\"></a></center></td><td><span><a href=\"https://github.com/openfiletax/openfile\">Show HN: A continuation of IRS Direct File that can be self-hosted</a><span> (<a href=\"from?site=github.com/openfiletax\"><span>github.com/openfiletax</span></a>)</span></span></td></tr><tr><td></td><td><span><span>202 points</span> by <a href=\"user?id=elijahwright_\">elijahwright_</a> <span title=\"2025-06-30T22:08:59 1751321339\"><a href=\"item?id=44428438\">1 day ago</a></span> | <a href=\"hide?id=44428438&amp;goto=news%3Fp%3D2\">hide</a> | <a href=\"item?id=44428438\">25 comments</a></span></td></tr><tr></tr><tr><td><span>44.</span></td><td><center><a href=\"vote?id=44433843&amp;how=up&amp;goto=news%3Fp%3D2\"></a></center></td><td><span><a href=\"https://blog.pgdp.net/2025/07/01/aesop-in-words-of-one-syllable/\">Aesop in Words of One Syllable</a><span> (<a href=\"from?site=pgdp.net\"><span>pgdp.net</span></a>)</span></span></td></tr><tr><td></td><td><span><span>31 points</span> by <a href=\"user?id=sohkamyung\">sohkamyung</a> <span title=\"2025-07-01T13:41:15 1751377275\"><a href=\"item?id=44433843\">15 hours ago</a></span> | <a href=\"hide?id=44433843&amp;goto=news%3Fp%3D2\">hide</a> | <a href=\"item?id=44433843\">18 comments</a></span></td></tr><tr></tr><tr><td><span>45.</span></td><td><center><a href=\"vote?id=44410925&amp;how=up&amp;goto=news%3Fp%3D2\"></a></center></td><td><span><a href=\"https://github.com/embabel/embabel-agent\">Embabel Agent Framework for the JVM</a><span> (<a href=\"from?site=github.com/embabel\"><span>github.com/embabel</span></a>)</span></span></td></tr><tr><td></td><td><span><span>41 points</span> by <a href=\"user?id=t0mas88\">t0mas88</a> <span title=\"2025-06-29T07:14:27 1751181267\"><a href=\"item?id=44410925\">17 hours ago</a></span> | <a href=\"hide?id=44410925&amp;goto=news%3Fp%3D2\">hide</a> | <a href=\"item?id=44410925\">5 comments</a></span></td></tr><tr></tr><tr><td><span>46.</span></td><td><center><a href=\"vote?id=44409488&amp;how=up&amp;goto=news%3Fp%3D2\"></a></center></td><td><span><a href=\"https://www.caltech.edu/about/news/genetic-code-enables-zebrafish-to-mend-damaged-organs\">Genetic code enables zebrafish to mend damaged organs</a><span> (<a href=\"from?site=caltech.edu\"><span>caltech.edu</span></a>)</span></span></td></tr><tr><td></td><td><span><span>108 points</span> by <a href=\"user?id=bookofjoe\">bookofjoe</a> <span title=\"2025-06-29T01:00:11 1751158811\"><a href=\"item?id=44409488\">1 day ago</a></span> | <a href=\"hide?id=44409488&amp;goto=news%3Fp%3D2\">hide</a> | <a href=\"item?id=44409488\">12 comments</a></span></td></tr><tr></tr><tr><td><span>47.</span></td><td><center><a href=\"vote?id=44434938&amp;how=up&amp;goto=news%3Fp%3D2\"></a></center></td><td><span><a href=\"https://www.josh.ing/hn-slop\">HN Slop: AI startup ideas generated from Hacker News</a><span> (<a href=\"from?site=josh.ing\"><span>josh.ing</span></a>)</span></span></td></tr><tr><td></td><td><span><span>87 points</span> by <a href=\"user?id=coloneltcb\">coloneltcb</a> <span title=\"2025-07-01T15:31:45 1751383905\"><a href=\"item?id=44434938\">13 hours ago</a></span> | <a href=\"hide?id=44434938&amp;goto=news%3Fp%3D2\">hide</a> | <a href=\"item?id=44434938\">26 comments</a></span></td></tr><tr></tr><tr><td><span>48.</span></td><td><center><a href=\"vote?id=44433429&amp;how=up&amp;goto=news%3Fp%3D2\"></a></center></td><td><span><a href=\"https://www.stripemove.com/\">Show HN: I built the tool I wished existed for moving Stripe between countries</a><span> (<a href=\"from?site=stripemove.com\"><span>stripemove.com</span></a>)</span></span></td></tr><tr><td></td><td><span><span>83 points</span> by <a href=\"user?id=felphos\">felphos</a> <span title=\"2025-07-01T12:52:50 1751374370\"><a href=\"item?id=44433429\">16 hours ago</a></span> | <a href=\"hide?id=44433429&amp;goto=news%3Fp%3D2\">hide</a> | <a href=\"item?id=44433429\">47 comments</a></span></td></tr><tr></tr><tr><td><span>49.</span></td><td><center><a href=\"vote?id=44436838&amp;how=up&amp;goto=news%3Fp%3D2\"></a></center></td><td><span><a href=\"item?id=44436838\">1KB JavaScript Demoscene Challenge Just Launched</a></span></td></tr><tr><td></td><td><span><span>103 points</span> by <a href=\"user?id=babakode\">babakode</a> <span title=\"2025-07-01T18:36:40 1751395000\"><a href=\"item?id=44436838\">10 hours ago</a></span> | <a href=\"hide?id=44436838&amp;goto=news%3Fp%3D2\">hide</a> | <a href=\"item?id=44436838\">25 comments</a></span></td></tr><tr></tr><tr><td><span>50.</span></td><td><center><a href=\"vote?id=44408484&amp;how=up&amp;goto=news%3Fp%3D2\"></a></center></td><td><span><a href=\"https://maxwell.kohterai.com/\">Exploring Trichromacy through Maxwell's Color Experiment (2023)</a><span> (<a href=\"from?site=kohterai.com\"><span>kohterai.com</span></a>)</span></span></td></tr><tr><td></td><td><span><span>40 points</span> by <a href=\"user?id=niwrad\">niwrad</a> <span title=\"2025-06-28T21:55:47 1751147747\"><a href=\"item?id=44408484\">14 hours ago</a></span> | <a href=\"hide?id=44408484&amp;goto=news%3Fp%3D2\">hide</a> | <a href=\"item?id=44408484\">10 comments</a></span></td></tr><tr></tr><tr><td><span>51.</span></td><td><center><a href=\"vote?id=44426845&amp;how=up&amp;goto=news%3Fp%3D2\"></a></center></td><td><span><a href=\"https://www.erasmatazz.com/personal/self/end-of-an-era.html\">End of an Era</a><span> (<a href=\"from?site=erasmatazz.com\"><span>erasmatazz.com</span></a>)</span></span></td></tr><tr><td></td><td><span><span>207 points</span> by <a href=\"user?id=marcusestes\">marcusestes</a> <span title=\"2025-06-30T19:17:11 1751311031\"><a href=\"item?id=44426845\">1 day ago</a></span> | <a href=\"hide?id=44426845&amp;goto=news%3Fp%3D2\">hide</a> | <a href=\"item?id=44426845\">51 comments</a></span></td></tr><tr></tr><tr><td><span>52.</span></td><td><center><a href=\"vote?id=44429225&amp;how=up&amp;goto=news%3Fp%3D2\"></a></center></td><td><span><a href=\"https://docs.anthropic.com/en/docs/claude-code/hooks\">Claude Code now supports hooks</a><span> (<a href=\"from?site=anthropic.com\"><span>anthropic.com</span></a>)</span></span></td></tr><tr><td></td><td><span><span>358 points</span> by <a href=\"user?id=ramoz\">ramoz</a> <span title=\"2025-07-01T00:01:15 1751328075\"><a href=\"item?id=44429225\">1 day ago</a></span> | <a href=\"hide?id=44429225&amp;goto=news%3Fp%3D2\">hide</a> | <a href=\"item?id=44429225\">155 comments</a></span></td></tr><tr></tr><tr><td><span>53.</span></td><td><center><a href=\"vote?id=44433994&amp;how=up&amp;goto=news%3Fp%3D2\"></a></center></td><td><span><a href=\"https://www.reuters.com/business/grammarly-acquires-email-startup-superhuman-ai-platform-push-2025-07-01/\">Grammarly acquires Superhuman</a><span> (<a href=\"from?site=reuters.com\"><span>reuters.com</span></a>)</span></span></td></tr><tr><td></td><td><span><span>171 points</span> by <a href=\"user?id=thm\">thm</a> <span title=\"2025-07-01T14:00:30 1751378430\"><a href=\"item?id=44433994\">15 hours ago</a></span> | <a href=\"hide?id=44433994&amp;goto=news%3Fp%3D2\">hide</a> | <a href=\"item?id=44433994\">112 comments</a></span></td></tr><tr></tr><tr><td><span>54.</span></td><td><center><a href=\"vote?id=44435339&amp;how=up&amp;goto=news%3Fp%3D2\"></a></center></td><td><span><a href=\"https://www.economist.com/business/2025/07/01/superstar-coders-are-raking-it-in-others-not-so-much\">Superstar coders are raking it in. Others, not so much</a><span> (<a href=\"from?site=economist.com\"><span>economist.com</span></a>)</span></span></td></tr><tr><td></td><td><span><span>18 points</span> by <a href=\"user?id=bdcs\">bdcs</a> <span title=\"2025-07-01T16:08:44 1751386124\"><a href=\"item?id=44435339\">12 hours ago</a></span> | <a href=\"hide?id=44435339&amp;goto=news%3Fp%3D2\">hide</a> | <a href=\"item?id=44435339\">8 comments</a></span></td></tr><tr></tr><tr><td><span>55.</span></td><td><center><a href=\"vote?id=44428674&amp;how=up&amp;goto=news%3Fp%3D2\"></a></center></td><td><span><a href=\"https://vldb.org/pvldb/vol18/p1919-wang.pdf\">GPEmu: A GPU emulator for rapid, low-cost deep learning prototyping [pdf]</a><span> (<a href=\"from?site=vldb.org\"><span>vldb.org</span></a>)</span></span></td></tr><tr><td></td><td><span><span>75 points</span> by <a href=\"user?id=matt_d\">matt_d</a> <span title=\"2025-06-30T22:37:06 1751323026\"><a href=\"item?id=44428674\">1 day ago</a></span> | <a href=\"hide?id=44428674&amp;goto=news%3Fp%3D2\">hide</a> | <a href=\"item?id=44428674\">11 comments</a></span></td></tr><tr></tr><tr><td><span>56.</span></td><td><center><a href=\"vote?id=44435786&amp;how=up&amp;goto=news%3Fp%3D2\"></a></center></td><td><span><a href=\"https://social.afront.org/@stylus/114749858767978151\">MicroPython on M68k Mac</a><span> (<a href=\"from?site=afront.org\"><span>afront.org</span></a>)</span></span></td></tr><tr><td></td><td><span><span>49 points</span> by <a href=\"user?id=zdw\">zdw</a> <span title=\"2025-07-01T16:50:19 1751388619\"><a href=\"item?id=44435786\">12 hours ago</a></span> | <a href=\"hide?id=44435786&amp;goto=news%3Fp%3D2\">hide</a> | <a href=\"item?id=44435786\">5 comments</a></span></td></tr><tr></tr><tr><td><span>57.</span></td><td><center><a href=\"vote?id=44410538&amp;how=up&amp;goto=news%3Fp%3D2\"></a></center></td><td><span><a href=\"https://karanchawla.io/2025/06/29/sensemaking\">Slouching Towards Sensemaking</a><span> (<a href=\"from?site=karanchawla.io\"><span>karanchawla.io</span></a>)</span></span></td></tr><tr><td></td><td><span><span>23 points</span> by <a href=\"user?id=karchaw\">karchaw</a> <span title=\"2025-06-29T05:17:43 1751174263\"><a href=\"item?id=44410538\">9 hours ago</a></span> | <a href=\"hide?id=44410538&amp;goto=news%3Fp%3D2\">hide</a> | <a href=\"item?id=44410538\">1 comment</a></span></td></tr><tr></tr><tr><td><span>58.</span></td><td><center><a href=\"vote?id=44404831&amp;how=up&amp;goto=news%3Fp%3D2\"></a></center></td><td><span><a href=\"https://blog.snork.dev/posts/abstraction-boundaries-are-optimization-boundaries.html\">Abstraction boundaries are optimization boundaries</a><span> (<a href=\"from?site=snork.dev\"><span>snork.dev</span></a>)</span></span></td></tr><tr><td></td><td><span><span>54 points</span> by <a href=\"user?id=delifue\">delifue</a> <span title=\"2025-06-28T14:12:10 1751119930\"><a href=\"item?id=44404831\">23 hours ago</a></span> | <a href=\"hide?id=44404831&amp;goto=news%3Fp%3D2\">hide</a> | <a href=\"item?id=44404831\">19 comments</a></span></td></tr><tr></tr><tr><td><span>59.</span></td><td><center><a href=\"vote?id=44437682&amp;how=up&amp;goto=news%3Fp%3D2\"></a></center></td><td><span><a href=\"https://lukebechtel.com/blog/vibe-speccing\">Vibe Specs: Vibe Coding That Works</a><span> (<a href=\"from?site=lukebechtel.com\"><span>lukebechtel.com</span></a>)</span></span></td></tr><tr><td></td><td><span><span>29 points</span> by <a href=\"user?id=marviel\">marviel</a> <span title=\"2025-07-01T20:23:01 1751401381\"><a href=\"item?id=44437682\">8 hours ago</a></span> | <a href=\"hide?id=44437682&amp;goto=news%3Fp%3D2\">hide</a> | <a href=\"item?id=44437682\">4 comments</a></span></td></tr><tr></tr><tr><td><span>60.</span></td><td><center><a href=\"vote?id=44438994&amp;how=up&amp;goto=news%3Fp%3D2\"></a></center></td><td><span><a href=\"https://www.livescience.com/space/astronomy/2-new-stars-have-exploded-into-the-night-sky-in-recent-weeks-and-both-are-visible-to-the-naked-eye\">'new stars' have exploded into the night sky – both visible to the naked eye</a><span> (<a href=\"from?site=livescience.com\"><span>livescience.com</span></a>)</span></span></td></tr><tr><td></td><td><span><span>13 points</span> by <a href=\"user?id=ricksunny\">ricksunny</a> <span title=\"2025-07-01T23:48:00 1751413680\"><a href=\"item?id=44438994\">5 hours ago</a></span> | <a href=\"hide?id=44438994&amp;goto=news%3Fp%3D2\">hide</a> | <a href=\"item?id=44438994\">1 comment</a></span></td></tr><tr></tr><tr></tr><tr><td></td><td><a href=\"?p=3\">More</a></td></tr></tbody></table></td></tr><tr><td><img height=\"10\" src=\"s.gif\" width=\"0\"/><table width=\"100%\"><tbody><tr><td></td></tr></tbody></table>\n",
      "<center><a href=\"https://www.ycombinator.com/apply/\">Consider applying for YC's Fall 2025 batch! Applications are open till Aug 4</a></center>\n",
      "<center><span><a href=\"newsguidelines.html\">Guidelines</a> | <a href=\"newsfaq.html\">FAQ</a> | <a href=\"lists\">Lists</a> | <a href=\"https://github.com/HackerNews/API\">API</a> | <a href=\"security.html\">Security</a> | <a href=\"https://www.ycombinator.com/legal/\">Legal</a> | <a href=\"https://www.ycombinator.com/apply/\">Apply to YC</a> | <a href=\"mailto:hn@ycombinator.com\">Contact</a></span>\n",
      "<form>Search: </form></center></td></tr></tbody></table></center>\n"
     ]
    }
   ],
   "source": [
    "import asyncio\n",
    "from crawl4ai import AsyncWebCrawler, CrawlerRunConfig,BrowserConfig\n",
    "\n",
    "async def main():\n",
    "    base_browser = BrowserConfig(\n",
    "        browser_type=\"chromium\",\n",
    "        headless=False\n",
    "    )\n",
    "\n",
    "    wait_condition = \"\"\"()=>{\n",
    "        const items = document.querySelectorAll('.athing')\n",
    "        return items.length > 50;\n",
    "    }\"\"\"\n",
    "\n",
    "    load_more_js = [\n",
    "            \"window.scrollTo(0, document.body.scrollHeight);\",\n",
    "            # The \"More\" link at page bottom\n",
    "            \"document.querySelector('a.morelink')?.click();\"  \n",
    "        ]\n",
    "    config = CrawlerRunConfig(\n",
    "        #Wait for at least 30 items on Hacker News\n",
    "        js_code=load_more_js,\n",
    "        wait_for=f\"js:{wait_condition}\"\n",
    "    )\n",
    "\n",
    "    async with AsyncWebCrawler(config=base_browser) as crawler:\n",
    "        result = await crawler.arun(\n",
    "            url = 'https://news.ycombinator.com',\n",
    "            config=config\n",
    "        )\n",
    "        print(\"We have at least 30 items loader!\")\n",
    "        print(\"Total items in HTML:\",result.cleaned_html)\n",
    "\n",
    "if __name__ == \"__main__\":\n",
    "    await main()"
   ]
  }
 ],
 "metadata": {
  "kernelspec": {
   "display_name": "web_crawler",
   "language": "python",
   "name": "python3"
  },
  "language_info": {
   "codemirror_mode": {
    "name": "ipython",
    "version": 3
   },
   "file_extension": ".py",
   "mimetype": "text/x-python",
   "name": "python",
   "nbconvert_exporter": "python",
   "pygments_lexer": "ipython3",
   "version": "3.11.13"
  }
 },
 "nbformat": 4,
 "nbformat_minor": 5
}
