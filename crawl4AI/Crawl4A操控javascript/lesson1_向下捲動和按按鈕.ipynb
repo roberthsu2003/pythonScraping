{
 "cells": [
  {
   "cell_type": "markdown",
   "id": "4167d8fe",
   "metadata": {},
   "source": [
    "範例：我們將捲動到頁面底部，然後選擇性地點擊「載入更多」按鈕。"
   ]
  },
  {
   "cell_type": "code",
   "execution_count": 13,
   "id": "51c15b63",
   "metadata": {},
   "outputs": [
    {
     "data": {
      "text/html": [
       "<pre style=\"white-space:pre;overflow-x:auto;line-height:normal;font-family:Menlo,'DejaVu Sans Mono',consolas,'Courier New',monospace\"><span style=\"color: #008080; text-decoration-color: #008080; font-weight: bold\">[</span><span style=\"color: #008080; text-decoration-color: #008080\">INIT</span><span style=\"color: #008080; text-decoration-color: #008080; font-weight: bold\">]</span><span style=\"color: #008080; text-decoration-color: #008080\">.... → Crawl4AI </span><span style=\"color: #008080; text-decoration-color: #008080; font-weight: bold\">0.6</span><span style=\"color: #008080; text-decoration-color: #008080\">.</span><span style=\"color: #008080; text-decoration-color: #008080; font-weight: bold\">3</span><span style=\"color: #008080; text-decoration-color: #008080\"> </span>\n",
       "</pre>\n"
      ],
      "text/plain": [
       "\u001b[1;36m[\u001b[0m\u001b[36mINIT\u001b[0m\u001b[1;36m]\u001b[0m\u001b[36m...\u001b[0m\u001b[36m. → Crawl4AI \u001b[0m\u001b[1;36m0.6\u001b[0m\u001b[36m.\u001b[0m\u001b[1;36m3\u001b[0m\u001b[36m \u001b[0m\n"
      ]
     },
     "metadata": {},
     "output_type": "display_data"
    },
    {
     "data": {
      "text/html": [
       "<pre style=\"white-space:pre;overflow-x:auto;line-height:normal;font-family:Menlo,'DejaVu Sans Mono',consolas,'Courier New',monospace\"><span style=\"color: #008000; text-decoration-color: #008000; font-weight: bold\">[</span><span style=\"color: #008000; text-decoration-color: #008000\">FETCH</span><span style=\"color: #008000; text-decoration-color: #008000; font-weight: bold\">]</span><span style=\"color: #008000; text-decoration-color: #008000\">... ↓ </span><span style=\"color: #008000; text-decoration-color: #008000; text-decoration: underline\">https://news.ycombinator.com</span><span style=\"color: #008000; text-decoration-color: #008000\">                                                                         |</span>\n",
       "<span style=\"color: #008000; text-decoration-color: #008000\">✓ | ⏱: </span><span style=\"color: #008000; text-decoration-color: #008000; font-weight: bold\">1.</span><span style=\"color: #008000; text-decoration-color: #008000\">20s </span>\n",
       "</pre>\n"
      ],
      "text/plain": [
       "\u001b[1;32m[\u001b[0m\u001b[32mFETCH\u001b[0m\u001b[1;32m]\u001b[0m\u001b[32m...\u001b[0m\u001b[32m ↓ \u001b[0m\u001b[4;32mhttps://news.ycombinator.com\u001b[0m\u001b[32m                                                                         |\u001b[0m\n",
       "\u001b[32m✓\u001b[0m\u001b[32m | ⏱: \u001b[0m\u001b[1;32m1.\u001b[0m\u001b[32m20s \u001b[0m\n"
      ]
     },
     "metadata": {},
     "output_type": "display_data"
    },
    {
     "data": {
      "text/html": [
       "<pre style=\"white-space:pre;overflow-x:auto;line-height:normal;font-family:Menlo,'DejaVu Sans Mono',consolas,'Courier New',monospace\"><span style=\"color: #008000; text-decoration-color: #008000; font-weight: bold\">[</span><span style=\"color: #008000; text-decoration-color: #008000\">SCRAPE</span><span style=\"color: #008000; text-decoration-color: #008000; font-weight: bold\">]</span><span style=\"color: #008000; text-decoration-color: #008000\">.. ◆ </span><span style=\"color: #008000; text-decoration-color: #008000; text-decoration: underline\">https://news.ycombinator.com</span><span style=\"color: #008000; text-decoration-color: #008000\">                                                                         |</span>\n",
       "<span style=\"color: #008000; text-decoration-color: #008000\">✓ | ⏱: </span><span style=\"color: #008000; text-decoration-color: #008000; font-weight: bold\">0.</span><span style=\"color: #008000; text-decoration-color: #008000\">04s </span>\n",
       "</pre>\n"
      ],
      "text/plain": [
       "\u001b[1;32m[\u001b[0m\u001b[32mSCRAPE\u001b[0m\u001b[1;32m]\u001b[0m\u001b[32m.. ◆ \u001b[0m\u001b[4;32mhttps://news.ycombinator.com\u001b[0m\u001b[32m                                                                         |\u001b[0m\n",
       "\u001b[32m✓\u001b[0m\u001b[32m | ⏱: \u001b[0m\u001b[1;32m0.\u001b[0m\u001b[32m04s \u001b[0m\n"
      ]
     },
     "metadata": {},
     "output_type": "display_data"
    },
    {
     "data": {
      "text/html": [
       "<pre style=\"white-space:pre;overflow-x:auto;line-height:normal;font-family:Menlo,'DejaVu Sans Mono',consolas,'Courier New',monospace\"><span style=\"color: #008000; text-decoration-color: #008000; font-weight: bold\">[</span><span style=\"color: #008000; text-decoration-color: #008000\">COMPLETE</span><span style=\"color: #008000; text-decoration-color: #008000; font-weight: bold\">]</span><span style=\"color: #008000; text-decoration-color: #008000\"> ● </span><span style=\"color: #008000; text-decoration-color: #008000; text-decoration: underline\">https://news.ycombinator.com</span><span style=\"color: #008000; text-decoration-color: #008000\">                                                                         |</span>\n",
       "<span style=\"color: #008000; text-decoration-color: #008000\">✓ | ⏱: </span><span style=\"color: #008000; text-decoration-color: #008000; font-weight: bold\">1.</span><span style=\"color: #008000; text-decoration-color: #008000\">24s </span>\n",
       "</pre>\n"
      ],
      "text/plain": [
       "\u001b[1;32m[\u001b[0m\u001b[32mCOMPLETE\u001b[0m\u001b[1;32m]\u001b[0m\u001b[32m ● \u001b[0m\u001b[4;32mhttps://news.ycombinator.com\u001b[0m\u001b[32m                                                                         |\u001b[0m\n",
       "\u001b[32m✓\u001b[0m\u001b[32m | ⏱: \u001b[0m\u001b[1;32m1.\u001b[0m\u001b[32m24s \u001b[0m\n"
      ]
     },
     "metadata": {},
     "output_type": "display_data"
    },
    {
     "name": "stdout",
     "output_type": "stream",
     "text": [
      "<center><table width=\"85%\"><tbody><tr><td><table width=\"100%\"><tbody><tr><td><a href=\"https://news.ycombinator.com\"><img height=\"18\" src=\"y18.svg\" style=\"border:1px white solid; display:block\" width=\"18\"/></a></td><td><span><b><a href=\"news\">Hacker News</a></b><a href=\"newest\">new</a> | <a href=\"front\">past</a> | <a href=\"newcomments\">comments</a> | <a href=\"ask\">ask</a> | <a href=\"show\">show</a> | <a href=\"jobs\">jobs</a> | <a href=\"submit\">submit</a></span></td><td><span><a href=\"login?goto=news\">login</a></span></td></tr></tbody></table></td></tr><tr></tr><tr><td><table><tbody><tr><td><span>1.</span></td><td><center><a href=\"vote?id=44435484&amp;how=up&amp;goto=news\"></a></center></td><td><span><a href=\"https://calvin.sh/blog/fed-lie/\">The Fed says this is a cube of $1M. They're off by half a million</a><span> (<a href=\"from?site=calvin.sh\"><span>calvin.sh</span></a>)</span></span></td></tr><tr><td></td><td><span><span>962 points</span> by <a href=\"user?id=c249709\">c249709</a> <span title=\"2025-07-01T16:22:55 1751386975\"><a href=\"item?id=44435484\">10 hours ago</a></span> | <a href=\"hide?id=44435484&amp;goto=news\">hide</a> | <a href=\"item?id=44435484\">382 comments</a></span></td></tr><tr></tr><tr><td><span>2.</span></td><td><center><a href=\"vote?id=44439242&amp;how=up&amp;goto=news\"></a></center></td><td><span><a href=\"https://arxiv.org/abs/2503.01800\">Hilbert's sixth problem: derivation of fluid equations via Boltzmann's theory</a><span> (<a href=\"from?site=arxiv.org\"><span>arxiv.org</span></a>)</span></span></td></tr><tr><td></td><td><span><span>32 points</span> by <a href=\"user?id=nsoonhui\">nsoonhui</a> <span title=\"2025-07-02T00:31:48 1751416308\"><a href=\"item?id=44439242\">1 hour ago</a></span> | <a href=\"hide?id=44439242&amp;goto=news\">hide</a> | <a href=\"item?id=44439242\">21 comments</a></span></td></tr><tr></tr><tr><td><span>3.</span></td><td><center><a href=\"vote?id=44437316&amp;how=up&amp;goto=news\"></a></center></td><td><span><a href=\"https://www.figma.com/blog/s1-public/\">Figma Files Registration Statement for Proposed Initial Public Offering</a><span> (<a href=\"from?site=figma.com\"><span>figma.com</span></a>)</span></span></td></tr><tr><td></td><td><span><span>223 points</span> by <a href=\"user?id=kualto\">kualto</a> <span title=\"2025-07-01T19:39:14 1751398754\"><a href=\"item?id=44437316\">7 hours ago</a></span> | <a href=\"hide?id=44437316&amp;goto=news\">hide</a> | <a href=\"item?id=44437316\">95 comments</a></span></td></tr><tr></tr><tr><td><span>4.</span></td><td><center><a href=\"vote?id=44437712&amp;how=up&amp;goto=news\"></a></center></td><td><span><a href=\"https://blog.truestar.pro/fakespot-shuts-down/\">Fakespot shuts down today after 9 years of detecting fake product reviews</a><span> (<a href=\"from?site=truestar.pro\"><span>truestar.pro</span></a>)</span></span></td></tr><tr><td></td><td><span><span>120 points</span> by <a href=\"user?id=doppio19\">doppio19</a> <span title=\"2025-07-01T20:26:35 1751401595\"><a href=\"item?id=44437712\">6 hours ago</a></span> | <a href=\"hide?id=44437712&amp;goto=news\">hide</a> | <a href=\"item?id=44437712\">55 comments</a></span></td></tr><tr></tr><tr><td><span>5.</span></td><td><center><a href=\"vote?id=44404243&amp;how=up&amp;goto=news\"></a></center></td><td><span><a href=\"https://www.sapiens.org/culture/korean-dmz-estuary-politics-war-borders-diaspora/\">Why Do Swallows Fly to the Korean DMZ?</a><span> (<a href=\"from?site=sapiens.org\"><span>sapiens.org</span></a>)</span></span></td></tr><tr><td></td><td><span><span>18 points</span> by <a href=\"user?id=gaws\">gaws</a> <span title=\"2025-06-28T12:33:44 1751114024\"><a href=\"item?id=44404243\">2 hours ago</a></span> | <a href=\"hide?id=44404243&amp;goto=news\">hide</a> | <a href=\"item?id=44404243\">discuss</a></span></td></tr><tr></tr><tr><td><span>6.</span></td><td><center><a href=\"vote?id=44435716&amp;how=up&amp;goto=news\"></a></center></td><td><span><a href=\"https://jamesbvaughan.com/bidirectional-editing/\">Code⇄GUI bidirectional editing via LSP</a><span> (<a href=\"from?site=jamesbvaughan.com\"><span>jamesbvaughan.com</span></a>)</span></span></td></tr><tr><td></td><td><span><span>146 points</span> by <a href=\"user?id=jamesbvaughan\">jamesbvaughan</a> <span title=\"2025-07-01T16:43:19 1751388199\"><a href=\"item?id=44435716\">10 hours ago</a></span> | <a href=\"hide?id=44435716&amp;goto=news\">hide</a> | <a href=\"item?id=44435716\">33 comments</a></span></td></tr><tr></tr><tr><td><span>7.</span></td><td><center><a href=\"vote?id=44437758&amp;how=up&amp;goto=news\"></a></center></td><td><span><a href=\"https://www.romanroads.org/\">The Roman Roads Research Association</a><span> (<a href=\"from?site=romanroads.org\"><span>romanroads.org</span></a>)</span></span></td></tr><tr><td></td><td><span><span>43 points</span> by <a href=\"user?id=bjourne\">bjourne</a> <span title=\"2025-07-01T20:32:52 1751401972\"><a href=\"item?id=44437758\">6 hours ago</a></span> | <a href=\"hide?id=44437758&amp;goto=news\">hide</a> | <a href=\"item?id=44437758\">3 comments</a></span></td></tr><tr></tr><tr><td><span>8.</span></td><td><center><a href=\"vote?id=44434062&amp;how=up&amp;goto=news\"></a></center></td><td><span><a href=\"https://arxiv.org/abs/2506.17732\">Feasibility study of a mission to Sedna - Nuclear propulsion and solar sailing</a><span> (<a href=\"from?site=arxiv.org\"><span>arxiv.org</span></a>)</span></span></td></tr><tr><td></td><td><span><span>173 points</span> by <a href=\"user?id=speckx\">speckx</a> <span title=\"2025-07-01T14:08:11 1751378891\"><a href=\"item?id=44434062\">12 hours ago</a></span> | <a href=\"hide?id=44434062&amp;goto=news\">hide</a> | <a href=\"item?id=44434062\">63 comments</a></span></td></tr><tr></tr><tr><td><span>9.</span></td><td><center><a href=\"vote?id=44434576&amp;how=up&amp;goto=news\"></a></center></td><td><span><a href=\"item?id=44434576\">Ask HN: Who is hiring? (July 2025)</a></span></td></tr><tr><td></td><td><span><span>191 points</span> by <a href=\"user?id=whoishiring\">whoishiring</a> <span title=\"2025-07-01T15:01:36 1751382096\"><a href=\"item?id=44434576\">12 hours ago</a></span> | <a href=\"hide?id=44434576&amp;goto=news\">hide</a> | <a href=\"item?id=44434576\">224 comments</a></span></td></tr><tr></tr><tr><td><span>10.</span></td><td><center><a href=\"vote?id=44433409&amp;how=up&amp;goto=news\"></a></center></td><td><span><a href=\"https://simedw.com/2025/06/23/introducing-spegel/\">Show HN: Spegel, a Terminal Browser That Uses LLMs to Rewrite Webpages</a><span> (<a href=\"from?site=simedw.com\"><span>simedw.com</span></a>)</span></span></td></tr><tr><td></td><td><span><span>314 points</span> by <a href=\"user?id=simedw\">simedw</a> <span title=\"2025-07-01T12:49:42 1751374182\"><a href=\"item?id=44433409\">14 hours ago</a></span> | <a href=\"hide?id=44433409&amp;goto=news\">hide</a> | <a href=\"item?id=44433409\">143 comments</a></span></td></tr><tr></tr><tr><td><span>11.</span></td><td><center><a href=\"vote?id=44406401&amp;how=up&amp;goto=news\"></a></center></td><td><span><a href=\"https://www.heritagedaily.com/2025/06/soldiers-wrist-purse-discovered-at-roman-legionary-camp/155513\">Soldier's wrist purse discovered at Roman legionary camp</a><span> (<a href=\"from?site=heritagedaily.com\"><span>heritagedaily.com</span></a>)</span></span></td></tr><tr><td></td><td><span><span>27 points</span> by <a href=\"user?id=bookofjoe\">bookofjoe</a> <span title=\"2025-06-28T17:20:34 1751131234\"><a href=\"item?id=44406401\">5 hours ago</a></span> | <a href=\"hide?id=44406401&amp;goto=news\">hide</a> | <a href=\"item?id=44406401\">discuss</a></span></td></tr><tr></tr><tr><td><span>12.</span></td><td><center><a href=\"vote?id=44404447&amp;how=up&amp;goto=news\"></a></center></td><td><span><a href=\"https://bullseye2d.org/\">Show HN: I made a 2D game engine in Dart</a><span> (<a href=\"from?site=bullseye2d.org\"><span>bullseye2d.org</span></a>)</span></span></td></tr><tr><td></td><td><span><span>15 points</span> by <a href=\"user?id=joemanaco\">joemanaco</a> <span title=\"2025-06-28T13:07:19 1751116039\"><a href=\"item?id=44404447\">3 hours ago</a></span> | <a href=\"hide?id=44404447&amp;goto=news\">hide</a> | <a href=\"item?id=44404447\">3 comments</a></span></td></tr><tr></tr><tr><td><span>13.</span></td><td><center><a href=\"vote?id=44403988&amp;how=up&amp;goto=news\"></a></center></td><td><span><a href=\"https://blog.danpetrolito.xyz/i-built-something-that-changed-my-friend-gro-social-fabric/\">I built something that changed my friend group's social fabric</a><span> (<a href=\"from?site=danpetrolito.xyz\"><span>danpetrolito.xyz</span></a>)</span></span></td></tr><tr><td></td><td><span><span>531 points</span> by <a href=\"user?id=dandano\">dandano</a> <span title=\"2025-06-28T11:49:35 1751111375\"><a href=\"item?id=44403988\">19 hours ago</a></span> | <a href=\"hide?id=44403988&amp;goto=news\">hide</a> | <a href=\"item?id=44403988\">231 comments</a></span></td></tr><tr></tr><tr><td><span>14.</span></td><td><center><a href=\"vote?id=44437948&amp;how=up&amp;goto=news\"></a></center></td><td><span><a href=\"https://iopscience.iop.org/article/10.1088/2752-5295/ade17d\">Effectiveness of trees in reducing temperature, outdoor heat exposure in Vegas</a><span> (<a href=\"from?site=iop.org\"><span>iop.org</span></a>)</span></span></td></tr><tr><td></td><td><span><span>85 points</span> by <a href=\"user?id=PaulHoule\">PaulHoule</a> <span title=\"2025-07-01T20:59:05 1751403545\"><a href=\"item?id=44437948\">6 hours ago</a></span> | <a href=\"hide?id=44437948&amp;goto=news\">hide</a> | <a href=\"item?id=44437948\">76 comments</a></span></td></tr><tr></tr><tr><td><span>15.</span></td><td><center><a href=\"vote?id=44439836&amp;how=up&amp;goto=news\"></a></center></td><td><span><a href=\"https://www.npr.org/2025/07/01/nx-s1-5453501/national-climate-assessment-nca5-archive-report\">The White House took down nation's top climate report. Here it is</a><span> (<a href=\"from?site=npr.org\"><span>npr.org</span></a>)</span></span></td></tr><tr><td></td><td><span><span>6 points</span> by <a href=\"user?id=andsoitis\">andsoitis</a> <span title=\"2025-07-02T02:51:20 1751424680\"><a href=\"item?id=44439836\">10 minutes ago</a></span> | <a href=\"hide?id=44439836&amp;goto=news\">hide</a> | <a href=\"item?id=44439836\">discuss</a></span></td></tr><tr></tr><tr><td><span>16.</span></td><td><center><a href=\"vote?id=44438065&amp;how=up&amp;goto=news\"></a></center></td><td><span><a href=\"https://www.john-rush.com/posts/ai-20250701.html\">Building a Personal AI Factory</a><span> (<a href=\"from?site=john-rush.com\"><span>john-rush.com</span></a>)</span></span></td></tr><tr><td></td><td><span><span>101 points</span> by <a href=\"user?id=derek\">derek</a> <span title=\"2025-07-01T21:14:29 1751404469\"><a href=\"item?id=44438065\">5 hours ago</a></span> | <a href=\"hide?id=44438065&amp;goto=news\">hide</a> | <a href=\"item?id=44438065\">50 comments</a></span></td></tr><tr></tr><tr><td><span>17.</span></td><td><center><a href=\"vote?id=44439058&amp;how=up&amp;goto=news\"></a></center></td><td><span><a href=\"https://ia.acs.org.au/article/2025/australians-to-face-age-checks-from-search-engines.html\">Australians to face age checks from search engines</a><span> (<a href=\"from?site=acs.org.au\"><span>acs.org.au</span></a>)</span></span></td></tr><tr><td></td><td><span><span>46 points</span> by <a href=\"user?id=stubish\">stubish</a> <span title=\"2025-07-01T23:59:26 1751414366\"><a href=\"item?id=44439058\">3 hours ago</a></span> | <a href=\"hide?id=44439058&amp;goto=news\">hide</a> | <a href=\"item?id=44439058\">66 comments</a></span></td></tr><tr></tr><tr><td><span>18.</span></td><td><center><a href=\"vote?id=44434574&amp;how=up&amp;goto=news\"></a></center></td><td><span><a href=\"item?id=44434574\">Ask HN: Who wants to be hired? (July 2025)</a></span></td></tr><tr><td></td><td><span><span>76 points</span> by <a href=\"user?id=whoishiring\">whoishiring</a> <span title=\"2025-07-01T15:01:36 1751382096\"><a href=\"item?id=44434574\">12 hours ago</a></span> | <a href=\"hide?id=44434574&amp;goto=news\">hide</a> | <a href=\"item?id=44434574\">175 comments</a></span></td></tr><tr></tr><tr><td><span>19.</span></td><td><center><a href=\"vote?id=44435500&amp;how=up&amp;goto=news\"></a></center></td><td><span><a href=\"https://github.com/RedPlanetHQ/core\">Show HN: Core – open source memory graph for LLMs – shareable, user owned</a><span> (<a href=\"from?site=github.com/redplanethq\"><span>github.com/redplanethq</span></a>)</span></span></td></tr><tr><td></td><td><span><span>65 points</span> by <a href=\"user?id=Manik_agg\">Manik_agg</a> <span title=\"2025-07-01T16:24:24 1751387064\"><a href=\"item?id=44435500\">8 hours ago</a></span> | <a href=\"hide?id=44435500&amp;goto=news\">hide</a> | <a href=\"item?id=44435500\">25 comments</a></span></td></tr><tr></tr><tr><td><span>20.</span></td><td><center><a href=\"vote?id=44431178&amp;how=up&amp;goto=news\"></a></center></td><td><span><a href=\"https://github.com/stan-smith/OpenFLOW\">OpenFLOW – Quickly make beautiful infrastructure diagrams local to your machine</a><span> (<a href=\"from?site=github.com/stan-smith\"><span>github.com/stan-smith</span></a>)</span></span></td></tr><tr><td></td><td><span><span>280 points</span> by <a href=\"user?id=x0z\">x0z</a> <span title=\"2025-07-01T06:29:57 1751351397\"><a href=\"item?id=44431178\">20 hours ago</a></span> | <a href=\"hide?id=44431178&amp;goto=news\">hide</a> | <a href=\"item?id=44431178\">64 comments</a></span></td></tr><tr></tr><tr><td><span>21.</span></td><td><center><a href=\"vote?id=44436555&amp;how=up&amp;goto=news\"></a></center></td><td><span><a href=\"https://johncarlosbaez.wordpress.com/2021/02/04/the-hoyle-state/\">The Hoyle State (2021)</a><span> (<a href=\"from?site=johncarlosbaez.wordpress.com\"><span>johncarlosbaez.wordpress.com</span></a>)</span></span></td></tr><tr><td></td><td><span><span>44 points</span> by <a href=\"user?id=gone35\">gone35</a> <span title=\"2025-07-01T18:07:09 1751393229\"><a href=\"item?id=44436555\">8 hours ago</a></span> | <a href=\"hide?id=44436555&amp;goto=news\">hide</a> | <a href=\"item?id=44436555\">8 comments</a></span></td></tr><tr></tr><tr><td><span>22.</span></td><td><center><a href=\"vote?id=44433899&amp;how=up&amp;goto=news\"></a></center></td><td><span><a href=\"https://arxiv.org/abs/2506.21654\">Experience converting a mathematical software package to C++20 modules [PDF]</a><span> (<a href=\"from?site=arxiv.org\"><span>arxiv.org</span></a>)</span></span></td></tr><tr><td></td><td><span><span>99 points</span> by <a href=\"user?id=vblanco\">vblanco</a> <span title=\"2025-07-01T13:46:56 1751377616\"><a href=\"item?id=44433899\">13 hours ago</a></span> | <a href=\"hide?id=44433899&amp;goto=news\">hide</a> | <a href=\"item?id=44433899\">22 comments</a></span></td></tr><tr></tr><tr><td><span>23.</span></td><td><center><a href=\"vote?id=44433386&amp;how=up&amp;goto=news\"></a></center></td><td><span><a href=\"https://jobsbyreferral.com/\">Show HN: Jobs by Referral: Find jobs in your LinkedIn network</a><span> (<a href=\"from?site=jobsbyreferral.com\"><span>jobsbyreferral.com</span></a>)</span></span></td></tr><tr><td></td><td><span><span>115 points</span> by <a href=\"user?id=nicksergeant\">nicksergeant</a> <span title=\"2025-07-01T12:47:06 1751374026\"><a href=\"item?id=44433386\">14 hours ago</a></span> | <a href=\"hide?id=44433386&amp;goto=news\">hide</a> | <a href=\"item?id=44433386\">53 comments</a></span></td></tr><tr></tr><tr><td><span>24.</span></td><td><img height=\"1\" src=\"s.gif\" width=\"14\"/></td><td><span><a href=\"https://www.ycombinator.com/companies/cua/jobs/dIskIB1-founding-engineer-cua-yc-x25\">Cua (YC X25) is hiring an engineer</a><span> (<a href=\"from?site=ycombinator.com\"><span>ycombinator.com</span></a>)</span></span></td></tr><tr><td></td><td><span title=\"2025-07-01T17:00:30 1751389230\"><a href=\"item?id=44435910\">10 hours ago</a></span> | <a href=\"hide?id=44435910&amp;goto=news\">hide</a></td></tr><tr></tr><tr><td><span>25.</span></td><td><center><a href=\"vote?id=44403547&amp;how=up&amp;goto=news\"></a></center></td><td><span><a href=\"https://utk.claranguyen.me/talks.php?id=videogames\">Graph Theory Applications in Video Games</a><span> (<a href=\"from?site=claranguyen.me\"><span>claranguyen.me</span></a>)</span></span></td></tr><tr><td></td><td><span><span>63 points</span> by <a href=\"user?id=haywirez\">haywirez</a> <span title=\"2025-06-28T10:07:38 1751105258\"><a href=\"item?id=44403547\">12 hours ago</a></span> | <a href=\"hide?id=44403547&amp;goto=news\">hide</a> | <a href=\"item?id=44403547\">4 comments</a></span></td></tr><tr></tr><tr><td><span>26.</span></td><td><center><a href=\"vote?id=44412480&amp;how=up&amp;goto=news\"></a></center></td><td><span><a href=\"https://www.frontiersin.org/journals/psychology/articles/10.3389/fpsyg.2020.00723/full\">Swearing as a Response to Pain: Assessing Effects of Novel Swear Words</a><span> (<a href=\"from?site=frontiersin.org\"><span>frontiersin.org</span></a>)</span></span></td></tr><tr><td></td><td><span><span>39 points</span> by <a href=\"user?id=sega_sai\">sega_sai</a> <span title=\"2025-06-29T12:14:57 1751199297\"><a href=\"item?id=44412480\">8 hours ago</a></span> | <a href=\"hide?id=44412480&amp;goto=news\">hide</a> | <a href=\"item?id=44412480\">44 comments</a></span></td></tr><tr></tr><tr><td><span>27.</span></td><td><center><a href=\"vote?id=44437015&amp;how=up&amp;goto=news\"></a></center></td><td><span><a href=\"https://blog.greg.technology/2025/06/30/fastly.html\">The wanton destruction of a creative-tech era</a><span> (<a href=\"from?site=greg.technology\"><span>greg.technology</span></a>)</span></span></td></tr><tr><td></td><td><span><span>71 points</span> by <a href=\"user?id=gregsadetsky\">gregsadetsky</a> <span title=\"2025-07-01T19:00:24 1751396424\"><a href=\"item?id=44437015\">8 hours ago</a></span> | <a href=\"hide?id=44437015&amp;goto=news\">hide</a> | <a href=\"item?id=44437015\">10 comments</a></span></td></tr><tr></tr><tr><td><span>28.</span></td><td><center><a href=\"vote?id=44413957&amp;how=up&amp;goto=news\"></a></center></td><td><span><a href=\"https://www.laphamsquarterly.org/roundtable/all-good-editors-are-pirates\">All Good Editors Are Pirates: In Memory of Lewis H. Lapham</a><span> (<a href=\"from?site=laphamsquarterly.org\"><span>laphamsquarterly.org</span></a>)</span></span></td></tr><tr><td></td><td><span><span>64 points</span> by <a href=\"user?id=Caiero\">Caiero</a> <span title=\"2025-06-29T15:39:16 1751211556\"><a href=\"item?id=44413957\">11 hours ago</a></span> | <a href=\"hide?id=44413957&amp;goto=news\">hide</a> | <a href=\"item?id=44413957\">11 comments</a></span></td></tr><tr></tr><tr><td><span>29.</span></td><td><center><a href=\"vote?id=44438890&amp;how=up&amp;goto=news\"></a></center></td><td><span><a href=\"https://www.bloomberg.com/graphics/2025-america-hot-garbage-problem-toxic-landfills\">America's Hot Garbage Problem</a><span> (<a href=\"from?site=bloomberg.com\"><span>bloomberg.com</span></a>)</span></span></td></tr><tr><td></td><td><span><span>51 points</span> by <a href=\"user?id=petethomas\">petethomas</a> <span title=\"2025-07-01T23:29:28 1751412568\"><a href=\"item?id=44438890\">3 hours ago</a></span> | <a href=\"hide?id=44438890&amp;goto=news\">hide</a> | <a href=\"item?id=44438890\">17 comments</a></span></td></tr><tr></tr><tr><td><span>30.</span></td><td><center><a href=\"vote?id=44438900&amp;how=up&amp;goto=news\"></a></center></td><td><span><a href=\"https://catstret.ch/202506/sun-ray-shenanigans/\">Using Sun Ray thin clients in 2025</a><span> (<a href=\"from?site=catstret.ch\"><span>catstret.ch</span></a>)</span></span></td></tr><tr><td></td><td><span><span>86 points</span> by <a href=\"user?id=todsacerdoti\">todsacerdoti</a> <span title=\"2025-07-01T23:30:35 1751412635\"><a href=\"item?id=44438900\">3 hours ago</a></span> | <a href=\"hide?id=44438900&amp;goto=news\">hide</a> | <a href=\"item?id=44438900\">26 comments</a></span></td></tr><tr></tr><tr></tr><tr><td></td><td><a href=\"?p=2\">More</a></td></tr></tbody></table></td></tr><tr><td><img height=\"10\" src=\"s.gif\" width=\"0\"/><table width=\"100%\"><tbody><tr><td></td></tr></tbody></table>\n",
      "<center><a href=\"https://www.ycombinator.com/apply/\">Consider applying for YC's Fall 2025 batch! Applications are open till Aug 4</a></center>\n",
      "<center><span><a href=\"newsguidelines.html\">Guidelines</a> | <a href=\"newsfaq.html\">FAQ</a> | <a href=\"lists\">Lists</a> | <a href=\"https://github.com/HackerNews/API\">API</a> | <a href=\"security.html\">Security</a> | <a href=\"https://www.ycombinator.com/legal/\">Legal</a> | <a href=\"https://www.ycombinator.com/apply/\">Apply to YC</a> | <a href=\"mailto:hn@ycombinator.com\">Contact</a></span>\n",
      "<form>Search: </form></center></td></tr></tbody></table></center>\n",
      "Crawled length: 20493\n"
     ]
    },
    {
     "data": {
      "text/html": [
       "<pre style=\"white-space:pre;overflow-x:auto;line-height:normal;font-family:Menlo,'DejaVu Sans Mono',consolas,'Courier New',monospace\"><span style=\"color: #008080; text-decoration-color: #008080; font-weight: bold\">[</span><span style=\"color: #008080; text-decoration-color: #008080\">INIT</span><span style=\"color: #008080; text-decoration-color: #008080; font-weight: bold\">]</span><span style=\"color: #008080; text-decoration-color: #008080\">.... → Crawl4AI </span><span style=\"color: #008080; text-decoration-color: #008080; font-weight: bold\">0.6</span><span style=\"color: #008080; text-decoration-color: #008080\">.</span><span style=\"color: #008080; text-decoration-color: #008080; font-weight: bold\">3</span><span style=\"color: #008080; text-decoration-color: #008080\"> </span>\n",
       "</pre>\n"
      ],
      "text/plain": [
       "\u001b[1;36m[\u001b[0m\u001b[36mINIT\u001b[0m\u001b[1;36m]\u001b[0m\u001b[36m...\u001b[0m\u001b[36m. → Crawl4AI \u001b[0m\u001b[1;36m0.6\u001b[0m\u001b[36m.\u001b[0m\u001b[1;36m3\u001b[0m\u001b[36m \u001b[0m\n"
      ]
     },
     "metadata": {},
     "output_type": "display_data"
    },
    {
     "data": {
      "text/html": [
       "<pre style=\"white-space:pre;overflow-x:auto;line-height:normal;font-family:Menlo,'DejaVu Sans Mono',consolas,'Courier New',monospace\"><span style=\"color: #008000; text-decoration-color: #008000; font-weight: bold\">[</span><span style=\"color: #008000; text-decoration-color: #008000\">FETCH</span><span style=\"color: #008000; text-decoration-color: #008000; font-weight: bold\">]</span><span style=\"color: #008000; text-decoration-color: #008000\">... ↓ </span><span style=\"color: #008000; text-decoration-color: #008000; text-decoration: underline\">https://news.ycombinator.com</span><span style=\"color: #008000; text-decoration-color: #008000\">                                                                         |</span>\n",
       "<span style=\"color: #008000; text-decoration-color: #008000\">✓ | ⏱: </span><span style=\"color: #008000; text-decoration-color: #008000; font-weight: bold\">1.</span><span style=\"color: #008000; text-decoration-color: #008000\">11s </span>\n",
       "</pre>\n"
      ],
      "text/plain": [
       "\u001b[1;32m[\u001b[0m\u001b[32mFETCH\u001b[0m\u001b[1;32m]\u001b[0m\u001b[32m...\u001b[0m\u001b[32m ↓ \u001b[0m\u001b[4;32mhttps://news.ycombinator.com\u001b[0m\u001b[32m                                                                         |\u001b[0m\n",
       "\u001b[32m✓\u001b[0m\u001b[32m | ⏱: \u001b[0m\u001b[1;32m1.\u001b[0m\u001b[32m11s \u001b[0m\n"
      ]
     },
     "metadata": {},
     "output_type": "display_data"
    },
    {
     "data": {
      "text/html": [
       "<pre style=\"white-space:pre;overflow-x:auto;line-height:normal;font-family:Menlo,'DejaVu Sans Mono',consolas,'Courier New',monospace\"><span style=\"color: #008000; text-decoration-color: #008000; font-weight: bold\">[</span><span style=\"color: #008000; text-decoration-color: #008000\">SCRAPE</span><span style=\"color: #008000; text-decoration-color: #008000; font-weight: bold\">]</span><span style=\"color: #008000; text-decoration-color: #008000\">.. ◆ </span><span style=\"color: #008000; text-decoration-color: #008000; text-decoration: underline\">https://news.ycombinator.com</span><span style=\"color: #008000; text-decoration-color: #008000\">                                                                         |</span>\n",
       "<span style=\"color: #008000; text-decoration-color: #008000\">✓ | ⏱: </span><span style=\"color: #008000; text-decoration-color: #008000; font-weight: bold\">0.</span><span style=\"color: #008000; text-decoration-color: #008000\">04s </span>\n",
       "</pre>\n"
      ],
      "text/plain": [
       "\u001b[1;32m[\u001b[0m\u001b[32mSCRAPE\u001b[0m\u001b[1;32m]\u001b[0m\u001b[32m.. ◆ \u001b[0m\u001b[4;32mhttps://news.ycombinator.com\u001b[0m\u001b[32m                                                                         |\u001b[0m\n",
       "\u001b[32m✓\u001b[0m\u001b[32m | ⏱: \u001b[0m\u001b[1;32m0.\u001b[0m\u001b[32m04s \u001b[0m\n"
      ]
     },
     "metadata": {},
     "output_type": "display_data"
    },
    {
     "data": {
      "text/html": [
       "<pre style=\"white-space:pre;overflow-x:auto;line-height:normal;font-family:Menlo,'DejaVu Sans Mono',consolas,'Courier New',monospace\"><span style=\"color: #008000; text-decoration-color: #008000; font-weight: bold\">[</span><span style=\"color: #008000; text-decoration-color: #008000\">COMPLETE</span><span style=\"color: #008000; text-decoration-color: #008000; font-weight: bold\">]</span><span style=\"color: #008000; text-decoration-color: #008000\"> ● </span><span style=\"color: #008000; text-decoration-color: #008000; text-decoration: underline\">https://news.ycombinator.com</span><span style=\"color: #008000; text-decoration-color: #008000\">                                                                         |</span>\n",
       "<span style=\"color: #008000; text-decoration-color: #008000\">✓ | ⏱: </span><span style=\"color: #008000; text-decoration-color: #008000; font-weight: bold\">1.</span><span style=\"color: #008000; text-decoration-color: #008000\">16s </span>\n",
       "</pre>\n"
      ],
      "text/plain": [
       "\u001b[1;32m[\u001b[0m\u001b[32mCOMPLETE\u001b[0m\u001b[1;32m]\u001b[0m\u001b[32m ● \u001b[0m\u001b[4;32mhttps://news.ycombinator.com\u001b[0m\u001b[32m                                                                         |\u001b[0m\n",
       "\u001b[32m✓\u001b[0m\u001b[32m | ⏱: \u001b[0m\u001b[1;32m1.\u001b[0m\u001b[32m16s \u001b[0m\n"
      ]
     },
     "metadata": {},
     "output_type": "display_data"
    },
    {
     "name": "stdout",
     "output_type": "stream",
     "text": [
      "After scroll+click, length: 21149\n"
     ]
    }
   ],
   "source": [
    "import asyncio\n",
    "from crawl4ai import AsyncWebCrawler,CrawlerRunConfig\n",
    "\n",
    "async def main():\n",
    "    #single JS command\n",
    "    config = CrawlerRunConfig(\n",
    "        js_code=\"window.scrollTo(0, document.body.scrollHeight);\"\n",
    "    )\n",
    "\n",
    "    async with AsyncWebCrawler() as crawler:\n",
    "        result = await crawler.arun(\n",
    "            url='https://news.ycombinator.com',\n",
    "            config = config\n",
    "        )\n",
    "        print(result.cleaned_html)\n",
    "        print(\"Crawled length:\", len(result.cleaned_html))\n",
    "\n",
    "    #Multiple commands\n",
    "    js_commands =[\n",
    "        \"window.scrollTo(0, document.body.scrollHeight);\",\n",
    "        \"document.querySelector('a.morelink')?.click();\"\n",
    "    ]\n",
    "    config = CrawlerRunConfig(js_code=js_commands, wait_for=\"css:.athing:nth-child(31)\")\n",
    "\n",
    "    async with AsyncWebCrawler() as crawler:\n",
    "        result = await crawler.arun(\n",
    "            url = 'https://news.ycombinator.com',\n",
    "            config = config\n",
    "        )\n",
    "        print(\"After scroll+click, length:\", len(result.cleaned_html))\n",
    "\n",
    "if __name__ == \"__main__\":\n",
    "    await main()\n"
   ]
  },
  {
   "cell_type": "markdown",
   "id": "3225eff3",
   "metadata": {},
   "source": [
    "這段程式示範如何使用 `AsyncWebCrawler` 來自動化網頁操作，主要分為兩個部分：\n",
    "\n",
    "1. **單一 JavaScript 指令操作**  \n",
    "   先建立一個 `CrawlerRunConfig`，其中 `js_code` 設定為 `window.scrollTo(0, document.body.scrollHeight);`，這會讓瀏覽器自動將頁面捲動到底部。接著透過 `AsyncWebCrawler` 執行這個操作，並取得捲動後的網頁 HTML。\n",
    "\n",
    "2. **多個 JavaScript 指令操作**  \n",
    "   這部分將 `js_code` 設定為一個指令清單，先捲動到底部，再點擊「載入更多」按鈕（`document.querySelector('a.morelink')?.click();`）。同時，`wait_for` 參數設定為 `css:.athing:nth-child(31)`，代表會等待新一批資料載入完成（即第 31 筆資料出現）才繼續。\n",
    "\n",
    "這種方式適合用於需要互動（如捲動、點擊按鈕）才能載入更多資料的動態網頁，能有效自動化資料擷取流程。"
   ]
  }
 ],
 "metadata": {
  "kernelspec": {
   "display_name": "web_crawler",
   "language": "python",
   "name": "python3"
  },
  "language_info": {
   "codemirror_mode": {
    "name": "ipython",
    "version": 3
   },
   "file_extension": ".py",
   "mimetype": "text/x-python",
   "name": "python",
   "nbconvert_exporter": "python",
   "pygments_lexer": "ipython3",
   "version": "3.11.13"
  }
 },
 "nbformat": 4,
 "nbformat_minor": 5
}
