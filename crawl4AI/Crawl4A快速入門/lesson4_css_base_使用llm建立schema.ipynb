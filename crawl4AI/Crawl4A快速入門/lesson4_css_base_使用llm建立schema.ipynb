{
 "cells": [
  {
   "cell_type": "markdown",
   "id": "d2eff98e",
   "metadata": {},
   "source": [
    "## 使用模型\n",
    "    - 2個範例\n",
    "    - 第1個本地模型\n",
    "    - 第2個使用gemini模型\n",
    "\n",
    "### 1.使用ollama的llama3.2\n",
    "    - **非常重要的觀念,做錯資料出不來**\n",
    "        - schema的dictionary要先做出來\n",
    "        - 然後再建立JsonCssExtractionStrategy\n",
    "        - 然後再建立CrawlerRunConfig\n",
    "        - arun(config=CrawlerRunConfig的實體)"
   ]
  },
  {
   "cell_type": "code",
   "execution_count": 34,
   "id": "508efe6e",
   "metadata": {},
   "outputs": [
    {
     "data": {
      "text/html": [
       "<pre style=\"white-space:pre;overflow-x:auto;line-height:normal;font-family:Menlo,'DejaVu Sans Mono',consolas,'Courier New',monospace\"><span style=\"color: #008080; text-decoration-color: #008080; font-weight: bold\">[</span><span style=\"color: #008080; text-decoration-color: #008080\">INIT</span><span style=\"color: #008080; text-decoration-color: #008080; font-weight: bold\">]</span><span style=\"color: #008080; text-decoration-color: #008080\">.... → Crawl4AI </span><span style=\"color: #008080; text-decoration-color: #008080; font-weight: bold\">0.6</span><span style=\"color: #008080; text-decoration-color: #008080\">.</span><span style=\"color: #008080; text-decoration-color: #008080; font-weight: bold\">3</span><span style=\"color: #008080; text-decoration-color: #008080\"> </span>\n",
       "</pre>\n"
      ],
      "text/plain": [
       "\u001b[1;36m[\u001b[0m\u001b[36mINIT\u001b[0m\u001b[1;36m]\u001b[0m\u001b[36m...\u001b[0m\u001b[36m. → Crawl4AI \u001b[0m\u001b[1;36m0.6\u001b[0m\u001b[36m.\u001b[0m\u001b[1;36m3\u001b[0m\u001b[36m \u001b[0m\n"
      ]
     },
     "metadata": {},
     "output_type": "display_data"
    },
    {
     "data": {
      "text/html": [
       "<pre style=\"white-space:pre;overflow-x:auto;line-height:normal;font-family:Menlo,'DejaVu Sans Mono',consolas,'Courier New',monospace\"><span style=\"color: #008000; text-decoration-color: #008000; font-weight: bold\">[</span><span style=\"color: #008000; text-decoration-color: #008000\">FETCH</span><span style=\"color: #008000; text-decoration-color: #008000; font-weight: bold\">]</span><span style=\"color: #008000; text-decoration-color: #008000\">... ↓ Raw HTML                                                                                             |</span>\n",
       "<span style=\"color: #008000; text-decoration-color: #008000\">✓ | ⏱: </span><span style=\"color: #008000; text-decoration-color: #008000; font-weight: bold\">0.</span><span style=\"color: #008000; text-decoration-color: #008000\">00s </span>\n",
       "</pre>\n"
      ],
      "text/plain": [
       "\u001b[1;32m[\u001b[0m\u001b[32mFETCH\u001b[0m\u001b[1;32m]\u001b[0m\u001b[32m...\u001b[0m\u001b[32m ↓ Raw HTML                                                                                             |\u001b[0m\n",
       "\u001b[32m✓\u001b[0m\u001b[32m | ⏱: \u001b[0m\u001b[1;32m0.\u001b[0m\u001b[32m00s \u001b[0m\n"
      ]
     },
     "metadata": {},
     "output_type": "display_data"
    },
    {
     "data": {
      "text/html": [
       "<pre style=\"white-space:pre;overflow-x:auto;line-height:normal;font-family:Menlo,'DejaVu Sans Mono',consolas,'Courier New',monospace\"><span style=\"color: #008000; text-decoration-color: #008000; font-weight: bold\">[</span><span style=\"color: #008000; text-decoration-color: #008000\">SCRAPE</span><span style=\"color: #008000; text-decoration-color: #008000; font-weight: bold\">]</span><span style=\"color: #008000; text-decoration-color: #008000\">.. ◆ Raw HTML                                                                                             |</span>\n",
       "<span style=\"color: #008000; text-decoration-color: #008000\">✓ | ⏱: </span><span style=\"color: #808000; text-decoration-color: #808000; font-weight: bold\">0.</span><span style=\"color: #808000; text-decoration-color: #808000\">0</span><span style=\"color: #008000; text-decoration-color: #008000\">0s </span>\n",
       "</pre>\n"
      ],
      "text/plain": [
       "\u001b[1;32m[\u001b[0m\u001b[32mSCRAPE\u001b[0m\u001b[1;32m]\u001b[0m\u001b[32m.. ◆ Raw HTML                                                                                             |\u001b[0m\n",
       "\u001b[32m✓\u001b[0m\u001b[32m | ⏱: \u001b[0m\u001b[1;33m0.\u001b[0m\u001b[33m0\u001b[0m\u001b[32m0s \u001b[0m\n"
      ]
     },
     "metadata": {},
     "output_type": "display_data"
    },
    {
     "data": {
      "text/html": [
       "<pre style=\"white-space:pre;overflow-x:auto;line-height:normal;font-family:Menlo,'DejaVu Sans Mono',consolas,'Courier New',monospace\"><span style=\"color: #008080; text-decoration-color: #008080; font-weight: bold\">[</span><span style=\"color: #008080; text-decoration-color: #008080\">EXTRACT</span><span style=\"color: #008080; text-decoration-color: #008080; font-weight: bold\">]</span><span style=\"color: #008080; text-decoration-color: #008080\">. ■ Completed for Raw HTML... | Time: </span><span style=\"color: #008080; text-decoration-color: #008080; font-weight: bold\">0.</span><span style=\"color: #008080; text-decoration-color: #008080\">0003912920001312159s </span>\n",
       "</pre>\n"
      ],
      "text/plain": [
       "\u001b[1;36m[\u001b[0m\u001b[36mEXTRACT\u001b[0m\u001b[1;36m]\u001b[0m\u001b[36m. ■ Completed for Raw HTML\u001b[0m\u001b[36m...\u001b[0m\u001b[36m | Time: \u001b[0m\u001b[1;36m0.\u001b[0m\u001b[36m0003912920001312159s \u001b[0m\n"
      ]
     },
     "metadata": {},
     "output_type": "display_data"
    },
    {
     "data": {
      "text/html": [
       "<pre style=\"white-space:pre;overflow-x:auto;line-height:normal;font-family:Menlo,'DejaVu Sans Mono',consolas,'Courier New',monospace\"><span style=\"color: #008000; text-decoration-color: #008000; font-weight: bold\">[</span><span style=\"color: #008000; text-decoration-color: #008000\">COMPLETE</span><span style=\"color: #008000; text-decoration-color: #008000; font-weight: bold\">]</span><span style=\"color: #008000; text-decoration-color: #008000\"> ● Raw HTML                                                                                             |</span>\n",
       "<span style=\"color: #008000; text-decoration-color: #008000\">✓ | ⏱: </span><span style=\"color: #008000; text-decoration-color: #008000; font-weight: bold\">0.</span><span style=\"color: #008000; text-decoration-color: #008000\">00s </span>\n",
       "</pre>\n"
      ],
      "text/plain": [
       "\u001b[1;32m[\u001b[0m\u001b[32mCOMPLETE\u001b[0m\u001b[1;32m]\u001b[0m\u001b[32m ● Raw HTML                                                                                             |\u001b[0m\n",
       "\u001b[32m✓\u001b[0m\u001b[32m | ⏱: \u001b[0m\u001b[1;32m0.\u001b[0m\u001b[32m00s \u001b[0m\n"
      ]
     },
     "metadata": {},
     "output_type": "display_data"
    },
    {
     "name": "stdout",
     "output_type": "stream",
     "text": [
      "=====lamma3.2產生的schema=========\n",
      "{'baseFields': [{'attribute': 'href',\n",
      "                 'name': 'data_href',\n",
      "                 'type': 'attribute'}],\n",
      " 'baseSelector': '.item',\n",
      " 'fields': [{'name': 'title', 'selector': 'h2', 'type': 'text'},\n",
      "            {'attribute': 'href',\n",
      "             'name': 'link',\n",
      "             'selector': 'a',\n",
      "             'type': 'attribute'}],\n",
      " 'name': 'Item List'}\n",
      "==========擷取結果==========\n",
      "[{'link': 'https://example.com/item1', 'title': 'Item 1'}]\n"
     ]
    }
   ],
   "source": [
    "from crawl4ai.extraction_strategy import JsonCssExtractionStrategy\n",
    "from crawl4ai import LLMConfig, AsyncWebCrawler,CacheMode,CrawlerRunConfig\n",
    "import json\n",
    "from pprint import pprint\n",
    "\n",
    "# Generate a schema (one-time cost)\n",
    "#html = \"<div class='product'><h2>Gaming Laptop</h2><span class='price'>$999.99</span></div>\"\n",
    "html = \"<div class='item'><h2>Item 1</h2><a href='https://example.com/item1'>Link 1</a></div>\"\n",
    "\n",
    "# Or using Ollama (open source, no token needed)\n",
    "schema = JsonCssExtractionStrategy.generate_schema(\n",
    "    html,\n",
    "    llm_config = LLMConfig(provider=\"ollama/llama3.2\", api_token=None)  # Not needed for Ollama\n",
    ")\n",
    "\n",
    "# Use the schema for fast, repeated extractions\n",
    "strategy = JsonCssExtractionStrategy(schema)\n",
    "\n",
    "#非常重要,一定要有CrawlerRunConfig的實體\n",
    "#一定要有extraction_strategy的引數名稱\n",
    "#不然使用result.extracted_content會是None\n",
    "\n",
    "config = CrawlerRunConfig(\n",
    "    cache_mode=CacheMode.BYPASS,\n",
    "    extraction_strategy=strategy\n",
    ")\n",
    "\n",
    "async with AsyncWebCrawler() as crawler:\n",
    "    result = await crawler.arun(\n",
    "        url = f\"raw://{html}\",\n",
    "        config=config\n",
    "    )\n",
    "\n",
    "    print(\"=====lamma3.2產生的schema=========\")\n",
    "    pprint(schema)\n",
    "    data = json.loads(result.extracted_content)\n",
    "    print(\"==========擷取結果==========\")\n",
    "    pprint(data)\n"
   ]
  },
  {
   "cell_type": "markdown",
   "id": "ec43aa62",
   "metadata": {},
   "source": [
    "### 2.使用gemini,apikey要下心,不要上傳至github\n",
    "    - **非常重要的觀念,做錯資料出不來**\n",
    "        - schema的dictionary要先做出來\n",
    "        - 然後再建立JsonCssExtractionStrategy\n",
    "        - 然後再建立CrawlerRunConfig\n",
    "        - arun(config=CrawlerRunConfig的實體)"
   ]
  },
  {
   "cell_type": "code",
   "execution_count": 31,
   "id": "a5935002",
   "metadata": {},
   "outputs": [
    {
     "data": {
      "text/html": [
       "<pre style=\"white-space:pre;overflow-x:auto;line-height:normal;font-family:Menlo,'DejaVu Sans Mono',consolas,'Courier New',monospace\"><span style=\"color: #008080; text-decoration-color: #008080; font-weight: bold\">[</span><span style=\"color: #008080; text-decoration-color: #008080\">INIT</span><span style=\"color: #008080; text-decoration-color: #008080; font-weight: bold\">]</span><span style=\"color: #008080; text-decoration-color: #008080\">.... → Crawl4AI </span><span style=\"color: #008080; text-decoration-color: #008080; font-weight: bold\">0.6</span><span style=\"color: #008080; text-decoration-color: #008080\">.</span><span style=\"color: #008080; text-decoration-color: #008080; font-weight: bold\">3</span><span style=\"color: #008080; text-decoration-color: #008080\"> </span>\n",
       "</pre>\n"
      ],
      "text/plain": [
       "\u001b[1;36m[\u001b[0m\u001b[36mINIT\u001b[0m\u001b[1;36m]\u001b[0m\u001b[36m...\u001b[0m\u001b[36m. → Crawl4AI \u001b[0m\u001b[1;36m0.6\u001b[0m\u001b[36m.\u001b[0m\u001b[1;36m3\u001b[0m\u001b[36m \u001b[0m\n"
      ]
     },
     "metadata": {},
     "output_type": "display_data"
    },
    {
     "data": {
      "text/html": [
       "<pre style=\"white-space:pre;overflow-x:auto;line-height:normal;font-family:Menlo,'DejaVu Sans Mono',consolas,'Courier New',monospace\"><span style=\"color: #008000; text-decoration-color: #008000; font-weight: bold\">[</span><span style=\"color: #008000; text-decoration-color: #008000\">FETCH</span><span style=\"color: #008000; text-decoration-color: #008000; font-weight: bold\">]</span><span style=\"color: #008000; text-decoration-color: #008000\">... ↓ Raw HTML                                                                                             |</span>\n",
       "<span style=\"color: #008000; text-decoration-color: #008000\">✓ | ⏱: </span><span style=\"color: #008000; text-decoration-color: #008000; font-weight: bold\">0.</span><span style=\"color: #008000; text-decoration-color: #008000\">00s </span>\n",
       "</pre>\n"
      ],
      "text/plain": [
       "\u001b[1;32m[\u001b[0m\u001b[32mFETCH\u001b[0m\u001b[1;32m]\u001b[0m\u001b[32m...\u001b[0m\u001b[32m ↓ Raw HTML                                                                                             |\u001b[0m\n",
       "\u001b[32m✓\u001b[0m\u001b[32m | ⏱: \u001b[0m\u001b[1;32m0.\u001b[0m\u001b[32m00s \u001b[0m\n"
      ]
     },
     "metadata": {},
     "output_type": "display_data"
    },
    {
     "data": {
      "text/html": [
       "<pre style=\"white-space:pre;overflow-x:auto;line-height:normal;font-family:Menlo,'DejaVu Sans Mono',consolas,'Courier New',monospace\"><span style=\"color: #008000; text-decoration-color: #008000; font-weight: bold\">[</span><span style=\"color: #008000; text-decoration-color: #008000\">SCRAPE</span><span style=\"color: #008000; text-decoration-color: #008000; font-weight: bold\">]</span><span style=\"color: #008000; text-decoration-color: #008000\">.. ◆ Raw HTML                                                                                             |</span>\n",
       "<span style=\"color: #008000; text-decoration-color: #008000\">✓ | ⏱: </span><span style=\"color: #008000; text-decoration-color: #008000; font-weight: bold\">0.</span><span style=\"color: #008000; text-decoration-color: #008000\">00s </span>\n",
       "</pre>\n"
      ],
      "text/plain": [
       "\u001b[1;32m[\u001b[0m\u001b[32mSCRAPE\u001b[0m\u001b[1;32m]\u001b[0m\u001b[32m.. ◆ Raw HTML                                                                                             |\u001b[0m\n",
       "\u001b[32m✓\u001b[0m\u001b[32m | ⏱: \u001b[0m\u001b[1;32m0.\u001b[0m\u001b[32m00s \u001b[0m\n"
      ]
     },
     "metadata": {},
     "output_type": "display_data"
    },
    {
     "data": {
      "text/html": [
       "<pre style=\"white-space:pre;overflow-x:auto;line-height:normal;font-family:Menlo,'DejaVu Sans Mono',consolas,'Courier New',monospace\"><span style=\"color: #008080; text-decoration-color: #008080; font-weight: bold\">[</span><span style=\"color: #008080; text-decoration-color: #008080\">EXTRACT</span><span style=\"color: #008080; text-decoration-color: #008080; font-weight: bold\">]</span><span style=\"color: #008080; text-decoration-color: #008080\">. ■ Completed for Raw HTML... | Time: </span><span style=\"color: #008080; text-decoration-color: #008080; font-weight: bold\">0.</span><span style=\"color: #008080; text-decoration-color: #008080\">00028570900030899793s </span>\n",
       "</pre>\n"
      ],
      "text/plain": [
       "\u001b[1;36m[\u001b[0m\u001b[36mEXTRACT\u001b[0m\u001b[1;36m]\u001b[0m\u001b[36m. ■ Completed for Raw HTML\u001b[0m\u001b[36m...\u001b[0m\u001b[36m | Time: \u001b[0m\u001b[1;36m0.\u001b[0m\u001b[36m00028570900030899793s \u001b[0m\n"
      ]
     },
     "metadata": {},
     "output_type": "display_data"
    },
    {
     "data": {
      "text/html": [
       "<pre style=\"white-space:pre;overflow-x:auto;line-height:normal;font-family:Menlo,'DejaVu Sans Mono',consolas,'Courier New',monospace\"><span style=\"color: #008000; text-decoration-color: #008000; font-weight: bold\">[</span><span style=\"color: #008000; text-decoration-color: #008000\">COMPLETE</span><span style=\"color: #008000; text-decoration-color: #008000; font-weight: bold\">]</span><span style=\"color: #008000; text-decoration-color: #008000\"> ● Raw HTML                                                                                             |</span>\n",
       "<span style=\"color: #008000; text-decoration-color: #008000\">✓ | ⏱: </span><span style=\"color: #008000; text-decoration-color: #008000; font-weight: bold\">0.</span><span style=\"color: #008000; text-decoration-color: #008000\">00s </span>\n",
       "</pre>\n"
      ],
      "text/plain": [
       "\u001b[1;32m[\u001b[0m\u001b[32mCOMPLETE\u001b[0m\u001b[1;32m]\u001b[0m\u001b[32m ● Raw HTML                                                                                             |\u001b[0m\n",
       "\u001b[32m✓\u001b[0m\u001b[32m | ⏱: \u001b[0m\u001b[1;32m0.\u001b[0m\u001b[32m00s \u001b[0m\n"
      ]
     },
     "metadata": {},
     "output_type": "display_data"
    },
    {
     "name": "stdout",
     "output_type": "stream",
     "text": [
      "======Gmini 自動產生的schema======\n",
      "{'name': 'Product Details', 'baseSelector': '.product', 'baseFields': [], 'fields': [{'name': 'title', 'selector': 'h2', 'type': 'text'}, {'name': 'price', 'selector': '.price', 'type': 'text'}]}\n",
      "=======取出的結果===========\n",
      "[{'title': 'Gaming Laptop', 'price': '$999.99'}]\n"
     ]
    }
   ],
   "source": [
    "from crawl4ai.extraction_strategy import JsonCssExtractionStrategy\n",
    "from crawl4ai import LLMConfig,CrawlerRunConfig\n",
    "from pprint import pprint\n",
    "\n",
    "# Generate a schema (one-time cost)\n",
    "html = \"\"\"\n",
    "<html>\n",
    "    <body>\n",
    "        <div class='product'>\n",
    "            <h2>Gaming Laptop</h2>\n",
    "            <span class='price'>$999.99</span>\n",
    "        </div>\n",
    "    <body>\n",
    "</html>\n",
    "\"\"\"\n",
    "\n",
    "# Using OpenAI (requires API token)\n",
    "\n",
    "schema = JsonCssExtractionStrategy.generate_schema(\n",
    "    html,\n",
    "    llm_config = LLMConfig(        \n",
    "        provider=\"gemini/gemini-2.5-flash\",\n",
    "        api_token=\"gemini api key\")  # Required for OpenAI\n",
    ")\n",
    "\n",
    "# 手動產生的schema\n",
    "# schema = {\n",
    "#     'name': 'Product Details',\n",
    "#     'baseSelector': '.product',\n",
    "#     'fields': [\n",
    "#         {'name': 'title', \n",
    "#          'selector': 'h2', \n",
    "#          'type': 'text'},\n",
    "#         {'name': 'price',\n",
    "#          'selector': '.price',\n",
    "#          'type': 'text'}]\n",
    "# }\n",
    "\n",
    "# Use the schema for fast, repeated extractions\n",
    "strategy = JsonCssExtractionStrategy(schema,verbose=True)\n",
    "\n",
    "#3. 設定爬蟲配置\n",
    "config = CrawlerRunConfig(\n",
    "    cache_mode = CacheMode.BYPASS,\n",
    "    extraction_strategy=strategy\n",
    ")\n",
    "async with AsyncWebCrawler() as crawler:\n",
    "    raw_url = f\"raw://{html}\"\n",
    "    result = await crawler.arun(\n",
    "        url = raw_url,\n",
    "        config=config\n",
    "    )\n",
    "    print(\"======Gmini 自動產生的schema======\")\n",
    "    print(schema)\n",
    "    print(\"=======取出的結果===========\")\n",
    "    data = json.loads(result.extracted_content)\n",
    "    print(data)"
   ]
  }
 ],
 "metadata": {
  "kernelspec": {
   "display_name": "web_crawler",
   "language": "python",
   "name": "python3"
  },
  "language_info": {
   "codemirror_mode": {
    "name": "ipython",
    "version": 3
   },
   "file_extension": ".py",
   "mimetype": "text/x-python",
   "name": "python",
   "nbconvert_exporter": "python",
   "pygments_lexer": "ipython3",
   "version": "3.11.13"
  }
 },
 "nbformat": 4,
 "nbformat_minor": 5
}
