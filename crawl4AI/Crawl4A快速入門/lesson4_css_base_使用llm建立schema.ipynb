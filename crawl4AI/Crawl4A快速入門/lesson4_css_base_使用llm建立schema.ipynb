{
 "cells": [
  {
   "cell_type": "markdown",
   "id": "d2eff98e",
   "metadata": {},
   "source": [
    "## 使用本地模型\n",
    "## 使用ollama的llama3.2"
   ]
  },
  {
   "cell_type": "code",
   "execution_count": 13,
   "id": "508efe6e",
   "metadata": {},
   "outputs": [],
   "source": [
    "from crawl4ai.extraction_strategy import JsonCssExtractionStrategy\n",
    "from crawl4ai import LLMConfig\n",
    "\n",
    "# Generate a schema (one-time cost)\n",
    "#html = \"<div class='product'><h2>Gaming Laptop</h2><span class='price'>$999.99</span></div>\"\n",
    "html = \"<div class='item'><h2>Item 1</h2><a href='https://example.com/item1'>Link 1</a></div>\"\n",
    "\n",
    "# Or using Ollama (open source, no token needed)\n",
    "schema = JsonCssExtractionStrategy.generate_schema(\n",
    "    html,\n",
    "    llm_config = LLMConfig(provider=\"ollama/llama3.2\", api_token=None)  # Not needed for Ollama\n",
    ")\n",
    "\n",
    "# Use the schema for fast, repeated extractions\n",
    "strategy = JsonCssExtractionStrategy(schema)"
   ]
  },
  {
   "cell_type": "code",
   "execution_count": 14,
   "id": "667117d4",
   "metadata": {},
   "outputs": [
    {
     "data": {
      "text/plain": [
       "{'name': 'Item List',\n",
       " 'baseSelector': '.item',\n",
       " 'baseFields': [{'name': 'data_href',\n",
       "   'type': 'attribute',\n",
       "   'attribute': 'href'}],\n",
       " 'fields': [{'name': 'title', 'selector': 'h2', 'type': 'text'},\n",
       "  {'name': 'link', 'selector': 'a', 'type': 'attribute', 'attribute': 'href'}]}"
      ]
     },
     "execution_count": 14,
     "metadata": {},
     "output_type": "execute_result"
    }
   ],
   "source": [
    "## 模型要大一點的\n",
    "schema"
   ]
  },
  {
   "cell_type": "code",
   "execution_count": null,
   "id": "a5935002",
   "metadata": {},
   "outputs": [],
   "source": [
    "from crawl4ai.extraction_strategy import JsonCssExtractionStrategy\n",
    "from crawl4ai import LLMConfig\n",
    "\n",
    "# Generate a schema (one-time cost)\n",
    "html = \"<div class='product'><h2>Gaming Laptop</h2><span class='price'>$999.99</span></div>\"\n",
    "\n",
    "# Using OpenAI (requires API token)\n",
    "schema = JsonCssExtractionStrategy.generate_schema(\n",
    "    html,\n",
    "    llm_config = LLMConfig(        \n",
    "        provider=\"gemini/gemini-2.5-flash\",\n",
    "        api_token=\"your-gemini-token\")  # Required for OpenAI\n",
    ")\n",
    "# Use the schema for fast, repeated extractions\n",
    "strategy = JsonCssExtractionStrategy(schema)"
   ]
  }
 ],
 "metadata": {
  "kernelspec": {
   "display_name": "web_crawler",
   "language": "python",
   "name": "python3"
  },
  "language_info": {
   "codemirror_mode": {
    "name": "ipython",
    "version": 3
   },
   "file_extension": ".py",
   "mimetype": "text/x-python",
   "name": "python",
   "nbconvert_exporter": "python",
   "pygments_lexer": "ipython3",
   "version": "3.11.13"
  }
 },
 "nbformat": 4,
 "nbformat_minor": 5
}
