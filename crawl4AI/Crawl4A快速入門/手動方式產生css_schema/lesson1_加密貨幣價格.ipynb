{
 "cells": [
  {
   "cell_type": "code",
   "execution_count": 2,
   "id": "8537fe1c",
   "metadata": {},
   "outputs": [
    {
     "data": {
      "text/html": [
       "<pre style=\"white-space:pre;overflow-x:auto;line-height:normal;font-family:Menlo,'DejaVu Sans Mono',consolas,'Courier New',monospace\"><span style=\"color: #008080; text-decoration-color: #008080; font-weight: bold\">[</span><span style=\"color: #008080; text-decoration-color: #008080\">INIT</span><span style=\"color: #008080; text-decoration-color: #008080; font-weight: bold\">]</span><span style=\"color: #008080; text-decoration-color: #008080\">.... → Crawl4AI </span><span style=\"color: #008080; text-decoration-color: #008080; font-weight: bold\">0.6</span><span style=\"color: #008080; text-decoration-color: #008080\">.</span><span style=\"color: #008080; text-decoration-color: #008080; font-weight: bold\">3</span><span style=\"color: #008080; text-decoration-color: #008080\"> </span>\n",
       "</pre>\n"
      ],
      "text/plain": [
       "\u001b[1;36m[\u001b[0m\u001b[36mINIT\u001b[0m\u001b[1;36m]\u001b[0m\u001b[36m...\u001b[0m\u001b[36m. → Crawl4AI \u001b[0m\u001b[1;36m0.6\u001b[0m\u001b[36m.\u001b[0m\u001b[1;36m3\u001b[0m\u001b[36m \u001b[0m\n"
      ]
     },
     "metadata": {},
     "output_type": "display_data"
    },
    {
     "data": {
      "text/html": [
       "<pre style=\"white-space:pre;overflow-x:auto;line-height:normal;font-family:Menlo,'DejaVu Sans Mono',consolas,'Courier New',monospace\"><span style=\"color: #008000; text-decoration-color: #008000; font-weight: bold\">[</span><span style=\"color: #008000; text-decoration-color: #008000\">FETCH</span><span style=\"color: #008000; text-decoration-color: #008000; font-weight: bold\">]</span><span style=\"color: #008000; text-decoration-color: #008000\">... ↓ Raw HTML                                                                                             |</span>\n",
       "<span style=\"color: #008000; text-decoration-color: #008000\">✓ | ⏱: </span><span style=\"color: #008000; text-decoration-color: #008000; font-weight: bold\">0.</span><span style=\"color: #008000; text-decoration-color: #008000\">00s </span>\n",
       "</pre>\n"
      ],
      "text/plain": [
       "\u001b[1;32m[\u001b[0m\u001b[32mFETCH\u001b[0m\u001b[1;32m]\u001b[0m\u001b[32m...\u001b[0m\u001b[32m ↓ Raw HTML                                                                                             |\u001b[0m\n",
       "\u001b[32m✓\u001b[0m\u001b[32m | ⏱: \u001b[0m\u001b[1;32m0.\u001b[0m\u001b[32m00s \u001b[0m\n"
      ]
     },
     "metadata": {},
     "output_type": "display_data"
    },
    {
     "data": {
      "text/html": [
       "<pre style=\"white-space:pre;overflow-x:auto;line-height:normal;font-family:Menlo,'DejaVu Sans Mono',consolas,'Courier New',monospace\"><span style=\"color: #008000; text-decoration-color: #008000; font-weight: bold\">[</span><span style=\"color: #008000; text-decoration-color: #008000\">SCRAPE</span><span style=\"color: #008000; text-decoration-color: #008000; font-weight: bold\">]</span><span style=\"color: #008000; text-decoration-color: #008000\">.. ◆ Raw HTML                                                                                             |</span>\n",
       "<span style=\"color: #008000; text-decoration-color: #008000\">✓ | ⏱: </span><span style=\"color: #808000; text-decoration-color: #808000; font-weight: bold\">0.</span><span style=\"color: #808000; text-decoration-color: #808000\">0</span><span style=\"color: #008000; text-decoration-color: #008000\">0s </span>\n",
       "</pre>\n"
      ],
      "text/plain": [
       "\u001b[1;32m[\u001b[0m\u001b[32mSCRAPE\u001b[0m\u001b[1;32m]\u001b[0m\u001b[32m.. ◆ Raw HTML                                                                                             |\u001b[0m\n",
       "\u001b[32m✓\u001b[0m\u001b[32m | ⏱: \u001b[0m\u001b[1;33m0.\u001b[0m\u001b[33m0\u001b[0m\u001b[32m0s \u001b[0m\n"
      ]
     },
     "metadata": {},
     "output_type": "display_data"
    },
    {
     "data": {
      "text/html": [
       "<pre style=\"white-space:pre;overflow-x:auto;line-height:normal;font-family:Menlo,'DejaVu Sans Mono',consolas,'Courier New',monospace\"><span style=\"color: #008080; text-decoration-color: #008080; font-weight: bold\">[</span><span style=\"color: #008080; text-decoration-color: #008080\">EXTRACT</span><span style=\"color: #008080; text-decoration-color: #008080; font-weight: bold\">]</span><span style=\"color: #008080; text-decoration-color: #008080\">. ■ Completed for Raw HTML... | Time: </span><span style=\"color: #008080; text-decoration-color: #008080; font-weight: bold\">0.</span><span style=\"color: #008080; text-decoration-color: #008080\">0005681250004272442s </span>\n",
       "</pre>\n"
      ],
      "text/plain": [
       "\u001b[1;36m[\u001b[0m\u001b[36mEXTRACT\u001b[0m\u001b[1;36m]\u001b[0m\u001b[36m. ■ Completed for Raw HTML\u001b[0m\u001b[36m...\u001b[0m\u001b[36m | Time: \u001b[0m\u001b[1;36m0.\u001b[0m\u001b[36m0005681250004272442s \u001b[0m\n"
      ]
     },
     "metadata": {},
     "output_type": "display_data"
    },
    {
     "data": {
      "text/html": [
       "<pre style=\"white-space:pre;overflow-x:auto;line-height:normal;font-family:Menlo,'DejaVu Sans Mono',consolas,'Courier New',monospace\"><span style=\"color: #008000; text-decoration-color: #008000; font-weight: bold\">[</span><span style=\"color: #008000; text-decoration-color: #008000\">COMPLETE</span><span style=\"color: #008000; text-decoration-color: #008000; font-weight: bold\">]</span><span style=\"color: #008000; text-decoration-color: #008000\"> ● Raw HTML                                                                                             |</span>\n",
       "<span style=\"color: #008000; text-decoration-color: #008000\">✓ | ⏱: </span><span style=\"color: #008000; text-decoration-color: #008000; font-weight: bold\">0.</span><span style=\"color: #008000; text-decoration-color: #008000\">00s </span>\n",
       "</pre>\n"
      ],
      "text/plain": [
       "\u001b[1;32m[\u001b[0m\u001b[32mCOMPLETE\u001b[0m\u001b[1;32m]\u001b[0m\u001b[32m ● Raw HTML                                                                                             |\u001b[0m\n",
       "\u001b[32m✓\u001b[0m\u001b[32m | ⏱: \u001b[0m\u001b[1;32m0.\u001b[0m\u001b[32m00s \u001b[0m\n"
      ]
     },
     "metadata": {},
     "output_type": "display_data"
    },
    {
     "name": "stdout",
     "output_type": "stream",
     "text": [
      "Extracted 2 coin entries\n",
      "{\n",
      "  \"coin_name\": \"Bitcoin\",\n",
      "  \"price\": \"$28,000\"\n",
      "}\n"
     ]
    }
   ],
   "source": [
    "import json\n",
    "import asyncio\n",
    "from crawl4ai import AsyncWebCrawler, CrawlerRunConfig, CacheMode\n",
    "from crawl4ai.extraction_strategy import JsonCssExtractionStrategy\n",
    "\n",
    "async def extract_crypto_prices():\n",
    "    dummy_html = \"\"\"\n",
    "    <html>\n",
    "      <body>\n",
    "        <div class='crypto-row'>\n",
    "          <h2 class='coin-name'>Bitcoin</h2>\n",
    "          <span class='coin-price'>$28,000</span>\n",
    "        </div>\n",
    "        <div class='crypto-row'>\n",
    "          <h2 class='coin-name'>Ethereum</h2>\n",
    "          <span class='coin-price'>$1,800</span>\n",
    "        </div>\n",
    "      </body>\n",
    "    </html>\n",
    "    \"\"\"\n",
    "    #1. 定義一個簡單的extraction schema\n",
    "    schema = {\n",
    "        \"name\":\"Crypto Prices\",\n",
    "        \"baseSelector\": \"div.crypto-row\",\n",
    "        \"fields\":[\n",
    "            {\n",
    "                \"name\": \"coin_name\",\n",
    "                \"selector\": \"h2.coin-name\",\n",
    "                \"type\":\"text\"\n",
    "            },\n",
    "            {\n",
    "                \"name\":\"price\",\n",
    "                \"selector\":\"span.coin-price\",\n",
    "                \"type\":\"text\"\n",
    "            }\n",
    "        ]\n",
    "    }\n",
    "\n",
    "    #2. 建立extraction strategy\n",
    "    extraction_strategy = JsonCssExtractionStrategy(schema, verbose=True) #Enables verbose logging for debugging purposes.\n",
    "\n",
    "    #3. 設定爬蟲配置\n",
    "    config = CrawlerRunConfig(\n",
    "        cache_mode = CacheMode.BYPASS,\n",
    "        extraction_strategy=extraction_strategy\n",
    "    )\n",
    "\n",
    "    async with AsyncWebCrawler(verbose=True) as crawler:\n",
    "        #4. 執行爬蟲和提取任務\n",
    "        raw_url = f\"raw://{dummy_html}\"\n",
    "        result = await crawler.arun(\n",
    "            url=raw_url,\n",
    "            config=config\n",
    "        )\n",
    "\n",
    "        if not result.success:\n",
    "            print(\"Crawl failed:\", result.error_message)\n",
    "            return\n",
    "        \n",
    "        # 5. 解析被提取的json資料\n",
    "        data = json.loads(result.extracted_content)\n",
    "        print(f\"Extracted {len(data)} coin entries\")\n",
    "        print(json.dumps(data[0], indent=2) if data else \"No Data found\")\n",
    "\n",
    "await extract_crypto_prices()"
   ]
  },
  {
   "cell_type": "markdown",
   "id": "2d099453",
   "metadata": {},
   "source": [
    "### 使用台灣銀行牌告匯率\n",
    "- 網址:https://rate.bot.com.tw/xrt?Lang=zh-TW"
   ]
  },
  {
   "cell_type": "code",
   "execution_count": 9,
   "id": "7af50ba5",
   "metadata": {},
   "outputs": [
    {
     "data": {
      "text/html": [
       "<pre style=\"white-space:pre;overflow-x:auto;line-height:normal;font-family:Menlo,'DejaVu Sans Mono',consolas,'Courier New',monospace\"><span style=\"color: #008080; text-decoration-color: #008080; font-weight: bold\">[</span><span style=\"color: #008080; text-decoration-color: #008080\">INIT</span><span style=\"color: #008080; text-decoration-color: #008080; font-weight: bold\">]</span><span style=\"color: #008080; text-decoration-color: #008080\">.... → Crawl4AI </span><span style=\"color: #008080; text-decoration-color: #008080; font-weight: bold\">0.6</span><span style=\"color: #008080; text-decoration-color: #008080\">.</span><span style=\"color: #008080; text-decoration-color: #008080; font-weight: bold\">3</span><span style=\"color: #008080; text-decoration-color: #008080\"> </span>\n",
       "</pre>\n"
      ],
      "text/plain": [
       "\u001b[1;36m[\u001b[0m\u001b[36mINIT\u001b[0m\u001b[1;36m]\u001b[0m\u001b[36m...\u001b[0m\u001b[36m. → Crawl4AI \u001b[0m\u001b[1;36m0.6\u001b[0m\u001b[36m.\u001b[0m\u001b[1;36m3\u001b[0m\u001b[36m \u001b[0m\n"
      ]
     },
     "metadata": {},
     "output_type": "display_data"
    },
    {
     "data": {
      "text/html": [
       "<pre style=\"white-space:pre;overflow-x:auto;line-height:normal;font-family:Menlo,'DejaVu Sans Mono',consolas,'Courier New',monospace\"><span style=\"color: #008000; text-decoration-color: #008000; font-weight: bold\">[</span><span style=\"color: #008000; text-decoration-color: #008000\">FETCH</span><span style=\"color: #008000; text-decoration-color: #008000; font-weight: bold\">]</span><span style=\"color: #008000; text-decoration-color: #008000\">... ↓ </span><span style=\"color: #008000; text-decoration-color: #008000; text-decoration: underline\">https://rate.bot.com.tw/xrt?Lang=zh-TW</span><span style=\"color: #008000; text-decoration-color: #008000\">                                                               |</span>\n",
       "<span style=\"color: #008000; text-decoration-color: #008000\">✓ | ⏱: </span><span style=\"color: #008000; text-decoration-color: #008000; font-weight: bold\">0.</span><span style=\"color: #008000; text-decoration-color: #008000\">60s </span>\n",
       "</pre>\n"
      ],
      "text/plain": [
       "\u001b[1;32m[\u001b[0m\u001b[32mFETCH\u001b[0m\u001b[1;32m]\u001b[0m\u001b[32m...\u001b[0m\u001b[32m ↓ \u001b[0m\u001b[4;32mhttps://rate.bot.com.tw/xrt?\u001b[0m\u001b[4;32mLang\u001b[0m\u001b[4;32m=\u001b[0m\u001b[4;32mzh\u001b[0m\u001b[4;32m-TW\u001b[0m\u001b[32m                                                               |\u001b[0m\n",
       "\u001b[32m✓\u001b[0m\u001b[32m | ⏱: \u001b[0m\u001b[1;32m0.\u001b[0m\u001b[32m60s \u001b[0m\n"
      ]
     },
     "metadata": {},
     "output_type": "display_data"
    },
    {
     "data": {
      "text/html": [
       "<pre style=\"white-space:pre;overflow-x:auto;line-height:normal;font-family:Menlo,'DejaVu Sans Mono',consolas,'Courier New',monospace\"><span style=\"color: #008000; text-decoration-color: #008000; font-weight: bold\">[</span><span style=\"color: #008000; text-decoration-color: #008000\">SCRAPE</span><span style=\"color: #008000; text-decoration-color: #008000; font-weight: bold\">]</span><span style=\"color: #008000; text-decoration-color: #008000\">.. ◆ </span><span style=\"color: #008000; text-decoration-color: #008000; text-decoration: underline\">https://rate.bot.com.tw/xrt?Lang=zh-TW</span><span style=\"color: #008000; text-decoration-color: #008000\">                                                               |</span>\n",
       "<span style=\"color: #008000; text-decoration-color: #008000\">✓ | ⏱: </span><span style=\"color: #008000; text-decoration-color: #008000; font-weight: bold\">0.</span><span style=\"color: #008000; text-decoration-color: #008000\">03s </span>\n",
       "</pre>\n"
      ],
      "text/plain": [
       "\u001b[1;32m[\u001b[0m\u001b[32mSCRAPE\u001b[0m\u001b[1;32m]\u001b[0m\u001b[32m.. ◆ \u001b[0m\u001b[4;32mhttps://rate.bot.com.tw/xrt?\u001b[0m\u001b[4;32mLang\u001b[0m\u001b[4;32m=\u001b[0m\u001b[4;32mzh\u001b[0m\u001b[4;32m-TW\u001b[0m\u001b[32m                                                               |\u001b[0m\n",
       "\u001b[32m✓\u001b[0m\u001b[32m | ⏱: \u001b[0m\u001b[1;32m0.\u001b[0m\u001b[32m03s \u001b[0m\n"
      ]
     },
     "metadata": {},
     "output_type": "display_data"
    },
    {
     "data": {
      "text/html": [
       "<pre style=\"white-space:pre;overflow-x:auto;line-height:normal;font-family:Menlo,'DejaVu Sans Mono',consolas,'Courier New',monospace\"><span style=\"color: #008080; text-decoration-color: #008080; font-weight: bold\">[</span><span style=\"color: #008080; text-decoration-color: #008080\">EXTRACT</span><span style=\"color: #008080; text-decoration-color: #008080; font-weight: bold\">]</span><span style=\"color: #008080; text-decoration-color: #008080\">. ■ Completed for </span><span style=\"color: #008080; text-decoration-color: #008080; text-decoration: underline\">https://rate.bot.com.tw/xrt?Lang=zh-TW...</span><span style=\"color: #008080; text-decoration-color: #008080\"> | Time: </span><span style=\"color: #008080; text-decoration-color: #008080; font-weight: bold\">0.</span><span style=\"color: #008080; text-decoration-color: #008080\">009895874999529042s </span>\n",
       "</pre>\n"
      ],
      "text/plain": [
       "\u001b[1;36m[\u001b[0m\u001b[36mEXTRACT\u001b[0m\u001b[1;36m]\u001b[0m\u001b[36m. ■ Completed for \u001b[0m\u001b[4;36mhttps://rate.bot.com.tw/xrt?\u001b[0m\u001b[4;36mLang\u001b[0m\u001b[4;36m=\u001b[0m\u001b[4;36mzh\u001b[0m\u001b[4;36m-TW...\u001b[0m\u001b[36m | Time: \u001b[0m\u001b[1;36m0.\u001b[0m\u001b[36m009895874999529042s \u001b[0m\n"
      ]
     },
     "metadata": {},
     "output_type": "display_data"
    },
    {
     "data": {
      "text/html": [
       "<pre style=\"white-space:pre;overflow-x:auto;line-height:normal;font-family:Menlo,'DejaVu Sans Mono',consolas,'Courier New',monospace\"><span style=\"color: #008000; text-decoration-color: #008000; font-weight: bold\">[</span><span style=\"color: #008000; text-decoration-color: #008000\">COMPLETE</span><span style=\"color: #008000; text-decoration-color: #008000; font-weight: bold\">]</span><span style=\"color: #008000; text-decoration-color: #008000\"> ● </span><span style=\"color: #008000; text-decoration-color: #008000; text-decoration: underline\">https://rate.bot.com.tw/xrt?Lang=zh-TW</span><span style=\"color: #008000; text-decoration-color: #008000\">                                                               |</span>\n",
       "<span style=\"color: #008000; text-decoration-color: #008000\">✓ | ⏱: </span><span style=\"color: #008000; text-decoration-color: #008000; font-weight: bold\">0.</span><span style=\"color: #008000; text-decoration-color: #008000\">64s </span>\n",
       "</pre>\n"
      ],
      "text/plain": [
       "\u001b[1;32m[\u001b[0m\u001b[32mCOMPLETE\u001b[0m\u001b[1;32m]\u001b[0m\u001b[32m ● \u001b[0m\u001b[4;32mhttps://rate.bot.com.tw/xrt?\u001b[0m\u001b[4;32mLang\u001b[0m\u001b[4;32m=\u001b[0m\u001b[4;32mzh\u001b[0m\u001b[4;32m-TW\u001b[0m\u001b[32m                                                               |\u001b[0m\n",
       "\u001b[32m✓\u001b[0m\u001b[32m | ⏱: \u001b[0m\u001b[1;32m0.\u001b[0m\u001b[32m64s \u001b[0m\n"
      ]
     },
     "metadata": {},
     "output_type": "display_data"
    },
    {
     "name": "stdout",
     "output_type": "stream",
     "text": [
      "Extracted 19 coin entries\n",
      "[\n",
      "  {\n",
      "    \"幣別\": \"美金 (USD)\",\n",
      "    \"現金匯率_本行買入\": \"28.77\",\n",
      "    \"現金匯率_本行賣出\": \"29.44\",\n",
      "    \"即期匯率_本行買入\": \"29.22\"\n",
      "  },\n",
      "  {\n",
      "    \"幣別\": \"港幣 (HKD)\",\n",
      "    \"現金匯率_本行買入\": \"3.56\",\n",
      "    \"現金匯率_本行賣出\": \"3.764\",\n",
      "    \"即期匯率_本行買入\": \"3.746\"\n",
      "  },\n",
      "  {\n",
      "    \"幣別\": \"英鎊 (GBP)\",\n",
      "    \"現金匯率_本行買入\": \"38.78\",\n",
      "    \"現金匯率_本行賣出\": \"40.9\",\n",
      "    \"即期匯率_本行買入\": \"40.19\"\n",
      "  },\n",
      "  {\n",
      "    \"幣別\": \"澳幣 (AUD)\",\n",
      "    \"現金匯率_本行買入\": \"18.64\",\n",
      "    \"現金匯率_本行賣出\": \"19.42\",\n",
      "    \"即期匯率_本行買入\": \"19.13\"\n",
      "  },\n",
      "  {\n",
      "    \"幣別\": \"加拿大幣 (CAD)\",\n",
      "    \"現金匯率_本行買入\": \"20.77\",\n",
      "    \"現金匯率_本行賣出\": \"21.68\",\n",
      "    \"即期匯率_本行買入\": \"21.37\"\n",
      "  },\n",
      "  {\n",
      "    \"幣別\": \"新加坡幣 (SGD)\",\n",
      "    \"現金匯率_本行買入\": \"22.3\",\n",
      "    \"現金匯率_本行賣出\": \"23.21\",\n",
      "    \"即期匯率_本行買入\": \"22.97\"\n",
      "  },\n",
      "  {\n",
      "    \"幣別\": \"瑞士法郎 (CHF)\",\n",
      "    \"現金匯率_本行買入\": \"35.48\",\n",
      "    \"現金匯率_本行賣出\": \"36.68\",\n",
      "    \"即期匯率_本行買入\": \"36.41\"\n",
      "  },\n",
      "  {\n",
      "    \"幣別\": \"日圓 (JPY)\",\n",
      "    \"現金匯率_本行買入\": \"0.1926\",\n",
      "    \"現金匯率_本行賣出\": \"0.2054\",\n",
      "    \"即期匯率_本行買入\": \"0.2039\"\n",
      "  },\n",
      "  {\n",
      "    \"幣別\": \"南非幣 (ZAR)\",\n",
      "    \"現金匯率_本行買入\": \"-\",\n",
      "    \"現金匯率_本行賣出\": \"-\",\n",
      "    \"即期匯率_本行買入\": \"1.687\"\n",
      "  },\n",
      "  {\n",
      "    \"幣別\": \"瑞典幣 (SEK)\",\n",
      "    \"現金匯率_本行買入\": \"-\",\n",
      "    \"現金匯率_本行賣出\": \"-\",\n",
      "    \"即期匯率_本行買入\": \"3.14\"\n",
      "  },\n",
      "  {\n",
      "    \"幣別\": \"紐元 (NZD)\",\n",
      "    \"現金匯率_本行買入\": \"17.17\",\n",
      "    \"現金匯率_本行賣出\": \"18.02\",\n",
      "    \"即期匯率_本行買入\": \"17.75\"\n",
      "  },\n",
      "  {\n",
      "    \"幣別\": \"泰幣 (THB)\",\n",
      "    \"現金匯率_本行買入\": \"0.7714\",\n",
      "    \"現金匯率_本行賣出\": \"0.9614\",\n",
      "    \"即期匯率_本行買入\": \"0.9248\"\n",
      "  },\n",
      "  {\n",
      "    \"幣別\": \"菲國比索 (PHP)\",\n",
      "    \"現金匯率_本行買入\": \"0.4492\",\n",
      "    \"現金匯率_本行賣出\": \"0.5812\",\n",
      "    \"即期匯率_本行買入\": \"-\"\n",
      "  },\n",
      "  {\n",
      "    \"幣別\": \"印尼幣 (IDR)\",\n",
      "    \"現金匯率_本行買入\": \"0.00143\",\n",
      "    \"現金匯率_本行賣出\": \"0.00213\",\n",
      "    \"即期匯率_本行買入\": \"-\"\n",
      "  },\n",
      "  {\n",
      "    \"幣別\": \"歐元 (EUR)\",\n",
      "    \"現金匯率_本行買入\": \"33.24\",\n",
      "    \"現金匯率_本行賣出\": \"34.58\",\n",
      "    \"即期匯率_本行買入\": \"34.26\"\n",
      "  },\n",
      "  {\n",
      "    \"幣別\": \"韓元 (KRW)\",\n",
      "    \"現金匯率_本行買入\": \"0.01976\",\n",
      "    \"現金匯率_本行賣出\": \"0.02366\",\n",
      "    \"即期匯率_本行買入\": \"-\"\n",
      "  },\n",
      "  {\n",
      "    \"幣別\": \"越南盾 (VND)\",\n",
      "    \"現金匯率_本行買入\": \"0.00089\",\n",
      "    \"現金匯率_本行賣出\": \"0.0013\",\n",
      "    \"即期匯率_本行買入\": \"-\"\n",
      "  },\n",
      "  {\n",
      "    \"幣別\": \"馬來幣 (MYR)\",\n",
      "    \"現金匯率_本行買入\": \"5.875\",\n",
      "    \"現金匯率_本行賣出\": \"7.4\",\n",
      "    \"即期匯率_本行買入\": \"-\"\n",
      "  },\n",
      "  {\n",
      "    \"幣別\": \"人民幣 (CNY)\",\n",
      "    \"現金匯率_本行買入\": \"3.975\",\n",
      "    \"現金匯率_本行賣出\": \"4.137\",\n",
      "    \"即期匯率_本行買入\": \"4.097\"\n",
      "  }\n",
      "]\n"
     ]
    }
   ],
   "source": [
    "import json\n",
    "\n",
    "from crawl4ai import AsyncWebCrawler, CrawlerRunConfig, CacheMode\n",
    "from crawl4ai.extraction_strategy import JsonCssExtractionStrategy\n",
    "\n",
    "async def extract_crypto_prices():\n",
    "#1. 定義一個簡單的extraction schema\n",
    "\n",
    "    schema = {\n",
    "        \"name\":\"台幣匯率\",\n",
    "        \"baseSelector\": \"#ie11andabove > div > table > tbody > tr\",\n",
    "        \"fields\":[\n",
    "            {\n",
    "                \"name\": \"幣別\",\n",
    "                \"selector\": 'td[data-table=\"幣別\"] div.hidden-phone.print_show.xrt-cur-indent',\n",
    "                \"type\":\"text\"\n",
    "            },\n",
    "            {\n",
    "                \"name\":\"現金匯率_本行買入\",\n",
    "                \"selector\":'[data-table=\"本行現金買入\"]',\n",
    "                \"type\":\"text\"\n",
    "            },\n",
    "            {\n",
    "                \"name\":\"現金匯率_本行賣出\",\n",
    "                \"selector\":'[data-table=\"本行現金賣出\"]',\n",
    "                \"type\":\"text\"\n",
    "            },\n",
    "            {\n",
    "                \"name\":\"即期匯率_本行買入\",\n",
    "                \"selector\":'[data-table=\"本行即期買入\"]',\n",
    "                \"type\":\"text\"\n",
    "            },\n",
    "            {\n",
    "                \"name\":\"即期匯率_本行買入\",\n",
    "                \"selector\":'[data-table=\"本行即期賣出\"]',\n",
    "                \"type\":\"text\"\n",
    "            }\n",
    "        ]\n",
    "    }\n",
    "\n",
    "    #2. 建立extraction strategy\n",
    "    extraction_strategy = JsonCssExtractionStrategy(schema, verbose=True) #Enables verbose logging for debugging purposes.\n",
    "\n",
    "    #3. 設定爬蟲配置\n",
    "    config = CrawlerRunConfig(\n",
    "        cache_mode = CacheMode.BYPASS,\n",
    "        extraction_strategy=extraction_strategy\n",
    "    )\n",
    "\n",
    "    async with AsyncWebCrawler(verbose=True) as crawler:\n",
    "        #4. 執行爬蟲和提取任務\n",
    "        raw_url = 'https://rate.bot.com.tw/xrt?Lang=zh-TW'\n",
    "        result = await crawler.arun(\n",
    "            url=raw_url,\n",
    "            config=config\n",
    "        )\n",
    "\n",
    "        if not result.success:\n",
    "            print(\"Crawl failed:\", result.error_message)\n",
    "            return\n",
    "        \n",
    "        # 5. 解析被提取的json資料\n",
    "        data = json.loads(result.extracted_content)\n",
    "        print(f\"Extracted {len(data)} coin entries\")\n",
    "        print(json.dumps(data, indent=2,ensure_ascii=False) if data else \"No Data found\")\n",
    "\n",
    "await extract_crypto_prices()"
   ]
  }
 ],
 "metadata": {
  "kernelspec": {
   "display_name": "web_crawler",
   "language": "python",
   "name": "python3"
  },
  "language_info": {
   "codemirror_mode": {
    "name": "ipython",
    "version": 3
   },
   "file_extension": ".py",
   "mimetype": "text/x-python",
   "name": "python",
   "nbconvert_exporter": "python",
   "pygments_lexer": "ipython3",
   "version": "3.11.13"
  }
 },
 "nbformat": 4,
 "nbformat_minor": 5
}
