{
 "cells": [
  {
   "cell_type": "markdown",
   "id": "e8a1b2c3",
   "metadata": {},
   "source": [
    "# 範例：教學示範 `nested`, `list`, `nested_list`\n",
    "\n",
    "這個筆記本旨在清楚地展示 `crawl4ai` 中 `JsonCssExtractionStrategy` 的三種主要嵌套和列表提取類型：\n",
    "\n",
    "1.  `type: \"nested\"`\n",
    "    -   **用途**：當您想從一個父元素中提取一個「單一的」子物件時使用。\n",
    "    -   **範例**：一個產品只有一組「產品資訊」（品牌和型號）。\n",
    "    -   **結果**：一個 JSON 物件 `{}`。\n",
    "\n",
    "2.  `type: \"list\"`\n",
    "    -   **用途**：當您想從多個符合選擇器的元素中提取一個「簡單的」值列表時使用。\n",
    "    -   **範例**：一個產品有多個 `<li>` 特色功能，我們只想把每個 `<li>` 的文字變成一個列表。\n",
    "    -   **結果**：一個 JSON 陣列 `[]`，裡面是字串或簡單值。\n",
    "\n",
    "3.  `type: \"nested_list\"`\n",
    "    -   **用途**：這是最常用的類型，當您想提取一個「物件列表」時使用。每個物件都有自己的一組欄位。\n",
    "    -   **範例**：一個分類下有多個「產品」，每個產品都有名稱、價格、評論等。或者一個產品下有多筆「評論」，每筆評論都有評論者、評分和內容。\n",
    "    -   **結果**：一個 JSON 陣列 `[]`，裡面是完整的 JSON 物件 `{}`。"
   ]
  },
  {
   "cell_type": "code",
   "execution_count": 1,
   "id": "a1b2c3d4",
   "metadata": {},
   "outputs": [],
   "source": [
    "dummy_html = \"\"\"\n",
    "<!DOCTYPE html>\n",
    "<html lang=\"zh-Hant\">\n",
    "<head>\n",
    "    <meta charset=\"UTF-8\">\n",
    "    <title>電子商務產品目錄範例</title>\n",
    "</head>\n",
    "<body>\n",
    "    <div class=\"category\" data-cat-id=\"cat-001\">\n",
    "        <h2 class=\"category-name\">3C電子產品</h2>\n",
    "        \n",
    "        <!-- 產品 1 -->\n",
    "        <div class=\"product\">\n",
    "            <h3 class=\"product-name\">無線藍牙耳機 Pro</h3>\n",
    "            <p class=\"product-price\">NT$ 2,980</p>\n",
    "            \n",
    "            <div class=\"product-details\">\n",
    "                <span class=\"brand\">品牌: SoundMax</span>\n",
    "                <span class=\"model\">型號: SM-BT500</span>\n",
    "            </div>\n",
    "            \n",
    "            <ul class=\"product-features\">\n",
    "                <li>主動降噪功能</li>\n",
    "                <li>續航力30小時</li>\n",
    "                <li>IPX7防水等級</li>\n",
    "            </ul>\n",
    "            \n",
    "            <div class=\"review\">\n",
    "                <span class=\"reviewer\">張先生</span>\n",
    "                <span class=\"rating\">★★★★☆ (4.5)</span>\n",
    "                <p class=\"review-text\">降噪效果非常好，長時間佩戴也很舒適</p>\n",
    "            </div>\n",
    "            \n",
    "            <div class=\"review\">\n",
    "                <span class=\"reviewer\">王小姐</span>\n",
    "                <span class=\"rating\">★★★★★ (5.0)</span>\n",
    "                <p class=\"review-text\">音質超出預期，CP值很高</p>\n",
    "            </div>\n",
    "        </div>\n",
    "        \n",
    "        <!-- 產品 2 -->\n",
    "        <div class=\"product\">\n",
    "            <h3 class=\"product-name\">智能運動手環</h3>\n",
    "            <p class=\"product-price\">NT$ 1,580</p>\n",
    "            \n",
    "            <div class=\"product-details\">\n",
    "                <span class=\"brand\">品牌: FitLife</span>\n",
    "                <span class=\"model\">型號: FL-2023</span>\n",
    "            </div>\n",
    "            \n",
    "            <ul class=\"product-features\">\n",
    "                <li>24小時心率監測</li>\n",
    "                <li>睡眠品質分析</li>\n",
    "            </ul>\n",
    "        </div>\n",
    "    </div>\n",
    "</body>\n",
    "</html>\n",
    "\"\"\""
   ]
  },
  {
   "cell_type": "code",
   "execution_count": 2,
   "id": "b2c3d4e5",
   "metadata": {},
   "outputs": [],
   "source": [
    "schema ={\n",
    "    \"name\": \"E-commerce 產品目錄\",\n",
    "    \"baseSelector\": \"div.category\",\n",
    "    \"fields\":[\n",
    "        {\n",
    "            \"name\":\"目錄名稱\",\n",
    "            \"selector\":\"h2.category-name\",\n",
    "            \"type\":\"text\"\n",
    "        },\n",
    "        {\n",
    "            \"name\":\"產品列表\",\n",
    "            \"selector\":\"div.product\",\n",
    "            # type: \"nested_list\" -> 用於提取一個物件列表。\n",
    "            # 這裡我們有多個 <div class=\"product\">，每個都代表一個產品物件。\n",
    "            \"type\":\"nested_list\",\n",
    "            \"fields\":[\n",
    "                {\n",
    "                    \"name\":\"產品名稱\",\n",
    "                    \"selector\":\"h3.product-name\",\n",
    "                    \"type\":\"text\"\n",
    "                },\n",
    "                {\n",
    "                    \"name\":\"價格\",\n",
    "                    \"selector\":\"p.product-price\",\n",
    "                    \"type\":\"text\"\n",
    "                },\n",
    "                {\n",
    "                    \"name\":\"產品資訊\",\n",
    "                    \"selector\":\"div.product-details\",\n",
    "                    # type: \"nested\" -> 用於提取單一的子物件。\n",
    "                    # 每個產品只有一組 <div class=\"product-details\">。\n",
    "                    \"type\":\"nested\",\n",
    "                    \"fields\":[\n",
    "                        {\n",
    "                            \"name\":\"品牌\",\n",
    "                            \"selector\":\"span.brand\",\n",
    "                            \"type\":\"text\"\n",
    "                        },\n",
    "                        {\n",
    "                            \"name\":\"型號\",\n",
    "                            \"selector\":\"span.model\",\n",
    "                            \"type\":\"text\"\n",
    "                        }\n",
    "                    ]\n",
    "                },\n",
    "                {\n",
    "                    \"name\":\"功能列表\",\n",
    "                    \"selector\":\"ul.product-features li\",\n",
    "                    # type: \"list\" -> 用於提取簡單的值列表。\n",
    "                    # 我們只想獲取每個 <li> 的文字，組成一個陣列。\n",
    "                    \"type\":\"list\",\n",
    "                    \"fields\":[\n",
    "                        {\n",
    "                            \"name\":\"功能\",\n",
    "                            \"type\":\"text\"\n",
    "                        }\n",
    "                    ]\n",
    "                },\n",
    "                {\n",
    "                    \"name\":\"評論\",\n",
    "                    \"selector\":\"div.review\",\n",
    "                    # type: \"nested_list\" -> 再次使用，因為一個產品可以有多筆評論。\n",
    "                    \"type\":\"nested_list\",\n",
    "                    \"fields\":[\n",
    "                        {\n",
    "                            \"name\":\"評論者\",\n",
    "                            \"selector\":\"span.reviewer\",\n",
    "                            \"type\":\"text\"\n",
    "                        },\n",
    "                        {\n",
    "                            \"name\":\"評分\",\n",
    "                            \"selector\":\"span.rating\",\n",
    "                            \"type\":\"text\"\n",
    "                        },\n",
    "                        {\n",
    "                            \"name\":\"內容\",\n",
    "                            \"selector\":\"p.review-text\",\n",
    "                            \"type\":\"text\"\n",
    "                        }\n",
    "                    ]\n",
    "                }\n",
    "            ]\n",
    "        }\n",
    "    ]\n",
    "}"
   ]
  },
  {
   "cell_type": "code",
   "execution_count": 3,
   "id": "c3d4e5f6",
   "metadata": {},
   "outputs": [
    {
     "data": {
      "text/html": [
       "<pre style=\"white-space:pre;overflow-x:auto;line-height:normal;font-family:Menlo,'DejaVu Sans Mono',consolas,'Courier New',monospace\"><span style=\"color: #008080; text-decoration-color: #008080; font-weight: bold\">[</span><span style=\"color: #008080; text-decoration-color: #008080\">INIT</span><span style=\"color: #008080; text-decoration-color: #008080; font-weight: bold\">]</span><span style=\"color: #008080; text-decoration-color: #008080\">.... → Crawl4AI </span><span style=\"color: #008080; text-decoration-color: #008080; font-weight: bold\">0.6</span><span style=\"color: #008080; text-decoration-color: #008080\">.</span><span style=\"color: #008080; text-decoration-color: #008080; font-weight: bold\">3</span><span style=\"color: #008080; text-decoration-color: #008080\"> </span>\n",
       "</pre>\n"
      ],
      "text/plain": [
       "\u001b[1;36m[\u001b[0m\u001b[36mINIT\u001b[0m\u001b[1;36m]\u001b[0m\u001b[36m...\u001b[0m\u001b[36m. → Crawl4AI \u001b[0m\u001b[1;36m0.6\u001b[0m\u001b[36m.\u001b[0m\u001b[1;36m3\u001b[0m\u001b[36m \u001b[0m\n"
      ]
     },
     "metadata": {},
     "output_type": "display_data"
    },
    {
     "data": {
      "text/html": [
       "<pre style=\"white-space:pre;overflow-x:auto;line-height:normal;font-family:Menlo,'DejaVu Sans Mono',consolas,'Courier New',monospace\"><span style=\"color: #008000; text-decoration-color: #008000; font-weight: bold\">[</span><span style=\"color: #008000; text-decoration-color: #008000\">FETCH</span><span style=\"color: #008000; text-decoration-color: #008000; font-weight: bold\">]</span><span style=\"color: #008000; text-decoration-color: #008000\">... ↓ Raw HTML                                                                                             |</span>\n",
       "<span style=\"color: #008000; text-decoration-color: #008000\">✓ | ⏱: </span><span style=\"color: #008000; text-decoration-color: #008000; font-weight: bold\">0.</span><span style=\"color: #008000; text-decoration-color: #008000\">00s </span>\n",
       "</pre>\n"
      ],
      "text/plain": [
       "\u001b[1;32m[\u001b[0m\u001b[32mFETCH\u001b[0m\u001b[1;32m]\u001b[0m\u001b[32m...\u001b[0m\u001b[32m ↓ Raw HTML                                                                                             |\u001b[0m\n",
       "\u001b[32m✓\u001b[0m\u001b[32m | ⏱: \u001b[0m\u001b[1;32m0.\u001b[0m\u001b[32m00s \u001b[0m\n"
      ]
     },
     "metadata": {},
     "output_type": "display_data"
    },
    {
     "data": {
      "text/html": [
       "<pre style=\"white-space:pre;overflow-x:auto;line-height:normal;font-family:Menlo,'DejaVu Sans Mono',consolas,'Courier New',monospace\"><span style=\"color: #008000; text-decoration-color: #008000; font-weight: bold\">[</span><span style=\"color: #008000; text-decoration-color: #008000\">SCRAPE</span><span style=\"color: #008000; text-decoration-color: #008000; font-weight: bold\">]</span><span style=\"color: #008000; text-decoration-color: #008000\">.. ◆ Raw HTML                                                                                             |</span>\n",
       "<span style=\"color: #008000; text-decoration-color: #008000\">✓ | ⏱: </span><span style=\"color: #008000; text-decoration-color: #008000; font-weight: bold\">0.</span><span style=\"color: #008000; text-decoration-color: #008000\">00s </span>\n",
       "</pre>\n"
      ],
      "text/plain": [
       "\u001b[1;32m[\u001b[0m\u001b[32mSCRAPE\u001b[0m\u001b[1;32m]\u001b[0m\u001b[32m.. ◆ Raw HTML                                                                                             |\u001b[0m\n",
       "\u001b[32m✓\u001b[0m\u001b[32m | ⏱: \u001b[0m\u001b[1;32m0.\u001b[0m\u001b[32m00s \u001b[0m\n"
      ]
     },
     "metadata": {},
     "output_type": "display_data"
    },
    {
     "data": {
      "text/html": [
       "<pre style=\"white-space:pre;overflow-x:auto;line-height:normal;font-family:Menlo,'DejaVu Sans Mono',consolas,'Courier New',monospace\"><span style=\"color: #008000; text-decoration-color: #008000; font-weight: bold\">[</span><span style=\"color: #008000; text-decoration-color: #008000\">COMPLETE</span><span style=\"color: #008000; text-decoration-color: #008000; font-weight: bold\">]</span><span style=\"color: #008000; text-decoration-color: #008000\"> ● Raw HTML                                                                                             |</span>\n",
       "<span style=\"color: #008000; text-decoration-color: #008000\">✓ | ⏱: </span><span style=\"color: #008000; text-decoration-color: #008000; font-weight: bold\">0.</span><span style=\"color: #008000; text-decoration-color: #008000\">00s </span>\n",
       "</pre>\n"
      ],
      "text/plain": [
       "\u001b[1;32m[\u001b[0m\u001b[32mCOMPLETE\u001b[0m\u001b[1;32m]\u001b[0m\u001b[32m ● Raw HTML                                                                                             |\u001b[0m\n",
       "\u001b[32m✓\u001b[0m\u001b[32m | ⏱: \u001b[0m\u001b[1;32m0.\u001b[0m\u001b[32m00s \u001b[0m\n"
      ]
     },
     "metadata": {},
     "output_type": "display_data"
    },
    {
     "name": "stdout",
     "output_type": "stream",
     "text": [
      "--- 原始提取內容 (JSON 字串) ---\n",
      "None\n",
      "\n",
      "========================================\n",
      "\n",
      "沒有提取到任何內容。\n"
     ]
    }
   ],
   "source": [
    "import json\n",
    "import asyncio\n",
    "from crawl4ai import AsyncWebCrawler, CrawlerRunConfig\n",
    "from crawl4ai.extraction_strategy import JsonCssExtractionStrategy\n",
    "\n",
    "async def extract_and_print_data():\n",
    "    # 關鍵點：將 verbose 設為 False (或直接不寫)，這樣提取的內容才會存入 result.extracted_content\n",
    "    strategy = JsonCssExtractionStrategy(schema, verbose=False)\n",
    "    \n",
    "    config = CrawlerRunConfig()\n",
    "    \n",
    "    async with AsyncWebCrawler() as crawler:\n",
    "        result = await crawler.arun(\n",
    "            url=f\"raw://{dummy_html}\",\n",
    "            extraction_strategy=strategy,\n",
    "            config=config\n",
    "        )\n",
    "\n",
    "        if not result.success:\n",
    "            print(f\"爬取失敗: {result.error_message}\")\n",
    "            return\n",
    "        \n",
    "        # 現在 result.extracted_content 會有內容了！\n",
    "        print(\"--- 原始提取內容 (JSON 字串) ---\")\n",
    "        print(result.extracted_content)\n",
    "        print(\"\\n\" + \"=\"*40 + \"\\n\")\n",
    "        \n",
    "        # 解析 JSON 字串並以美觀的格式印出\n",
    "        if result.extracted_content:\n",
    "            try:\n",
    "                data = json.loads(result.extracted_content)\n",
    "                print(\"--- 解析後的 JSON 物件 (美化格式) ---\")\n",
    "                print(json.dumps(data, indent=2, ensure_ascii=False))\n",
    "            except json.JSONDecodeError:\n",
    "                print(\"錯誤：無法解析提取的內容為 JSON\")\n",
    "        else:\n",
    "            print(\"沒有提取到任何內容。\")\n",
    "\n",
    "await extract_and_print_data()"
   ]
  }
 ],
 "metadata": {
  "kernelspec": {
   "display_name": "web_crawler",
   "language": "python",
   "name": "python3"
  },
  "language_info": {
   "codemirror_mode": {
    "name": "ipython",
    "version": 3
   },
   "file_extension": ".py",
   "mimetype": "text/x-python",
   "name": "python",
   "nbconvert_exporter": "python",
   "pygments_lexer": "ipython3",
   "version": "3.11.13"
  }
 },
 "nbformat": 4,
 "nbformat_minor": 5
}
