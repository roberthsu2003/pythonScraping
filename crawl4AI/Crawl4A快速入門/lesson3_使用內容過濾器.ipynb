{
 "cells": [
  {
   "cell_type": "markdown",
   "id": "c0f17930",
   "metadata": {},
   "source": [
    "### 產生 Markdown 輸出\n",
    "\n",
    "預設情況下，Crawl4AI 會自動從每個爬取的頁面產生 Markdown 檔案。不過，具體輸出結果取決於你指定了 Markdown 產生器還是內容過濾器。\n",
    "\n",
    "- **result.markdown**:  \n",
    "    - 直接HTML轉換為Markdown\n",
    "\n",
    "- **result.markdown.fit_markdown**:  \n",
    "    - 套用任何已配置的內容過濾器(PruningContentFilter)\n",
    "\n"
   ]
  },
  {
   "cell_type": "code",
   "execution_count": 1,
   "id": "adc929d6",
   "metadata": {},
   "outputs": [
    {
     "data": {
      "text/html": [
       "<pre style=\"white-space:pre;overflow-x:auto;line-height:normal;font-family:Menlo,'DejaVu Sans Mono',consolas,'Courier New',monospace\"><span style=\"color: #008080; text-decoration-color: #008080; font-weight: bold\">[</span><span style=\"color: #008080; text-decoration-color: #008080\">INIT</span><span style=\"color: #008080; text-decoration-color: #008080; font-weight: bold\">]</span><span style=\"color: #008080; text-decoration-color: #008080\">.... → Crawl4AI </span><span style=\"color: #008080; text-decoration-color: #008080; font-weight: bold\">0.6</span><span style=\"color: #008080; text-decoration-color: #008080\">.</span><span style=\"color: #008080; text-decoration-color: #008080; font-weight: bold\">3</span><span style=\"color: #008080; text-decoration-color: #008080\"> </span>\n",
       "</pre>\n"
      ],
      "text/plain": [
       "\u001b[1;36m[\u001b[0m\u001b[36mINIT\u001b[0m\u001b[1;36m]\u001b[0m\u001b[36m...\u001b[0m\u001b[36m. → Crawl4AI \u001b[0m\u001b[1;36m0.6\u001b[0m\u001b[36m.\u001b[0m\u001b[1;36m3\u001b[0m\u001b[36m \u001b[0m\n"
      ]
     },
     "metadata": {},
     "output_type": "display_data"
    },
    {
     "data": {
      "text/html": [
       "<pre style=\"white-space:pre;overflow-x:auto;line-height:normal;font-family:Menlo,'DejaVu Sans Mono',consolas,'Courier New',monospace\"><span style=\"color: #008000; text-decoration-color: #008000; font-weight: bold\">[</span><span style=\"color: #008000; text-decoration-color: #008000\">FETCH</span><span style=\"color: #008000; text-decoration-color: #008000; font-weight: bold\">]</span><span style=\"color: #008000; text-decoration-color: #008000\">... ↓ </span><span style=\"color: #008000; text-decoration-color: #008000; text-decoration: underline\">https://news.ycombinator.com</span><span style=\"color: #008000; text-decoration-color: #008000\">                                                                         |</span>\n",
       "<span style=\"color: #008000; text-decoration-color: #008000\">✓ | ⏱: </span><span style=\"color: #008000; text-decoration-color: #008000; font-weight: bold\">0.</span><span style=\"color: #008000; text-decoration-color: #008000\">92s </span>\n",
       "</pre>\n"
      ],
      "text/plain": [
       "\u001b[1;32m[\u001b[0m\u001b[32mFETCH\u001b[0m\u001b[1;32m]\u001b[0m\u001b[32m...\u001b[0m\u001b[32m ↓ \u001b[0m\u001b[4;32mhttps://news.ycombinator.com\u001b[0m\u001b[32m                                                                         |\u001b[0m\n",
       "\u001b[32m✓\u001b[0m\u001b[32m | ⏱: \u001b[0m\u001b[1;32m0.\u001b[0m\u001b[32m92s \u001b[0m\n"
      ]
     },
     "metadata": {},
     "output_type": "display_data"
    },
    {
     "data": {
      "text/html": [
       "<pre style=\"white-space:pre;overflow-x:auto;line-height:normal;font-family:Menlo,'DejaVu Sans Mono',consolas,'Courier New',monospace\"><span style=\"color: #008000; text-decoration-color: #008000; font-weight: bold\">[</span><span style=\"color: #008000; text-decoration-color: #008000\">SCRAPE</span><span style=\"color: #008000; text-decoration-color: #008000; font-weight: bold\">]</span><span style=\"color: #008000; text-decoration-color: #008000\">.. ◆ </span><span style=\"color: #008000; text-decoration-color: #008000; text-decoration: underline\">https://news.ycombinator.com</span><span style=\"color: #008000; text-decoration-color: #008000\">                                                                         |</span>\n",
       "<span style=\"color: #008000; text-decoration-color: #008000\">✓ | ⏱: </span><span style=\"color: #808000; text-decoration-color: #808000; font-weight: bold\">0.</span><span style=\"color: #808000; text-decoration-color: #808000\">08</span><span style=\"color: #008000; text-decoration-color: #008000\">s </span>\n",
       "</pre>\n"
      ],
      "text/plain": [
       "\u001b[1;32m[\u001b[0m\u001b[32mSCRAPE\u001b[0m\u001b[1;32m]\u001b[0m\u001b[32m.. ◆ \u001b[0m\u001b[4;32mhttps://news.ycombinator.com\u001b[0m\u001b[32m                                                                         |\u001b[0m\n",
       "\u001b[32m✓\u001b[0m\u001b[32m | ⏱: \u001b[0m\u001b[1;33m0.\u001b[0m\u001b[33m08\u001b[0m\u001b[32ms \u001b[0m\n"
      ]
     },
     "metadata": {},
     "output_type": "display_data"
    },
    {
     "data": {
      "text/html": [
       "<pre style=\"white-space:pre;overflow-x:auto;line-height:normal;font-family:Menlo,'DejaVu Sans Mono',consolas,'Courier New',monospace\"><span style=\"color: #008000; text-decoration-color: #008000; font-weight: bold\">[</span><span style=\"color: #008000; text-decoration-color: #008000\">COMPLETE</span><span style=\"color: #008000; text-decoration-color: #008000; font-weight: bold\">]</span><span style=\"color: #008000; text-decoration-color: #008000\"> ● </span><span style=\"color: #008000; text-decoration-color: #008000; text-decoration: underline\">https://news.ycombinator.com</span><span style=\"color: #008000; text-decoration-color: #008000\">                                                                         |</span>\n",
       "<span style=\"color: #008000; text-decoration-color: #008000\">✓ | ⏱: </span><span style=\"color: #008000; text-decoration-color: #008000; font-weight: bold\">1.</span><span style=\"color: #008000; text-decoration-color: #008000\">00s </span>\n",
       "</pre>\n"
      ],
      "text/plain": [
       "\u001b[1;32m[\u001b[0m\u001b[32mCOMPLETE\u001b[0m\u001b[1;32m]\u001b[0m\u001b[32m ● \u001b[0m\u001b[4;32mhttps://news.ycombinator.com\u001b[0m\u001b[32m                                                                         |\u001b[0m\n",
       "\u001b[32m✓\u001b[0m\u001b[32m | ⏱: \u001b[0m\u001b[1;32m1.\u001b[0m\u001b[32m00s \u001b[0m\n"
      ]
     },
     "metadata": {},
     "output_type": "display_data"
    },
    {
     "name": "stdout",
     "output_type": "stream",
     "text": [
      "raw Markdown length: 17229\n",
      "Fit Markdown length: 14770\n"
     ]
    }
   ],
   "source": [
    "from crawl4ai import AsyncWebCrawler, CrawlerRunConfig,CacheMode\n",
    "from crawl4ai.content_filter_strategy import PruningContentFilter\n",
    "from crawl4ai.markdown_generation_strategy import DefaultMarkdownGenerator\n",
    "\n",
    "md_generator = DefaultMarkdownGenerator(\n",
    "    content_filter = PruningContentFilter(threshold=0.4, threshold_type=\"fixed\") #說明1\n",
    ")\n",
    "\n",
    "config = CrawlerRunConfig(\n",
    "    cache_mode = CacheMode.BYPASS,\n",
    "    markdown_generator = md_generator\n",
    ")\n",
    "\n",
    "async with AsyncWebCrawler() as crawler:\n",
    "    result = await crawler.arun(\"https://news.ycombinator.com\", config=config)\n",
    "    print(\"raw Markdown length:\",len(result.markdown.raw_markdown))\n",
    "    print(\"Fit Markdown length:\",len(result.markdown.fit_markdown))"
   ]
  },
  {
   "cell_type": "markdown",
   "id": "608aab3e",
   "metadata": {},
   "source": [
    "### ⬆️說明1\n",
    "`PruningContentFilter(threshold=0.4, threshold_type=\"fixed\")`\n",
    "\n",
    "簡單來說，這行程式碼在建立一個 **「內容修剪過濾器」 (Pruning Content Filter)**。\n",
    "\n",
    "它的主要目的是**自動清理和簡化爬取下來的網頁內容**，去除不相關的「雜訊」（如廣告、導覽列、頁首、頁尾、側邊欄等），只保留最核心、最有價值的正文內容。\n",
    "\n",
    "讓我們來拆解一下它的參數：\n",
    "\n",
    "- `PruningContentFilter`: 這是一個類別，代表我們要使用的過濾器類型是「修剪過濾器」。\n",
    "- `threshold=0.4`:\n",
    "    - **閾值/門檻值**。`crawl4ai` 在內部會對網頁的各個區塊（block）進行評分，計算其「內容密度」或「重要性」。\n",
    "    - 這個 `0.4` 就是一個判斷標準。任何評分**低於 0.4** 的區塊都會被視為「雜訊」並被**移除**。\n",
    "    - 您可以調整這個值：\n",
    "        - **提高閾值** (例如 `0.6`)：過濾會更嚴格，移除更多內容，可能只剩下最核心的文章段落。\n",
    "        - **降低閾值** (例如 `0.2`)：過濾會更寬鬆，保留更多內容，但也可能包含一些次要資訊。\n",
    "- `threshold_type=\"fixed\"`:\n",
    "    - **閾值類型為「固定的」**。這表示 `0.4` 是一個絕對的、固定的判斷標準，直接應用於所有內容區塊的評分上。這是最常用和最直觀的設定。\n",
    "\n",
    "**總結：** 這行程式碼的意思是：「建立一個內容過濾器，它會移除所有重要性評分低於 0.4 的網頁區塊。」"
   ]
  },
  {
   "cell_type": "code",
   "execution_count": 8,
   "id": "642e2839",
   "metadata": {},
   "outputs": [
    {
     "data": {
      "text/html": [
       "<pre style=\"white-space:pre;overflow-x:auto;line-height:normal;font-family:Menlo,'DejaVu Sans Mono',consolas,'Courier New',monospace\"><span style=\"color: #008080; text-decoration-color: #008080; font-weight: bold\">[</span><span style=\"color: #008080; text-decoration-color: #008080\">INIT</span><span style=\"color: #008080; text-decoration-color: #008080; font-weight: bold\">]</span><span style=\"color: #008080; text-decoration-color: #008080\">.... → Crawl4AI </span><span style=\"color: #008080; text-decoration-color: #008080; font-weight: bold\">0.6</span><span style=\"color: #008080; text-decoration-color: #008080\">.</span><span style=\"color: #008080; text-decoration-color: #008080; font-weight: bold\">3</span><span style=\"color: #008080; text-decoration-color: #008080\"> </span>\n",
       "</pre>\n"
      ],
      "text/plain": [
       "\u001b[1;36m[\u001b[0m\u001b[36mINIT\u001b[0m\u001b[1;36m]\u001b[0m\u001b[36m...\u001b[0m\u001b[36m. → Crawl4AI \u001b[0m\u001b[1;36m0.6\u001b[0m\u001b[36m.\u001b[0m\u001b[1;36m3\u001b[0m\u001b[36m \u001b[0m\n"
      ]
     },
     "metadata": {},
     "output_type": "display_data"
    },
    {
     "data": {
      "text/html": [
       "<pre style=\"white-space:pre;overflow-x:auto;line-height:normal;font-family:Menlo,'DejaVu Sans Mono',consolas,'Courier New',monospace\"><span style=\"color: #008000; text-decoration-color: #008000; font-weight: bold\">[</span><span style=\"color: #008000; text-decoration-color: #008000\">FETCH</span><span style=\"color: #008000; text-decoration-color: #008000; font-weight: bold\">]</span><span style=\"color: #008000; text-decoration-color: #008000\">... ↓ </span><span style=\"color: #008000; text-decoration-color: #008000; text-decoration: underline\">https://cn.nytimes.com/world/20250625/iran-nuclear-sites/zh-hant/</span><span style=\"color: #008000; text-decoration-color: #008000\">                                    |</span>\n",
       "<span style=\"color: #008000; text-decoration-color: #008000\">✓ | ⏱: </span><span style=\"color: #008000; text-decoration-color: #008000; font-weight: bold\">0.</span><span style=\"color: #008000; text-decoration-color: #008000\">41s </span>\n",
       "</pre>\n"
      ],
      "text/plain": [
       "\u001b[1;32m[\u001b[0m\u001b[32mFETCH\u001b[0m\u001b[1;32m]\u001b[0m\u001b[32m...\u001b[0m\u001b[32m ↓ \u001b[0m\u001b[4;32mhttps://cn.nytimes.com/world/20250625/iran-nuclear-sites/zh-hant/\u001b[0m\u001b[32m                                    |\u001b[0m\n",
       "\u001b[32m✓\u001b[0m\u001b[32m | ⏱: \u001b[0m\u001b[1;32m0.\u001b[0m\u001b[32m41s \u001b[0m\n"
      ]
     },
     "metadata": {},
     "output_type": "display_data"
    },
    {
     "data": {
      "text/html": [
       "<pre style=\"white-space:pre;overflow-x:auto;line-height:normal;font-family:Menlo,'DejaVu Sans Mono',consolas,'Courier New',monospace\"><span style=\"color: #008000; text-decoration-color: #008000; font-weight: bold\">[</span><span style=\"color: #008000; text-decoration-color: #008000\">SCRAPE</span><span style=\"color: #008000; text-decoration-color: #008000; font-weight: bold\">]</span><span style=\"color: #008000; text-decoration-color: #008000\">.. ◆ </span><span style=\"color: #008000; text-decoration-color: #008000; text-decoration: underline\">https://cn.nytimes.com/world/20250625/iran-nuclear-sites/zh-hant/</span><span style=\"color: #008000; text-decoration-color: #008000\">                                    |</span>\n",
       "<span style=\"color: #008000; text-decoration-color: #008000\">✓ | ⏱: </span><span style=\"color: #008000; text-decoration-color: #008000; font-weight: bold\">0.</span><span style=\"color: #008000; text-decoration-color: #008000\">03s </span>\n",
       "</pre>\n"
      ],
      "text/plain": [
       "\u001b[1;32m[\u001b[0m\u001b[32mSCRAPE\u001b[0m\u001b[1;32m]\u001b[0m\u001b[32m.. ◆ \u001b[0m\u001b[4;32mhttps://cn.nytimes.com/world/20250625/iran-nuclear-sites/zh-hant/\u001b[0m\u001b[32m                                    |\u001b[0m\n",
       "\u001b[32m✓\u001b[0m\u001b[32m | ⏱: \u001b[0m\u001b[1;32m0.\u001b[0m\u001b[32m03s \u001b[0m\n"
      ]
     },
     "metadata": {},
     "output_type": "display_data"
    },
    {
     "data": {
      "text/html": [
       "<pre style=\"white-space:pre;overflow-x:auto;line-height:normal;font-family:Menlo,'DejaVu Sans Mono',consolas,'Courier New',monospace\"><span style=\"color: #008000; text-decoration-color: #008000; font-weight: bold\">[</span><span style=\"color: #008000; text-decoration-color: #008000\">COMPLETE</span><span style=\"color: #008000; text-decoration-color: #008000; font-weight: bold\">]</span><span style=\"color: #008000; text-decoration-color: #008000\"> ● </span><span style=\"color: #008000; text-decoration-color: #008000; text-decoration: underline\">https://cn.nytimes.com/world/20250625/iran-nuclear-sites/zh-hant/</span><span style=\"color: #008000; text-decoration-color: #008000\">                                    |</span>\n",
       "<span style=\"color: #008000; text-decoration-color: #008000\">✓ | ⏱: </span><span style=\"color: #008000; text-decoration-color: #008000; font-weight: bold\">0.</span><span style=\"color: #008000; text-decoration-color: #008000\">44s </span>\n",
       "</pre>\n"
      ],
      "text/plain": [
       "\u001b[1;32m[\u001b[0m\u001b[32mCOMPLETE\u001b[0m\u001b[1;32m]\u001b[0m\u001b[32m ● \u001b[0m\u001b[4;32mhttps://cn.nytimes.com/world/20250625/iran-nuclear-sites/zh-hant/\u001b[0m\u001b[32m                                    |\u001b[0m\n",
       "\u001b[32m✓\u001b[0m\u001b[32m | ⏱: \u001b[0m\u001b[1;32m0.\u001b[0m\u001b[32m44s \u001b[0m\n"
      ]
     },
     "metadata": {},
     "output_type": "display_data"
    },
    {
     "name": "stdout",
     "output_type": "stream",
     "text": [
      "--- 原始 Markdown (未過濾) ---\n",
      "  * [國際 ](https://cn.nytimes.com/world/ \"國際\")\n",
      "  * [中國 ](https://cn.nytimes.com/china/ \"中國\")\n",
      "  * [商業與經濟 ](https://cn.nytimes.com/business/ \"商業與經濟\")\n",
      "  * [鏡頭 ](https://cn.nytimes.com/lens/ \"鏡頭\")\n",
      "  * [科技 ](https://cn.nytimes.com/technology/ \"科技\")\n",
      "  * [科學 ](https://cn.nytimes.com/science/ \"科學\")\n",
      "  * [健康 ](https://cn.nytimes.com/health/ \"健康\")\n",
      "  * [教育 ](https://cn.nytimes.com/education/ \"教育\")\n",
      "  * [文化 ](https://cn.nytimes.com/culture/ \"文化\")\n",
      "  * [風尚 ](https://cn.nytimes.com/style/ \"風尚\")\n",
      "  * [旅遊 ](https://...\n",
      "\n",
      "==================================================\n",
      "\n",
      "--- 修剪後的 Markdown (已過濾) ---\n",
      "### 國際\n",
      "  * [中文 中](javascript:;)\n",
      "  * [中英雙語 雙語](https://cn.nytimes.com/world/20250625/iran-nuclear-sites/zh-hant/dual/)\n",
      "  * [英文 英](https://www.nytimes.com/2025/06/24/us/politics/iran-nuclear-sites.html)\n",
      "\n",
      "\n",
      "JULIAN E. BARNES, HELENE COOPER, ERIC SCHMITT, RONEN BERGMAN, MAGGIE HABERMAN, JONATHAN SWAN2025年6月25日\n",
      "週日的新聞發布會上，記者紛紛拍攝美國的伊朗核設施轟炸行動——「午夜之錘」——的圖示。 Alex Brandon/Associated Press\n",
      "據幾名知情官員透露，美國一份初步的機密報告顯示，美國對伊朗三處核設施的轟炸僅使該國核計劃進度倒退數月。\n",
      "這些官員表示，初步調查結果顯示，打擊行動封堵了其中兩處設施的入口，但未摧毀其地下建築。\n",
      "襲擊前，美國情報機構曾表示，如果伊朗試圖加速製造核彈，大約需要耗時三個月。在美國進行轟炸行動以及以色列空軍進行數天打擊之後，國防情報局的報告估計，該計劃被推遲了，但延遲不到六個月。\n",
      "報告還稱，伊朗在襲擊前已經將大部分的濃縮鈾轉移，襲擊摧毀的核原料極少。伊朗可能已將其中一部分原料轉移到了祕密地點。\n",
      "廣告\n",
      "一些以色列官員表示，他們也認為伊朗政府還保留著小型的祕密濃縮設施，以便在大型設施遭到攻擊後還能繼續推進核計劃。\n",
      "另有官員指出，該報告發現福爾多、納坦茲和伊斯法罕這三處核設施遭受了中度到重度損壞，其中納坦茲設施受損最嚴重。目前尚不清楚伊朗是否會嘗試重建這些項目。\n",
      "前官員表示，如果伊朗想迅速造出一枚核彈的話，那將是一個相對簡陋的小裝置。小型化彈頭的技術難度要大得多，目前尚不清楚這種更先進的研究受到了多大程度的破壞。\n",
      "現任和前任軍事官員在襲擊前曾警告稱，摧毀福爾多設施需要採用多輪打擊，對同一地點進行連續數天甚至數週的轟炸，因為它深藏於山體下70多米的深處。\n",
      "美軍戰機確於週六至少兩次擊中相同目標。據美國企業研究所中東項目主管布萊恩·卡特透露，B-2轟炸機向福爾多投下12枚[GBU-57巨型鑽地彈](https://www.nytimes.com/interactive/2025/06/20/world/middleeast/iran-nuclear-fordo-bunker-buster-bomb.html)——常被稱為「地堡剋星」——現場可見六個地面入口彈坑。\n",
      "但多名軍事爆破專家認為，完成摧毀需多日的打擊行動。\n",
      "廣告\n",
      "初步毀傷評估表明，川普總統關於伊朗核設施遭「徹底摧毀」的說法言過其實。國會原定於週二聽取關於此次襲擊的簡報，議員們預計會詢問調查結果，但簡報會因故推遲。參議院現定於週四聽取簡報，眾議院則安排在週五。\n",
      "據知情人士透露，空襲後，川普反覆向顧問抱怨質疑打擊效果的新聞報導。他們表示，總統還密切關注其他官員被問及伊朗核設施毀傷情況時的公開表態。\n",
      "週二，國防部長彼特·海格塞斯在一份聲明中重申了川普早前的判斷。\n",
      "「根據我們掌握的全部情報——我已經全部看過，轟炸行動徹底摧毀了伊朗製造核武的能力。我們的巨型炸彈精準命中每處目標點，效果完美。」\n",
      "官員們強調，這份五頁的機密報告僅僅是一份初步評估，隨著更多信息的收集以及伊朗對這三處地點進行檢查，後續還會有更新。一位官員表示，政府內部人士所看到的報告「結論不一」，不過更多評估仍在進行中。\n",
      "但國防情報局的報告指出，這些地點受損程度未達部分政府官員預期，而且伊朗仍留有幾乎所有的核材料，這意味著如果它決定製造核武器，仍然能夠相對迅速地做到。\n",
      "廣告\n",
      "因報告內容涉密，本文受訪官員均要求匿名。\n",
      "白宮對此評估提出異議。白宮發言人卡羅琳·萊維特表示，其結論「完全錯誤」。\n",
      "「洩漏所謂評估報告顯然意在貶低川普總統，詆毀執行完美任務摧毀伊朗核計劃的英勇飛行員，」她在聲明中說。「所有人都知道，當你將14枚3萬磅炸彈精確投放到目標上時會發生什麼：徹底摧毀。」\n",
      "CNN此前已對這份情報報告的部分內容進行了[報導](https://www.cnn.com/2025/06/24/politics/intel-assessment-us-strikes-iran-nuclear-sites)。\n",
      "官員們表示，這些打擊行動嚴重損壞了福爾多的電力系統。目前尚不清楚伊朗需要多長時間才能重新進入地下建築、修複電力系統並重新安裝已轉移的設備。\n",
      "Maxar Technologies公司提供的一張福爾多核設施的衛星圖像。 Maxar Technologies, via Associated Press\n",
      "毫無疑問，這次轟炸行動「極其嚴重地損壞了」這三處設施，卡特說。\n",
      "但以色列初步的評估結果，同樣也對打擊行動的效果提出了質疑。以國防官員表示，他們收集的證據表明，福爾多地下設施並未被摧毀。\n",
      "廣告\n",
      "儘管川普和海格塞斯聲稱這些地點被徹底摧毀，參謀長聯席會議主席丹·凱恩將軍在描述襲擊效果時則相對謹慎。\n",
      "他在週日記者會上表示：「這次行動旨在嚴重破壞伊朗的核武器基礎設施。」\n",
      "凱恩週日站在海格塞斯旁邊表示，此次軍事行動的毀傷效果尚未做出最終評估。他說，初步評估顯示，所有三個地點均遭受「嚴重破壞和摧毀」。\n",
      "凱恩還表示，評估伊朗核計劃保留下來多少還「為時過早」。\n",
      "前中央司令部司令約瑟夫·沃特爾將軍受訪時表示，他對「所用武器系統非常有信心。」不過，他也說：「有設施得以倖存也不意外。這正是為什麼要開展評估的原因，即便一切按計劃進行，仍存在其他變量因素。」\n",
      "在週二的參議院聽證會上，民主黨人也持更謹慎的態度。\n",
      "廣告\n",
      "羅得島州參議員、軍事委員會的資深民主黨人傑克·里德說：「我們仍在等待最終的評估。」\n",
      "國防情報局的代表未回應置評請求。\n",
      "#### 相關報導\n",
      "  * ### [川普是如何決定對伊朗發動打擊的2025年6月24日](https://cn.nytimes.com/usa/20250624/trump-iran-decision-strikes/zh-hant/ \"川普是如何決定對伊朗發動打擊的\")\n",
      "  * ### [以色列和伊朗宣布停火2025年6月24日](https://cn.nytimes.com/world/20250624/iran-missile-attack-us-base-qatar/zh-hant/ \"以色列和伊朗宣布停火\")\n",
      "  * ### [中國稱美國襲擊伊朗損害自身信譽2025年6月24日](https://cn.nytimes.com/world/20250624/china-us-iran-credibility/zh-hant/ \"中國稱美國襲擊伊朗損害自身信譽\")\n",
      "  * ### [攻擊伊朗核設施，川普的危險賭博2025年6月23日](https://cn.nytimes.com/usa/20250623/trump-iran-risks/zh-hant/ \"攻擊伊朗核設施，川普的危險賭博\")\n",
      "\n",
      "\n",
      "##### 最受歡迎\n",
      "  1. #### [「更好的生活遙不可及」：中國夢的幻滅](https://cn.nytimes.com/china/20250623/china-upward-mobility-inequality/zh-hant/?utm_source=top10-in-article&utm_medium=articlepage&utm_campaign=web)\n",
      "  2. #### [以色列和伊朗宣布停火](https://cn.nytimes.com/world/20250624/iran-missile-attack-us-base-qatar/zh-hant/?utm_source=top10-in-article&utm_medium=articlepage&utm_campaign=web)\n",
      "  3. #### [障眼法與蓄意誤導：川普是如何決定對伊朗發動打擊的](https://cn.nytimes.com/usa/20250624/trump-iran-decision-strikes/zh-hant/?utm_source=top10-in-article&utm_medium=articlepage&utm_campaign=web)\n",
      "  4. #### [中國稱美國襲擊伊朗損害自身信譽](https://cn.nytimes.com/world/20250624/china-us-iran-credibility/zh-hant/?utm_source=top10-in-article&utm_medium=articlepage&utm_campaign=web)\n",
      "  5. #### [美軍再次捲入中東戰爭，伊朗報復行動引關注](https://cn.nytimes.com/world/20250623/military-middle-east-wars/zh-hant/?utm_source=top10-in-article&utm_medium=articlepage&utm_campaign=web)\n",
      "  6. #### [若美伊爆發衝突，中國將成輸家？](https://cn.nytimes.com/world/20250620/us-iran-israel-china/zh-hant/?utm_source=top10-in-article&utm_medium=articlepage&utm_campaign=web)\n",
      "  7. #### [襲擊伊朗給美國和世界帶來的風險](https://cn.nytimes.com/opinion/20250623/us-military-iran-strike-trump/zh-hant/?utm_source=top10-in-article&utm_medium=articlepage&utm_campaign=web)\n",
      "  8. #### [攻擊伊朗核設施，川普的危險賭博](https://cn.nytimes.com/usa/20250623/trump-iran-risks/zh-hant/?utm_source=top10-in-article&utm_medium=articlepage&utm_campaign=web)\n",
      "  9. #### [中國留英學生迷奸至少10名女性被判無期](https://cn.nytimes.com/world/20250620/chinese-student-rapist-uk/zh-hant/?utm_source=top10-in-article&utm_medium=articlepage&utm_campaign=web)\n",
      "  10. #### [張家界溶洞成垃圾場：糞便垃圾堆積七八層樓高](https://cn.nytimes.com/china/20250620/china-caves-trash-avatar/zh-hant/?utm_source=top10-in-article&utm_medium=articlepage&utm_campaign=web)\n",
      "\n",
      "\n",
      "免費下載 紐約時報中文網iOS 和 Android App\n",
      "[點擊下載iOS App ](https://itunes.apple.com/app/apple-store/id807498298?pt=13036&ct=mnews-article&mt=8 \"點擊下載iOS App\")[點擊下載Android App](https://play.google.com/store/apps/details?id=com.nytimes.cn \"點擊下載Android App\")\n",
      "\n"
     ]
    }
   ],
   "source": [
    "import asyncio\n",
    "from crawl4ai import (\n",
    "    AsyncWebCrawler,\n",
    "    CrawlerRunConfig,\n",
    "    PruningContentFilter,\n",
    "    CacheMode\n",
    ")\n",
    "\n",
    "async def main():\n",
    "    # 1. 建立我們定義的內容過濾器\n",
    "    #    這個過濾器會移除評分低於 0.4 的區塊\n",
    "    mg_generator = DefaultMarkdownGenerator(\n",
    "        content_filter = PruningContentFilter(threshold=0.4, threshold_type=\"fixed\")\n",
    "    )\n",
    "    \n",
    "\n",
    "    # 2. 建立一個爬蟲執行設定 (CrawlerRunConfig)\n",
    "    #    - 繞過快取，確保每次都抓取最新內容\n",
    "    #    - 將我們建立的過濾器加入 content_filters 列表中\n",
    "    run_config = CrawlerRunConfig(\n",
    "        cache_mode=CacheMode.BYPASS,\n",
    "        markdown_generator = mg_generator\n",
    "    )\n",
    "\n",
    "    # 建立爬蟲實體\n",
    "    async with AsyncWebCrawler() as crawler:\n",
    "        # 3. 執行爬蟲，並傳入我們的執行設定\n",
    "        #    這裡以一個新聞文章頁面為例，它通常包含很多非正文內容\n",
    "        result = await crawler.arun(\n",
    "            url='https://cn.nytimes.com/world/20250625/iran-nuclear-sites/zh-hant/',\n",
    "            config=run_config\n",
    "        )\n",
    "\n",
    "        # 4. 比較過濾前後的結果\n",
    "        print(\"--- 原始 Markdown (未過濾) ---\")\n",
    "        print(result.markdown[:500] + \"...\") # 只顯示前 500 字元\n",
    "        print(\"\\n\" + \"=\"*50 + \"\\n\")\n",
    "\n",
    "        print(\"--- 修剪後的 Markdown (已過濾) ---\")\n",
    "        # 使用 .fit_markdown 來取得過濾後的結果\n",
    "        print(result.markdown.fit_markdown)\n",
    "\n",
    "\n",
    "if __name__ == \"__main__\":\n",
    "    await main()\n",
    " \n"
   ]
  }
 ],
 "metadata": {
  "kernelspec": {
   "display_name": "web_crawler",
   "language": "python",
   "name": "python3"
  },
  "language_info": {
   "codemirror_mode": {
    "name": "ipython",
    "version": 3
   },
   "file_extension": ".py",
   "mimetype": "text/x-python",
   "name": "python",
   "nbconvert_exporter": "python",
   "pygments_lexer": "ipython3",
   "version": "3.11.13"
  }
 },
 "nbformat": 4,
 "nbformat_minor": 5
}
