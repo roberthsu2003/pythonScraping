{
 "cells": [
  {
   "cell_type": "code",
   "execution_count": 5,
   "id": "minor-characterization",
   "metadata": {},
   "outputs": [
    {
     "name": "stdout",
     "output_type": "stream",
     "text": [
      "文字最前面搜尋到Hello\n"
     ]
    }
   ],
   "source": [
    "import re\n",
    "\n",
    "strText = \"Hello Python  Programming\"\n",
    "matchObject = re.match(r\"hello\", strText, re.I)\n",
    "if matchObject is None:\n",
    "    print(\"文字最前面沒有搜尋到\")\n",
    "else:\n",
    "    print(\"文字最前面搜尋到%s\" % matchObject.group())"
   ]
  },
  {
   "cell_type": "code",
   "execution_count": 9,
   "id": "average-given",
   "metadata": {},
   "outputs": [
    {
     "name": "stdout",
     "output_type": "stream",
     "text": [
      "matchObj.group(): Cats smarter are than dogs\n",
      "matchObj.group(1): Cats smarter\n",
      "matchObj.group(2): than\n"
     ]
    }
   ],
   "source": [
    "import re\n",
    "line = \"Cats smarter are than dogs\"\n",
    "matchObj = re.match(r'(.*) are (.*?) .*', line, re.M|re.I)\n",
    "if matchObj:\n",
    "    print(\"matchObj.group():\", matchObj.group())\n",
    "    print(\"matchObj.group(1):\", matchObj.group(1))\n",
    "    print(\"matchObj.group(2):\", matchObj.group(2))\n",
    "else:\n",
    "    print(\"No match\")"
   ]
  },
  {
   "cell_type": "code",
   "execution_count": 12,
   "id": "romantic-sussex",
   "metadata": {},
   "outputs": [
    {
     "name": "stdout",
     "output_type": "stream",
     "text": [
      "文字內沒有搜尋到任何相同內容\n"
     ]
    }
   ],
   "source": [
    "import re\n",
    "str = \"Hello Python Programming\"\n",
    "searchObject = re.search(r\"programming\", str, re.I)\n",
    "if not searchObject:\n",
    "    print(\"文字內沒有搜尋到任何相同內容\")\n",
    "else:\n",
    "     print(\"文字內搜尋到%s\" % searchObject.group())"
   ]
  },
  {
   "cell_type": "code",
   "execution_count": null,
   "id": "automatic-match",
   "metadata": {},
   "outputs": [],
   "source": []
  }
 ],
 "metadata": {
  "kernelspec": {
   "display_name": "Python 3",
   "language": "python",
   "name": "python3"
  },
  "language_info": {
   "codemirror_mode": {
    "name": "ipython",
    "version": 3
   },
   "file_extension": ".py",
   "mimetype": "text/x-python",
   "name": "python",
   "nbconvert_exporter": "python",
   "pygments_lexer": "ipython3",
   "version": "3.8.7"
  }
 },
 "nbformat": 4,
 "nbformat_minor": 5
}
