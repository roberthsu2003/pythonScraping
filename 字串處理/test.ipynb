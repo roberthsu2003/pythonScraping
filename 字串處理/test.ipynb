{
 "cells": [
  {
   "cell_type": "code",
   "execution_count": 5,
   "id": "steady-display",
   "metadata": {},
   "outputs": [
    {
     "name": "stdout",
     "output_type": "stream",
     "text": [
      "文字最前面搜尋到Hello\n"
     ]
    }
   ],
   "source": [
    "import re\n",
    "\n",
    "strText = \"Hello Python  Programming\"\n",
    "matchObject = re.match(r\"hello\", strText, re.I)\n",
    "if matchObject is None:\n",
    "    print(\"文字最前面沒有搜尋到\")\n",
    "else:\n",
    "    print(\"文字最前面搜尋到%s\" % matchObject.group())"
   ]
  },
  {
   "cell_type": "code",
   "execution_count": 9,
   "id": "running-responsibility",
   "metadata": {},
   "outputs": [
    {
     "name": "stdout",
     "output_type": "stream",
     "text": [
      "matchObj.group(): Cats smarter are than dogs\n",
      "matchObj.group(1): Cats smarter\n",
      "matchObj.group(2): than\n"
     ]
    }
   ],
   "source": [
    "import re\n",
    "line = \"Cats smarter are than dogs\"\n",
    "matchObj = re.match(r'(.*) are (.*?) .*', line, re.M|re.I)\n",
    "if matchObj:\n",
    "    print(\"matchObj.group():\", matchObj.group())\n",
    "    print(\"matchObj.group(1):\", matchObj.group(1))\n",
    "    print(\"matchObj.group(2):\", matchObj.group(2))\n",
    "else:\n",
    "    print(\"No match\")"
   ]
  },
  {
   "cell_type": "code",
   "execution_count": 16,
   "id": "referenced-steel",
   "metadata": {},
   "outputs": [
    {
     "name": "stdout",
     "output_type": "stream",
     "text": [
      "文字內搜尋到Programming\n",
      "文字內搜尋到的位置是 (13, 24)\n",
      "Programming\n"
     ]
    }
   ],
   "source": [
    "import re\n",
    "str = \"Hello Python Programming\"\n",
    "searchObject = re.search(r\"programming\", str, re.I)\n",
    "if not searchObject:\n",
    "    print(\"文字內沒有搜尋到任何相同內容\")\n",
    "else:\n",
    "    print(\"文字內搜尋到%s\" % searchObject.group())\n",
    "    print(\"文字內搜尋到的位置是\",searchObject.span())\n",
    "    print(str[13:24])"
   ]
  },
  {
   "cell_type": "code",
   "execution_count": 18,
   "id": "dated-repeat",
   "metadata": {},
   "outputs": [
    {
     "name": "stdout",
     "output_type": "stream",
     "text": [
      "None\n",
      "Hello\n"
     ]
    }
   ],
   "source": [
    "import re\n",
    "str = \"Hello Python Programming\"\n",
    "sobj = re.search(\"^programming\", str, re.I)\n",
    "print(sobj)\n",
    "\n",
    "sobj = re.search(r\"^hello\", str, re.I)\n",
    "print(sobj.group())"
   ]
  },
  {
   "cell_type": "code",
   "execution_count": 24,
   "id": "mathematical-nightlife",
   "metadata": {},
   "outputs": [
    {
     "name": "stdout",
     "output_type": "stream",
     "text": [
      "1\n",
      "2\n"
     ]
    }
   ],
   "source": [
    "import re\n",
    "compPat = re.compile('\\d')\n",
    "sobj = compPat.search(\"Lalalala 123\")\n",
    "print(sobj.group())\n",
    "\n",
    "mobj = compPat.match(\"234Lalalala 123456789\")\n",
    "print(mobj.group())"
   ]
  },
  {
   "cell_type": "code",
   "execution_count": 25,
   "id": "official-indonesia",
   "metadata": {},
   "outputs": [
    {
     "name": "stdout",
     "output_type": "stream",
     "text": [
      "None\n"
     ]
    }
   ],
   "source": [
    "s = re.search(\"^L\", \"Hello\", re.I)\n",
    "print(s)"
   ]
  },
  {
   "cell_type": "code",
   "execution_count": 26,
   "id": "duplicate-indianapolis",
   "metadata": {},
   "outputs": [
    {
     "name": "stdout",
     "output_type": "stream",
     "text": [
      "working\n"
     ]
    }
   ],
   "source": [
    "import re\n",
    "s = \"Playing 4 hours a day\"\n",
    "obj = re.sub('^.*$',\"working\",s)\n",
    "print(obj)"
   ]
  },
  {
   "cell_type": "code",
   "execution_count": 27,
   "id": "supposed-coach",
   "metadata": {},
   "outputs": [
    {
     "name": "stdout",
     "output_type": "stream",
     "text": [
      "Playing 4 Working a day\n"
     ]
    }
   ],
   "source": [
    "s = \"Playing 4 hours a day\"\n",
    "#obj = re.sub('^.*$',\"working\",s)\n",
    "matchStr = re.sub(r'hours', \"Working\",s)\n",
    "print(matchStr)"
   ]
  },
  {
   "cell_type": "code",
   "execution_count": 28,
   "id": "thousand-cooking",
   "metadata": {},
   "outputs": [
    {
     "name": "stdout",
     "output_type": "stream",
     "text": [
      "['6', '4']\n"
     ]
    }
   ],
   "source": [
    "import re\n",
    "str1 = \"Working 6 hours a day. Studying 4 hours a day.\"\n",
    "mobj = re.findall(r'[0-9]', str1)\n",
    "print(mobj)"
   ]
  },
  {
   "cell_type": "code",
   "execution_count": 31,
   "id": "informational-aquatic",
   "metadata": {},
   "outputs": [
    {
     "name": "stdout",
     "output_type": "stream",
     "text": [
      " Working   five   hours   a  day\n",
      "\n",
      "Working\n",
      "five\n",
      "hours\n",
      "a\n",
      "day\n"
     ]
    },
    {
     "data": {
      "text/plain": [
       "' Working five hours a day'"
      ]
     },
     "execution_count": 31,
     "metadata": {},
     "output_type": "execute_result"
    }
   ],
   "source": [
    "s = \"768 Working 2343 789 five 234 656 hours 324 4646 a 345 day\"\n",
    "matchStr = re.sub(r'\\d',\"\",s)\n",
    "print(matchStr)\n",
    "splitList = re.split(r'\\s+',matchStr)\n",
    "for word in splitList:\n",
    "    print(word)\n",
    "\n",
    "\" \".join(splitList)"
   ]
  },
  {
   "cell_type": "code",
   "execution_count": null,
   "id": "corporate-columbia",
   "metadata": {},
   "outputs": [],
   "source": []
  }
 ],
 "metadata": {
  "kernelspec": {
   "display_name": "Python 3",
   "language": "python",
   "name": "python3"
  },
  "language_info": {
   "codemirror_mode": {
    "name": "ipython",
    "version": 3
   },
   "file_extension": ".py",
   "mimetype": "text/x-python",
   "name": "python",
   "nbconvert_exporter": "python",
   "pygments_lexer": "ipython3",
   "version": "3.8.7"
  }
 },
 "nbformat": 4,
 "nbformat_minor": 5
}
