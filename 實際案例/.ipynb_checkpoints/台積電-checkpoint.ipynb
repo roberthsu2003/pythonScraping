{
 "cells": [
  {
   "cell_type": "code",
   "execution_count": 1,
   "metadata": {},
   "outputs": [],
   "source": [
    "import requests\n",
    "headers = {\n",
    "    'user-agent': 'Mozilla/5.0 (Macintosh; Intel Mac OS X 11_1_0) AppleWebKit/537.36 (KHTML, like Gecko) Chrome/87.0.4280.141 Safari/537.36'\n",
    "}\n",
    "res = requests.get(\"https://goodinfo.tw/StockInfo/StockBzPerformance.asp?STOCK_ID=2330\",headers = headers)\n",
    "res.encoding = 'utf-8'\n"
   ]
  },
  {
   "cell_type": "code",
   "execution_count": null,
   "metadata": {},
   "outputs": [],
   "source": [
    "from bs4 import BeautifulSoup\n",
    "import re\n",
    "soup = BeautifulSoup(res.text,'html.parser')\n",
    "data = soup.find('div',{'id':'txtFinDetailData'}).find_all('tr',{'id':re.compile('^row')})\n",
    "for item in data:\n",
    "    print(item)\n",
    "    print(\"======\")"
   ]
  },
  {
   "cell_type": "code",
   "execution_count": null,
   "metadata": {},
   "outputs": [],
   "source": [
    "import csv\n",
    "csvFile = open('台積電.csv', 'w+')\n",
    "try:\n",
    "    writer = csv.writer(csvFile)\n",
    "    writer.writerow()\n",
    "finally:\n",
    "    csvFile.close()"
   ]
  },
  {
   "cell_type": "code",
   "execution_count": 11,
   "metadata": {},
   "outputs": [],
   "source": [
    "import csv\n",
    "csvFile = open('台積電.csv','w+')\n",
    "try:\n",
    "    writer = csv.writer(csvFile)\n",
    "    writer.writerow(['年度','股本(億)','財報評分','收盤','平均','漲跌','漲跌(%)','營業收入',\n",
    "                     '營業毛利','營業利益','業外損益','稅後淨利','營業毛利','營業利益','業外損益',\n",
    "                     '稅後淨利','ROE(%)','ROA(%)','稅後EPS','EPS年增(元)','BPS(元)'])\n",
    "    for item in data:\n",
    "        tdList = item.find_all('td')\n",
    "        tdRow = [td.get_text() for td in tdList]\n",
    "        writer.writerow(tdRow)\n",
    "finally:\n",
    "    csvFile.close()\n"
   ]
  },
  {
   "cell_type": "code",
   "execution_count": 12,
   "metadata": {},
   "outputs": [],
   "source": [
    "#完整版\n",
    "import requests\n",
    "from bs4 import BeautifulSoup\n",
    "import re\n",
    "import csv\n",
    "\n",
    "headers = {\n",
    "    'user-agent': 'Mozilla/5.0 (Macintosh; Intel Mac OS X 11_1_0) AppleWebKit/537.36 (KHTML, like Gecko) Chrome/87.0.4280.141 Safari/537.36'\n",
    "}\n",
    "res = requests.get(\"https://goodinfo.tw/StockInfo/StockBzPerformance.asp?STOCK_ID=2330\",headers = headers)\n",
    "res.encoding = 'utf-8'\n",
    "soup = BeautifulSoup(res.text,'html.parser')\n",
    "data = soup.find('div',{'id':'txtFinDetailData'}).find_all('tr',{'id':re.compile('^row')})\n",
    "csvFile = open('台積電.csv','w+')\n",
    "try:\n",
    "    writer = csv.writer(csvFile)\n",
    "    writer.writerow(['年度','股本(億)','財報評分','收盤','平均','漲跌','漲跌(%)','營業收入',\n",
    "                     '營業毛利','營業利益','業外損益','稅後淨利','營業毛利','營業利益','業外損益',\n",
    "                     '稅後淨利','ROE(%)','ROA(%)','稅後EPS','EPS年增(元)','BPS(元)'])\n",
    "    for item in data:\n",
    "        tdList = item.find_all('td')\n",
    "        tdRow = [td.get_text() for td in tdList]\n",
    "        writer.writerow(tdRow)\n",
    "finally:\n",
    "    csvFile.close()\n",
    "    print(\"存檔完成\")"
   ]
  },
  {
   "cell_type": "code",
   "execution_count": null,
   "metadata": {},
   "outputs": [],
   "source": []
  }
 ],
 "metadata": {
  "kernelspec": {
   "display_name": "Python 3",
   "language": "python",
   "name": "python3"
  },
  "language_info": {
   "codemirror_mode": {
    "name": "ipython",
    "version": 3
   },
   "file_extension": ".py",
   "mimetype": "text/x-python",
   "name": "python",
   "nbconvert_exporter": "python",
   "pygments_lexer": "ipython3",
   "version": "3.8.3"
  }
 },
 "nbformat": 4,
 "nbformat_minor": 4
}
