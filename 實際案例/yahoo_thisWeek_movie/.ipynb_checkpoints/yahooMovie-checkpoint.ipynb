{
 "cells": [
  {
   "cell_type": "markdown",
   "id": "shared-brisbane",
   "metadata": {},
   "source": [
    "## Yahoo!電影_本周新片\n",
    "網址:https://movies.yahoo.com.tw/movie_thisweek.html\n",
    "\n",
    "目標:\n",
    "\n",
    "1. 電影中英文名稱\n",
    "2. 上映日期\n",
    "3. 內容介紹\n",
    "4. 期待度\n",
    "5. 滿意度\n",
    "6. 影片海報圖片\n",
    "7. 電影介紹網址\n",
    "8. 預告片網址\n",
    "9. 劇照網址\n",
    "10. 時刻表網址\n",
    "    \n",
    "![](./images/pic1.png)\n"
   ]
  },
  {
   "cell_type": "code",
   "execution_count": null,
   "id": "parental-making",
   "metadata": {},
   "outputs": [],
   "source": [
    "#取得文章內容\n",
    "\n",
    "import requests\n",
    "\n",
    "headers = {\"user-agent\":\"Mozilla/5.0 (Macintosh; Intel Mac OS X 11_2_1) AppleWebKit/537.36 (KHTML, like Gecko) Chrome/88.0.4324.182 Safari/537.36\"}\n",
    "movieUrl = \"https://movies.yahoo.com.tw/movie_thisweek.html\"\n",
    "\n",
    "response = requests.get(movieUrl,headers=headers)\n",
    "if response.status_code != 200:\n",
    "    print(\"連線有問題\",response.status_code)\n",
    "else:\n",
    "    print(response.text)"
   ]
  },
  {
   "cell_type": "markdown",
   "id": "assumed-moral",
   "metadata": {},
   "source": [
    "### 使用chrome開發人員工具分析\n",
    "\n",
    "每部電影都在class = release_info_text內\n",
    "相關資訊都在周邊元素\n",
    "\n",
    "![](./images/pic2.png)\n",
    "![](./images/pic3.png)"
   ]
  },
  {
   "cell_type": "code",
   "execution_count": 42,
   "id": "separated-hearts",
   "metadata": {},
   "outputs": [],
   "source": [
    "#取得第一筆資訊1\n",
    "#以class = release_info_text為中心,取得一部電影的資訊\n",
    "\n",
    "from bs4 import BeautifulSoup\n",
    "\n",
    "soup = BeautifulSoup(response.text,'html.parser')\n",
    "releaseInfoTextElement = soup.find('div','release_info_text')\n",
    "#print(releaseInfoTextElement)"
   ]
  },
  {
   "cell_type": "code",
   "execution_count": 50,
   "id": "other-place",
   "metadata": {},
   "outputs": [
    {
     "name": "stdout",
     "output_type": "stream",
     "text": [
      "https://movies.yahoo.com.tw/movieinfo_main/%E6%BE%AA%E4%B9%8B%E6%96%99%E7%90%86%E5%B8%96-mios-cookbook-11098\n",
      "https://movies.yahoo.com.tw/video/%E6%BE%AA%E4%B9%8B%E6%96%99%E7%90%86%E5%B8%96-%E4%B8%AD%E6%96%87%E9%A0%90%E5%91%8A-030441353.html?movie_id=11098\n",
      "https://movies.yahoo.com.tw/movieinfo_photos.html/id=11098\n",
      "https://movies.yahoo.com.tw/movietime_result.html/id=11098\n"
     ]
    }
   ],
   "source": [
    "#取得第一筆資訊2\n",
    "from bs4.element import Tag\n",
    "\n",
    "#取得class = release_info_text內的資訊\n",
    "movieNameElement = releaseInfoTextElement.find('div','release_info_text')\n",
    "movieTimeElement = releaseInfoTextElement.find('div','release_movie_time').text\n",
    "movieTextElement = releaseInfoTextElement.find('div','release_text')\n",
    "#print(movieTextElement)\n",
    "\n",
    "#取得下方的class=release_btn資訊\n",
    "releaseBtnBoxElement = releaseInfoTextElement.find_next_sibling()\n",
    "#print(releaseBtnBoxElement.children) #取得所有的子元素\n",
    "#print(enumerate(releaseBtnBoxElement))\n",
    "for index,item in enumerate(releaseBtnBoxElement): #有看不到的子元素,確認資料類型\n",
    "    if isinstance(item,Tag):\n",
    "        #print(index)\n",
    "        if index == 1:\n",
    "            movieIntroduction = item['href']\n",
    "        elif index == 3:\n",
    "            movieVedio = item['href']\n",
    "        elif index == 5:\n",
    "            moviePhotos = item['href']\n",
    "        elif index == 7:\n",
    "            movieTime = item['href']\n",
    "\n",
    "#print(movieIntroduction)\n",
    "#print(movieVedio)\n",
    "#print(moviePhotos)\n",
    "#print(movieTime)\n",
    "    \n",
    "        \n",
    "\n",
    "#取得父元素class=release_info和上一筆class=release_foto\n",
    "photoElement = releaseInfoTextElement.find_parent().find_previous_sibling()\n",
    "#print(photoElement.children)"
   ]
  },
  {
   "cell_type": "code",
   "execution_count": null,
   "id": "indie-abraham",
   "metadata": {},
   "outputs": [],
   "source": []
  }
 ],
 "metadata": {
  "kernelspec": {
   "display_name": "Python 3",
   "language": "python",
   "name": "python3"
  },
  "language_info": {
   "codemirror_mode": {
    "name": "ipython",
    "version": 3
   },
   "file_extension": ".py",
   "mimetype": "text/x-python",
   "name": "python",
   "nbconvert_exporter": "python",
   "pygments_lexer": "ipython3",
   "version": "3.8.7"
  }
 },
 "nbformat": 4,
 "nbformat_minor": 5
}
