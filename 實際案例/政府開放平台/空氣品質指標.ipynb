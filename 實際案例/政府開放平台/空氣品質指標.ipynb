{
 "cells": [
  {
   "cell_type": "markdown",
   "id": "representative-saudi",
   "metadata": {},
   "source": [
    "## 下載政府開放平台空氣品質指標"
   ]
  },
  {
   "cell_type": "code",
   "execution_count": 2,
   "id": "african-insertion",
   "metadata": {},
   "outputs": [
    {
     "name": "stdout",
     "output_type": "stream",
     "text": [
      "下載成功\n"
     ]
    }
   ],
   "source": [
    "import requests\n",
    "import csv\n",
    "\n",
    "CSV_URL = \"https://data.epa.gov.tw/api/v1/aqx_p_432?limit=1000&api_key=9be7b239-557b-4c10-9775-78cadfc555e9&format=csv\"\n",
    "response = requests.get(CSV_URL,stream=True)\n",
    "response.encoding = 'utf-8'\n",
    "\n",
    "if response.status_code == 200:\n",
    "    print('下載成功')"
   ]
  },
  {
   "cell_type": "markdown",
   "id": "intended-device",
   "metadata": {},
   "source": [
    "### 寫入至csv檔"
   ]
  },
  {
   "cell_type": "code",
   "execution_count": 3,
   "id": "empirical-christopher",
   "metadata": {},
   "outputs": [],
   "source": [
    "with open('空氣品質指標.csv','wb') as fd:\n",
    "    for chunk in response.iter_content(chunk_size=128):\n",
    "        fd.write(chunk)"
   ]
  }
 ],
 "metadata": {
  "kernelspec": {
   "display_name": "Python 3",
   "language": "python",
   "name": "python3"
  },
  "language_info": {
   "codemirror_mode": {
    "name": "ipython",
    "version": 3
   },
   "file_extension": ".py",
   "mimetype": "text/x-python",
   "name": "python",
   "nbconvert_exporter": "python",
   "pygments_lexer": "ipython3",
   "version": "3.8.7"
  }
 },
 "nbformat": 4,
 "nbformat_minor": 5
}
