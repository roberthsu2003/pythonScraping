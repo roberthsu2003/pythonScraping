{
 "cells": [
  {
   "cell_type": "code",
   "execution_count": 10,
   "id": "288e04a0",
   "metadata": {},
   "outputs": [],
   "source": [
    "from selenium import webdriver\n",
    "from selenium.webdriver.chrome.service import Service\n",
    "from webdriver_manager.chrome import ChromeDriverManager\n",
    "from selenium.webdriver.common.by import By"
   ]
  },
  {
   "cell_type": "code",
   "execution_count": 11,
   "id": "7999d189",
   "metadata": {},
   "outputs": [
    {
     "name": "stderr",
     "output_type": "stream",
     "text": [
      "\n",
      "\n",
      "====== WebDriver manager ======\n",
      "Current google-chrome version is 96.0.4664\n",
      "Get LATEST chromedriver version for 96.0.4664 google-chrome\n",
      "Driver [/Users/alicehsu/.wdm/drivers/chromedriver/mac64/96.0.4664.45/chromedriver] found in cache\n"
     ]
    }
   ],
   "source": [
    "driver = webdriver.Chrome(service=Service(ChromeDriverManager().install()))\n",
    "driver.get('https://tholiday.thsrc.com.tw/agts_thw/index')\n",
    "firstClickBtn = driver.find_element(By.ID,\"GdprConfirm\")\n",
    "firstClickBtn.click()"
   ]
  },
  {
   "cell_type": "code",
   "execution_count": 21,
   "id": "abcc46cd",
   "metadata": {},
   "outputs": [
    {
     "name": "stdout",
     "output_type": "stream",
     "text": [
      "value is:請選擇\n",
      "value is:基隆\n",
      "value is:台北市\n",
      "value is:新北市\n",
      "value is:桃園\n",
      "value is:新竹\n",
      "value is:苗栗\n",
      "value is:台中\n",
      "value is:彰化\n",
      "value is:南投\n"
     ]
    }
   ],
   "source": [
    "destanationElement = driver.find_element(By.ID,\"allCitiesHome\")\n",
    "optionElements = destanationElement.find_elements(By.TAG_NAME,\"option\")\n",
    "for option in optionElements:\n",
    "    print(f\"value is:{option.text}\")\n",
    "    if option.text == \"南投\":\n",
    "        option.click()\n",
    "        break\n",
    "\n",
    "kindElement = driver.find_element(By.ID,\"productTypesHome\")\n",
    "optionElements = kindElement.find_elements(By.TAG_NAME,\"option\")\n",
    "for option in optionElements:\n",
    "    if option.text == \"自由行二日遊\":\n",
    "        option.click()\n",
    "        break\n",
    "        \n",
    "#連結的寫法\n",
    "searchBtn = driver.find_element(By.LINK_TEXT,\"立即搜尋\")\n",
    "searchBtn.click()"
   ]
  },
  {
   "cell_type": "code",
   "execution_count": null,
   "id": "e904444f",
   "metadata": {},
   "outputs": [],
   "source": []
  }
 ],
 "metadata": {
  "kernelspec": {
   "display_name": "Python 3 (ipykernel)",
   "language": "python",
   "name": "python3"
  },
  "language_info": {
   "codemirror_mode": {
    "name": "ipython",
    "version": 3
   },
   "file_extension": ".py",
   "mimetype": "text/x-python",
   "name": "python",
   "nbconvert_exporter": "python",
   "pygments_lexer": "ipython3",
   "version": "3.8.9"
  }
 },
 "nbformat": 4,
 "nbformat_minor": 5
}
