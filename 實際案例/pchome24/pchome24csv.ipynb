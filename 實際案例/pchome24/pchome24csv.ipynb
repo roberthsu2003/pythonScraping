{
 "cells": [
  {
   "cell_type": "code",
   "execution_count": 1,
   "metadata": {},
   "outputs": [],
   "source": [
    "import requests\n",
    "headers = {\n",
    "    'user-agent': 'Mozilla/5.0 (Macintosh; Intel Mac OS X 11_1_0) AppleWebKit/537.36 (KHTML, like Gecko) Chrome/87.0.4280.141 Safari/537.36'\n",
    "}\n",
    "res = requests.get(\"https://24h.pchome.com.tw/sign/3c.htm\",headers = headers)\n",
    "res.encoding = 'utf-8'"
   ]
  },
  {
   "cell_type": "code",
   "execution_count": 2,
   "metadata": {},
   "outputs": [
    {
     "name": "stdout",
     "output_type": "stream",
     "text": [
      "\n",
      "\n",
      "\n",
      "\n",
      "\n",
      "\n",
      "\n",
      "\n",
      "\n",
      "CPU》AMD R7-3800X\n",
      "★限時下殺↘★玩家都愛我★識貨帶我走\n",
      "\n",
      "$9900\n",
      "\n",
      "\n",
      "\n",
      "\n",
      "\n",
      "\n",
      "\n",
      "\n",
      "\n",
      "NAS》acer i7QNAP網路儲存\n",
      "★4Bay/Intel CPU★搭載2.5GbE埠★搭D-Link路由器\n",
      "\n",
      "$18999\n",
      "\n",
      "\n",
      "\n",
      "\n",
      "\n",
      "\n",
      "\n",
      "\n",
      "\n",
      "SSD》Intel760P 2TB PCIe\n",
      "★SSD大佬★過年限定★入手趁現在\n",
      "\n",
      "$8488\n",
      "\n",
      "\n",
      "\n",
      "\n",
      "\n",
      "\n",
      "\n"
     ]
    }
   ],
   "source": [
    "from bs4 import BeautifulSoup\n",
    "soup = BeautifulSoup(res.text,'html.parser')\n",
    "data = soup.find('div',{'id':'BLK04'})\n",
    "print(data.get_text())"
   ]
  },
  {
   "cell_type": "code",
   "execution_count": 3,
   "metadata": {},
   "outputs": [
    {
     "name": "stdout",
     "output_type": "stream",
     "text": [
      "<div class=\"s_border\">\n",
      "<a _node=\"03\" class=\"prod_img\" href=\"//24h.pchome.com.tw/prod/DRAI1O-A900B1HYD\"><img alt=\"\" src=\"//b.ecimg.tw/img/h24/v2/layout/sign/3c/20210212094832_b4-03-120x120.jpg\" title=\"\"/></a>\n",
      "<div class=\"prod_info\">\n",
      "<h5 class=\"prod_name\"><a _node=\"03\" href=\"//24h.pchome.com.tw/prod/DRAI1O-A900B1HYD\"><font color=\"blue\">CPU》</font>AMD<br/> R7-3800X</a></h5>\n",
      "<span class=\"slogan\"><font color=\"red\">★限時下殺↘</font><br/><font color=\"blue\">★玩家都愛我</font><br/><font color=\"blue\">★識貨帶我走</font></span>\n",
      "<ul class=\"price_box\">\n",
      "<li><span class=\"price\">$<span class=\"value\">9900</span></span></li>\n",
      "</ul>\n",
      "</div>\n",
      "</div>\n",
      "==========\n",
      "<div class=\"s_border\">\n",
      "<a _node=\"05\" class=\"prod_img\" href=\"//24h.pchome.com.tw/prod/DRAC3S-1900B4LW9\"><img alt=\"\" src=\"//d.ecimg.tw/img/h24/v2/layout/sign/3c/20210213090226_b4-05-120x120.jpg\" title=\"\"/></a>\n",
      "<div class=\"prod_info\">\n",
      "<h5 class=\"prod_name\"><a _node=\"05\" href=\"//24h.pchome.com.tw/prod/DRAC3S-1900B4LW9\"><font color=\"red\">NAS》</font>acer i7<br/>QNAP網路儲存</a></h5>\n",
      "<span class=\"slogan\"><font color=\"red\">★4Bay/Intel CPU</font><br/><font color=\"blue\">★搭載2.5GbE埠</font><br/><font color=\"blue\">★搭D-Link路由器</font></span>\n",
      "<ul class=\"price_box\">\n",
      "<li><span class=\"price\">$<span class=\"value\">18999</span></span></li>\n",
      "</ul>\n",
      "</div>\n",
      "</div>\n",
      "==========\n",
      "<div class=\"s_border\">\n",
      "<a _node=\"07\" class=\"prod_img\" href=\"//24h.pchome.com.tw/prod/DRAH7H-A9009ABWK\"><img alt=\"\" src=\"//f.ecimg.tw/img/h24/v2/layout/sign/3c/20210213090341_b4-07-120x120.jpg\" title=\"\"/></a>\n",
      "<div class=\"prod_info\">\n",
      "<h5 class=\"prod_name\"><a _node=\"07\" href=\"//24h.pchome.com.tw/prod/DRAH7H-A9009ABWK\"><font color=\"blue\">SSD》</font>Intel<br/>760P 2TB PCIe</a></h5>\n",
      "<span class=\"slogan\"><font color=\"red\">★SSD大佬</font><font color=\"blue\">★過年限定</font><font color=\"blue\">★入手趁現在</font></span>\n",
      "<ul class=\"price_box\">\n",
      "<li><span class=\"price\">$<span class=\"value\">8488</span></span></li>\n",
      "</ul>\n",
      "</div>\n",
      "</div>\n",
      "==========\n"
     ]
    }
   ],
   "source": [
    "from bs4 import BeautifulSoup\n",
    "soup = BeautifulSoup(res.text,'html.parser')\n",
    "data = soup.find('div',{'id':'BLK04'}).find_all('div',{'class':'s_border'})\n",
    "for item in data:\n",
    "    print(item)\n",
    "    print(\"==========\")"
   ]
  },
  {
   "cell_type": "code",
   "execution_count": 4,
   "metadata": {},
   "outputs": [
    {
     "name": "stdout",
     "output_type": "stream",
     "text": [
      "['BeautifulSoup', 'In', 'Out', '_', '__', '___', '__builtin__', '__builtins__', '__doc__', '__loader__', '__name__', '__package__', '__spec__', '_dh', '_i', '_i1', '_i2', '_i3', '_i4', '_ih', '_ii', '_iii', '_oh', 'data', 'exit', 'get_ipython', 'headers', 'item', 'quit', 'requests', 'res', 'soup']\n",
      "CPU》AMD R7-3800X\n",
      "NAS》acer i7QNAP網路儲存\n",
      "SSD》Intel760P 2TB PCIe\n"
     ]
    }
   ],
   "source": [
    "from bs4 import BeautifulSoup\n",
    "soup = BeautifulSoup(res.text,'html.parser')\n",
    "data = soup.find('div',{'id':'BLK04'}).find_all('div',{'class':'s_border'})\n",
    "print(dir())\n",
    "\n",
    "for item in data:\n",
    "    print(item.h5.get_text())"
   ]
  },
  {
   "cell_type": "code",
   "execution_count": 5,
   "metadata": {},
   "outputs": [
    {
     "name": "stdout",
     "output_type": "stream",
     "text": [
      "產品類型 CPU\n",
      "產品名稱 AMD R7-3800X\n",
      "產品類型 NAS\n",
      "產品名稱 acer i7QNAP網路儲存\n",
      "產品類型 SSD\n",
      "產品名稱 Intel760P 2TB PCIe\n"
     ]
    }
   ],
   "source": [
    "from bs4 import BeautifulSoup\n",
    "soup = BeautifulSoup(res.text,'html.parser')\n",
    "data = soup.find('div',{'id':'BLK04'}).find_all('div',{'class':'s_border'})\n",
    "\n",
    "for item in data:\n",
    "    nameAndInfo = item.h5.get_text()\n",
    "    names=nameAndInfo.split(\"》\")\n",
    "    print('產品類型',names[0])\n",
    "    print('產品名稱',names[1])\n",
    "                            "
   ]
  },
  {
   "cell_type": "code",
   "execution_count": 6,
   "metadata": {},
   "outputs": [
    {
     "name": "stdout",
     "output_type": "stream",
     "text": [
      "<a _node=\"03\" class=\"prod_img\" href=\"//24h.pchome.com.tw/prod/DRAI1O-A900B1HYD\"><img alt=\"\" src=\"//b.ecimg.tw/img/h24/v2/layout/sign/3c/20210212094832_b4-03-120x120.jpg\" title=\"\"/></a>\n",
      "產品網址 https://24h.pchome.com.tw/prod/DRAI1O-A900B1HYD\n",
      "圖片網址 https://b.ecimg.tw/img/h24/v2/layout/sign/3c/20210212094832_b4-03-120x120.jpg\n",
      "圖片名稱 20210212094832_b4-03-120x120.jpg\n",
      "<a _node=\"05\" class=\"prod_img\" href=\"//24h.pchome.com.tw/prod/DRAC3S-1900B4LW9\"><img alt=\"\" src=\"//d.ecimg.tw/img/h24/v2/layout/sign/3c/20210213090226_b4-05-120x120.jpg\" title=\"\"/></a>\n",
      "產品網址 https://24h.pchome.com.tw/prod/DRAC3S-1900B4LW9\n",
      "圖片網址 https://d.ecimg.tw/img/h24/v2/layout/sign/3c/20210213090226_b4-05-120x120.jpg\n",
      "圖片名稱 20210213090226_b4-05-120x120.jpg\n",
      "<a _node=\"07\" class=\"prod_img\" href=\"//24h.pchome.com.tw/prod/DRAH7H-A9009ABWK\"><img alt=\"\" src=\"//f.ecimg.tw/img/h24/v2/layout/sign/3c/20210213090341_b4-07-120x120.jpg\" title=\"\"/></a>\n",
      "產品網址 https://24h.pchome.com.tw/prod/DRAH7H-A9009ABWK\n",
      "圖片網址 https://f.ecimg.tw/img/h24/v2/layout/sign/3c/20210213090341_b4-07-120x120.jpg\n",
      "圖片名稱 20210213090341_b4-07-120x120.jpg\n"
     ]
    }
   ],
   "source": [
    "from bs4 import BeautifulSoup\n",
    "soup = BeautifulSoup(res.text,'html.parser')\n",
    "data = soup.find('div',{'id':'BLK04'}).find_all('div',{'class':'s_border'})\n",
    "\n",
    "for item in data:\n",
    "    print(item.a)\n",
    "    productAddress = item.a[\"href\"]\n",
    "    print('產品網址',\"https:\"+productAddress)\n",
    "    imageAddress = item.a.img[\"src\"]\n",
    "    print(\"圖片網址\",\"https:\"+imageAddress)\n",
    "    imageNames = imageAddress.split(\"/\")\n",
    "    imageName = imageNames[len(imageNames)-1]\n",
    "    print(\"圖片名稱\",imageName)"
   ]
  },
  {
   "cell_type": "code",
   "execution_count": 7,
   "metadata": {},
   "outputs": [
    {
     "name": "stdout",
     "output_type": "stream",
     "text": [
      "產品資訊 ★限時下殺↘★玩家都愛我★識貨帶我走\n",
      "產品價格 $9900\n",
      "產品資訊 ★4Bay/Intel CPU★搭載2.5GbE埠★搭D-Link路由器\n",
      "產品價格 $18999\n",
      "產品資訊 ★SSD大佬★過年限定★入手趁現在\n",
      "產品價格 $8488\n"
     ]
    }
   ],
   "source": [
    "from bs4 import BeautifulSoup\n",
    "soup = BeautifulSoup(res.text,'html.parser')\n",
    "data = soup.find('div',{'id':'BLK04'}).find_all('div',{'class':'s_border'})\n",
    "\n",
    "for item in data:\n",
    "    info = item.find('span',{'class','slogan'}).get_text()\n",
    "    print(\"產品資訊\",info)\n",
    "    price = item.find('span',{'class','price'}).get_text()\n",
    "    print(\"產品價格\",price)"
   ]
  },
  {
   "cell_type": "code",
   "execution_count": 8,
   "metadata": {},
   "outputs": [
    {
     "name": "stdout",
     "output_type": "stream",
     "text": [
      "產品類型 CPU\n",
      "產品名稱 AMD R7-3800X\n",
      "產品網址 https://24h.pchome.com.tw/prod/DRAI1O-A900B1HYD\n",
      "圖片網址 https://b.ecimg.tw/img/h24/v2/layout/sign/3c/20210212094832_b4-03-120x120.jpg\n",
      "圖片名稱 20210212094832_b4-03-120x120.jpg\n",
      "產品資訊 ★限時下殺↘★玩家都愛我★識貨帶我走\n",
      "產品價格 $9900\n",
      "產品類型 NAS\n",
      "產品名稱 acer i7QNAP網路儲存\n",
      "產品網址 https://24h.pchome.com.tw/prod/DRAC3S-1900B4LW9\n",
      "圖片網址 https://d.ecimg.tw/img/h24/v2/layout/sign/3c/20210213090226_b4-05-120x120.jpg\n",
      "圖片名稱 20210213090226_b4-05-120x120.jpg\n",
      "產品資訊 ★4Bay/Intel CPU★搭載2.5GbE埠★搭D-Link路由器\n",
      "產品價格 $18999\n",
      "產品類型 SSD\n",
      "產品名稱 Intel760P 2TB PCIe\n",
      "產品網址 https://24h.pchome.com.tw/prod/DRAH7H-A9009ABWK\n",
      "圖片網址 https://f.ecimg.tw/img/h24/v2/layout/sign/3c/20210213090341_b4-07-120x120.jpg\n",
      "圖片名稱 20210213090341_b4-07-120x120.jpg\n",
      "產品資訊 ★SSD大佬★過年限定★入手趁現在\n",
      "產品價格 $8488\n"
     ]
    }
   ],
   "source": [
    "from bs4 import BeautifulSoup\n",
    "soup = BeautifulSoup(res.text,'html.parser')\n",
    "data = soup.find('div',{'id':'BLK04'}).find_all('div',{'class':'s_border'})\n",
    "\n",
    "for item in data:\n",
    "    nameAndInfo = item.h5.get_text()\n",
    "    names=nameAndInfo.split(\"》\")\n",
    "    print('產品類型',names[0])\n",
    "    print('產品名稱',names[1])\n",
    "    productAddress = item.a[\"href\"]\n",
    "    print('產品網址',\"https:\"+productAddress)\n",
    "    imageAddress = item.a.img[\"src\"]\n",
    "    print(\"圖片網址\",\"https:\"+imageAddress)\n",
    "    imageNames = imageAddress.split(\"/\")\n",
    "    imageName = imageNames[len(imageNames)-1]\n",
    "    print(\"圖片名稱\",imageName)\n",
    "    info = item.find('span',{'class','slogan'}).get_text()\n",
    "    print(\"產品資訊\",info)\n",
    "    price = item.find('span',{'class','price'}).get_text()\n",
    "    print(\"產品價格\",price)"
   ]
  },
  {
   "cell_type": "code",
   "execution_count": 9,
   "metadata": {},
   "outputs": [
    {
     "name": "stdout",
     "output_type": "stream",
     "text": [
      "產品類型 CPU\n",
      "產品名稱 AMD R7-3800X\n",
      "產品網址 https://24h.pchome.com.tw/prod/DRAI1O-A900B1HYD\n",
      "圖片網址 https://b.ecimg.tw/img/h24/v2/layout/sign/3c/20210212094832_b4-03-120x120.jpg\n",
      "圖片名稱 20210212094832_b4-03-120x120.jpg\n",
      "產品資訊 ★限時下殺↘★玩家都愛我★識貨帶我走\n",
      "產品價格 $9900\n",
      "產品類型 NAS\n",
      "產品名稱 acer i7QNAP網路儲存\n",
      "產品網址 https://24h.pchome.com.tw/prod/DRAC3S-1900B4LW9\n",
      "圖片網址 https://d.ecimg.tw/img/h24/v2/layout/sign/3c/20210213090226_b4-05-120x120.jpg\n",
      "圖片名稱 20210213090226_b4-05-120x120.jpg\n",
      "產品資訊 ★4Bay/Intel CPU★搭載2.5GbE埠★搭D-Link路由器\n",
      "產品價格 $18999\n",
      "產品類型 SSD\n",
      "產品名稱 Intel760P 2TB PCIe\n",
      "產品網址 https://24h.pchome.com.tw/prod/DRAH7H-A9009ABWK\n",
      "圖片網址 https://f.ecimg.tw/img/h24/v2/layout/sign/3c/20210213090341_b4-07-120x120.jpg\n",
      "圖片名稱 20210213090341_b4-07-120x120.jpg\n",
      "產品資訊 ★SSD大佬★過年限定★入手趁現在\n",
      "產品價格 $8488\n",
      "存檔完成\n"
     ]
    }
   ],
   "source": [
    "from bs4 import BeautifulSoup\n",
    "import csv\n",
    "soup = BeautifulSoup(res.text,'html.parser')\n",
    "data = soup.find('div',{'id':'BLK04'}).find_all('div',{'class':'s_border'})\n",
    "csvfile = open('pchone24.csv','w+')\n",
    "try:\n",
    "    writer=csv.writer(csvfile)\n",
    "    writer.writerow(['產品類型','產品名稱','產品網址','圖片網址','圖片名稱','產品資訊','產品價格'])\n",
    "    for item in data:\n",
    "        nameAndInfo = item.h5.get_text()\n",
    "        names=nameAndInfo.split(\"》\")\n",
    "        print('產品類型',names[0])\n",
    "        print('產品名稱',names[1])\n",
    "        productAddress = \"https:\"+item.a[\"href\"]\n",
    "        print('產品網址',productAddress)\n",
    "        imageAddress = \"https:\"+item.a.img[\"src\"]\n",
    "        print(\"圖片網址\",imageAddress)\n",
    "        imageNames = imageAddress.split(\"/\")\n",
    "        imageName = imageNames[len(imageNames)-1]\n",
    "        print(\"圖片名稱\",imageName)\n",
    "        info = item.find('span',{'class','slogan'}).get_text()\n",
    "        print(\"產品資訊\",info)\n",
    "        price = item.find('span',{'class','price'}).get_text()\n",
    "        print(\"產品價格\",price)\n",
    "        writer.writerow([names[0],names[1],productAddress,imageAddress,imageName,info,price])\n",
    "        \n",
    "finally:\n",
    "    csvfile.close()\n",
    "    print(\"存檔完成\")\n"
   ]
  },
  {
   "cell_type": "code",
   "execution_count": 10,
   "metadata": {},
   "outputs": [
    {
     "name": "stdout",
     "output_type": "stream",
     "text": [
      "產品類型 CPU\n",
      "產品名稱 AMD R7-3800X\n",
      "產品網址 https://24h.pchome.com.tw/prod/DRAI1O-A900B1HYD\n",
      "圖片網址 https://b.ecimg.tw/img/h24/v2/layout/sign/3c/20210212094832_b4-03-120x120.jpg\n",
      "圖片名稱 20210212094832_b4-03-120x120.jpg\n",
      "產品資訊 ★限時下殺↘★玩家都愛我★識貨帶我走\n",
      "產品價格 $9900\n",
      "產品類型 NAS\n",
      "產品名稱 acer i7QNAP網路儲存\n",
      "產品網址 https://24h.pchome.com.tw/prod/DRAC3S-1900B4LW9\n",
      "圖片網址 https://d.ecimg.tw/img/h24/v2/layout/sign/3c/20210213090226_b4-05-120x120.jpg\n",
      "圖片名稱 20210213090226_b4-05-120x120.jpg\n",
      "產品資訊 ★4Bay/Intel CPU★搭載2.5GbE埠★搭D-Link路由器\n",
      "產品價格 $18999\n",
      "產品類型 SSD\n",
      "產品名稱 Intel760P 2TB PCIe\n",
      "產品網址 https://24h.pchome.com.tw/prod/DRAH7H-A9009ABWK\n",
      "圖片網址 https://f.ecimg.tw/img/h24/v2/layout/sign/3c/20210213090341_b4-07-120x120.jpg\n",
      "圖片名稱 20210213090341_b4-07-120x120.jpg\n",
      "產品資訊 ★SSD大佬★過年限定★入手趁現在\n",
      "產品價格 $8488\n",
      "/Users/roberthsu2003/Documents/GitHub/pythonScraping/實際案例/pchome24\n",
      "存檔完成\n"
     ]
    }
   ],
   "source": [
    "from bs4 import BeautifulSoup\n",
    "import csv\n",
    "import os\n",
    "import requests\n",
    "\n",
    "soup = BeautifulSoup(res.text,'html.parser')\n",
    "data = soup.find('div',{'id':'BLK04'}).find_all('div',{'class':'s_border'})\n",
    "csvfile = open('pchone24.csv','w+')\n",
    "try:\n",
    "    writer=csv.writer(csvfile)\n",
    "    writer.writerow(['產品類型','產品名稱','產品網址','圖片網址','圖片名稱','產品資訊','產品價格'])\n",
    "    imageAddresses = []\n",
    "    for item in data:\n",
    "        nameAndInfo = item.h5.get_text()\n",
    "        names=nameAndInfo.split(\"》\")\n",
    "        print('產品類型',names[0])\n",
    "        print('產品名稱',names[1])\n",
    "        productAddress = \"https:\"+item.a[\"href\"]\n",
    "        print('產品網址',productAddress)\n",
    "        imageAddress = \"https:\"+item.a.img[\"src\"]\n",
    "        imageAddresses.append(imageAddress)\n",
    "        print(\"圖片網址\",imageAddress)\n",
    "        imageNames = imageAddress.split(\"/\")\n",
    "        imageName = imageNames[len(imageNames)-1]\n",
    "        print(\"圖片名稱\",imageName)\n",
    "        info = item.find('span',{'class','slogan'}).get_text()\n",
    "        print(\"產品資訊\",info)\n",
    "        price = item.find('span',{'class','price'}).get_text()\n",
    "        print(\"產品價格\",price)\n",
    "        writer.writerow([names[0],names[1],productAddress,imageAddress,imageName,info,price])\n",
    "    \n",
    "    #下載圖片\n",
    "    print(os.path.abspath(''))\n",
    "    \n",
    "    directory = os.path.abspath('')+\"/photos\"\n",
    "    if not os.path.exists(directory):\n",
    "        os.makedirs(directory)\n",
    "    \n",
    "    for address in imageAddresses:\n",
    "        r = requests.get(address, stream=True)\n",
    "        filename = r.url.split('/')[-1:]        \n",
    "        with open(directory+'/'+filename[0],'wb') as fd:\n",
    "            for chunk in r.iter_content(chunk_size=128):\n",
    "                fd.write(chunk)\n",
    "    \n",
    "    \n",
    "        \n",
    "finally:\n",
    "    csvfile.close()\n",
    "    print(\"存檔完成\")"
   ]
  },
  {
   "cell_type": "code",
   "execution_count": null,
   "metadata": {},
   "outputs": [],
   "source": []
  }
 ],
 "metadata": {
  "kernelspec": {
   "display_name": "Python 3",
   "language": "python",
   "name": "python3"
  },
  "language_info": {
   "codemirror_mode": {
    "name": "ipython",
    "version": 3
   },
   "file_extension": ".py",
   "mimetype": "text/x-python",
   "name": "python",
   "nbconvert_exporter": "python",
   "pygments_lexer": "ipython3",
   "version": "3.8.3"
  }
 },
 "nbformat": 4,
 "nbformat_minor": 4
}
