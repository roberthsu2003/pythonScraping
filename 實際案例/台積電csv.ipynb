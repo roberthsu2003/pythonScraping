{
 "cells": [
  {
   "cell_type": "code",
   "execution_count": 2,
   "metadata": {},
   "outputs": [],
   "source": [
    "import requests\n",
    "headers = {\n",
    "    'user-agent': 'Mozilla/5.0 (Macintosh; Intel Mac OS X 11_1_0) AppleWebKit/537.36 (KHTML, like Gecko) Chrome/87.0.4280.141 Safari/537.36'\n",
    "}\n",
    "res = requests.get(\"https://goodinfo.tw/StockInfo/StockBzPerformance.asp?STOCK_ID=2330\",headers = headers)\n",
    "res.encoding = 'utf-8'\n"
   ]
  },
  {
   "cell_type": "code",
   "execution_count": 3,
   "metadata": {
    "tags": [
     "outputPrepend"
    ]
   },
   "outputs": [
    {
     "output_type": "stream",
     "name": "stdout",
     "text": [
      "T_CAT2=DATE\" target=\"_self\" title=\"查看個股日K線圖\">-36.6</a></nobr></td><td><nobr><a class=\"link_black\" href=\"StockFinDetail.asp?RPT_CAT=IS_M_YEAR&amp;LAST_RPT_CAT=IS_M_YEAR&amp;STOCK_ID=2330&amp;QRY_TIME=1998\" target=\"_self\" title=\"查看1998損益表\">504</a></nobr></td><td><nobr><a class=\"link_black\" href=\"StockFinDetail.asp?RPT_CAT=IS_M_YEAR&amp;LAST_RPT_CAT=IS_M_YEAR&amp;STOCK_ID=2330&amp;QRY_TIME=1998\" target=\"_self\" title=\"查看1998損益表\">181</a></nobr></td><td><nobr><a class=\"link_black\" href=\"StockFinDetail.asp?RPT_CAT=IS_M_YEAR&amp;LAST_RPT_CAT=IS_M_YEAR&amp;STOCK_ID=2330&amp;QRY_TIME=1998\" target=\"_self\" title=\"查看1998損益表\">138</a></nobr></td><td><nobr><a class=\"link_green\" href=\"StockFinDetail.asp?RPT_CAT=IS_M_YEAR&amp;LAST_RPT_CAT=IS_M_YEAR&amp;STOCK_ID=2330&amp;QRY_TIME=1998\" target=\"_self\" title=\"查看1998損益表\">-11.4</a></nobr></td><td><nobr><a class=\"link_black\" href=\"StockFinDetail.asp?RPT_CAT=IS_M_YEAR&amp;LAST_RPT_CAT=IS_M_YEAR&amp;STOCK_ID=2330&amp;QRY_TIME=1998\" target=\"_self\" title=\"查看1998損益表\">153</a></nobr></td><td><nobr><a class=\"link_black\" href=\"StockFinDetail.asp?RPT_CAT=XX_M_YEAR&amp;LAST_RPT_CAT=XX_M_YEAR&amp;STOCK_ID=2330&amp;QRY_TIME=1998\" target=\"_self\" title=\"查看1998財務比率表\">36</a></nobr></td><td><nobr><a class=\"link_black\" href=\"StockFinDetail.asp?RPT_CAT=XX_M_YEAR&amp;LAST_RPT_CAT=XX_M_YEAR&amp;STOCK_ID=2330&amp;QRY_TIME=1998\" target=\"_self\" title=\"查看1998財務比率表\">27.4</a></nobr></td><td><nobr><a class=\"link_green\" href=\"StockFinDetail.asp?RPT_CAT=XX_M_YEAR&amp;LAST_RPT_CAT=XX_M_YEAR&amp;STOCK_ID=2330&amp;QRY_TIME=1998\" target=\"_self\" title=\"查看1998財務比率表\">-2.27</a></nobr></td><td><nobr><a class=\"link_black\" href=\"StockFinDetail.asp?RPT_CAT=XX_M_YEAR&amp;LAST_RPT_CAT=XX_M_YEAR&amp;STOCK_ID=2330&amp;QRY_TIME=1998\" target=\"_self\" title=\"查看1998財務比率表\">30.4</a></nobr></td><td><nobr><a class=\"link_black\" href=\"StockFinDetail.asp?RPT_CAT=XX_M_YEAR&amp;LAST_RPT_CAT=XX_M_YEAR&amp;STOCK_ID=2330&amp;QRY_TIME=1998\" target=\"_self\" title=\"查看1998財務比率表\">20</a></nobr></td><td><nobr><a class=\"link_black\" href=\"StockFinDetail.asp?RPT_CAT=XX_M_YEAR&amp;LAST_RPT_CAT=XX_M_YEAR&amp;STOCK_ID=2330&amp;QRY_TIME=1998\" target=\"_self\" title=\"查看1998財務比率表\">11.6</a></nobr></td><td><nobr><a class=\"link_black\" href=\"StockFinDetail.asp?RPT_CAT=XX_M_YEAR&amp;LAST_RPT_CAT=XX_M_YEAR&amp;STOCK_ID=2330&amp;QRY_TIME=1998\" target=\"_self\" title=\"查看1998財務比率表\">2.54</a></nobr></td><td><nobr><a class=\"link_green\" href=\"StockFinDetail.asp?RPT_CAT=XX_M_YEAR&amp;LAST_RPT_CAT=XX_M_YEAR&amp;STOCK_ID=2330&amp;QRY_TIME=1998\" target=\"_self\" title=\"查看1998財務比率表\">-1.86</a></nobr></td><td><nobr><a class=\"link_black\" href=\"StockFinDetail.asp?RPT_CAT=BS_M_YEAR&amp;LAST_RPT_CAT=BS_M_YEAR&amp;STOCK_ID=2330&amp;QRY_TIME=1998\" target=\"_self\" title=\"查看1998資產負債表\">13.9</a></nobr></td></tr>\n======\n<tr align=\"center\" bgcolor=\"#ffffff\" height=\"23px\" id=\"row24\" onmouseout=\"ChgBGColor(['rowh24','row24'],'#ffffff');\" onmouseover=\"ChgBGColor(['rowh24','row24'],'#fff2cc');\"><td><nobr>1997</nobr></td><td><nobr><a class=\"link_black\" href=\"StockFinDetail.asp?RPT_CAT=BS_M_YEAR&amp;LAST_RPT_CAT=BS_M_YEAR&amp;STOCK_ID=2330&amp;QRY_TIME=1997\" target=\"_self\" title=\"查看1997資產負債表\">408</a></nobr></td><td><nobr><a class=\"link_red\" href=\"StockFinGrade.asp?STOCK_ID=2330&amp;QRY_TIME=1997&amp;RPT_CAT=M_YEAR\" target=\"_self\" title=\"查看1997財報評分\">83</a></nobr></td><td><nobr><a class=\"link_black\" href=\"ShowK_Chart.asp?STOCK_ID=2330&amp;CHT_NM=%E5%80%8B%E8%82%A1K%E7%B7%9A%E5%9C%96&amp;CHT_CAT=%E6%97%A5%E7%B7%9A%E5%9C%96&amp;CHT_CAT2=DATE\" target=\"_self\" title=\"查看個股日K線圖\">112</a></nobr></td><td><nobr><a class=\"link_black\" href=\"ShowK_Chart.asp?STOCK_ID=2330&amp;CHT_NM=%E5%80%8B%E8%82%A1K%E7%B7%9A%E5%9C%96&amp;CHT_CAT=%E6%97%A5%E7%B7%9A%E5%9C%96&amp;CHT_CAT2=DATE\" target=\"_self\" title=\"查看個股日K線圖\">109</a></nobr></td><td><nobr><a class=\"link_red\" href=\"ShowK_Chart.asp?STOCK_ID=2330&amp;CHT_NM=%E5%80%8B%E8%82%A1K%E7%B7%9A%E5%9C%96&amp;CHT_CAT=%E6%97%A5%E7%B7%9A%E5%9C%96&amp;CHT_CAT2=DATE\" target=\"_self\" title=\"查看個股日K線圖\">+55.5</a></nobr></td><td><nobr><a class=\"link_red\" href=\"ShowK_Chart.asp?STOCK_ID=2330&amp;CHT_NM=%E5%80%8B%E8%82%A1K%E7%B7%9A%E5%9C%96&amp;CHT_CAT=%E6%97%A5%E7%B7%9A%E5%9C%96&amp;CHT_CAT2=DATE\" target=\"_self\" title=\"查看個股日K線圖\">+98.2</a></nobr></td><td><nobr><a class=\"link_black\" href=\"StockFinDetail.asp?RPT_CAT=IS_M_YEAR&amp;LAST_RPT_CAT=IS_M_YEAR&amp;STOCK_ID=2330&amp;QRY_TIME=1997\" target=\"_self\" title=\"查看1997損益表\">439</a></nobr></td><td><nobr><a class=\"link_black\" href=\"StockFinDetail.asp?RPT_CAT=IS_M_YEAR&amp;LAST_RPT_CAT=IS_M_YEAR&amp;STOCK_ID=2330&amp;QRY_TIME=1997\" target=\"_self\" title=\"查看1997損益表\">211</a></nobr></td><td><nobr><a class=\"link_black\" href=\"StockFinDetail.asp?RPT_CAT=IS_M_YEAR&amp;LAST_RPT_CAT=IS_M_YEAR&amp;STOCK_ID=2330&amp;QRY_TIME=1997\" target=\"_self\" title=\"查看1997損益表\">149</a></nobr></td><td><nobr><a class=\"link_black\" href=\"StockFinDetail.asp?RPT_CAT=IS_M_YEAR&amp;LAST_RPT_CAT=IS_M_YEAR&amp;STOCK_ID=2330&amp;QRY_TIME=1997\" target=\"_self\" title=\"查看1997損益表\">4</a></nobr></td><td><nobr><a class=\"link_black\" href=\"StockFinDetail.asp?RPT_CAT=IS_M_YEAR&amp;LAST_RPT_CAT=IS_M_YEAR&amp;STOCK_ID=2330&amp;QRY_TIME=1997\" target=\"_self\" title=\"查看1997損益表\">180</a></nobr></td><td><nobr><a class=\"link_black\" href=\"StockFinDetail.asp?RPT_CAT=XX_M_YEAR&amp;LAST_RPT_CAT=XX_M_YEAR&amp;STOCK_ID=2330&amp;QRY_TIME=1997\" target=\"_self\" title=\"查看1997財務比率表\">48</a></nobr></td><td><nobr><a class=\"link_black\" href=\"StockFinDetail.asp?RPT_CAT=XX_M_YEAR&amp;LAST_RPT_CAT=XX_M_YEAR&amp;STOCK_ID=2330&amp;QRY_TIME=1997\" target=\"_self\" title=\"查看1997財務比率表\">34</a></nobr></td><td><nobr><a class=\"link_black\" href=\"StockFinDetail.asp?RPT_CAT=XX_M_YEAR&amp;LAST_RPT_CAT=XX_M_YEAR&amp;STOCK_ID=2330&amp;QRY_TIME=1997\" target=\"_self\" title=\"查看1997財務比率表\">0.91</a></nobr></td><td><nobr><a class=\"link_black\" href=\"StockFinDetail.asp?RPT_CAT=XX_M_YEAR&amp;LAST_RPT_CAT=XX_M_YEAR&amp;STOCK_ID=2330&amp;QRY_TIME=1997\" target=\"_self\" title=\"查看1997財務比率表\">40.9</a></nobr></td><td><nobr><a class=\"link_black\" href=\"StockFinDetail.asp?RPT_CAT=XX_M_YEAR&amp;LAST_RPT_CAT=XX_M_YEAR&amp;STOCK_ID=2330&amp;QRY_TIME=1997\" target=\"_self\" title=\"查看1997財務比率表\">29.6</a></nobr></td><td><nobr><a class=\"link_black\" href=\"StockFinDetail.asp?RPT_CAT=XX_M_YEAR&amp;LAST_RPT_CAT=XX_M_YEAR&amp;STOCK_ID=2330&amp;QRY_TIME=1997\" target=\"_self\" title=\"查看1997財務比率表\">17.7</a></nobr></td><td><nobr><a class=\"link_black\" href=\"StockFinDetail.asp?RPT_CAT=XX_M_YEAR&amp;LAST_RPT_CAT=XX_M_YEAR&amp;STOCK_ID=2330&amp;QRY_TIME=1997\" target=\"_self\" title=\"查看1997財務比率表\">4.4</a></nobr></td><td><nobr><a class=\"link_green\" href=\"StockFinDetail.asp?RPT_CAT=XX_M_YEAR&amp;LAST_RPT_CAT=XX_M_YEAR&amp;STOCK_ID=2330&amp;QRY_TIME=1997\" target=\"_self\" title=\"查看1997財務比率表\">-2.91</a></nobr></td><td><nobr><a class=\"link_black\" href=\"StockFinDetail.asp?RPT_CAT=BS_M_YEAR&amp;LAST_RPT_CAT=BS_M_YEAR&amp;STOCK_ID=2330&amp;QRY_TIME=1997\" target=\"_self\" title=\"查看1997資產負債表\">17</a></nobr></td></tr>\n======\n<tr align=\"center\" bgcolor=\"#f0f0f0\" height=\"23px\" id=\"row25\" onmouseout=\"ChgBGColor(['rowh25','row25'],'#f0f0f0');\" onmouseover=\"ChgBGColor(['rowh25','row25'],'#fff2cc');\"><td><nobr>1996</nobr></td><td><nobr><a class=\"link_black\" href=\"StockFinDetail.asp?RPT_CAT=BS_M_YEAR&amp;LAST_RPT_CAT=BS_M_YEAR&amp;STOCK_ID=2330&amp;QRY_TIME=1996\" target=\"_self\" title=\"查看1996資產負債表\">265</a></nobr></td><td><nobr><a class=\"link_red\" href=\"StockFinGrade.asp?STOCK_ID=2330&amp;QRY_TIME=1996&amp;RPT_CAT=M_YEAR\" target=\"_self\" title=\"查看1996財報評分\">94</a></nobr></td><td><nobr><a class=\"link_black\" href=\"ShowK_Chart.asp?STOCK_ID=2330&amp;CHT_NM=%E5%80%8B%E8%82%A1K%E7%B7%9A%E5%9C%96&amp;CHT_CAT=%E6%97%A5%E7%B7%9A%E5%9C%96&amp;CHT_CAT2=DATE\" target=\"_self\" title=\"查看個股日K線圖\">56.5</a></nobr></td><td><nobr><a class=\"link_black\" href=\"ShowK_Chart.asp?STOCK_ID=2330&amp;CHT_NM=%E5%80%8B%E8%82%A1K%E7%B7%9A%E5%9C%96&amp;CHT_CAT=%E6%97%A5%E7%B7%9A%E5%9C%96&amp;CHT_CAT2=DATE\" target=\"_self\" title=\"查看個股日K線圖\">63.8</a></nobr></td><td><nobr><a class=\"link_green\" href=\"ShowK_Chart.asp?STOCK_ID=2330&amp;CHT_NM=%E5%80%8B%E8%82%A1K%E7%B7%9A%E5%9C%96&amp;CHT_CAT=%E6%97%A5%E7%B7%9A%E5%9C%96&amp;CHT_CAT2=DATE\" target=\"_self\" title=\"查看個股日K線圖\">-28.5</a></nobr></td><td><nobr><a class=\"link_green\" href=\"ShowK_Chart.asp?STOCK_ID=2330&amp;CHT_NM=%E5%80%8B%E8%82%A1K%E7%B7%9A%E5%9C%96&amp;CHT_CAT=%E6%97%A5%E7%B7%9A%E5%9C%96&amp;CHT_CAT2=DATE\" target=\"_self\" title=\"查看個股日K線圖\">-33.5</a></nobr></td><td><nobr><a class=\"link_black\" href=\"StockFinDetail.asp?RPT_CAT=IS_M_YEAR&amp;LAST_RPT_CAT=IS_M_YEAR&amp;STOCK_ID=2330&amp;QRY_TIME=1996\" target=\"_self\" title=\"查看1996損益表\">394</a></nobr></td><td><nobr><a class=\"link_black\" href=\"StockFinDetail.asp?RPT_CAT=IS_M_YEAR&amp;LAST_RPT_CAT=IS_M_YEAR&amp;STOCK_ID=2330&amp;QRY_TIME=1996\" target=\"_self\" title=\"查看1996損益表\">220</a></nobr></td><td><nobr><a class=\"link_black\" href=\"StockFinDetail.asp?RPT_CAT=IS_M_YEAR&amp;LAST_RPT_CAT=IS_M_YEAR&amp;STOCK_ID=2330&amp;QRY_TIME=1996\" target=\"_self\" title=\"查看1996損益表\">182</a></nobr></td><td><nobr><a class=\"link_black\" href=\"StockFinDetail.asp?RPT_CAT=IS_M_YEAR&amp;LAST_RPT_CAT=IS_M_YEAR&amp;STOCK_ID=2330&amp;QRY_TIME=1996\" target=\"_self\" title=\"查看1996損益表\">8.04</a></nobr></td><td><nobr><a class=\"link_black\" href=\"StockFinDetail.asp?RPT_CAT=IS_M_YEAR&amp;LAST_RPT_CAT=IS_M_YEAR&amp;STOCK_ID=2330&amp;QRY_TIME=1996\" target=\"_self\" title=\"查看1996損益表\">194</a></nobr></td><td><nobr><a class=\"link_black\" href=\"StockFinDetail.asp?RPT_CAT=XX_M_YEAR&amp;LAST_RPT_CAT=XX_M_YEAR&amp;STOCK_ID=2330&amp;QRY_TIME=1996\" target=\"_self\" title=\"查看1996財務比率表\">55.8</a></nobr></td><td><nobr><a class=\"link_black\" href=\"StockFinDetail.asp?RPT_CAT=XX_M_YEAR&amp;LAST_RPT_CAT=XX_M_YEAR&amp;STOCK_ID=2330&amp;QRY_TIME=1996\" target=\"_self\" title=\"查看1996財務比率表\">46.3</a></nobr></td><td><nobr><a class=\"link_black\" href=\"StockFinDetail.asp?RPT_CAT=XX_M_YEAR&amp;LAST_RPT_CAT=XX_M_YEAR&amp;STOCK_ID=2330&amp;QRY_TIME=1996\" target=\"_self\" title=\"查看1996財務比率表\">2.04</a></nobr></td><td><nobr><a class=\"link_black\" href=\"StockFinDetail.asp?RPT_CAT=XX_M_YEAR&amp;LAST_RPT_CAT=XX_M_YEAR&amp;STOCK_ID=2330&amp;QRY_TIME=1996\" target=\"_self\" title=\"查看1996財務比率表\">49.2</a></nobr></td><td><nobr><a class=\"link_black\" href=\"StockFinDetail.asp?RPT_CAT=XX_M_YEAR&amp;LAST_RPT_CAT=XX_M_YEAR&amp;STOCK_ID=2330&amp;QRY_TIME=1996\" target=\"_self\" title=\"查看1996財務比率表\">45.3</a></nobr></td><td><nobr><a class=\"link_black\" href=\"StockFinDetail.asp?RPT_CAT=XX_M_YEAR&amp;LAST_RPT_CAT=XX_M_YEAR&amp;STOCK_ID=2330&amp;QRY_TIME=1996\" target=\"_self\" title=\"查看1996財務比率表\">30.5</a></nobr></td><td><nobr><a class=\"link_black\" href=\"StockFinDetail.asp?RPT_CAT=XX_M_YEAR&amp;LAST_RPT_CAT=XX_M_YEAR&amp;STOCK_ID=2330&amp;QRY_TIME=1996\" target=\"_self\" title=\"查看1996財務比率表\">7.31</a></nobr></td><td><nobr><a class=\"link_green\" href=\"StockFinDetail.asp?RPT_CAT=XX_M_YEAR&amp;LAST_RPT_CAT=XX_M_YEAR&amp;STOCK_ID=2330&amp;QRY_TIME=1996\" target=\"_self\" title=\"查看1996財務比率表\">-3.17</a></nobr></td><td><nobr><a class=\"link_black\" href=\"StockFinDetail.asp?RPT_CAT=BS_M_YEAR&amp;LAST_RPT_CAT=BS_M_YEAR&amp;STOCK_ID=2330&amp;QRY_TIME=1996\" target=\"_self\" title=\"查看1996資產負債表\">19.63</a></nobr></td></tr>\n======\n<tr align=\"center\" bgcolor=\"#ffffff\" height=\"23px\" id=\"row26\" onmouseout=\"ChgBGColor(['rowh26','row26'],'#ffffff');\" onmouseover=\"ChgBGColor(['rowh26','row26'],'#fff2cc');\"><td><nobr>1995</nobr></td><td><nobr><a class=\"link_black\" href=\"StockFinDetail.asp?RPT_CAT=BS_M_YEAR&amp;LAST_RPT_CAT=BS_M_YEAR&amp;STOCK_ID=2330&amp;QRY_TIME=1995\" target=\"_self\" title=\"查看1995資產負債表\">144</a></nobr></td><td><nobr><a class=\"link_red\" href=\"StockFinGrade.asp?STOCK_ID=2330&amp;QRY_TIME=1995&amp;RPT_CAT=M_YEAR\" target=\"_self\" title=\"查看1995財報評分\">91</a></nobr></td><td><nobr><a class=\"link_black\" href=\"ShowK_Chart.asp?STOCK_ID=2330&amp;CHT_NM=%E5%80%8B%E8%82%A1K%E7%B7%9A%E5%9C%96&amp;CHT_CAT=%E6%97%A5%E7%B7%9A%E5%9C%96&amp;CHT_CAT2=DATE\" target=\"_self\" title=\"查看個股日K線圖\">85</a></nobr></td><td><nobr><a class=\"link_black\" href=\"ShowK_Chart.asp?STOCK_ID=2330&amp;CHT_NM=%E5%80%8B%E8%82%A1K%E7%B7%9A%E5%9C%96&amp;CHT_CAT=%E6%97%A5%E7%B7%9A%E5%9C%96&amp;CHT_CAT2=DATE\" target=\"_self\" title=\"查看個股日K線圖\">128</a></nobr></td><td><nobr><a class=\"link_green\" href=\"ShowK_Chart.asp?STOCK_ID=2330&amp;CHT_NM=%E5%80%8B%E8%82%A1K%E7%B7%9A%E5%9C%96&amp;CHT_CAT=%E6%97%A5%E7%B7%9A%E5%9C%96&amp;CHT_CAT2=DATE\" target=\"_self\" title=\"查看個股日K線圖\">-72</a></nobr></td><td><nobr><a class=\"link_green\" href=\"ShowK_Chart.asp?STOCK_ID=2330&amp;CHT_NM=%E5%80%8B%E8%82%A1K%E7%B7%9A%E5%9C%96&amp;CHT_CAT=%E6%97%A5%E7%B7%9A%E5%9C%96&amp;CHT_CAT2=DATE\" target=\"_self\" title=\"查看個股日K線圖\">-45.9</a></nobr></td><td><nobr><a class=\"link_black\" href=\"StockFinDetail.asp?RPT_CAT=IS_M_YEAR&amp;LAST_RPT_CAT=IS_M_YEAR&amp;STOCK_ID=2330&amp;QRY_TIME=1995\" target=\"_self\" title=\"查看1995損益表\">288</a></nobr></td><td><nobr><a class=\"link_black\" href=\"StockFinDetail.asp?RPT_CAT=IS_M_YEAR&amp;LAST_RPT_CAT=IS_M_YEAR&amp;STOCK_ID=2330&amp;QRY_TIME=1995\" target=\"_self\" title=\"查看1995損益表\">161</a></nobr></td><td><nobr><a class=\"link_black\" href=\"StockFinDetail.asp?RPT_CAT=IS_M_YEAR&amp;LAST_RPT_CAT=IS_M_YEAR&amp;STOCK_ID=2330&amp;QRY_TIME=1995\" target=\"_self\" title=\"查看1995損益表\">139</a></nobr></td><td><nobr><a class=\"link_black\" href=\"StockFinDetail.asp?RPT_CAT=IS_M_YEAR&amp;LAST_RPT_CAT=IS_M_YEAR&amp;STOCK_ID=2330&amp;QRY_TIME=1995\" target=\"_self\" title=\"查看1995損益表\">4.18</a></nobr></td><td><nobr><a class=\"link_black\" href=\"StockFinDetail.asp?RPT_CAT=IS_M_YEAR&amp;LAST_RPT_CAT=IS_M_YEAR&amp;STOCK_ID=2330&amp;QRY_TIME=1995\" target=\"_self\" title=\"查看1995損益表\">151</a></nobr></td><td><nobr><a class=\"link_black\" href=\"StockFinDetail.asp?RPT_CAT=XX_M_YEAR&amp;LAST_RPT_CAT=XX_M_YEAR&amp;STOCK_ID=2330&amp;QRY_TIME=1995\" target=\"_self\" title=\"查看1995財務比率表\">56</a></nobr></td><td><nobr><a class=\"link_black\" href=\"StockFinDetail.asp?RPT_CAT=XX_M_YEAR&amp;LAST_RPT_CAT=XX_M_YEAR&amp;STOCK_ID=2330&amp;QRY_TIME=1995\" target=\"_self\" title=\"查看1995財務比率表\">48.3</a></nobr></td><td><nobr><a class=\"link_black\" href=\"StockFinDetail.asp?RPT_CAT=XX_M_YEAR&amp;LAST_RPT_CAT=XX_M_YEAR&amp;STOCK_ID=2330&amp;QRY_TIME=1995\" target=\"_self\" title=\"查看1995財務比率表\">1.45</a></nobr></td><td><nobr><a class=\"link_black\" href=\"StockFinDetail.asp?RPT_CAT=XX_M_YEAR&amp;LAST_RPT_CAT=XX_M_YEAR&amp;STOCK_ID=2330&amp;QRY_TIME=1995\" target=\"_self\" title=\"查看1995財務比率表\">52.4</a></nobr></td><td><nobr><a class=\"link_black\" href=\"StockFinDetail.asp?RPT_CAT=XX_M_YEAR&amp;LAST_RPT_CAT=XX_M_YEAR&amp;STOCK_ID=2330&amp;QRY_TIME=1995\" target=\"_self\" title=\"查看1995財務比率表\">44.9</a></nobr></td><td><nobr><a class=\"link_black\" href=\"StockFinDetail.asp?RPT_CAT=XX_M_YEAR&amp;LAST_RPT_CAT=XX_M_YEAR&amp;STOCK_ID=2330&amp;QRY_TIME=1995\" target=\"_self\" title=\"查看1995財務比率表\">31.2</a></nobr></td><td><nobr><a class=\"link_black\" href=\"StockFinDetail.asp?RPT_CAT=XX_M_YEAR&amp;LAST_RPT_CAT=XX_M_YEAR&amp;STOCK_ID=2330&amp;QRY_TIME=1995\" target=\"_self\" title=\"查看1995財務比率表\">10.48</a></nobr></td><td><nobr><a class=\"link_green\" href=\"StockFinDetail.asp?RPT_CAT=XX_M_YEAR&amp;LAST_RPT_CAT=XX_M_YEAR&amp;STOCK_ID=2330&amp;QRY_TIME=1995\" target=\"_self\" title=\"查看1995財務比率表\">-0.38</a></nobr></td><td><nobr><a class=\"link_black\" href=\"StockFinDetail.asp?RPT_CAT=BS_M_YEAR&amp;LAST_RPT_CAT=BS_M_YEAR&amp;STOCK_ID=2330&amp;QRY_TIME=1995\" target=\"_self\" title=\"查看1995資產負債表\">23.34</a></nobr></td></tr>\n======\n<tr align=\"center\" bgcolor=\"#f0f0f0\" height=\"23px\" id=\"row27\" onmouseout=\"ChgBGColor(['rowh27','row27'],'#f0f0f0');\" onmouseover=\"ChgBGColor(['rowh27','row27'],'#fff2cc');\"><td><nobr>1994</nobr></td><td><nobr><a class=\"link_black\" href=\"StockFinDetail.asp?RPT_CAT=BS_M_YEAR&amp;LAST_RPT_CAT=BS_M_YEAR&amp;STOCK_ID=2330&amp;QRY_TIME=1994\" target=\"_self\" title=\"查看1994資產負債表\">78</a></nobr></td><td><nobr>-</nobr></td><td><nobr><a class=\"link_black\" href=\"ShowK_Chart.asp?STOCK_ID=2330&amp;CHT_NM=%E5%80%8B%E8%82%A1K%E7%B7%9A%E5%9C%96&amp;CHT_CAT=%E6%97%A5%E7%B7%9A%E5%9C%96&amp;CHT_CAT2=DATE\" target=\"_self\" title=\"查看個股日K線圖\">157</a></nobr></td><td><nobr><a class=\"link_black\" href=\"ShowK_Chart.asp?STOCK_ID=2330&amp;CHT_NM=%E5%80%8B%E8%82%A1K%E7%B7%9A%E5%9C%96&amp;CHT_CAT=%E6%97%A5%E7%B7%9A%E5%9C%96&amp;CHT_CAT2=DATE\" target=\"_self\" title=\"查看個股日K線圖\">159</a></nobr></td><td><nobr><a class=\"link_red\" href=\"ShowK_Chart.asp?STOCK_ID=2330&amp;CHT_NM=%E5%80%8B%E8%82%A1K%E7%B7%9A%E5%9C%96&amp;CHT_CAT=%E6%97%A5%E7%B7%9A%E5%9C%96&amp;CHT_CAT2=DATE\" target=\"_self\" title=\"查看個股日K線圖\">+61</a></nobr></td><td><nobr><a class=\"link_red\" href=\"ShowK_Chart.asp?STOCK_ID=2330&amp;CHT_NM=%E5%80%8B%E8%82%A1K%E7%B7%9A%E5%9C%96&amp;CHT_CAT=%E6%97%A5%E7%B7%9A%E5%9C%96&amp;CHT_CAT2=DATE\" target=\"_self\" title=\"查看個股日K線圖\">+63.5</a></nobr></td><td><nobr>-</nobr></td><td><nobr>-</nobr></td><td><nobr>-</nobr></td><td><nobr>-</nobr></td><td><nobr><a class=\"link_black\" href=\"StockFinDetail.asp?RPT_CAT=IS_M_YEAR&amp;LAST_RPT_CAT=IS_M_YEAR&amp;STOCK_ID=2330&amp;QRY_TIME=1994\" target=\"_self\" title=\"查看1994損益表\">84.7</a></nobr></td><td><nobr>-</nobr></td><td><nobr>-</nobr></td><td><nobr>-</nobr></td><td><nobr>-</nobr></td><td><nobr>-</nobr></td><td><nobr>-</nobr></td><td><nobr><a class=\"link_black\" href=\"StockFinDetail.asp?RPT_CAT=XX_M_YEAR&amp;LAST_RPT_CAT=XX_M_YEAR&amp;STOCK_ID=2330&amp;QRY_TIME=1994\" target=\"_self\" title=\"查看1994財務比率表\">10.86</a></nobr></td><td><nobr>-</nobr></td><td><nobr><a class=\"link_black\" href=\"StockFinDetail.asp?RPT_CAT=BS_M_YEAR&amp;LAST_RPT_CAT=BS_M_YEAR&amp;STOCK_ID=2330&amp;QRY_TIME=1994\" target=\"_self\" title=\"查看1994資產負債表\">24.14</a></nobr></td></tr>\n======\n<tr align=\"center\" bgcolor=\"#ffffff\" height=\"23px\" id=\"row28\" onmouseout=\"ChgBGColor(['rowh28','row28'],'#ffffff');\" onmouseover=\"ChgBGColor(['rowh28','row28'],'#fff2cc');\"><td><nobr>1993</nobr></td><td><nobr>-</nobr></td><td><nobr>-</nobr></td><td><nobr>-</nobr></td><td><nobr>-</nobr></td><td><nobr>-</nobr></td><td><nobr>-</nobr></td><td><nobr>-</nobr></td><td><nobr>-</nobr></td><td><nobr>-</nobr></td><td><nobr>-</nobr></td><td><nobr>-</nobr></td><td><nobr>-</nobr></td><td><nobr>-</nobr></td><td><nobr>-</nobr></td><td><nobr>-</nobr></td><td><nobr>-</nobr></td><td><nobr>-</nobr></td><td><nobr>-</nobr></td><td><nobr>-</nobr></td><td><nobr><a class=\"link_black\" href=\"StockFinDetail.asp?RPT_CAT=BS_M_YEAR&amp;LAST_RPT_CAT=BS_M_YEAR&amp;STOCK_ID=2330&amp;QRY_TIME=1993\" target=\"_self\" title=\"查看1993資產負債表\">18.25</a></nobr></td></tr>\n======\n<tr align=\"center\" bgcolor=\"#f0f0f0\" height=\"23px\" id=\"row29\" onmouseout=\"ChgBGColor(['rowh29','row29'],'#f0f0f0');\" onmouseover=\"ChgBGColor(['rowh29','row29'],'#fff2cc');\"><td><nobr>1992</nobr></td><td><nobr>-</nobr></td><td><nobr>-</nobr></td><td><nobr>-</nobr></td><td><nobr>-</nobr></td><td><nobr>-</nobr></td><td><nobr>-</nobr></td><td><nobr>-</nobr></td><td><nobr>-</nobr></td><td><nobr>-</nobr></td><td><nobr>-</nobr></td><td><nobr>-</nobr></td><td><nobr>-</nobr></td><td><nobr>-</nobr></td><td><nobr>-</nobr></td><td><nobr>-</nobr></td><td><nobr>-</nobr></td><td><nobr>-</nobr></td><td><nobr>-</nobr></td><td><nobr>-</nobr></td><td><nobr><a class=\"link_black\" href=\"StockFinDetail.asp?RPT_CAT=BS_M_YEAR&amp;LAST_RPT_CAT=BS_M_YEAR&amp;STOCK_ID=2330&amp;QRY_TIME=1992\" target=\"_self\" title=\"查看1992資產負債表\">12.82</a></nobr></td></tr>\n======\n<tr align=\"center\" bgcolor=\"#ffffff\" height=\"23px\" id=\"row30\" onmouseout=\"ChgBGColor(['rowh30','row30'],'#ffffff');\" onmouseover=\"ChgBGColor(['rowh30','row30'],'#fff2cc');\"><td><nobr>1991</nobr></td><td><nobr>-</nobr></td><td><nobr>-</nobr></td><td><nobr>-</nobr></td><td><nobr>-</nobr></td><td><nobr>-</nobr></td><td><nobr>-</nobr></td><td><nobr>-</nobr></td><td><nobr>-</nobr></td><td><nobr>-</nobr></td><td><nobr>-</nobr></td><td><nobr>-</nobr></td><td><nobr>-</nobr></td><td><nobr>-</nobr></td><td><nobr>-</nobr></td><td><nobr>-</nobr></td><td><nobr>-</nobr></td><td><nobr>-</nobr></td><td><nobr>-</nobr></td><td><nobr>-</nobr></td><td><nobr><a class=\"link_black\" href=\"StockFinDetail.asp?RPT_CAT=BS_M_YEAR&amp;LAST_RPT_CAT=BS_M_YEAR&amp;STOCK_ID=2330&amp;QRY_TIME=1991\" target=\"_self\" title=\"查看1991資產負債表\">11.54</a></nobr></td></tr>\n======\n"
     ]
    }
   ],
   "source": [
    "from bs4 import BeautifulSoup\n",
    "import re\n",
    "soup = BeautifulSoup(res.text,'html.parser')\n",
    "data = soup.find('div',{'id':'txtFinDetailData'}).find_all('tr',{'id':re.compile('^row')})\n",
    "for item in data:\n",
    "    print(item)\n",
    "    print(\"======\")"
   ]
  },
  {
   "cell_type": "code",
   "execution_count": null,
   "metadata": {},
   "outputs": [],
   "source": [
    "import csv\n",
    "csvFile = open('台積電.csv', 'w+')\n",
    "try:\n",
    "    writer = csv.writer(csvFile)\n",
    "    writer.writerow()\n",
    "finally:\n",
    "    csvFile.close()"
   ]
  },
  {
   "cell_type": "code",
   "execution_count": 11,
   "metadata": {},
   "outputs": [],
   "source": [
    "import csv\n",
    "csvFile = open('台積電.csv','w+')\n",
    "try:\n",
    "    writer = csv.writer(csvFile)\n",
    "    writer.writerow(['年度','股本(億)','財報評分','收盤','平均','漲跌','漲跌(%)','營業收入',\n",
    "                     '營業毛利','營業利益','業外損益','稅後淨利','營業毛利','營業利益','業外損益',\n",
    "                     '稅後淨利','ROE(%)','ROA(%)','稅後EPS','EPS年增(元)','BPS(元)'])\n",
    "    for item in data:\n",
    "        tdList = item.find_all('td')\n",
    "        tdRow = [td.get_text() for td in tdList]\n",
    "        writer.writerow(tdRow)\n",
    "finally:\n",
    "    csvFile.close()\n"
   ]
  },
  {
   "cell_type": "code",
   "execution_count": 4,
   "metadata": {},
   "outputs": [
    {
     "output_type": "stream",
     "name": "stdout",
     "text": [
      "存檔完成\n"
     ]
    }
   ],
   "source": [
    "#完整版,將資料儲存為CSV檔\n",
    "import requests\n",
    "from bs4 import BeautifulSoup\n",
    "import re\n",
    "import csv\n",
    "\n",
    "headers = {\n",
    "    'user-agent': 'Mozilla/5.0 (Macintosh; Intel Mac OS X 11_1_0) AppleWebKit/537.36 (KHTML, like Gecko) Chrome/87.0.4280.141 Safari/537.36'\n",
    "}\n",
    "res = requests.get(\"https://goodinfo.tw/StockInfo/StockBzPerformance.asp?STOCK_ID=2330\",headers = headers)\n",
    "res.encoding = 'utf-8'\n",
    "soup = BeautifulSoup(res.text,'html.parser')\n",
    "data = soup.find('div',{'id':'txtFinDetailData'}).find_all('tr',{'id':re.compile('^row')})\n",
    "csvFile = open('台積電.csv','w+')\n",
    "try:\n",
    "    writer = csv.writer(csvFile)\n",
    "    writer.writerow(['年度','股本(億)','財報評分','收盤','平均','漲跌','漲跌(%)','營業收入',\n",
    "                     '營業毛利','營業利益','業外損益','稅後淨利','營業毛利','營業利益','業外損益',\n",
    "                     '稅後淨利','ROE(%)','ROA(%)','稅後EPS','EPS年增(元)','BPS(元)'])\n",
    "    for item in data:\n",
    "        tdList = item.find_all('td')\n",
    "        tdRow = [td.get_text() for td in tdList]\n",
    "        writer.writerow(tdRow)\n",
    "finally:\n",
    "    csvFile.close()\n",
    "    print(\"存檔完成\")"
   ]
  },
  {
   "cell_type": "code",
   "execution_count": null,
   "metadata": {},
   "outputs": [],
   "source": []
  }
 ],
 "metadata": {
  "kernelspec": {
   "display_name": "Python 3",
   "language": "python",
   "name": "python3"
  },
  "language_info": {
   "codemirror_mode": {
    "name": "ipython",
    "version": 3
   },
   "file_extension": ".py",
   "mimetype": "text/x-python",
   "name": "python",
   "nbconvert_exporter": "python",
   "pygments_lexer": "ipython3",
   "version": "3.8.3-final"
  }
 },
 "nbformat": 4,
 "nbformat_minor": 4
}