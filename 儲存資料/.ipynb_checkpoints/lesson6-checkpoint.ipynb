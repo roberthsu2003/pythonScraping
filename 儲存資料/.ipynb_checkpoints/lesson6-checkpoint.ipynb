{
 "cells": [
  {
   "cell_type": "code",
   "execution_count": 8,
   "metadata": {},
   "outputs": [
    {
     "data": {
      "text/plain": [
       "('logo.jpg', <http.client.HTTPMessage at 0x7ff61e944be0>)"
      ]
     },
     "execution_count": 8,
     "metadata": {},
     "output_type": "execute_result"
    }
   ],
   "source": [
    "from urllib.request import urlretrieve\n",
    "from urllib.request import urlopen\n",
    "from bs4 import BeautifulSoup\n",
    "\n",
    "html = urlopen('http://www.pythonscraping.com')\n",
    "bs = BeautifulSoup(html, 'html.parser')\n",
    "imageLocation = bs.find('a',{'id':'logo'}).find('img')['src']\n",
    "urlretrieve(imageLocation, 'logo.jpg')"
   ]
  },
  {
   "cell_type": "code",
   "execution_count": 14,
   "metadata": {},
   "outputs": [
    {
     "name": "stdout",
     "output_type": "stream",
     "text": [
      "http://pythonscraping.com/misc/jquery.js?v=1.4.4\n",
      "http://pythonscraping.com/misc/jquery.once.js?v=1.2\n",
      "http://pythonscraping.com/misc/drupal.js?q4na2g\n",
      "http://pythonscraping.com/sites/all/themes/skeletontheme/js/jquery.mobilemenu.js?q4na2g\n",
      "http://pythonscraping.com/sites/all/modules/google_analytics/googleanalytics.js?q4na2g\n",
      "http://pythonscraping.com/sites/default/files/lrg_0.jpg\n",
      "http://pythonscraping.com/https://covers.oreillystatic.com/images/0636920078067/lrg.jpg\n",
      "http://pythonscraping.com/img/lrg%20(1).jpg\n"
     ]
    },
    {
     "data": {
      "text/plain": [
       "('downloaded/img/lrg%20(1).jpg', <http.client.HTTPMessage at 0x7fd0850ff670>)"
      ]
     },
     "execution_count": 14,
     "metadata": {},
     "output_type": "execute_result"
    }
   ],
   "source": [
    "import os\n",
    "from urllib.request import urlretrieve\n",
    "from urllib.request import urlopen\n",
    "from bs4 import BeautifulSoup\n",
    "\n",
    "downloadDirectory = 'downloaded'\n",
    "baseUrl = 'http://pythonscraping.com'\n",
    "\n",
    "def getAbsoluteURL(baseUrl, source):\n",
    "    if source.startswith('http://www.'):\n",
    "        url = 'http://{}'.format(source[11:])\n",
    "    elif source.startswith('http://'):\n",
    "        url = source\n",
    "    elif source.startswith('www.'):\n",
    "        url = source[4:]\n",
    "        url = 'http://{}'.format(source)\n",
    "    else:\n",
    "        url = '{}/{}'.format(baseUrl, source)\n",
    "    \n",
    "    if baseUrl not in url:\n",
    "        return None\n",
    "    \n",
    "    return url\n",
    "\n",
    "def getDownloadPath(baseUrl, absoluteUrl, downloadDirectory):\n",
    "    path = absoluteUrl.replace('www.','')\n",
    "    path = path.replace(baseUrl, '')\n",
    "    path = downloadDirectory + path\n",
    "    directory = os.path.dirname(path)\n",
    "    \n",
    "    if not os.path.exists(directory):\n",
    "        os.makedirs(directory)\n",
    "        \n",
    "    return path\n",
    "    \n",
    "html = urlopen('http://www.pythonscraping.com')\n",
    "bs = BeautifulSoup(html, 'html.parser')\n",
    "downloadList = bs.findAll(src=True)\n",
    "\n",
    "for download in downloadList:\n",
    "    #print(download['src'])\n",
    "    fileUrl = getAbsoluteURL(baseUrl,download['src'])\n",
    "    if fileUrl is not None:\n",
    "        print(fileUrl)\n",
    "    \n",
    "urlretrieve(fileUrl, getDownloadPath(baseUrl, fileUrl, downloadDirectory))\n",
    "        "
   ]
  },
  {
   "cell_type": "code",
   "execution_count": 12,
   "metadata": {},
   "outputs": [],
   "source": [
    "import csv\n",
    "csvFile = open('test.csv', 'w+')\n",
    "try:\n",
    "    writer = csv.writer(csvFile)\n",
    "    writer.writerow(('number', 'number plus 2', 'number times 2'))\n",
    "    for i in range(10):\n",
    "        writer.writerow((i, i+2, i*2))\n",
    "finally:\n",
    "    csvFile.close()"
   ]
  },
  {
   "cell_type": "code",
   "execution_count": 23,
   "metadata": {},
   "outputs": [
    {
     "name": "stdout",
     "output_type": "stream",
     "text": [
      "['', 'Creator', 'First public release', 'Latest stable version', 'Latest Release Date', 'Programming language', 'Cost (US$)', 'Software license', 'Open source', 'CLI available', 'Minimum installed size']\n",
      "['Acme', 'Rob Pike', '1993', 'Plan 9 and Inferno', '', 'C', 'Free', 'LPL (OSI approved)', '', '', '']\n",
      "['AkelPad', 'Alexey Kuznetsov, Alexander Shengalts', '2003', '4.9.8', '2016‑07‑18', 'C', 'Free', 'BSD', '', '', '']\n",
      "['Alphatk', 'Vince Darley', '1999', '8.3.3', '2004‑12‑10', '', '$40', 'Proprietary, with BSD components', '', '', '']\n",
      "['Aquamacs', 'David Reitter', '2005', '3.5', '2019‑08‑18', 'C, Emacs Lisp', 'Free', 'GPL', '', '', '']\n",
      "['Atom', 'GitHub', '2014', '1.46.0', '2020‑05‑05', 'HTML, CSS, JavaScript, C++', 'Free', 'MIT', '', '', '~ 107‑185\\xa0MB']\n",
      "['BBEdit', 'Rich Siegel', '1992', '13.0.4', '2020‑01‑15', 'Objective-C, Objective-C++', 'Free for most features, $49.99 for full version', 'Proprietary', '', '', '']\n",
      "['Bluefish', 'Bluefish Development Team', '1999', '2.2.12', '2020‑11‑05', 'C', 'Free', 'GPL', '', '', '']\n",
      "['Brackets', 'Adobe Systems', '2012', '1.14', '2019‑05‑02', 'HTML, CSS, JavaScript, C++', 'Free', 'MIT', '', '', '~ 64‑105\\xa0MB']\n",
      "['Coda', 'Panic', '2007', '2.7.6', '2020‑10‑12[1]', 'Objective-C', '$99', 'Proprietary', '', '', '']\n",
      "['ConTEXT', 'ConTEXT Project Ltd', '1999', '0.98.6', '2009‑08‑14', 'Object Pascal (Delphi)', 'Free', 'BSD', '', '', '']\n",
      "['Crimson Editor', 'Ingyu Kang, Emerald Editor Team', '1999', '3.72', '2008‑05‑14', 'C++', 'Free', 'GPL', '', '', '']\n",
      "['CudaText', 'UVViewSoft (alexey_t, kvichans, matthias030)', '2015', '1.57.0', '2018‑06‑25', 'Object Pascal (Lazarus)', 'Free', 'MPL 2.0', '', '', '8\\xa0MB Mac\\n12\\xa0MB Win\\n5\\xa0Mb *nix']\n",
      "['ed', 'Ken Thompson', '1970', 'unchanged from original', '', 'C', 'Free', '?', '', '', '0.04\\xa0MB']\n",
      "['Editra', 'Cody Precord', '2007', '0.7.20', '2013‑01‑05', 'Python', 'Free', 'wxWindows license', '', '', '']\n",
      "['EmEditor', 'Emurasoft, Inc.', '1997', '20.3.3', '2020‑12‑02', 'C++', '179.99', 'Shareware', '', '', '']\n",
      "['epsilon', 'Lugaru Software', '1984', '14.00', '2020‑10‑20[2]', 'C', '$250', 'Proprietary', '', '', '']\n",
      "['gedit', 'GNU Project', '2000', '3.28.2 (Win 3.20.1, Mac 3.2.6[3])', '2018‑05‑09', 'C', 'Free', 'GPL', '', '', '']\n",
      "['Geany', 'Enrico Tröger', '2005', '1.33', '2018‑02‑25', 'C, GTK2', 'Free', 'GPL', '', '', '']\n",
      "['GNU Emacs', 'Richard Stallman', '1984', '27.1', '2020‑08‑10', 'C, Emacs Lisp', 'Free', 'GPL', '', '', '11.6\\xa0MB']\n",
      "['GNU nano', 'Chris Allegretta', '1999', '5.0', '2020‑07‑29', 'C', 'Free', 'GPL', '', '', '0.6\\xa0MB']\n",
      "['JED', 'John E. Davis', '1992', '0.99‑19', '2009‑12‑13', 'C, S-Lang', 'Free', 'GPL', '', '', '3.5\\xa0MB[4]']\n",
      "['jEdit', 'Slava Pestov', '1998', '5.5.0', '2018‑04‑09', 'Java', 'Free', 'GPL', '', '', '']\n",
      "['JOE', 'Joseph Allen', '1988', '4.6', '2018‑01‑10', 'C', 'Free', 'GPL', '', '', '1.3\\xa0MB']\n",
      "['JOVE', 'Johnathon Payne', '1983', '4.16', '1996‑03‑19', 'C', 'Free', 'GPL', '', '', '']\n",
      "['Kate', 'KDE Project', '2000‑12', '19.12.3', '2020‑03‑24', 'C++', 'Free', 'GPL', '', '', '']\n",
      "['KEDIT', 'Mansfield Software Group, Inc.', '1983', '1.6.1', '2016‑12‑05', 'C', '$129', 'Proprietary', '', '', '1.1MB']\n",
      "['Komodo Edit', 'Activestate', '2007 (open-sourced)', '10.2.3', '2017‑07‑11', 'Python, JavaScript, Perl, Tcl, PHP, Ruby', 'Free', 'MPL, GPL, LGPL', '', '', '']\n",
      "['Komodo IDE', 'Activestate', '2001', '11.0.2', '2017‑12‑19', 'Python, JavaScript, Perl, Tcl, PHP, Ruby', '$295', 'Proprietary', '', '', '']\n",
      "['KWrite', 'KDE Project', '2000', '20.08.3', '2020‑11‑23', 'C++', 'Free', 'GPL', '', '', '']\n",
      "['LE', 'Alexander V. Lukyanov', '1997', '1.16.3', '2016‑06‑06', 'C++', 'Free', 'GPL', '', '', '']\n",
      "['Leo', 'Edward K. Ream', '1996', '5.7.2', '2018‑05‑07', 'Python', 'Free', 'MIT', '', '', '']\n",
      "['Light Table', 'Chris Granger', '2012', '0.8.1', '2016‑01‑21', 'ClojureScript', 'Free', 'MIT', '', '', '']\n",
      "['Metapad', 'Alexander Davidson', '1999', '3.6', '2011‑05‑28', 'C', 'Free', 'GPL', '', '', '']\n",
      "['mg', 'Dave Conroy', '1986', 'current', '2020‑07‑22[5]', 'C', 'Free', 'Public domain', '', '', '']\n",
      "['MinEd', 'Thomas Wolff', '1992', '2015.25', '2015‑03‑30', 'C', 'Free', 'GPL', '', '', '']\n",
      "['MS-DOS Editor', 'Microsoft', '1991', '2.0.026', '', '', 'Bundled with MS-DOS, Microsoft Windows', 'Proprietary', '', '', '']\n",
      "['ne', 'Sebastiano Vigna, Todd Lewis, Daniele Filaretti', '1993', '3.2.1', '2019‑10‑02', 'C', 'Free', 'GPL', '', '', '2.7\\xa0MB']\n",
      "['NEdit', 'Mark Edel', '1991', '5.7', '2017‑02‑08', 'C', 'Free', 'GPL', '', '', '']\n",
      "['Notepad', 'Microsoft', '1985', '6.0', '', 'MASM (originally)', 'Bundled with Microsoft Windows', 'Proprietary', '', '', '']\n",
      "['Notepad++', 'Don Ho', '2003‑11‑25', '7.8.9', '2020‑07‑16', 'C++', 'Free', 'GPL', '', '', '11.9\\xa0MB']\n",
      "['Notepad2', 'Florian Balmer', '2004‑04', '4.2.25', '2011‑05‑06', 'C++', 'Free', 'BSD', '', '', '']\n",
      "['NoteTab', 'Eric Fookes, Fookes Software', '1995', '7.2', '2014‑11‑04', 'Object Pascal (Delphi)', 'Free, €39.95 Pro', 'Proprietary', '', '', '']\n",
      "['nvi', 'Keith Bostic', '1994', '1.79', '', 'C', 'Free', 'BSD', '', '', '']\n",
      "['Pico', 'University of Washington', '1992', '4.64', '', 'C', 'Free', 'AL2', '', '', '']\n",
      "['PolyEdit', 'PolySoft Solutions', '1998', '5.4', '2010‑04‑07', '', '$27.95', 'Shareware', '', '', '']\n",
      "['PSPad', 'Jan Fiala', '2002', '5.0.3 (377)', '2020‑02‑10', 'Object Pascal (Delphi)', 'Free', 'Proprietary', '', '', '']\n",
      "['Q10', 'Baara Estudio', '2007', '1.2.21', '2011‑06‑16', '?', 'Free', 'Proprietary', '', '', '']\n",
      "['RJ TextEd', 'Rickard Johansson', '2004', '13.10', '2018‑05‑07', 'Object Pascal (Delphi)', 'Free', 'Proprietary', '', '', '']\n",
      "['Sam', 'Rob Pike', '1980s (early)', 'stable', '', 'C', 'Free', 'LPL (OSI approved)', '', '', '']\n",
      "['SciTE', 'Neil Hodgson', '1999', '4.0.5', '2018‑04‑10', 'C++', '$41.99 for macOS. free for others', 'HPND', '', '', '']\n",
      "['SlickEdit', 'SlickEdit, Inc.', '1988', '25.0.0', '2020‑10‑20', 'C, Slick-C', '$299', 'Proprietary', '', '', '']\n",
      "['Smultron', 'Peter Borg', '2004', '12.1.1', '2017‑02‑20', 'Objective-C', '$7.99', 'Proprietary', '', '', '']\n",
      "['Source Insight', 'Source Dynamics', '?', '4.0.0084', '2017‑02‑26', 'Source Insight macro language', '$239-$255', 'Proprietary', '', '', '']\n",
      "['SubEthaEdit', 'TheCodingMonkeys', '2003', '4.1', '2015‑02‑25', '', '$35 commercial use', 'Proprietary', '', '', '']\n",
      "['Sublime Text', 'Jon Skinner', '2008', '3.2.2', '2019‑10‑1', 'C++, Python', '$80', 'Shareware', '', '', '']\n",
      "['TED Notepad', 'Juraj Simlovic', '2001', '6.1.1', '2016‑12‑04', 'C', 'Free', 'Freeware', '', '', '']\n",
      "['Textadept', 'Mitchell', '2007', '10.8', '2020‑01‑01', 'C, Lua', 'Free', 'MIT', '', '', '']\n",
      "['TextEdit', 'Apple Inc.', '2001', '1.13', '2017‑07‑16', '', 'Free (also bundled with macOS)', 'New BSD', '', '', '']\n",
      "['TextMate', 'MacroMates', '2004‑10‑10', '1.5.11', '2012‑07‑13', 'Objective-C++', '$53 (€39)', 'Proprietary, with MIT components. Version 2 released under GPLv3', '(from version 2)', '', '']\n",
      "['TextPad', 'Helios Software Solutions', '1992', '8.4.2', '2020‑07‑07', '', '$30.00 (£16.50)', 'Shareware', '', '', '']\n",
      "['TextWrangler', 'Bare Bones Software', '2003', '5.5.2', '2016‑09‑20 (discontinued)', '', 'Free', 'Proprietary', '', '', '']\n",
      "['The SemWare Editor', 'Sammy Mitchell', '1985‑11', '4.4', '2005‑06‑24', 'C, SAL', '$99', 'Proprietary', '', '', '']\n",
      "['UltraEdit', 'IDM Computer Solutions', '1994', '25.0', '2018‑03‑12', 'C++', '$99.95', 'Proprietary', '', '', '']\n",
      "['VEDIT', 'Ted Green, Greenview Data', '1980', '6.24.2', '2015‑01‑12', 'Assembly, C', '$89 standard,239 Pro64', 'Proprietary', '', '', '0.6\\xa0MB']\n",
      "['vi', 'Bill Joy', '1976', '3.7', '', 'C', 'Free', 'BSD or CDDL', '', '', '']\n",
      "['Vim', 'Bram Moolenaar', '1991', '8.2', '2019‑12‑12', 'C, Vim script', 'Free', 'GPL compatible', '', '', '2.2\\xa0MB']\n",
      "['Visual Studio Code', 'Microsoft', '2015', '1.40.1', '2019‑11‑13', 'JavaScript, TypeScript', 'Free', 'MIT', '', '', '~ 53‑82\\xa0MB']\n",
      "['XEmacs', 'Lucid Inc.', '1991', '21.4.22', '2009‑01‑30', 'C, Emacs Lisp', 'Free', 'GPL', '', '', '']\n"
     ]
    },
    {
     "data": {
      "text/plain": [
       "\"\\ncsvFile = open('editors.csv','wt+')\\nwriter = csv.writer(csvFile)\\ntry:\\n    for row in rows:\\n        csvRow = []\\n        for cell in row.findAll(['td', 'th']):\\n            print(cell.get_text())\\n            csvRow.append(cell.get_text())\\n        writer.writerow(csvRow)\\nfinally:\\n    csvFile.close()\\n\""
      ]
     },
     "execution_count": 23,
     "metadata": {},
     "output_type": "execute_result"
    }
   ],
   "source": [
    "import csv\n",
    "from urllib.request import urlopen\n",
    "from bs4 import BeautifulSoup\n",
    "\n",
    "html = urlopen('http://en.wikipedia.org/wiki/Comparison_of_text_editors')\n",
    "bs = BeautifulSoup(html, 'html.parser')\n",
    "table = bs.findAll('table', {'class':'wikitable'})[0]\n",
    "rows = table.findAll('tr')\n",
    "\n",
    "csvFile = open('editors.csv','wt+')\n",
    "writer = csv.writer(csvFile)\n",
    "try:\n",
    "    for row in rows:\n",
    "        csvRow = []\n",
    "        for cell in row.findAll(['td', 'th']):\n",
    "            csvRow.append(cell.get_text().strip())\n",
    "        writer.writerow(csvRow)\n",
    "finally:\n",
    "    csvFile.close()\n",
    "'''\n",
    "\n",
    "try:\n",
    "    for row in rows:\n",
    "        csvRow = []\n",
    "        for cell in row.findAll(['td', 'th']):\n",
    "            print(cell.get_text())\n",
    "            csvRow.append(cell.get_text())\n",
    "        writer.writerow(csvRow)\n",
    "finally:\n",
    "    csvFile.close()\n",
    "'''"
   ]
  },
  {
   "cell_type": "code",
   "execution_count": null,
   "metadata": {},
   "outputs": [],
   "source": []
  }
 ],
 "metadata": {
  "kernelspec": {
   "display_name": "Python 3",
   "language": "python",
   "name": "python3"
  },
  "language_info": {
   "codemirror_mode": {
    "name": "ipython",
    "version": 3
   },
   "file_extension": ".py",
   "mimetype": "text/x-python",
   "name": "python",
   "nbconvert_exporter": "python",
   "pygments_lexer": "ipython3",
   "version": "3.8.3"
  }
 },
 "nbformat": 4,
 "nbformat_minor": 4
}
