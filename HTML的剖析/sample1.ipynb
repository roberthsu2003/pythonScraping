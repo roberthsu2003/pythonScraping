{
 "metadata": {
  "language_info": {
   "codemirror_mode": {
    "name": "ipython",
    "version": 3
   },
   "file_extension": ".py",
   "mimetype": "text/x-python",
   "name": "python",
   "nbconvert_exporter": "python",
   "pygments_lexer": "ipython3",
   "version": "3.8.3-final"
  },
  "orig_nbformat": 2,
  "kernelspec": {
   "name": "python3",
   "display_name": "Python 3",
   "language": "python"
  }
 },
 "nbformat": 4,
 "nbformat_minor": 2,
 "cells": [
  {
   "cell_type": "code",
   "execution_count": 12,
   "metadata": {},
   "outputs": [
    {
     "output_type": "stream",
     "name": "stdout",
     "text": [
      "<span class=\"green\">Anna\nPavlovna Scherer</span>\n<span class=\"green\">Empress Marya\nFedorovna</span>\n<span class=\"green\">Prince Vasili Kuragin</span>\n<span class=\"green\">Anna Pavlovna</span>\n<span class=\"green\">St. Petersburg</span>\n<span class=\"green\">the prince</span>\n<span class=\"green\">Anna Pavlovna</span>\n<span class=\"green\">Anna Pavlovna</span>\n<span class=\"green\">the prince</span>\n<span class=\"green\">the prince</span>\n<span class=\"green\">the prince</span>\n<span class=\"green\">Prince Vasili</span>\n<span class=\"green\">Anna Pavlovna</span>\n<span class=\"green\">Anna Pavlovna</span>\n<span class=\"green\">the prince</span>\n<span class=\"green\">Wintzingerode</span>\n<span class=\"green\">King of Prussia</span>\n<span class=\"green\">le Vicomte de Mortemart</span>\n<span class=\"green\">Montmorencys</span>\n<span class=\"green\">Rohans</span>\n<span class=\"green\">Abbe Morio</span>\n<span class=\"green\">the Emperor</span>\n<span class=\"green\">the prince</span>\n<span class=\"green\">Prince Vasili</span>\n<span class=\"green\">Dowager Empress Marya Fedorovna</span>\n<span class=\"green\">the baron</span>\n<span class=\"green\">Anna Pavlovna</span>\n<span class=\"green\">the Empress</span>\n<span class=\"green\">the Empress</span>\n<span class=\"green\">Anna Pavlovna's</span>\n<span class=\"green\">Her Majesty</span>\n<span class=\"green\">Baron\nFunke</span>\n<span class=\"green\">The prince</span>\n<span class=\"green\">Anna\nPavlovna</span>\n<span class=\"green\">the Empress</span>\n<span class=\"green\">The prince</span>\n<span class=\"green\">Anatole</span>\n<span class=\"green\">the prince</span>\n<span class=\"green\">The prince</span>\n<span class=\"green\">Anna\nPavlovna</span>\n<span class=\"green\">Anna Pavlovna</span>\n"
     ]
    }
   ],
   "source": [
    "import requests\n",
    "from bs4 import BeautifulSoup\n",
    "\n",
    "response = requests.get('http://www.pythonscraping.com/pages/warandpeace.html')\n",
    "bs = BeautifulSoup(response.text, 'html.parser')\n",
    "nameList = bs.find_all('span',{'class':'green'})\n",
    "for name in nameList:\n",
    "    print(name.string)"
   ]
  },
  {
   "cell_type": "code",
   "execution_count": null,
   "metadata": {},
   "outputs": [],
   "source": []
  }
 ]
}