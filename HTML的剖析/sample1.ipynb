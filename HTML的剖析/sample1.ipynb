{
 "metadata": {
  "language_info": {
   "codemirror_mode": {
    "name": "ipython",
    "version": 3
   },
   "file_extension": ".py",
   "mimetype": "text/x-python",
   "name": "python",
   "nbconvert_exporter": "python",
   "pygments_lexer": "ipython3",
   "version": "3.8.3-final"
  },
  "orig_nbformat": 2,
  "kernelspec": {
   "name": "python3",
   "display_name": "Python 3",
   "language": "python"
  }
 },
 "nbformat": 4,
 "nbformat_minor": 2,
 "cells": [
  {
   "cell_type": "code",
   "execution_count": 14,
   "metadata": {},
   "outputs": [
    {
     "output_type": "stream",
     "name": "stdout",
     "text": [
      "Well, Prince, so Genoa and Lucca are now just family estates of the\nBuonapartes. But I warn you, if you don't tell me that this means war,\nif you still try to defend the infamies and horrors perpetrated by\nthat Antichrist- I really believe he is Antichrist- I will have\nnothing more to do with you and you are no longer my friend, no longer\nmy 'faithful slave,' as you call yourself! But how do you do? I see\nI have frightened you- sit down and tell me all the news.\nAnna\nPavlovna Scherer\nEmpress Marya\nFedorovna\nPrince Vasili Kuragin\nAnna Pavlovna\nSt. Petersburg\nIf you have nothing better to do, Count [or Prince], and if the\nprospect of spending an evening with a poor invalid is not too\nterrible, I shall be very charmed to see you tonight between 7 and 10-\nAnnette Scherer.\nHeavens! what a virulent attack!\nthe prince\nAnna Pavlovna\nFirst of all, dear friend, tell me how you are. Set your friend's\nmind at rest,\nCan one be well while suffering morally? Can one be calm in times\nlike these if one has any feeling?\nAnna Pavlovna\nYou are\nstaying the whole evening, I hope?\nAnd the fete at the English ambassador's? Today is Wednesday. I\nmust put in an appearance there,\nthe prince\nMy daughter is\ncoming for me to take me there.\nI thought today's fete had been canceled. I confess all these\nfestivities and fireworks are becoming wearisome.\nIf they had known that you wished it, the entertainment would\nhave been put off,\nthe prince\nDon't tease! Well, and what has been decided about Novosiltsev's\ndispatch? You know everything.\nWhat can one say about it?\nthe prince\nWhat has been decided? They have decided that\nBuonaparte has burnt his boats, and I believe that we are ready to\nburn ours.\nPrince Vasili\nAnna Pavlovna\nAnna Pavlovna\nOh, don't speak to me of Austria. Perhaps I don't understand\nthings, but Austria never has wished, and does not wish, for war.\nShe is betraying us! Russia alone must save Europe. Our gracious\nsovereign recognizes his high vocation and will be true to it. That is\nthe one thing I have faith in! Our good and wonderful sovereign has to\nperform the noblest role on earth, and he is so virtuous and noble\nthat God will not forsake him. He will fulfill his vocation and\ncrush the hydra of revolution, which has become more terrible than\never in the person of this murderer and villain! We alone must\navenge the blood of the just one.... Whom, I ask you, can we rely\non?... England with her commercial spirit will not and cannot\nunderstand the Emperor Alexander's loftiness of soul. She has\nrefused to evacuate Malta. She wanted to find, and still seeks, some\nsecret motive in our actions. What answer did Novosiltsev get? None.\nThe English have not understood and cannot understand the\nself-abnegation of our Emperor who wants nothing for himself, but only\ndesires the good of mankind. And what have they promised? Nothing! And\nwhat little they have promised they will not perform! Prussia has\nalways declared that Buonaparte is invincible, and that all Europe\nis powerless before him.... And I don't believe a word that Hardenburg\nsays, or Haugwitz either. This famous Prussian neutrality is just a\ntrap. I have faith only in God and the lofty destiny of our adored\nmonarch. He will save Europe!\nI think,\nthe prince\nNone\nWintzingerode\nKing of Prussia\nIn a moment. A propos,\nNone\nle Vicomte de Mortemart\nMontmorencys\nRohans\nAbbe Morio\nthe Emperor\nI shall be delighted to meet them,\nthe prince\nBut tell me,\nis it true that the Dowager Empress wants Baron Funke\nto be appointed first secretary at Vienna? The baron by all accounts\nis a poor creature.\nPrince Vasili\nDowager Empress Marya Fedorovna\nthe baron\nAnna Pavlovna\nthe Empress\nBaron Funke has been recommended to the Dowager Empress by her\nsister,\nthe Empress\nAnna Pavlovna's\nHer Majesty\nBaron\nFunke\nThe prince\nAnna\nPavlovna\nthe Empress\nNow about your family. Do you know that since your daughter came\nout everyone has been enraptured by her? They say she is amazingly\nbeautiful.\nThe prince\nI often think,\nNone\nAnatole\nTwo such charming children. And really you appreciate\nthem less than anyone, and so you don't deserve to have them.\nI can't help it,\nthe prince\nLavater would have said I\nlack the bump of paternity.\nDon't joke; I mean to have a serious talk with you. Do you know I\nam dissatisfied with your younger son? Between ourselves\nhe was mentioned at Her\nMajesty's and you were pitied....\nThe prince\nWhat would you have me do?\nYou know I did all\na father could for their education, and they have both turned out\nfools. Hippolyte is at least a quiet fool, but Anatole is an active\none. That is the only difference between them.\nAnd why are children born to such men as you? If you were not a\nfather there would be nothing I could reproach you with,\nAnna\nPavlovna\nI am your faithful slave and to you alone I can confess that my\nchildren are the bane of my life. It is the cross I have to bear. That\nis how I explain it to myself. It can't be helped!\nAnna Pavlovna\n"
     ]
    }
   ],
   "source": [
    "import requests\n",
    "from bs4 import BeautifulSoup\n",
    "\n",
    "response = requests.get('http://www.pythonscraping.com/pages/warandpeace.html')\n",
    "bs = BeautifulSoup(response.text, 'html.parser')\n",
    "nameList = bs.find_all('span',{'class':{'green','red'}})\n",
    "for name in nameList:\n",
    "    print(name.string)"
   ]
  },
  {
   "cell_type": "code",
   "execution_count": 36,
   "metadata": {},
   "outputs": [
    {
     "output_type": "stream",
     "name": "stdout",
     "text": [
      "[]\n[]\n[]\n[]\n[]\n[]\n"
     ]
    }
   ],
   "source": [
    "import requests\n",
    "from bs4 import BeautifulSoup\n",
    "\n",
    "response = requests.get('http://www.pythonscraping.com/pages/page3.html')\n",
    "bs = BeautifulSoup(response.text, 'html.parser')\n",
    "for child in bs.find('table',{'id':'giftList'}).children:      \n",
    "        try:\n",
    "            mychild = child.find_all('tr',class_='gift')                 \n",
    "        except:\n",
    "            pass\n",
    "        else:\n",
    "            print(mychild)\n",
    "            for item in mychild:\n",
    "                print(item)"
   ]
  },
  {
   "cell_type": "code",
   "execution_count": null,
   "metadata": {},
   "outputs": [],
   "source": []
  }
 ]
}