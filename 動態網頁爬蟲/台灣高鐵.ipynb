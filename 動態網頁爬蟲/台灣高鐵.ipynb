{
 "cells": [
  {
   "cell_type": "code",
   "execution_count": 34,
   "metadata": {},
   "outputs": [
    {
     "name": "stdout",
     "output_type": "stream",
     "text": [
      "NanGang\n",
      "TaiPei\n",
      "BanQiao\n",
      "TaoYuan\n",
      "XinZhu\n",
      "MiaoLi\n",
      "TaiZhong\n",
      "ZhangHua\n",
      "YunLin\n",
      "JiaYi\n",
      "TaiNan\n",
      "ZuoYing\n"
     ]
    }
   ],
   "source": [
    "from selenium import webdriver\n",
    "from selenium.webdriver.chrome.service import Service as ChromeService\n",
    "from webdriver_manager.chrome import ChromeDriverManager\n",
    "from selenium.webdriver.common.by import By\n",
    "from selenium.webdriver.support.select import Select\n",
    "from selenium.webdriver.support.ui import WebDriverWait\n",
    "from selenium.webdriver.support import expected_conditions as EC\n",
    "import time\n",
    "from datetime import datetime\n",
    "\n",
    "driver = webdriver.Chrome(service=ChromeService(ChromeDriverManager().install()))\n",
    "driver.get(\"https://www.thsrc.com.tw\")\n",
    "driver.implicitly_wait(0.5)\n",
    "try:\n",
    "    agree_btn = driver.find_element(by=By.CSS_SELECTOR,value=\".swal2-confirm\")\n",
    "    agree_btn.click()\n",
    "except:\n",
    "    print(\"同意出錯\")\n",
    "\n",
    "#選取from\n",
    "location1 = driver.find_element(by=By.ID, value=\"select_location01\")\n",
    "selected_location1 = Select(location1)\n",
    "option_list = selected_location1.options\n",
    "for item in option_list:\n",
    "    print(item.get_attribute(\"value\"))\n",
    "\n",
    "#要等至可以click時,才可以選取\n",
    "WebDriverWait(driver,20).until(EC.element_to_be_clickable((By.ID,\"select_location01\")))\n",
    "#selected_location1.select_by_value('TaiPei')\n",
    "selected_location1.select_by_visible_text('台中')\n",
    "\n",
    "#選取to\n",
    "location2 = driver.find_element(by=By.ID, value=\"select_location02\")\n",
    "selected_location2 = Select(location2)\n",
    "WebDriverWait(driver,20).until(EC.element_to_be_clickable((By.ID,\"select_location02\")))\n",
    "#selected_location2.select_by_value('ZuoYing')\n",
    "selected_location2.select_by_visible_text('台南')\n",
    "\n",
    "#選取type\n",
    "types = driver.find_element(by=By.ID, value=\"typesofticket\")\n",
    "selected_types = Select(types)\n",
    "WebDriverWait(driver,20).until(EC.element_to_be_clickable((By.ID,\"typesofticket\")))\n",
    "selected_types.select_by_visible_text('單程')\n",
    "\n",
    "#(input)單程\n",
    "departDate01 = driver.find_element(by=By.ID, value=\"Departdate01\")\n",
    "WebDriverWait(driver,20).until(EC.element_to_be_clickable((By.ID,\"Departdate01\"))).click()\n",
    "\n",
    "#因為點選,所以必需執行javascript\n",
    "now = datetime.today()\n",
    "current_date = now.strftime(\"%Y.%m.%d\")\n",
    "current_hour = now.strftime(\"%H\")\n",
    "driver.execute_script(f'arguments[0].value = \"{current_date}\";', departDate01)\n",
    "\n",
    "#(input)去程時間\n",
    "outWardTime = driver.find_element(by=By.ID, value=\"outWardTime\")\n",
    "outWardTime.click()\n",
    "driver.execute_script(f'arguments[0].value = \"{current_hour}:30\";', outWardTime)\n",
    "\n",
    "#(selected)適用優惠\n",
    "'''\n",
    "dropdown = driver.find_element(by=By.CSS_SELECTOR, value=\"div.dropdown.show-tick\")\n",
    "WebDriverWait(driver,20).until(EC.element_to_be_clickable((By.CSS_SELECTOR,\"div.dropdown.show-tick\")))\n",
    "dropdown.click()\n",
    "\n",
    "offer = driver.find_element(by=By.ID, value=\"offer\")\n",
    "selected_offer = Select(offer)\n",
    "option_list = selected_offer.options\n",
    "for item in option_list:\n",
    "    print(item.get_attribute(\"value\"))\n",
    "WebDriverWait(driver,20).until(EC.element_to_be_clickable((By.ID,\"offer\")))\n",
    "selected_offer.select_by_visible_text('早鳥')\n",
    "'''\n",
    "\n",
    "#start-search\n",
    "start_search = driver.find_element(by=By.ID, value=\"start-search\")\n",
    "start_search.click()\n",
    "\n",
    "#必需使用time\n",
    "time.sleep(5)\n",
    "html_code = driver.page_source\n",
    "\n",
    "\n"
   ]
  },
  {
   "cell_type": "code",
   "execution_count": 35,
   "metadata": {},
   "outputs": [
    {
     "name": "stdout",
     "output_type": "stream",
     "text": [
      "['16:48', '00:44', '17:32', '0657', '10-12']\n",
      "['16:54', '00:53', '17:47', '1321', '10-12']\n",
      "['17:17', '00:54', '18:11', '0841', '10-12']\n",
      "['17:25', '00:41', '18:06', '0661', '10-12']\n",
      "['17:40', '00:37', '18:17', '1241', '10-12']\n"
     ]
    }
   ],
   "source": [
    "from bs4 import BeautifulSoup\n",
    "\n",
    "soup = BeautifulSoup(html_code,'html.parser')\n",
    "result_soup = soup.find(name=\"section\",class_=\"time-result-section active-result\")\n",
    "results = result_soup.find_all(name='a',title=\"車票班次\",class_=\"tr-row\", attrs={\"name\":\"timeTable\"})\n",
    "for row in results:\n",
    "    items = row.find_all(class_='tr-td')\n",
    "    list_line = []\n",
    "    for item in list(items)[:5]:\n",
    "        list_line.append(item.getText().strip())\n",
    "    print(list_line)"
   ]
  }
 ],
 "metadata": {
  "kernelspec": {
   "display_name": "Python 3.10.6 ('venv02')",
   "language": "python",
   "name": "python3"
  },
  "language_info": {
   "codemirror_mode": {
    "name": "ipython",
    "version": 3
   },
   "file_extension": ".py",
   "mimetype": "text/x-python",
   "name": "python",
   "nbconvert_exporter": "python",
   "pygments_lexer": "ipython3",
   "version": "3.10.6"
  },
  "orig_nbformat": 4,
  "vscode": {
   "interpreter": {
    "hash": "ec0a055756b83330422d5482d4224b3188331e7f819c0c02c3ab9bd9bd1d6f66"
   }
  }
 },
 "nbformat": 4,
 "nbformat_minor": 2
}
