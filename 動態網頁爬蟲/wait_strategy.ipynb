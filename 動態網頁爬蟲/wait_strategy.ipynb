{
 "cells": [
  {
   "cell_type": "markdown",
   "metadata": {},
   "source": [
    "- 本身browser是非同步的動作，先完成DOM後，才下載圖片，webdriver完全無法追蹤，所以必需要有等待的策略\n",
    "- 必需等待網頁的DOM的完成，webdriver才可以取得元素，但有些情況是動態網頁(javascript所建立)，所以常會遇到沒有發現這個元素(**no such element**)\n",
    "\n",
    "- 如以下範例(必需手動建立一個html網頁)\n",
    "- window被按下時,才會出現文字\n",
    "```\n",
    "<!doctype html>\n",
    "<html>\n",
    "<head>\n",
    "<meta charset=utf-8>\n",
    "<title>Race Condition Example</title>\n",
    "</head>\n",
    "<body>\n",
    "    <script>\n",
    "        var initialised = false;\n",
    "        window.addEventListener(\"click\", function () {\n",
    "            var newElement = document.createElement(\"p\");\n",
    "            newElement.textContent = \"Hello from JavaScript!\";\n",
    "            document.body.appendChild(newElement);\n",
    "            initialised = true;\n",
    "        });\n",
    "    </script>\n",
    "</body>\n",
    "</html>\n",
    "\n",
    "```"
   ]
  },
  {
   "cell_type": "code",
   "execution_count": 17,
   "metadata": {},
   "outputs": [
    {
     "ename": "NoSuchElementException",
     "evalue": "Message: no such element: Unable to locate element: {\"method\":\"tag name\",\"selector\":\"p\"}\n  (Session info: chrome=108.0.5359.94)\nStacktrace:\n0   chromedriver                        0x000000010d7def38 chromedriver + 4910904\n1   chromedriver                        0x000000010d75ea03 chromedriver + 4385283\n2   chromedriver                        0x000000010d3a3747 chromedriver + 472903\n3   chromedriver                        0x000000010d3e834c chromedriver + 754508\n4   chromedriver                        0x000000010d3e85a1 chromedriver + 755105\n5   chromedriver                        0x000000010d42be94 chromedriver + 1031828\n6   chromedriver                        0x000000010d40e13d chromedriver + 909629\n7   chromedriver                        0x000000010d42928e chromedriver + 1020558\n8   chromedriver                        0x000000010d40dee3 chromedriver + 909027\n9   chromedriver                        0x000000010d3d830c chromedriver + 688908\n10  chromedriver                        0x000000010d3d988e chromedriver + 694414\n11  chromedriver                        0x000000010d7ac1de chromedriver + 4702686\n12  chromedriver                        0x000000010d7b0b19 chromedriver + 4721433\n13  chromedriver                        0x000000010d7b828e chromedriver + 4752014\n14  chromedriver                        0x000000010d7b191a chromedriver + 4725018\n15  chromedriver                        0x000000010d785b02 chromedriver + 4545282\n16  chromedriver                        0x000000010d7d0888 chromedriver + 4851848\n17  chromedriver                        0x000000010d7d0a05 chromedriver + 4852229\n18  chromedriver                        0x000000010d7e6e5f chromedriver + 4943455\n19  libsystem_pthread.dylib             0x00007ff81be26259 _pthread_start + 125\n20  libsystem_pthread.dylib             0x00007ff81be21c7b thread_start + 15\n",
     "output_type": "error",
     "traceback": [
      "\u001b[0;31m---------------------------------------------------------------------------\u001b[0m",
      "\u001b[0;31mNoSuchElementException\u001b[0m                    Traceback (most recent call last)",
      "Cell \u001b[0;32mIn [17], line 9\u001b[0m\n\u001b[1;32m      7\u001b[0m driver \u001b[39m=\u001b[39m webdriver\u001b[39m.\u001b[39mChrome(service\u001b[39m=\u001b[39mService(ChromeDriverManager()\u001b[39m.\u001b[39minstall()))\n\u001b[1;32m      8\u001b[0m driver\u001b[39m.\u001b[39mget(\u001b[39m\"\u001b[39m\u001b[39mfile:///\u001b[39m\u001b[39m\"\u001b[39m \u001b[39m+\u001b[39m os\u001b[39m.\u001b[39mpath\u001b[39m.\u001b[39mabspath(\u001b[39m\"\u001b[39m\u001b[39mrace_condition.html\u001b[39m\u001b[39m\"\u001b[39m))\n\u001b[0;32m----> 9\u001b[0m el \u001b[39m=\u001b[39m driver\u001b[39m.\u001b[39;49mfind_element(By\u001b[39m.\u001b[39;49mTAG_NAME, \u001b[39m\"\u001b[39;49m\u001b[39mp\u001b[39;49m\u001b[39m\"\u001b[39;49m)\n\u001b[1;32m     10\u001b[0m \u001b[39massert\u001b[39;00m el\u001b[39m.\u001b[39mtext \u001b[39m==\u001b[39m \u001b[39m\"\u001b[39m\u001b[39mHello from JavaScript!\u001b[39m\u001b[39m\"\u001b[39m\n\u001b[1;32m     11\u001b[0m \u001b[39mprint\u001b[39m(el\u001b[39m.\u001b[39mtext)\n",
      "File \u001b[0;32m~/Documents/virtualEnv/venv02/lib/python3.10/site-packages/selenium/webdriver/remote/webdriver.py:861\u001b[0m, in \u001b[0;36mWebDriver.find_element\u001b[0;34m(self, by, value)\u001b[0m\n\u001b[1;32m    858\u001b[0m     by \u001b[39m=\u001b[39m By\u001b[39m.\u001b[39mCSS_SELECTOR\n\u001b[1;32m    859\u001b[0m     value \u001b[39m=\u001b[39m \u001b[39m'\u001b[39m\u001b[39m[name=\u001b[39m\u001b[39m\"\u001b[39m\u001b[39m%s\u001b[39;00m\u001b[39m\"\u001b[39m\u001b[39m]\u001b[39m\u001b[39m'\u001b[39m \u001b[39m%\u001b[39m value\n\u001b[0;32m--> 861\u001b[0m \u001b[39mreturn\u001b[39;00m \u001b[39mself\u001b[39;49m\u001b[39m.\u001b[39;49mexecute(Command\u001b[39m.\u001b[39;49mFIND_ELEMENT, {\u001b[39m\"\u001b[39;49m\u001b[39musing\u001b[39;49m\u001b[39m\"\u001b[39;49m: by, \u001b[39m\"\u001b[39;49m\u001b[39mvalue\u001b[39;49m\u001b[39m\"\u001b[39;49m: value})[\u001b[39m\"\u001b[39m\u001b[39mvalue\u001b[39m\u001b[39m\"\u001b[39m]\n",
      "File \u001b[0;32m~/Documents/virtualEnv/venv02/lib/python3.10/site-packages/selenium/webdriver/remote/webdriver.py:444\u001b[0m, in \u001b[0;36mWebDriver.execute\u001b[0;34m(self, driver_command, params)\u001b[0m\n\u001b[1;32m    442\u001b[0m response \u001b[39m=\u001b[39m \u001b[39mself\u001b[39m\u001b[39m.\u001b[39mcommand_executor\u001b[39m.\u001b[39mexecute(driver_command, params)\n\u001b[1;32m    443\u001b[0m \u001b[39mif\u001b[39;00m response:\n\u001b[0;32m--> 444\u001b[0m     \u001b[39mself\u001b[39;49m\u001b[39m.\u001b[39;49merror_handler\u001b[39m.\u001b[39;49mcheck_response(response)\n\u001b[1;32m    445\u001b[0m     response[\u001b[39m\"\u001b[39m\u001b[39mvalue\u001b[39m\u001b[39m\"\u001b[39m] \u001b[39m=\u001b[39m \u001b[39mself\u001b[39m\u001b[39m.\u001b[39m_unwrap_value(response\u001b[39m.\u001b[39mget(\u001b[39m\"\u001b[39m\u001b[39mvalue\u001b[39m\u001b[39m\"\u001b[39m, \u001b[39mNone\u001b[39;00m))\n\u001b[1;32m    446\u001b[0m     \u001b[39mreturn\u001b[39;00m response\n",
      "File \u001b[0;32m~/Documents/virtualEnv/venv02/lib/python3.10/site-packages/selenium/webdriver/remote/errorhandler.py:249\u001b[0m, in \u001b[0;36mErrorHandler.check_response\u001b[0;34m(self, response)\u001b[0m\n\u001b[1;32m    247\u001b[0m         alert_text \u001b[39m=\u001b[39m value[\u001b[39m\"\u001b[39m\u001b[39malert\u001b[39m\u001b[39m\"\u001b[39m]\u001b[39m.\u001b[39mget(\u001b[39m\"\u001b[39m\u001b[39mtext\u001b[39m\u001b[39m\"\u001b[39m)\n\u001b[1;32m    248\u001b[0m     \u001b[39mraise\u001b[39;00m exception_class(message, screen, stacktrace, alert_text)  \u001b[39m# type: ignore[call-arg]  # mypy is not smart enough here\u001b[39;00m\n\u001b[0;32m--> 249\u001b[0m \u001b[39mraise\u001b[39;00m exception_class(message, screen, stacktrace)\n",
      "\u001b[0;31mNoSuchElementException\u001b[0m: Message: no such element: Unable to locate element: {\"method\":\"tag name\",\"selector\":\"p\"}\n  (Session info: chrome=108.0.5359.94)\nStacktrace:\n0   chromedriver                        0x000000010d7def38 chromedriver + 4910904\n1   chromedriver                        0x000000010d75ea03 chromedriver + 4385283\n2   chromedriver                        0x000000010d3a3747 chromedriver + 472903\n3   chromedriver                        0x000000010d3e834c chromedriver + 754508\n4   chromedriver                        0x000000010d3e85a1 chromedriver + 755105\n5   chromedriver                        0x000000010d42be94 chromedriver + 1031828\n6   chromedriver                        0x000000010d40e13d chromedriver + 909629\n7   chromedriver                        0x000000010d42928e chromedriver + 1020558\n8   chromedriver                        0x000000010d40dee3 chromedriver + 909027\n9   chromedriver                        0x000000010d3d830c chromedriver + 688908\n10  chromedriver                        0x000000010d3d988e chromedriver + 694414\n11  chromedriver                        0x000000010d7ac1de chromedriver + 4702686\n12  chromedriver                        0x000000010d7b0b19 chromedriver + 4721433\n13  chromedriver                        0x000000010d7b828e chromedriver + 4752014\n14  chromedriver                        0x000000010d7b191a chromedriver + 4725018\n15  chromedriver                        0x000000010d785b02 chromedriver + 4545282\n16  chromedriver                        0x000000010d7d0888 chromedriver + 4851848\n17  chromedriver                        0x000000010d7d0a05 chromedriver + 4852229\n18  chromedriver                        0x000000010d7e6e5f chromedriver + 4943455\n19  libsystem_pthread.dylib             0x00007ff81be26259 _pthread_start + 125\n20  libsystem_pthread.dylib             0x00007ff81be21c7b thread_start + 15\n"
     ]
    }
   ],
   "source": [
    "from selenium import webdriver\n",
    "from selenium.webdriver.chrome.service import Service\n",
    "from webdriver_manager.chrome import ChromeDriverManager\n",
    "from selenium.webdriver.common.by import By\n",
    "import os\n",
    "#webdriver一開始會延遲等document的DOM載入，才開始find_element()，目前會找不到p元素，會出錯\n",
    "driver = webdriver.Chrome(service=Service(ChromeDriverManager().install()))\n",
    "driver.get(\"file:///\" + os.path.abspath(\"race_condition.html\"))\n",
    "el = driver.find_element(By.TAG_NAME, \"p\")\n",
    "assert el.text == \"Hello from JavaScript!\"\n",
    "print(el.text)\n",
    "driver.quit()"
   ]
  },
  {
   "cell_type": "markdown",
   "metadata": {},
   "source": [
    "## 明確等待時間"
   ]
  },
  {
   "cell_type": "code",
   "execution_count": 22,
   "metadata": {},
   "outputs": [],
   "source": [
    "from selenium import webdriver\n",
    "from selenium.webdriver.chrome.service import Service\n",
    "from webdriver_manager.chrome import ChromeDriverManager\n",
    "from selenium.webdriver.common.by import By\n",
    "import os\n",
    "from selenium.webdriver.support.wait import WebDriverWait\n",
    "\n",
    "def document_initialised(driver):\n",
    "    return driver.execute_script(\"return initialised\")    #傳回javascript 變數 initialised\n",
    "\n",
    "driver = webdriver.Chrome(service=Service(ChromeDriverManager().install()))\n",
    "driver.get(\"file:///\" + os.path.abspath(\"race_condition.html\"))\n",
    "WebDriverWait(driver, timeout=10).until(document_initialised)\n",
    "el = driver.find_element(By.TAG_NAME, \"p\")\n",
    "assert el.text == \"Hello from JavaScript!\""
   ]
  },
  {
   "cell_type": "code",
   "execution_count": 25,
   "metadata": {},
   "outputs": [],
   "source": [
    "from selenium import webdriver\n",
    "from selenium.webdriver.chrome.service import Service\n",
    "from webdriver_manager.chrome import ChromeDriverManager\n",
    "from selenium.webdriver.common.by import By\n",
    "import os\n",
    "from selenium.webdriver.support.wait import WebDriverWait\n",
    "\n",
    "driver = webdriver.Chrome(service=Service(ChromeDriverManager().install()))\n",
    "driver.get(\"file:///\" + os.path.abspath(\"race_condition.html\"))\n",
    "el = WebDriverWait(driver, timeout=10).until(lambda d: d.find_element(By.TAG_NAME,\"p\")) #等待p元素出現才動作\n",
    "assert el.text == \"Hello from JavaScript!\""
   ]
  },
  {
   "cell_type": "markdown",
   "metadata": {},
   "source": [
    "## 預設所有的等待時間\n",
    "- 沒有發現就等待，直到指定等待時間過期"
   ]
  },
  {
   "cell_type": "code",
   "execution_count": 26,
   "metadata": {},
   "outputs": [],
   "source": [
    "from selenium import webdriver\n",
    "from selenium.webdriver.chrome.service import Service\n",
    "from webdriver_manager.chrome import ChromeDriverManager\n",
    "from selenium.webdriver.common.by import By\n",
    "import os\n",
    "from selenium.webdriver.support.wait import WebDriverWait\n",
    "\n",
    "driver = webdriver.Chrome(service=Service(ChromeDriverManager().install()))\n",
    "driver.implicitly_wait(10)\n",
    "driver.get(\"file:///\" + os.path.abspath(\"race_condition.html\"))\n",
    "assert el.text == \"Hello from JavaScript!\"\n"
   ]
  }
 ],
 "metadata": {
  "kernelspec": {
   "display_name": "Python 3.10.6 ('venv02')",
   "language": "python",
   "name": "python3"
  },
  "language_info": {
   "codemirror_mode": {
    "name": "ipython",
    "version": 3
   },
   "file_extension": ".py",
   "mimetype": "text/x-python",
   "name": "python",
   "nbconvert_exporter": "python",
   "pygments_lexer": "ipython3",
   "version": "3.10.6"
  },
  "orig_nbformat": 4,
  "vscode": {
   "interpreter": {
    "hash": "ec0a055756b83330422d5482d4224b3188331e7f819c0c02c3ab9bd9bd1d6f66"
   }
  }
 },
 "nbformat": 4,
 "nbformat_minor": 2
}
