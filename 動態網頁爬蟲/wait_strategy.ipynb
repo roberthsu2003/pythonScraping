{
 "cells": [
  {
   "cell_type": "markdown",
   "metadata": {},
   "source": [
    "- 本身browser是非同步的動作，先完成DOM後，才下載圖片，webdriver完全無法追蹤，所以必需要有等待的策略\n",
    "- 必需等待網頁的DOM的完成，webdriver才可以取得元素，但有些情況是動態網頁(javascript所建立)，所以常會遇到沒有發現這個元素(**no such element**)\n",
    "\n",
    "- 如以下範例(必需手動建立一個html網頁)\n",
    "\n",
    "```\n",
    "<!doctype html>\n",
    "<meta charset=utf-8>\n",
    "<title>Race Condition Example</title>\n",
    "\n",
    "<script>\n",
    "    var initialised = false;\n",
    "    window.addEventListener(\"load\", function () {\n",
    "        var newElement = document.createElement(\"p\");\n",
    "        newElement.textContent = \"Hello from JavaScript!\";\n",
    "        document.body.appendChild(newElement);\n",
    "        initialised = true;\n",
    "    });\n",
    "</script>\n",
    "```"
   ]
  },
  {
   "cell_type": "code",
   "execution_count": 5,
   "metadata": {},
   "outputs": [],
   "source": [
    "from selenium import webdriver\n",
    "from selenium.webdriver.chrome.service import Service\n",
    "from webdriver_manager.chrome import ChromeDriverManager\n",
    "from selenium.webdriver.common.by import By\n",
    "\n",
    "driver = webdriver.Chrome(service=Service(ChromeDriverManager().install()))\n",
    "driver.get(\"file:///race_condition.html\")\n",
    "el = driver.find_element(By.TAG_NAME, \"p\")\n",
    "assert el.text == \"Hello from JavaScript!\""
   ]
  },
  {
   "cell_type": "markdown",
   "metadata": {},
   "source": [
    "## 明確等待時間"
   ]
  },
  {
   "cell_type": "code",
   "execution_count": null,
   "metadata": {},
   "outputs": [],
   "source": [
    "from selenium.webdriver.support.wait import WebDriverWait\n",
    "\n",
    "def document_initialised(driver):\n",
    "    return driver.execute_script(\"return initialised\")\n",
    "\n",
    "driver.navigate(\"file:///race_condition.html\")\n",
    "WebDriverWait(driver, timeout=10).until(document_initialised)\n",
    "el = driver.find_element(By.TAG_NAME, \"p\")\n",
    "assert el.text == \"Hello from JavaScript!\""
   ]
  },
  {
   "cell_type": "code",
   "execution_count": null,
   "metadata": {},
   "outputs": [],
   "source": [
    "from selenium.webdriver.support.wait import WebDriverWait\n",
    "\n",
    "driver.navigate(\"file:///race_condition.html\")\n",
    "el = WebDriverWait(driver, timeout=3).until(lambda d: d.find_element(By.TAG_NAME,\"p\"))\n",
    "assert el.text == \"Hello from JavaScript!\""
   ]
  },
  {
   "cell_type": "markdown",
   "metadata": {},
   "source": [
    "## 預設所有的等待時間"
   ]
  },
  {
   "cell_type": "code",
   "execution_count": null,
   "metadata": {},
   "outputs": [],
   "source": [
    "driver.implicitly_wait(10)\n",
    "driver.get(\"http://somedomain/url_that_delays_loading\")\n",
    "my_dynamic_element = driver.find_element(By.ID, \"myDynamicElement\")\n"
   ]
  }
 ],
 "metadata": {
  "kernelspec": {
   "display_name": "Python 3.10.6 ('venv02')",
   "language": "python",
   "name": "python3"
  },
  "language_info": {
   "codemirror_mode": {
    "name": "ipython",
    "version": 3
   },
   "file_extension": ".py",
   "mimetype": "text/x-python",
   "name": "python",
   "nbconvert_exporter": "python",
   "pygments_lexer": "ipython3",
   "version": "3.10.6"
  },
  "orig_nbformat": 4,
  "vscode": {
   "interpreter": {
    "hash": "ec0a055756b83330422d5482d4224b3188331e7f819c0c02c3ab9bd9bd1d6f66"
   }
  }
 },
 "nbformat": 4,
 "nbformat_minor": 2
}
