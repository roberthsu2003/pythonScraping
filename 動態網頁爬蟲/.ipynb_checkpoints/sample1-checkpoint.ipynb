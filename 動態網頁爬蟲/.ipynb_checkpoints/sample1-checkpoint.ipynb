{
 "cells": [
  {
   "cell_type": "code",
   "execution_count": 1,
   "metadata": {},
   "outputs": [
    {
     "name": "stdout",
     "output_type": "stream",
     "text": [
      "<html><head>\n",
      "<title>Some JavaScript-loaded content</title>\n",
      "<script src=\"../js/jquery-2.1.1.min.js\"></script>\n",
      "\n",
      "</head>\n",
      "<body>\n",
      "<div id=\"content\">Here is some important text you want to retrieve! <p></p><button id=\"loadedButton\">A button to click!</button></div>\n",
      "\n",
      "<script>\n",
      "$.ajax({\n",
      "    type: \"GET\",\n",
      "    url: \"loadedContent.php\",\n",
      "    success: function(response){\n",
      "\n",
      "\tsetTimeout(function() {\n",
      "\t    $('#content').html(response);\n",
      "\t}, 2000);\n",
      "    }\n",
      "  });\n",
      "\n",
      "function ajax_delay(str){\n",
      " setTimeout(\"str\",2000);\n",
      "}\n",
      "</script>\n",
      "\n",
      "</body></html>\n"
     ]
    }
   ],
   "source": [
    "from selenium import webdriver \n",
    "import time\n",
    "driver = webdriver.Chrome('/Users/roberthsu2003/Downloads/chromedriver') \n",
    "driver.get('http://pythonscraping.com/pages/javascript/ajaxDemo.html') \n",
    "time.sleep(3)\n",
    "print(driver.page_source)\n",
    "driver.close()"
   ]
  },
  {
   "cell_type": "code",
   "execution_count": null,
   "metadata": {},
   "outputs": [],
   "source": []
  }
 ],
 "metadata": {
  "kernelspec": {
   "display_name": "Python 3",
   "language": "python",
   "name": "python3"
  },
  "language_info": {
   "codemirror_mode": {
    "name": "ipython",
    "version": 3
   },
   "file_extension": ".py",
   "mimetype": "text/x-python",
   "name": "python",
   "nbconvert_exporter": "python",
   "pygments_lexer": "ipython3",
   "version": "3.8.3"
  }
 },
 "nbformat": 4,
 "nbformat_minor": 4
}
