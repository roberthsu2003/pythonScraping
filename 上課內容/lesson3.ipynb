{
 "cells": [
  {
   "cell_type": "code",
   "execution_count": 5,
   "id": "apart-secretariat",
   "metadata": {},
   "outputs": [],
   "source": [
    "class Person():\n",
    "    def __init__(self,name):\n",
    "        self.name = name"
   ]
  },
  {
   "cell_type": "code",
   "execution_count": 9,
   "id": "cultural-browse",
   "metadata": {},
   "outputs": [
    {
     "name": "stdout",
     "output_type": "stream",
     "text": [
      "<__main__.Person object at 0x000001C43CBEEBE0>\n"
     ]
    },
    {
     "data": {
      "text/plain": [
       "'robert'"
      ]
     },
     "execution_count": 9,
     "metadata": {},
     "output_type": "execute_result"
    }
   ],
   "source": [
    "someone=Person(\"robert\")\n",
    "print(someone)\n",
    "someone.name"
   ]
  },
  {
   "cell_type": "code",
   "execution_count": 19,
   "id": "clear-french",
   "metadata": {},
   "outputs": [],
   "source": [
    "class Car():\n",
    "    def exclaim(self):\n",
    "        print(\"I'm a Car!\")\n",
    "\n",
    "class Yugo(Car):\n",
    "    #overwrite\n",
    "    def exclaim(self):\n",
    "        print(\"I'm a Yugo!\")\n",
    "\n"
   ]
  },
  {
   "cell_type": "code",
   "execution_count": 20,
   "id": "domestic-electricity",
   "metadata": {},
   "outputs": [
    {
     "name": "stdout",
     "output_type": "stream",
     "text": [
      "<__main__.Car object at 0x000001C43CC00D30>\n",
      "<__main__.Yugo object at 0x000001C43CC004F0>\n"
     ]
    }
   ],
   "source": [
    "give_me_a_car = Car()\n",
    "give_me_a_yugo = Yugo()\n",
    "print(give_me_a_car)\n",
    "print(give_me_a_yugo)"
   ]
  },
  {
   "cell_type": "code",
   "execution_count": 21,
   "id": "contemporary-basin",
   "metadata": {},
   "outputs": [
    {
     "name": "stdout",
     "output_type": "stream",
     "text": [
      "I'm a Car!\n",
      "I'm a Yugo!\n"
     ]
    }
   ],
   "source": [
    "give_me_a_car.exclaim()\n",
    "give_me_a_yugo.exclaim()"
   ]
  },
  {
   "cell_type": "code",
   "execution_count": 25,
   "id": "seeing-girlfriend",
   "metadata": {},
   "outputs": [],
   "source": [
    "class Person():\n",
    "    def __init__(self,name):\n",
    "        self.name = name\n",
    "\n",
    "class MDPerson(Person):\n",
    "    pass\n",
    "\n",
    "class JDPerson(Person):\n",
    "    pass\n",
    "\n",
    "person = Person('Fudd')\n",
    "doctor = MDPerson('robert')\n",
    "lawyer = JDPerson('Alice')"
   ]
  },
  {
   "cell_type": "code",
   "execution_count": 26,
   "id": "wanted-scenario",
   "metadata": {},
   "outputs": [
    {
     "name": "stdout",
     "output_type": "stream",
     "text": [
      "Fudd\n",
      "robert\n",
      "Alice\n"
     ]
    }
   ],
   "source": [
    "class Person():\n",
    "    def __init__(self,name):\n",
    "        self.name = name\n",
    "\n",
    "class MDPerson(Person):\n",
    "    #overwrite\n",
    "    def __init__(self,name):\n",
    "        self.name = name\n",
    "\n",
    "class JDPerson(Person):\n",
    "    #overwrite\n",
    "    def __init__(self,name):\n",
    "        self.name = name\n",
    "\n",
    "person = Person('Fudd')\n",
    "doctor = MDPerson('robert')\n",
    "lawyer = JDPerson('Alice')\n",
    "print(person.name)\n",
    "print(doctor.name)\n",
    "print(lawyer.name)"
   ]
  },
  {
   "cell_type": "code",
   "execution_count": 28,
   "id": "failing-sympathy",
   "metadata": {},
   "outputs": [
    {
     "name": "stdout",
     "output_type": "stream",
     "text": [
      "Doctor robert\n",
      "Lawyer Alice\n",
      "Fudd\n",
      "robert\n",
      "Alice\n"
     ]
    }
   ],
   "source": [
    "class Person():\n",
    "    def __init__(self,name):\n",
    "        self.name = name\n",
    "\n",
    "class MDPerson(Person):\n",
    "    #overwrite\n",
    "    def __init__(self,name):\n",
    "        super().__init__(name)\n",
    "        print(\"Doctor\", self.name)\n",
    "\n",
    "class JDPerson(Person):\n",
    "    #overwrite\n",
    "    def __init__(self,name):\n",
    "        super().__init__(name)\n",
    "        print(\"Lawyer\", self.name)\n",
    "\n",
    "person = Person('Fudd')\n",
    "doctor = MDPerson('robert')\n",
    "lawyer = JDPerson('Alice')\n",
    "print(person.name)\n",
    "print(doctor.name)\n",
    "print(lawyer.name)"
   ]
  },
  {
   "cell_type": "code",
   "execution_count": null,
   "id": "listed-valve",
   "metadata": {},
   "outputs": [],
   "source": []
  }
 ],
 "metadata": {
  "kernelspec": {
   "display_name": "Python 3",
   "language": "python",
   "name": "python3"
  },
  "language_info": {
   "codemirror_mode": {
    "name": "ipython",
    "version": 3
   },
   "file_extension": ".py",
   "mimetype": "text/x-python",
   "name": "python",
   "nbconvert_exporter": "python",
   "pygments_lexer": "ipython3",
   "version": "3.8.6"
  }
 },
 "nbformat": 4,
 "nbformat_minor": 5
}
