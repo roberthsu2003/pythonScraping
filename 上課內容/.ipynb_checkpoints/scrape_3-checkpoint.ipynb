{
 "cells": [
  {
   "cell_type": "code",
   "execution_count": 2,
   "id": "musical-principle",
   "metadata": {},
   "outputs": [],
   "source": [
    "import requests\n",
    "response = requests.get('http://pythonscraping.com/pages/warandpeace.html')"
   ]
  },
  {
   "cell_type": "code",
   "execution_count": 8,
   "id": "authentic-manor",
   "metadata": {},
   "outputs": [
    {
     "name": "stdout",
     "output_type": "stream",
     "text": [
      "Anna\n",
      "Pavlovna Scherer\n",
      "Anna Pavlovna\n",
      "Anna Pavlovna\n",
      "Anna Pavlovna\n",
      "Anna Pavlovna\n",
      "Anna Pavlovna\n",
      "Anna Pavlovna\n",
      "Anna Pavlovna's\n",
      "Anna\n",
      "Pavlovna\n",
      "Anna\n",
      "Pavlovna\n",
      "Anna Pavlovna\n"
     ]
    }
   ],
   "source": [
    "from bs4 import BeautifulSoup\n",
    "import re\n",
    "bs = BeautifulSoup(response.text,'lxml')\n",
    "bs.__class__\n",
    "nameList = bs.find_all(name='span',attrs={'class':'green'})\n",
    "partten = '.*Anna.*'\n",
    "\n",
    "for nameTag in nameList:\n",
    "    #print(nameTag.__class__)\n",
    "    #print(nameTag.string)\n",
    "    if re.match(partten,nameTag.string):\n",
    "        print(nameTag.string)"
   ]
  },
  {
   "cell_type": "code",
   "execution_count": null,
   "id": "affected-leadership",
   "metadata": {},
   "outputs": [],
   "source": []
  }
 ],
 "metadata": {
  "kernelspec": {
   "display_name": "Python 3",
   "language": "python",
   "name": "python3"
  },
  "language_info": {
   "codemirror_mode": {
    "name": "ipython",
    "version": 3
   },
   "file_extension": ".py",
   "mimetype": "text/x-python",
   "name": "python",
   "nbconvert_exporter": "python",
   "pygments_lexer": "ipython3",
   "version": "3.8.6"
  }
 },
 "nbformat": 4,
 "nbformat_minor": 5
}
