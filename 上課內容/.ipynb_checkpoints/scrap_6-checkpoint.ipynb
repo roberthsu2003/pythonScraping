{
 "cells": [
  {
   "cell_type": "code",
   "execution_count": 3,
   "id": "static-vocabulary",
   "metadata": {},
   "outputs": [],
   "source": [
    "import requests\n",
    "url = \"https://goodinfo.tw/StockInfo/StockBzPerformance.asp?STOCK_ID=2330\"\n",
    "header = {'user-agent':'Mozilla/5.0 (Windows NT 10.0; Win64; x64) AppleWebKit/537.36 (KHTML, like Gecko) Chrome/89.0.4389.90 Safari/537.36'}\n",
    "response = requests.get(url,headers=header)\n",
    "response.encoding = 'utf-8'"
   ]
  },
  {
   "cell_type": "code",
   "execution_count": null,
   "id": "guided-headquarters",
   "metadata": {},
   "outputs": [],
   "source": [
    "from bs4 import BeautifulSoup\n",
    "bs = BeautifulSoup(response.text,'lxml')\n",
    "print(bs.prettify())"
   ]
  },
  {
   "cell_type": "code",
   "execution_count": null,
   "id": "wrong-operation",
   "metadata": {},
   "outputs": [],
   "source": [
    "#bs.find('div',{'id':'txtFinDetailData'})\n",
    "import re\n",
    "for row in bs.find('div',id='txtFinDetailData').find_all('tr',{'id':re.compile('^row')}):\n",
    "    print(row.prettify())"
   ]
  },
  {
   "cell_type": "code",
   "execution_count": null,
   "id": "demanding-factor",
   "metadata": {},
   "outputs": [],
   "source": []
  }
 ],
 "metadata": {
  "kernelspec": {
   "display_name": "Python 3",
   "language": "python",
   "name": "python3"
  },
  "language_info": {
   "codemirror_mode": {
    "name": "ipython",
    "version": 3
   },
   "file_extension": ".py",
   "mimetype": "text/x-python",
   "name": "python",
   "nbconvert_exporter": "python",
   "pygments_lexer": "ipython3",
   "version": "3.8.6"
  }
 },
 "nbformat": 4,
 "nbformat_minor": 5
}
