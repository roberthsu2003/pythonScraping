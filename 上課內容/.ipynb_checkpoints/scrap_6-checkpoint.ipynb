{
 "cells": [
  {
   "cell_type": "code",
   "execution_count": 3,
   "id": "owned-values",
   "metadata": {},
   "outputs": [],
   "source": [
    "import requests\n",
    "url = \"https://goodinfo.tw/StockInfo/StockBzPerformance.asp?STOCK_ID=2330\"\n",
    "header = {'user-agent':'Mozilla/5.0 (Windows NT 10.0; Win64; x64) AppleWebKit/537.36 (KHTML, like Gecko) Chrome/89.0.4389.90 Safari/537.36'}\n",
    "response = requests.get(url,headers=header)\n",
    "response.encoding = 'utf-8'"
   ]
  },
  {
   "cell_type": "code",
   "execution_count": null,
   "id": "likely-interaction",
   "metadata": {},
   "outputs": [],
   "source": [
    "from bs4 import BeautifulSoup\n",
    "bs = BeautifulSoup(response.text,'lxml')\n",
    "print(bs.prettify())"
   ]
  },
  {
   "cell_type": "code",
   "execution_count": null,
   "id": "vulnerable-paris",
   "metadata": {},
   "outputs": [],
   "source": [
    "#bs.find('div',{'id':'txtFinDetailData'})\n",
    "import re\n",
    "import csv\n",
    "data = bs.find('div',id='txtFinDetailData').find_all('tr',{'id':re.compile('^row')})\n",
    "csvFile = open('台積電.csv','w+')\n",
    "writer=csv.writer(csvFile)\n",
    "writer.writerow(['年度','股本(億)','財報評分','收盤','平均','漲跌','漲跌(%)','營業收入',\n",
    "                     '營業毛利','營業利益','業外損益','稅後淨利','營業毛利','營業利益','業外損益',\n",
    "                     '稅後淨利','ROE(%)','ROA(%)','稅後EPS','EPS年增(元)','BPS(元)'])\n",
    "csvFile.close()\n",
    "print('writer finish')"
   ]
  },
  {
   "cell_type": "code",
   "execution_count": null,
   "id": "fatty-kenya",
   "metadata": {},
   "outputs": [],
   "source": []
  }
 ],
 "metadata": {
  "kernelspec": {
   "display_name": "Python 3",
   "language": "python",
   "name": "python3"
  },
  "language_info": {
   "codemirror_mode": {
    "name": "ipython",
    "version": 3
   },
   "file_extension": ".py",
   "mimetype": "text/x-python",
   "name": "python",
   "nbconvert_exporter": "python",
   "pygments_lexer": "ipython3",
   "version": "3.8.6"
  }
 },
 "nbformat": 4,
 "nbformat_minor": 5
}
