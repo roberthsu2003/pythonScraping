{
 "cells": [
  {
   "cell_type": "code",
   "execution_count": 2,
   "id": "surgical-singles",
   "metadata": {},
   "outputs": [],
   "source": [
    "import requests\n",
    "response = requests.get('https://zh.wikipedia.org/wiki/%E8%87%BA%E7%81%A3%E8%A7%80%E5%85%89%E6%99%AF%E9%BB%9E%E5%88%97%E8%A1%A8')\n"
   ]
  },
  {
   "cell_type": "code",
   "execution_count": 3,
   "id": "front-pickup",
   "metadata": {},
   "outputs": [],
   "source": [
    "from bs4 import BeautifulSoup\n",
    "bs = BeautifulSoup(response.text,'lxml')"
   ]
  },
  {
   "cell_type": "code",
   "execution_count": null,
   "id": "continued-nancy",
   "metadata": {},
   "outputs": [],
   "source": [
    "#請取出全部網頁內的超連結\n",
    "#<a href=\"xxxx.xxxx.xxx\">"
   ]
  }
 ],
 "metadata": {
  "kernelspec": {
   "display_name": "Python 3",
   "language": "python",
   "name": "python3"
  },
  "language_info": {
   "codemirror_mode": {
    "name": "ipython",
    "version": 3
   },
   "file_extension": ".py",
   "mimetype": "text/x-python",
   "name": "python",
   "nbconvert_exporter": "python",
   "pygments_lexer": "ipython3",
   "version": "3.8.6"
  }
 },
 "nbformat": 4,
 "nbformat_minor": 5
}
