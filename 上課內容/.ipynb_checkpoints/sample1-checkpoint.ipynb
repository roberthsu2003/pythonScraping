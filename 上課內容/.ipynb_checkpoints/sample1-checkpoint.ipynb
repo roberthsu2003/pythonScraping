{
 "cells": [
  {
   "cell_type": "code",
   "execution_count": 2,
   "id": "responsible-congo",
   "metadata": {},
   "outputs": [
    {
     "name": "stdout",
     "output_type": "stream",
     "text": [
      "Hello! World!\n"
     ]
    }
   ],
   "source": [
    "print(\"Hello! World!\")"
   ]
  },
  {
   "cell_type": "code",
   "execution_count": 3,
   "id": "administrative-greene",
   "metadata": {
    "scrolled": true
   },
   "outputs": [
    {
     "name": "stdout",
     "output_type": "stream",
     "text": [
      "YES!\n"
     ]
    }
   ],
   "source": [
    "print(\"YES!\")"
   ]
  },
  {
   "cell_type": "code",
   "execution_count": 4,
   "id": "heated-native",
   "metadata": {},
   "outputs": [
    {
     "name": "stdout",
     "output_type": "stream",
     "text": [
      "No!\n"
     ]
    }
   ],
   "source": [
    "print(\"No!\")"
   ]
  },
  {
   "cell_type": "code",
   "execution_count": 22,
   "id": "hybrid-mathematics",
   "metadata": {},
   "outputs": [],
   "source": [
    "class Person:\n",
    "    def __init__(self,n,h,w):\n",
    "        print(\"Hello! I am 初始化\")\n",
    "        self.name = n\n",
    "        self.height = h\n",
    "        self.weight = w\n",
    "\n"
   ]
  },
  {
   "cell_type": "code",
   "execution_count": 25,
   "id": "enclosed-relevance",
   "metadata": {},
   "outputs": [
    {
     "name": "stdout",
     "output_type": "stream",
     "text": [
      "Hello! I am 初始化\n",
      "張xx\n",
      "170\n",
      "70\n"
     ]
    }
   ],
   "source": [
    "someOne = Person('張xx',170,70)\n",
    "print(someOne.name)\n",
    "print(someOne.height)\n",
    "print(someOne.weight)"
   ]
  },
  {
   "cell_type": "code",
   "execution_count": 24,
   "id": "perceived-proof",
   "metadata": {},
   "outputs": [
    {
     "name": "stdout",
     "output_type": "stream",
     "text": [
      "Hello! I am 初始化\n",
      "王xx\n",
      "160\n",
      "45\n"
     ]
    }
   ],
   "source": [
    "someTwo = Person('王xx',160,45)\n",
    "print(someTwo.name)\n",
    "print(someTwo.height)\n",
    "print(someTwo.weight)"
   ]
  },
  {
   "cell_type": "code",
   "execution_count": null,
   "id": "embedded-brush",
   "metadata": {},
   "outputs": [],
   "source": []
  }
 ],
 "metadata": {
  "kernelspec": {
   "display_name": "Python 3",
   "language": "python",
   "name": "python3"
  },
  "language_info": {
   "codemirror_mode": {
    "name": "ipython",
    "version": 3
   },
   "file_extension": ".py",
   "mimetype": "text/x-python",
   "name": "python",
   "nbconvert_exporter": "python",
   "pygments_lexer": "ipython3",
   "version": "3.8.6"
  }
 },
 "nbformat": 4,
 "nbformat_minor": 5
}
