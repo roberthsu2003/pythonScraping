{
 "cells": [
  {
   "cell_type": "code",
   "execution_count": 2,
   "id": "earlier-wages",
   "metadata": {},
   "outputs": [
    {
     "name": "stdout",
     "output_type": "stream",
     "text": [
      "Hello! World!\n"
     ]
    }
   ],
   "source": [
    "print(\"Hello! World!\")"
   ]
  },
  {
   "cell_type": "code",
   "execution_count": 3,
   "id": "acoustic-steps",
   "metadata": {
    "scrolled": true
   },
   "outputs": [
    {
     "name": "stdout",
     "output_type": "stream",
     "text": [
      "YES!\n"
     ]
    }
   ],
   "source": [
    "print(\"YES!\")"
   ]
  },
  {
   "cell_type": "code",
   "execution_count": 4,
   "id": "miniature-discharge",
   "metadata": {},
   "outputs": [
    {
     "name": "stdout",
     "output_type": "stream",
     "text": [
      "No!\n"
     ]
    }
   ],
   "source": [
    "print(\"No!\")"
   ]
  },
  {
   "cell_type": "code",
   "execution_count": 9,
   "id": "hydraulic-function",
   "metadata": {},
   "outputs": [
    {
     "name": "stdout",
     "output_type": "stream",
     "text": [
      "Hello! I am 初始化\n"
     ]
    }
   ],
   "source": [
    "class Person:\n",
    "    def __init__(self):\n",
    "        print(\"Hello! I am 初始化\")\n",
    "        self.name = \"xxx\"\n",
    "\n",
    "someone = Person()\n",
    "someone.name = '張xx'"
   ]
  },
  {
   "cell_type": "code",
   "execution_count": 10,
   "id": "constant-strengthening",
   "metadata": {},
   "outputs": [
    {
     "data": {
      "text/plain": [
       "'張xx'"
      ]
     },
     "execution_count": 10,
     "metadata": {},
     "output_type": "execute_result"
    }
   ],
   "source": [
    "someone.name"
   ]
  },
  {
   "cell_type": "code",
   "execution_count": null,
   "id": "convertible-vampire",
   "metadata": {},
   "outputs": [],
   "source": []
  }
 ],
 "metadata": {
  "kernelspec": {
   "display_name": "Python 3",
   "language": "python",
   "name": "python3"
  },
  "language_info": {
   "codemirror_mode": {
    "name": "ipython",
    "version": 3
   },
   "file_extension": ".py",
   "mimetype": "text/x-python",
   "name": "python",
   "nbconvert_exporter": "python",
   "pygments_lexer": "ipython3",
   "version": "3.8.6"
  }
 },
 "nbformat": 4,
 "nbformat_minor": 5
}
