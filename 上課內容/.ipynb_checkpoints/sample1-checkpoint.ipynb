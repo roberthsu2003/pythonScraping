{
 "cells": [
  {
   "cell_type": "code",
   "execution_count": 2,
   "id": "retired-officer",
   "metadata": {},
   "outputs": [
    {
     "name": "stdout",
     "output_type": "stream",
     "text": [
      "Hello! World!\n"
     ]
    }
   ],
   "source": [
    "print(\"Hello! World!\")"
   ]
  },
  {
   "cell_type": "code",
   "execution_count": 3,
   "id": "tender-restoration",
   "metadata": {
    "scrolled": true
   },
   "outputs": [
    {
     "name": "stdout",
     "output_type": "stream",
     "text": [
      "YES!\n"
     ]
    }
   ],
   "source": [
    "print(\"YES!\")"
   ]
  },
  {
   "cell_type": "code",
   "execution_count": 4,
   "id": "sealed-geometry",
   "metadata": {},
   "outputs": [
    {
     "name": "stdout",
     "output_type": "stream",
     "text": [
      "No!\n"
     ]
    }
   ],
   "source": [
    "print(\"No!\")"
   ]
  },
  {
   "cell_type": "code",
   "execution_count": 28,
   "id": "emotional-korean",
   "metadata": {},
   "outputs": [],
   "source": [
    "class Person:\n",
    "    def __init__(self,n,h,w):\n",
    "        print(\"Hello! I am 初始化\")\n",
    "        self.name = n\n",
    "        self.height = h\n",
    "        self.weight = w\n",
    "    \n",
    "    \n",
    "    def bmi(self):\n",
    "        return self.weight / ((self.height/100) ** 2)\n"
   ]
  },
  {
   "cell_type": "code",
   "execution_count": 29,
   "id": "broken-electron",
   "metadata": {},
   "outputs": [
    {
     "name": "stdout",
     "output_type": "stream",
     "text": [
      "Hello! I am 初始化\n",
      "張xx\n",
      "170\n",
      "70\n",
      "bmi: 24.221453287197235\n"
     ]
    }
   ],
   "source": [
    "someOne = Person('張xx',170,70)\n",
    "print(someOne.name)\n",
    "print(someOne.height)\n",
    "print(someOne.weight)\n",
    "print('bmi:',someOne.bmi())"
   ]
  },
  {
   "cell_type": "code",
   "execution_count": 30,
   "id": "automotive-federal",
   "metadata": {},
   "outputs": [
    {
     "name": "stdout",
     "output_type": "stream",
     "text": [
      "Hello! I am 初始化\n",
      "王xx\n",
      "160\n",
      "45\n",
      "bmi: 17.578124999999996\n"
     ]
    }
   ],
   "source": [
    "someTwo = Person('王xx',160,45)\n",
    "print(someTwo.name)\n",
    "print(someTwo.height)\n",
    "print(someTwo.weight)\n",
    "print('bmi:',someTwo.bmi())"
   ]
  },
  {
   "cell_type": "code",
   "execution_count": null,
   "id": "lesbian-bangkok",
   "metadata": {},
   "outputs": [],
   "source": []
  }
 ],
 "metadata": {
  "kernelspec": {
   "display_name": "Python 3",
   "language": "python",
   "name": "python3"
  },
  "language_info": {
   "codemirror_mode": {
    "name": "ipython",
    "version": 3
   },
   "file_extension": ".py",
   "mimetype": "text/x-python",
   "name": "python",
   "nbconvert_exporter": "python",
   "pygments_lexer": "ipython3",
   "version": "3.8.6"
  }
 },
 "nbformat": 4,
 "nbformat_minor": 5
}
