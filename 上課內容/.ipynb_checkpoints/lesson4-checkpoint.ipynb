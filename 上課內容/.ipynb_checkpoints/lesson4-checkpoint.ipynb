{
 "cells": [
  {
   "cell_type": "code",
   "execution_count": 9,
   "id": "rational-senate",
   "metadata": {},
   "outputs": [],
   "source": [
    "class Student():\n",
    "    def __init__(self,name,chinese=50):\n",
    "        self.name = name\n",
    "        self.chinese = chinese\n",
    "    @property\n",
    "    def s_chinese(self):\n",
    "        return self.chinese\n",
    "    \n",
    "    @s_chinese.setter\n",
    "    def s_chinese(self,input_value):\n",
    "        self.chinese = input_value"
   ]
  },
  {
   "cell_type": "code",
   "execution_count": 10,
   "id": "soviet-redhead",
   "metadata": {},
   "outputs": [
    {
     "name": "stdout",
     "output_type": "stream",
     "text": [
      "robert\n",
      "50\n",
      "50\n"
     ]
    }
   ],
   "source": [
    "oneStudent = Student('robert')\n",
    "print(oneStudent.name)\n",
    "print(oneStudent.s_chinese)"
   ]
  },
  {
   "cell_type": "code",
   "execution_count": null,
   "id": "fixed-scout",
   "metadata": {},
   "outputs": [],
   "source": []
  }
 ],
 "metadata": {
  "kernelspec": {
   "display_name": "Python 3",
   "language": "python",
   "name": "python3"
  },
  "language_info": {
   "codemirror_mode": {
    "name": "ipython",
    "version": 3
   },
   "file_extension": ".py",
   "mimetype": "text/x-python",
   "name": "python",
   "nbconvert_exporter": "python",
   "pygments_lexer": "ipython3",
   "version": "3.8.6"
  }
 },
 "nbformat": 4,
 "nbformat_minor": 5
}
