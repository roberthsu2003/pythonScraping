{
 "cells": [
  {
   "cell_type": "code",
   "execution_count": 5,
   "id": "german-simon",
   "metadata": {},
   "outputs": [],
   "source": [
    "class Person():\n",
    "    def __init__(self,name):\n",
    "        self.name = name"
   ]
  },
  {
   "cell_type": "code",
   "execution_count": 9,
   "id": "electrical-stream",
   "metadata": {},
   "outputs": [
    {
     "name": "stdout",
     "output_type": "stream",
     "text": [
      "<__main__.Person object at 0x000001C43CBEEBE0>\n"
     ]
    },
    {
     "data": {
      "text/plain": [
       "'robert'"
      ]
     },
     "execution_count": 9,
     "metadata": {},
     "output_type": "execute_result"
    }
   ],
   "source": [
    "someone=Person(\"robert\")\n",
    "print(someone)\n",
    "someone.name"
   ]
  },
  {
   "cell_type": "code",
   "execution_count": 19,
   "id": "proud-array",
   "metadata": {},
   "outputs": [],
   "source": [
    "class Car():\n",
    "    def exclaim(self):\n",
    "        print(\"I'm a Car!\")\n",
    "\n",
    "class Yugo(Car):\n",
    "    #overwrite\n",
    "    def exclaim(self):\n",
    "        print(\"I'm a Yugo!\")\n",
    "\n"
   ]
  },
  {
   "cell_type": "code",
   "execution_count": 20,
   "id": "environmental-plane",
   "metadata": {},
   "outputs": [
    {
     "name": "stdout",
     "output_type": "stream",
     "text": [
      "<__main__.Car object at 0x000001C43CC00D30>\n",
      "<__main__.Yugo object at 0x000001C43CC004F0>\n"
     ]
    }
   ],
   "source": [
    "give_me_a_car = Car()\n",
    "give_me_a_yugo = Yugo()\n",
    "print(give_me_a_car)\n",
    "print(give_me_a_yugo)"
   ]
  },
  {
   "cell_type": "code",
   "execution_count": 21,
   "id": "quantitative-street",
   "metadata": {},
   "outputs": [
    {
     "name": "stdout",
     "output_type": "stream",
     "text": [
      "I'm a Car!\n",
      "I'm a Yugo!\n"
     ]
    }
   ],
   "source": [
    "give_me_a_car.exclaim()\n",
    "give_me_a_yugo.exclaim()"
   ]
  },
  {
   "cell_type": "code",
   "execution_count": 25,
   "id": "threaded-processing",
   "metadata": {},
   "outputs": [],
   "source": [
    "class Person():\n",
    "    def __init__(self,name):\n",
    "        self.name = name\n",
    "\n",
    "class MDPerson(Person):\n",
    "    pass\n",
    "\n",
    "class JDPerson(Person):\n",
    "    pass\n",
    "\n",
    "person = Person('Fudd')\n",
    "doctor = MDPerson('robert')\n",
    "lawyer = JDPerson('Alice')"
   ]
  },
  {
   "cell_type": "code",
   "execution_count": 26,
   "id": "cubic-liechtenstein",
   "metadata": {},
   "outputs": [
    {
     "name": "stdout",
     "output_type": "stream",
     "text": [
      "Fudd\n",
      "robert\n",
      "Alice\n"
     ]
    }
   ],
   "source": [
    "class Person():\n",
    "    def __init__(self,name):\n",
    "        self.name = name\n",
    "\n",
    "class MDPerson(Person):\n",
    "    #overwrite\n",
    "    def __init__(self,name):\n",
    "        self.name = name\n",
    "\n",
    "class JDPerson(Person):\n",
    "    #overwrite\n",
    "    def __init__(self,name):\n",
    "        self.name = name\n",
    "\n",
    "person = Person('Fudd')\n",
    "doctor = MDPerson('robert')\n",
    "lawyer = JDPerson('Alice')\n",
    "print(person.name)\n",
    "print(doctor.name)\n",
    "print(lawyer.name)"
   ]
  },
  {
   "cell_type": "code",
   "execution_count": 28,
   "id": "relevant-equivalent",
   "metadata": {},
   "outputs": [
    {
     "name": "stdout",
     "output_type": "stream",
     "text": [
      "Doctor robert\n",
      "Lawyer Alice\n",
      "Fudd\n",
      "robert\n",
      "Alice\n"
     ]
    }
   ],
   "source": [
    "class Person():\n",
    "    def __init__(self,name):\n",
    "        self.name = name\n",
    "\n",
    "class MDPerson(Person):\n",
    "    #overwrite\n",
    "    def __init__(self,name):\n",
    "        super().__init__(name)\n",
    "        print(\"Doctor\", self.name)\n",
    "\n",
    "class JDPerson(Person):\n",
    "    #overwrite\n",
    "    def __init__(self,name):\n",
    "        super().__init__(name)\n",
    "        print(\"Lawyer\", self.name)\n",
    "\n",
    "person = Person('Fudd')\n",
    "doctor = MDPerson('robert')\n",
    "lawyer = JDPerson('Alice')\n",
    "print(person.name)\n",
    "print(doctor.name)\n",
    "print(lawyer.name)"
   ]
  },
  {
   "cell_type": "code",
   "execution_count": 32,
   "id": "tight-shopping",
   "metadata": {},
   "outputs": [
    {
     "name": "stdout",
     "output_type": "stream",
     "text": [
      "I'm a Car!\n",
      "I'm a Yugo!\n",
      "Yogo這裏有個小功能\n"
     ]
    },
    {
     "ename": "AttributeError",
     "evalue": "'Car' object has no attribute 'need_a_push'",
     "output_type": "error",
     "traceback": [
      "\u001b[1;31m---------------------------------------------------------------------------\u001b[0m",
      "\u001b[1;31mAttributeError\u001b[0m                            Traceback (most recent call last)",
      "\u001b[1;32m<ipython-input-32-612afb3c49f8>\u001b[0m in \u001b[0;36m<module>\u001b[1;34m\u001b[0m\n\u001b[0;32m     16\u001b[0m \u001b[0mmyYugo\u001b[0m\u001b[1;33m.\u001b[0m\u001b[0mexclaim\u001b[0m\u001b[1;33m(\u001b[0m\u001b[1;33m)\u001b[0m\u001b[1;33m\u001b[0m\u001b[1;33m\u001b[0m\u001b[0m\n\u001b[0;32m     17\u001b[0m \u001b[0mmyYugo\u001b[0m\u001b[1;33m.\u001b[0m\u001b[0mneed_a_push\u001b[0m\u001b[1;33m(\u001b[0m\u001b[1;33m)\u001b[0m\u001b[1;33m\u001b[0m\u001b[1;33m\u001b[0m\u001b[0m\n\u001b[1;32m---> 18\u001b[1;33m \u001b[0mmyCar\u001b[0m\u001b[1;33m.\u001b[0m\u001b[0mneed_a_push\u001b[0m\u001b[1;33m(\u001b[0m\u001b[1;33m)\u001b[0m\u001b[1;33m\u001b[0m\u001b[1;33m\u001b[0m\u001b[0m\n\u001b[0m",
      "\u001b[1;31mAttributeError\u001b[0m: 'Car' object has no attribute 'need_a_push'"
     ]
    }
   ],
   "source": [
    "class Car():\n",
    "    def exclaim(self):\n",
    "        print(\"I'm a Car!\")\n",
    "\n",
    "class Yugo(Car):\n",
    "    #overwrite\n",
    "    def exclaim(self):\n",
    "        print(\"I'm a Yugo!\")\n",
    "    \n",
    "    def need_a_push(self):\n",
    "        print(\"Yogo這裏有個小功能\")\n",
    "\n",
    "myCar = Car()\n",
    "myYugo = Yugo()\n",
    "myCar.exclaim()\n",
    "myYugo.exclaim()\n",
    "myYugo.need_a_push()\n",
    "myCar.need_a_push()"
   ]
  },
  {
   "cell_type": "code",
   "execution_count": 36,
   "id": "explicit-think",
   "metadata": {},
   "outputs": [
    {
     "ename": "TypeError",
     "evalue": "__init__() missing 1 required positional argument: 'email'",
     "output_type": "error",
     "traceback": [
      "\u001b[1;31m---------------------------------------------------------------------------\u001b[0m",
      "\u001b[1;31mTypeError\u001b[0m                                 Traceback (most recent call last)",
      "\u001b[1;32m<ipython-input-36-f2146388fd64>\u001b[0m in \u001b[0;36m<module>\u001b[1;34m\u001b[0m\n\u001b[0;32m      8\u001b[0m         \u001b[0mself\u001b[0m\u001b[1;33m.\u001b[0m\u001b[0memail\u001b[0m \u001b[1;33m=\u001b[0m \u001b[0memail\u001b[0m\u001b[1;33m\u001b[0m\u001b[1;33m\u001b[0m\u001b[0m\n\u001b[0;32m      9\u001b[0m \u001b[0mbob\u001b[0m \u001b[1;33m=\u001b[0m \u001b[0mEmailPerson\u001b[0m\u001b[1;33m(\u001b[0m\u001b[1;34m'Bob Frapples'\u001b[0m\u001b[1;33m,\u001b[0m \u001b[1;34m'bob@frapples.com'\u001b[0m\u001b[1;33m)\u001b[0m\u001b[1;33m\u001b[0m\u001b[1;33m\u001b[0m\u001b[0m\n\u001b[1;32m---> 10\u001b[1;33m \u001b[0mbobOnleName\u001b[0m \u001b[1;33m=\u001b[0m \u001b[0mEmailPerson\u001b[0m\u001b[1;33m(\u001b[0m\u001b[1;34m'Bob Frapples'\u001b[0m\u001b[1;33m)\u001b[0m\u001b[1;33m\u001b[0m\u001b[1;33m\u001b[0m\u001b[0m\n\u001b[0m\u001b[0;32m     11\u001b[0m \u001b[0mprint\u001b[0m\u001b[1;33m(\u001b[0m\u001b[0mbob\u001b[0m\u001b[1;33m.\u001b[0m\u001b[0mname\u001b[0m\u001b[1;33m)\u001b[0m\u001b[1;33m\u001b[0m\u001b[1;33m\u001b[0m\u001b[0m\n\u001b[0;32m     12\u001b[0m \u001b[0mprint\u001b[0m\u001b[1;33m(\u001b[0m\u001b[0mbob\u001b[0m\u001b[1;33m.\u001b[0m\u001b[0memail\u001b[0m\u001b[1;33m)\u001b[0m\u001b[1;33m\u001b[0m\u001b[1;33m\u001b[0m\u001b[0m\n",
      "\u001b[1;31mTypeError\u001b[0m: __init__() missing 1 required positional argument: 'email'"
     ]
    }
   ],
   "source": [
    "class Person():\n",
    "    def __init__(self,name):\n",
    "        self.name = name\n",
    "\n",
    "class EmailPerson(Person):\n",
    "    def __init__(self,name,email):\n",
    "        super().__init__(name)\n",
    "        self.email = email\n",
    "bob = EmailPerson('Bob Frapples', 'bob@frapples.com')\n",
    "print(bob.name)\n",
    "print(bob.email)"
   ]
  },
  {
   "cell_type": "code",
   "execution_count": 35,
   "id": "assumed-configuration",
   "metadata": {},
   "outputs": [],
   "source": [
    "class EmailPerson(Person):\n",
    "    def __init__(self,name,email):\n",
    "        self.name = name\n",
    "        self.email = email"
   ]
  },
  {
   "cell_type": "code",
   "execution_count": null,
   "id": "accompanied-soviet",
   "metadata": {},
   "outputs": [],
   "source": []
  }
 ],
 "metadata": {
  "kernelspec": {
   "display_name": "Python 3",
   "language": "python",
   "name": "python3"
  },
  "language_info": {
   "codemirror_mode": {
    "name": "ipython",
    "version": 3
   },
   "file_extension": ".py",
   "mimetype": "text/x-python",
   "name": "python",
   "nbconvert_exporter": "python",
   "pygments_lexer": "ipython3",
   "version": "3.8.6"
  }
 },
 "nbformat": 4,
 "nbformat_minor": 5
}
