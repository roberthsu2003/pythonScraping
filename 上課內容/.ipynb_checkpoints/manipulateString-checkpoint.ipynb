{
 "cells": [
  {
   "cell_type": "code",
   "execution_count": 5,
   "id": "corrected-settle",
   "metadata": {},
   "outputs": [
    {
     "data": {
      "text/plain": [
       "'Penny'"
      ]
     },
     "execution_count": 5,
     "metadata": {},
     "output_type": "execute_result"
    }
   ],
   "source": [
    "#replace()\n",
    "name = 'Henny'\n",
    "name = name.replace('H','P')\n",
    "name"
   ]
  },
  {
   "cell_type": "code",
   "execution_count": 9,
   "id": "tired-diversity",
   "metadata": {},
   "outputs": [
    {
     "data": {
      "text/plain": [
       "-1"
      ]
     },
     "execution_count": 9,
     "metadata": {},
     "output_type": "execute_result"
    }
   ],
   "source": [
    "#find()\n",
    "str1 = 'This is Python Tutorial, there'\n",
    "search1 = 'Python1'\n",
    "str1.find(search1)"
   ]
  },
  {
   "cell_type": "code",
   "execution_count": 12,
   "id": "manual-leeds",
   "metadata": {},
   "outputs": [
    {
     "name": "stdout",
     "output_type": "stream",
     "text": [
      "python\n",
      "java\n",
      "c++\n",
      "ruby\n"
     ]
    }
   ],
   "source": [
    "#split()\n",
    "str4 = 'python-java-c++-ruby'\n",
    "strList = str4.split('-')\n",
    "for item in strList:\n",
    "    print(item)"
   ]
  },
  {
   "cell_type": "code",
   "execution_count": 14,
   "id": "progressive-brooks",
   "metadata": {},
   "outputs": [
    {
     "data": {
      "text/plain": [
       "'python,java,c++,ruby'"
      ]
     },
     "execution_count": 14,
     "metadata": {},
     "output_type": "execute_result"
    }
   ],
   "source": [
    "#join()\n",
    "\",\".join(strList)"
   ]
  },
  {
   "cell_type": "code",
   "execution_count": 16,
   "id": "outside-drove",
   "metadata": {},
   "outputs": [
    {
     "name": "stdout",
     "output_type": "stream",
     "text": [
      "這不是手機號碼\n"
     ]
    }
   ],
   "source": [
    "#regular express 正規則表達式\n",
    "#re.match(正規則表達式,字串,旗誌)\n",
    "#如果有符合的字串,傳出Match物件,沒有傳出None\n",
    "import re\n",
    "phoneString = \"0926543232\"\n",
    "pattern = '\\d{10}'\n",
    "matchObject=re.match(pattern,phoneString)\n",
    "if matchObject:\n",
    "    print('這是手機號碼')\n",
    "else:\n",
    "    print('這不是手機號碼')"
   ]
  },
  {
   "cell_type": "code",
   "execution_count": 18,
   "id": "severe-pricing",
   "metadata": {},
   "outputs": [
    {
     "name": "stdout",
     "output_type": "stream",
     "text": [
      "這是手機號碼\n"
     ]
    }
   ],
   "source": [
    "import re\n",
    "phoneString = \"0926-543-232\"\n",
    "pattern = '\\d{4}-\\d{3}-\\d{3}'\n",
    "matchObject=re.match(pattern,phoneString)\n",
    "if matchObject:\n",
    "    print('這是手機號碼')\n",
    "else:\n",
    "    print('這不是手機號碼')"
   ]
  },
  {
   "cell_type": "code",
   "execution_count": 21,
   "id": "foreign-census",
   "metadata": {},
   "outputs": [
    {
     "name": "stdout",
     "output_type": "stream",
     "text": [
      "這是手機號碼\n"
     ]
    }
   ],
   "source": [
    "#正規則compile物件\n",
    "import re\n",
    "phoneString = \"0926-543-232\"\n",
    "compileObject = re.compile('\\d{4}-\\d{3}-\\d{3}')\n",
    "matchObject=compileObject.match(phoneString)\n",
    "if matchObject:\n",
    "    print('這是手機號碼')\n",
    "else:\n",
    "    print('這不是手機號碼')"
   ]
  },
  {
   "cell_type": "code",
   "execution_count": 36,
   "id": "western-phase",
   "metadata": {},
   "outputs": [
    {
     "name": "stdout",
     "output_type": "stream",
     "text": [
      "有搜尋到手機號碼\n",
      "0926-543-932\n"
     ]
    }
   ],
   "source": [
    "words = \"買房一直都是不少年輕人奮鬥的目標，盼望在畢業\\\n",
    "之後能夠找一份好的工作，從租房開始0926-543-932慢慢一路打拼到頭期款\\\n",
    "買房，而買房的地點也是許多人關注的重點，而近日就有網友\\\n",
    "在網路上表示疑惑「住『捷運共構宅』超棒嗎？」沒想到\\\n",
    "就有過來人吐露了經驗，甚至更揭露了1個重\\\n",
    "點，直言「真的是夢想住處」，引起熱議。\"\n",
    "compileObject = re.compile('\\d{4}-\\d{3}-\\d{3}')\n",
    "matchObject = compileObject.search(words)\n",
    "if matchObject:\n",
    "    \n",
    "    print(\"有搜尋到手機號碼\")\n",
    "    print(matchObject.group())\n",
    "else:\n",
    "    print(\"沒有手機號碼\")"
   ]
  },
  {
   "cell_type": "code",
   "execution_count": 47,
   "id": "biblical-december",
   "metadata": {},
   "outputs": [],
   "source": [
    "#re.sub()\n",
    "s = \"768 Working 2343 789 five 234 656 hours 324 4646 a 345 day\"\n",
    "compileObject = re.compile('\\d')\n",
    "subString = compileObject.sub('',s)\n",
    "subString=subString.lstrip()"
   ]
  },
  {
   "cell_type": "code",
   "execution_count": 48,
   "id": "trying-office",
   "metadata": {},
   "outputs": [
    {
     "data": {
      "text/plain": [
       "['Working', 'five', 'hours', 'a', 'day']"
      ]
     },
     "execution_count": 48,
     "metadata": {},
     "output_type": "execute_result"
    }
   ],
   "source": [
    "#re.split()\n",
    "re.split('\\s+',subString)"
   ]
  },
  {
   "cell_type": "code",
   "execution_count": 54,
   "id": "formed-parent",
   "metadata": {},
   "outputs": [
    {
     "name": "stdout",
     "output_type": "stream",
     "text": [
      "0926-543-932\n",
      "0926-993-211\n",
      "0935-993-211\n"
     ]
    }
   ],
   "source": [
    "#re.findall()\n",
    "words = \"買房一直都是不少年輕人奮鬥的目標，盼望在畢業\\\n",
    "之後能夠找一份好的工作，從租房開始0926-543-932慢慢一路打拼到頭期款\\\n",
    "買房，而買房的地點也是許多人關注的重點，而近日就有網友\\\n",
    "在網路上表示0926-993-211疑惑「住『捷運共構宅』超棒嗎？」沒想到\\\n",
    "就有過來人0935-993-211吐露了經驗，甚至更揭露了1個重\\\n",
    "點，直言「真的是夢想住處」，引起熱議。\"\n",
    "\n",
    "compileObject = re.compile('\\d{4}-\\d{3}-\\d{3}')\n",
    "listObject = compileObject.findall(words)\n",
    "for number in listObject:\n",
    "    print(number)"
   ]
  },
  {
   "cell_type": "code",
   "execution_count": null,
   "id": "concrete-catering",
   "metadata": {},
   "outputs": [],
   "source": []
  }
 ],
 "metadata": {
  "kernelspec": {
   "display_name": "Python 3",
   "language": "python",
   "name": "python3"
  },
  "language_info": {
   "codemirror_mode": {
    "name": "ipython",
    "version": 3
   },
   "file_extension": ".py",
   "mimetype": "text/x-python",
   "name": "python",
   "nbconvert_exporter": "python",
   "pygments_lexer": "ipython3",
   "version": "3.8.6"
  }
 },
 "nbformat": 4,
 "nbformat_minor": 5
}
