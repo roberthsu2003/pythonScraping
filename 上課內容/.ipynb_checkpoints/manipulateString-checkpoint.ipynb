{
 "cells": [
  {
   "cell_type": "code",
   "execution_count": 5,
   "id": "sublime-darwin",
   "metadata": {},
   "outputs": [
    {
     "data": {
      "text/plain": [
       "'Penny'"
      ]
     },
     "execution_count": 5,
     "metadata": {},
     "output_type": "execute_result"
    }
   ],
   "source": [
    "#replace()\n",
    "name = 'Henny'\n",
    "name = name.replace('H','P')\n",
    "name"
   ]
  },
  {
   "cell_type": "code",
   "execution_count": 9,
   "id": "seeing-webster",
   "metadata": {},
   "outputs": [
    {
     "data": {
      "text/plain": [
       "-1"
      ]
     },
     "execution_count": 9,
     "metadata": {},
     "output_type": "execute_result"
    }
   ],
   "source": [
    "#find()\n",
    "str1 = 'This is Python Tutorial, there'\n",
    "search1 = 'Python1'\n",
    "str1.find(search1)"
   ]
  },
  {
   "cell_type": "code",
   "execution_count": 12,
   "id": "unlimited-salem",
   "metadata": {},
   "outputs": [
    {
     "name": "stdout",
     "output_type": "stream",
     "text": [
      "python\n",
      "java\n",
      "c++\n",
      "ruby\n"
     ]
    }
   ],
   "source": [
    "#split()\n",
    "str4 = 'python-java-c++-ruby'\n",
    "strList = str4.split('-')\n",
    "for item in strList:\n",
    "    print(item)"
   ]
  },
  {
   "cell_type": "code",
   "execution_count": 14,
   "id": "unnecessary-signature",
   "metadata": {},
   "outputs": [
    {
     "data": {
      "text/plain": [
       "'python,java,c++,ruby'"
      ]
     },
     "execution_count": 14,
     "metadata": {},
     "output_type": "execute_result"
    }
   ],
   "source": [
    "#join()\n",
    "\",\".join(strList)"
   ]
  },
  {
   "cell_type": "code",
   "execution_count": null,
   "id": "respiratory-holocaust",
   "metadata": {},
   "outputs": [],
   "source": []
  }
 ],
 "metadata": {
  "kernelspec": {
   "display_name": "Python 3",
   "language": "python",
   "name": "python3"
  },
  "language_info": {
   "codemirror_mode": {
    "name": "ipython",
    "version": 3
   },
   "file_extension": ".py",
   "mimetype": "text/x-python",
   "name": "python",
   "nbconvert_exporter": "python",
   "pygments_lexer": "ipython3",
   "version": "3.8.6"
  }
 },
 "nbformat": 4,
 "nbformat_minor": 5
}
