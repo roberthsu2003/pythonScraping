{
 "cells": [
  {
   "cell_type": "markdown",
   "metadata": {},
   "source": [
    "# 抓取台積電資料並存檔為台積電sqlite\n",
    "\n",
    "![](./images/pic2.png)"
   ]
  },
  {
   "cell_type": "code",
   "execution_count": null,
   "metadata": {},
   "outputs": [],
   "source": [
    "import requests\n",
    "headers = {\n",
    "    'user-agent': 'Mozilla/5.0 (Macintosh; Intel Mac OS X 11_1_0) AppleWebKit/537.36 (KHTML, like Gecko) Chrome/87.0.4280.141 Safari/537.36'\n",
    "}\n",
    "res = requests.get(\"https://goodinfo.tw/StockInfo/StockBzPerformance.asp?STOCK_ID=2330\",headers = headers)\n",
    "res.encoding = 'utf-8'"
   ]
  },
  {
   "cell_type": "markdown",
   "metadata": {},
   "source": [
    "### 建立台積電.db\n",
    "- [下載DB Browser](https://sqlitebrowser.org)\n",
    "- 手動建立資料表和欄位\n",
    "\n",
    "![](./images/pic1.png)"
   ]
  },
  {
   "cell_type": "code",
   "execution_count": null,
   "metadata": {},
   "outputs": [],
   "source": [
    "import sqlite3\n",
    "conn = sqlite3.connect('台積電.db')\n",
    "print('開啟資料庫成功')"
   ]
  },
  {
   "cell_type": "code",
   "execution_count": null,
   "metadata": {},
   "outputs": [],
   "source": [
    "#c = conn.cursor()\n",
    "#field1 = '2011'\n",
    "#field2 = None\n",
    "#field3 = 3333.3\n",
    "#c.execute(\"INSERT INTO 獲利指標 (年度,股本_億,財報評分,收盤,漲跌,漲跌_百分比,營業收入_億,營業毛利_億,營業利益_億,業外損益_億,稅後淨利_億,營業毛利_百分比,營業利益_百分比,業外損益_百分比,稅後淨利_百分比,ROE_百分比,ROA百分比,稅後EPS,EPS年增_元,BPS_元) VALUES (?,?,?,?,?,?,?,?,?,?,?,?,?,?,?,?,?,?,?,?)\",(field1,field2,field3,field4,field5,field6,field,7field8,field9,field10,field11,field12,field13,field14,field15,field16,field17,field18,field19,field20))\n",
    "#conn.commit()\n",
    "#print('資料建立成功')\n",
    "#conn.close()"
   ]
  },
  {
   "cell_type": "code",
   "execution_count": null,
   "metadata": {},
   "outputs": [],
   "source": [
    "def toFloat(s):\n",
    "    try:\n",
    "        return float(s.replace(',',''))\n",
    "    except:\n",
    "        return None\n",
    "\n",
    "def toInt(s):\n",
    "    try:\n",
    "        return int(s.replace(',',''))\n",
    "    except:\n",
    "        return None\n",
    "   "
   ]
  },
  {
   "cell_type": "code",
   "execution_count": null,
   "metadata": {},
   "outputs": [],
   "source": [
    "#完整版,將資料儲存至sqlite\n",
    "from bs4 import BeautifulSoup\n",
    "import re\n",
    "import sqlite3\n",
    "conn = sqlite3.connect('台積電.db')\n",
    "print('開啟資料庫成功')\n",
    "soup = BeautifulSoup(res.text,'html.parser')\n",
    "data = soup.find('div',{'id':'txtFinDetailData'}).find_all('tr',{'id':re.compile('^row')})#c = conn.cursor()\n",
    "c = conn.cursor()\n",
    "for item in data:\n",
    "    fields = [];\n",
    "    for td in item.find_all('td')[:1]:\n",
    "        fields.append(td.string)\n",
    "        \n",
    "    for td in item.find_all('td')[1:3]:\n",
    "        value = toInt(td.string)\n",
    "        fields.append(value)\n",
    "        \n",
    "    for td in item.find_all('td')[3:]:\n",
    "        value = toFloat(td.string)\n",
    "        fields.append(value)\n",
    "        \n",
    "    c.execute(\"INSERT INTO 獲利指標 (年度,股本_億,財報評分,收盤,平均,漲跌,漲跌_百分比,營業收入_億,營業毛利_億,營業利益_億,業外損益_億,稅後淨利_億,營業毛利_百分比,營業利益_百分比,業外損益_百分比,稅後淨利_百分比,ROE_百分比,ROA_百分比,稅後EPS,EPS年增_元,BPS_元) VALUES (?,?,?,?,?,?,?,?,?,?,?,?,?,?,?,?,?,?,?,?,?)\",fields)\n",
    "conn.commit()\n",
    "print('資料建立成功')\n",
    "conn.close() \n"
   ]
  },
  {
   "cell_type": "markdown",
   "metadata": {},
   "source": [
    "![](./images/pic3.png)"
   ]
  }
 ],
 "metadata": {
  "kernelspec": {
   "display_name": "Python 3",
   "language": "python",
   "name": "python3"
  },
  "language_info": {
   "codemirror_mode": {
    "name": "ipython",
    "version": 3
   },
   "file_extension": ".py",
   "mimetype": "text/x-python",
   "name": "python",
   "nbconvert_exporter": "python",
   "pygments_lexer": "ipython3",
   "version": "3.8.6"
  }
 },
 "nbformat": 4,
 "nbformat_minor": 2
}
