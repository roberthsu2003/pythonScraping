{
 "cells": [
  {
   "cell_type": "code",
   "execution_count": 3,
   "id": "excited-diversity",
   "metadata": {},
   "outputs": [
    {
     "name": "stdout",
     "output_type": "stream",
     "text": [
      "2021-04-06 14:17:01,196 INFO sqlalchemy.engine.Engine BEGIN (implicit)\n",
      "2021-04-06 14:17:01,197 INFO sqlalchemy.engine.Engine PRAGMA main.table_info(\"損益表\")\n",
      "2021-04-06 14:17:01,198 INFO sqlalchemy.engine.Engine [raw sql] ()\n",
      "2021-04-06 14:17:01,200 INFO sqlalchemy.engine.Engine PRAGMA temp.table_info(\"損益表\")\n",
      "2021-04-06 14:17:01,200 INFO sqlalchemy.engine.Engine [raw sql] ()\n",
      "2021-04-06 14:17:01,202 INFO sqlalchemy.engine.Engine \n",
      "CREATE TABLE \"損益表\" (\n",
      "\tid INTEGER NOT NULL, \n",
      "\t\"年度\" VARCHAR, \n",
      "\t\"股本_億\" INTEGER, \n",
      "\t\"財報評分\" INTEGER, \n",
      "\t\"收盤\" FLOAT, \n",
      "\t\"平均\" FLOAT, \n",
      "\t\"漲跌\" FLOAT, \n",
      "\t\"漲跌_百分比\" FLOAT, \n",
      "\tPRIMARY KEY (id)\n",
      ")\n",
      "\n",
      "\n",
      "2021-04-06 14:17:01,202 INFO sqlalchemy.engine.Engine [no key 0.00061s] ()\n",
      "2021-04-06 14:17:01,211 INFO sqlalchemy.engine.Engine CREATE INDEX \"ix_損益表_年度\" ON \"損益表\" (\"年度\")\n",
      "2021-04-06 14:17:01,212 INFO sqlalchemy.engine.Engine [no key 0.00131s] ()\n",
      "2021-04-06 14:17:01,219 INFO sqlalchemy.engine.Engine COMMIT\n"
     ]
    }
   ],
   "source": [
    "from sqlalchemy import create_engine\n",
    "from sqlalchemy import Column,Integer,Float,String\n",
    "from sqlalchemy.ext.declarative import declarative_base\n",
    "\n",
    "Base = declarative_base()\n",
    "class TSMC(Base):\n",
    "    __tablename__ = '損益表'\n",
    "    id = Column(Integer,primary_key=True)\n",
    "    年度 = Column(String,index=True)\n",
    "    股本_億 = Column(Integer)\n",
    "    財報評分 = Column(Integer)\n",
    "    收盤 = Column(Float)\n",
    "    平均 = Column(Float)\n",
    "    漲跌 = Column(Float)\n",
    "    漲跌_百分比 = Column(Float)\n",
    "\n",
    "conn = create_engine('sqlite:///台積電.sqlite',echo=True)\n",
    "Base.metadata.create_all(conn)"
   ]
  },
  {
   "cell_type": "code",
   "execution_count": null,
   "id": "angry-questionnaire",
   "metadata": {},
   "outputs": [],
   "source": []
  }
 ],
 "metadata": {
  "kernelspec": {
   "display_name": "Python 3",
   "language": "python",
   "name": "python3"
  },
  "language_info": {
   "codemirror_mode": {
    "name": "ipython",
    "version": 3
   },
   "file_extension": ".py",
   "mimetype": "text/x-python",
   "name": "python",
   "nbconvert_exporter": "python",
   "pygments_lexer": "ipython3",
   "version": "3.8.6"
  }
 },
 "nbformat": 4,
 "nbformat_minor": 5
}
