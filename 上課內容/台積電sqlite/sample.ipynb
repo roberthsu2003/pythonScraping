{
 "cells": [
  {
   "cell_type": "code",
   "execution_count": 1,
   "id": "desirable-beast",
   "metadata": {},
   "outputs": [
    {
     "name": "stdout",
     "output_type": "stream",
     "text": [
      "2021-04-06 16:14:11,640 INFO sqlalchemy.engine.Engine BEGIN (implicit)\n",
      "2021-04-06 16:14:11,640 INFO sqlalchemy.engine.Engine PRAGMA main.table_info(\"損益表\")\n",
      "2021-04-06 16:14:11,640 INFO sqlalchemy.engine.Engine [raw sql] ()\n",
      "2021-04-06 16:14:11,640 INFO sqlalchemy.engine.Engine PRAGMA temp.table_info(\"損益表\")\n",
      "2021-04-06 16:14:11,640 INFO sqlalchemy.engine.Engine [raw sql] ()\n",
      "2021-04-06 16:14:11,646 INFO sqlalchemy.engine.Engine \n",
      "CREATE TABLE \"損益表\" (\n",
      "\tid INTEGER NOT NULL, \n",
      "\t\"年度\" VARCHAR, \n",
      "\t\"股本_億\" INTEGER, \n",
      "\t\"財報評分\" INTEGER, \n",
      "\t\"收盤\" FLOAT, \n",
      "\t\"平均\" FLOAT, \n",
      "\t\"漲跌\" FLOAT, \n",
      "\t\"漲跌_百分比\" FLOAT, \n",
      "\tPRIMARY KEY (id)\n",
      ")\n",
      "\n",
      "\n",
      "2021-04-06 16:14:11,647 INFO sqlalchemy.engine.Engine [no key 0.00067s] ()\n",
      "2021-04-06 16:14:11,689 INFO sqlalchemy.engine.Engine CREATE INDEX \"ix_損益表_年度\" ON \"損益表\" (\"年度\")\n",
      "2021-04-06 16:14:11,690 INFO sqlalchemy.engine.Engine [no key 0.00087s] ()\n",
      "2021-04-06 16:14:11,694 INFO sqlalchemy.engine.Engine COMMIT\n"
     ]
    }
   ],
   "source": [
    "from sqlalchemy import create_engine\n",
    "from sqlalchemy import Column,Integer,Float,String\n",
    "from sqlalchemy.ext.declarative import declarative_base\n",
    "\n",
    "Base = declarative_base()\n",
    "class TSMC(Base):\n",
    "    __tablename__ = '損益表'\n",
    "    id = Column(Integer,primary_key=True)\n",
    "    年度 = Column(String,index=True)\n",
    "    股本_億 = Column(Integer)\n",
    "    財報評分 = Column(Integer)\n",
    "    收盤 = Column(Float)\n",
    "    平均 = Column(Float)\n",
    "    漲跌 = Column(Float)\n",
    "    漲跌_百分比 = Column(Float)\n",
    "\n",
    "conn = create_engine('sqlite:///台積電.sqlite',echo=True)\n",
    "Base.metadata.create_all(conn)"
   ]
  },
  {
   "cell_type": "code",
   "execution_count": 2,
   "id": "beneficial-democracy",
   "metadata": {},
   "outputs": [],
   "source": [
    "import requests\n",
    "url = \"https://goodinfo.tw/StockInfo/StockBzPerformance.asp?STOCK_ID=2330\"\n",
    "header = {'user-agent':'Mozilla/5.0 (Windows NT 10.0; Win64; x64) AppleWebKit/537.36 (KHTML, like Gecko) Chrome/89.0.4389.90 Safari/537.36'}\n",
    "response = requests.get(url,headers=header)\n",
    "response.encoding = 'utf-8'"
   ]
  },
  {
   "cell_type": "code",
   "execution_count": 3,
   "id": "proper-riverside",
   "metadata": {},
   "outputs": [],
   "source": [
    "def toFloat(s):\n",
    "    try:\n",
    "        return float(s.replace(',',''))\n",
    "    except:\n",
    "        return None\n",
    "\n",
    "def toInt(s):\n",
    "    try:\n",
    "        return int(s.replace(',',''))\n",
    "    except:\n",
    "        return None\n",
    " "
   ]
  },
  {
   "cell_type": "code",
   "execution_count": 4,
   "id": "narrative-sigma",
   "metadata": {},
   "outputs": [
    {
     "name": "stdout",
     "output_type": "stream",
     "text": [
      "2021-04-06 16:14:12,490 INFO sqlalchemy.engine.Engine BEGIN (implicit)\n",
      "2021-04-06 16:14:12,505 INFO sqlalchemy.engine.Engine INSERT INTO \"損益表\" (\"年度\", \"股本_億\", \"財報評分\", \"收盤\", \"平均\", \"漲跌\", \"漲跌_百分比\") VALUES (?, ?, ?, ?, ?, ?, ?)\n",
      "2021-04-06 16:14:12,505 INFO sqlalchemy.engine.Engine [generated in 0.00065s] ('2021', None, None, 610.0, 608.0, 80.0, 15.1)\n",
      "2021-04-06 16:14:12,527 INFO sqlalchemy.engine.Engine INSERT INTO \"損益表\" (\"年度\", \"股本_億\", \"財報評分\", \"收盤\", \"平均\", \"漲跌\", \"漲跌_百分比\") VALUES (?, ?, ?, ?, ?, ?, ?)\n",
      "2021-04-06 16:14:12,527 INFO sqlalchemy.engine.Engine [cached since 0.02182s ago] ('2020', 2593, 89, 530.0, 379.0, 199.0, 60.1)\n",
      "2021-04-06 16:14:12,528 INFO sqlalchemy.engine.Engine INSERT INTO \"損益表\" (\"年度\", \"股本_億\", \"財報評分\", \"收盤\", \"平均\", \"漲跌\", \"漲跌_百分比\") VALUES (?, ?, ?, ?, ?, ?, ?)\n",
      "2021-04-06 16:14:12,529 INFO sqlalchemy.engine.Engine [cached since 0.02347s ago] ('2019', 2593, 89, 331.0, 262.0, 105.5, 46.8)\n",
      "2021-04-06 16:14:12,530 INFO sqlalchemy.engine.Engine INSERT INTO \"損益表\" (\"年度\", \"股本_億\", \"財報評分\", \"收盤\", \"平均\", \"漲跌\", \"漲跌_百分比\") VALUES (?, ?, ?, ?, ?, ?, ?)\n",
      "2021-04-06 16:14:12,532 INFO sqlalchemy.engine.Engine [cached since 0.02623s ago] ('2018', 2593, 94, 225.5, 237.0, -4.0, -1.7)\n",
      "2021-04-06 16:14:12,533 INFO sqlalchemy.engine.Engine INSERT INTO \"損益表\" (\"年度\", \"股本_億\", \"財報評分\", \"收盤\", \"平均\", \"漲跌\", \"漲跌_百分比\") VALUES (?, ?, ?, ?, ?, ?, ?)\n",
      "2021-04-06 16:14:12,533 INFO sqlalchemy.engine.Engine [cached since 0.0277s ago] ('2017', 2593, 91, 229.5, 210.0, 48.0, 26.4)\n",
      "2021-04-06 16:14:12,534 INFO sqlalchemy.engine.Engine INSERT INTO \"損益表\" (\"年度\", \"股本_億\", \"財報評分\", \"收盤\", \"平均\", \"漲跌\", \"漲跌_百分比\") VALUES (?, ?, ?, ?, ?, ?, ?)\n",
      "2021-04-06 16:14:12,535 INFO sqlalchemy.engine.Engine [cached since 0.02902s ago] ('2016', 2593, 91, 181.5, 166.0, 38.5, 26.9)\n",
      "2021-04-06 16:14:12,535 INFO sqlalchemy.engine.Engine INSERT INTO \"損益表\" (\"年度\", \"股本_億\", \"財報評分\", \"收盤\", \"平均\", \"漲跌\", \"漲跌_百分比\") VALUES (?, ?, ?, ?, ?, ?, ?)\n",
      "2021-04-06 16:14:12,536 INFO sqlalchemy.engine.Engine [cached since 0.03015s ago] ('2015', 2593, 94, 143.0, 140.0, 2.0, 1.4)\n",
      "2021-04-06 16:14:12,536 INFO sqlalchemy.engine.Engine INSERT INTO \"損益表\" (\"年度\", \"股本_億\", \"財報評分\", \"收盤\", \"平均\", \"漲跌\", \"漲跌_百分比\") VALUES (?, ?, ?, ?, ?, ?, ?)\n",
      "2021-04-06 16:14:12,537 INFO sqlalchemy.engine.Engine [cached since 0.03105s ago] ('2014', 2593, 91, 141.0, 123.0, 35.5, 33.6)\n",
      "2021-04-06 16:14:12,537 INFO sqlalchemy.engine.Engine INSERT INTO \"損益表\" (\"年度\", \"股本_億\", \"財報評分\", \"收盤\", \"平均\", \"漲跌\", \"漲跌_百分比\") VALUES (?, ?, ?, ?, ?, ?, ?)\n",
      "2021-04-06 16:14:12,538 INFO sqlalchemy.engine.Engine [cached since 0.03219s ago] ('2013', 2593, 89, 105.5, 104.0, 8.5, 8.8)\n",
      "2021-04-06 16:14:12,539 INFO sqlalchemy.engine.Engine INSERT INTO \"損益表\" (\"年度\", \"股本_億\", \"財報評分\", \"收盤\", \"平均\", \"漲跌\", \"漲跌_百分比\") VALUES (?, ?, ?, ?, ?, ?, ?)\n",
      "2021-04-06 16:14:12,539 INFO sqlalchemy.engine.Engine [cached since 0.03361s ago] ('2012', 2592, 89, 97.0, 84.1, 21.2, 28.0)\n",
      "2021-04-06 16:14:12,540 INFO sqlalchemy.engine.Engine INSERT INTO \"損益表\" (\"年度\", \"股本_億\", \"財報評分\", \"收盤\", \"平均\", \"漲跌\", \"漲跌_百分比\") VALUES (?, ?, ?, ?, ?, ?, ?)\n",
      "2021-04-06 16:14:12,540 INFO sqlalchemy.engine.Engine [cached since 0.03436s ago] ('2011', 2592, 94, 75.8, 72.1, 4.8, 6.8)\n",
      "2021-04-06 16:14:12,541 INFO sqlalchemy.engine.Engine INSERT INTO \"損益表\" (\"年度\", \"股本_億\", \"財報評分\", \"收盤\", \"平均\", \"漲跌\", \"漲跌_百分比\") VALUES (?, ?, ?, ?, ?, ?, ?)\n",
      "2021-04-06 16:14:12,542 INFO sqlalchemy.engine.Engine [cached since 0.03606s ago] ('2010', 2591, 96, 71.0, 62.0, 6.5, 10.1)\n",
      "2021-04-06 16:14:12,543 INFO sqlalchemy.engine.Engine INSERT INTO \"損益表\" (\"年度\", \"股本_億\", \"財報評分\", \"收盤\", \"平均\", \"漲跌\", \"漲跌_百分比\") VALUES (?, ?, ?, ?, ?, ?, ?)\n",
      "2021-04-06 16:14:12,545 INFO sqlalchemy.engine.Engine [cached since 0.03943s ago] ('2009', 2590, 91, 64.5, 55.5, 20.1, 45.3)\n",
      "2021-04-06 16:14:12,546 INFO sqlalchemy.engine.Engine INSERT INTO \"損益表\" (\"年度\", \"股本_億\", \"財報評分\", \"收盤\", \"平均\", \"漲跌\", \"漲跌_百分比\") VALUES (?, ?, ?, ?, ?, ?, ?)\n",
      "2021-04-06 16:14:12,547 INFO sqlalchemy.engine.Engine [cached since 0.04097s ago] ('2008', 2563, 94, 44.4, 56.4, -17.6, -28.4)\n",
      "2021-04-06 16:14:12,547 INFO sqlalchemy.engine.Engine INSERT INTO \"損益表\" (\"年度\", \"股本_億\", \"財報評分\", \"收盤\", \"平均\", \"漲跌\", \"漲跌_百分比\") VALUES (?, ?, ?, ?, ?, ?, ?)\n",
      "2021-04-06 16:14:12,548 INFO sqlalchemy.engine.Engine [cached since 0.04192s ago] ('2007', 2643, 94, 62.0, 65.5, -5.5, -8.1)\n",
      "2021-04-06 16:14:12,548 INFO sqlalchemy.engine.Engine INSERT INTO \"損益表\" (\"年度\", \"股本_億\", \"財報評分\", \"收盤\", \"平均\", \"漲跌\", \"漲跌_百分比\") VALUES (?, ?, ?, ?, ?, ?, ?)\n",
      "2021-04-06 16:14:12,548 INFO sqlalchemy.engine.Engine [cached since 0.04276s ago] ('2006', 2583, 96, 67.5, 61.3, 5.0, 8.0)\n",
      "2021-04-06 16:14:12,550 INFO sqlalchemy.engine.Engine INSERT INTO \"損益表\" (\"年度\", \"股本_億\", \"財報評分\", \"收盤\", \"平均\", \"漲跌\", \"漲跌_百分比\") VALUES (?, ?, ?, ?, ?, ?, ?)\n",
      "2021-04-06 16:14:12,550 INFO sqlalchemy.engine.Engine [cached since 0.04448s ago] ('2005', 2473, 94, 62.5, 54.1, 12.0, 23.8)\n",
      "2021-04-06 16:14:12,551 INFO sqlalchemy.engine.Engine INSERT INTO \"損益表\" (\"年度\", \"股本_億\", \"財報評分\", \"收盤\", \"平均\", \"漲跌\", \"漲跌_百分比\") VALUES (?, ?, ?, ?, ?, ?, ?)\n",
      "2021-04-06 16:14:12,552 INFO sqlalchemy.engine.Engine [cached since 0.04601s ago] ('2004', 2325, 89, 50.5, 52.4, -13.0, -20.5)\n",
      "2021-04-06 16:14:12,552 INFO sqlalchemy.engine.Engine INSERT INTO \"損益表\" (\"年度\", \"股本_億\", \"財報評分\", \"收盤\", \"平均\", \"漲跌\", \"漲跌_百分比\") VALUES (?, ?, ?, ?, ?, ?, ?)\n",
      "2021-04-06 16:14:12,553 INFO sqlalchemy.engine.Engine [cached since 0.04701s ago] ('2003', 2027, 79, 63.5, 56.4, 20.9, 49.1)\n",
      "2021-04-06 16:14:12,553 INFO sqlalchemy.engine.Engine INSERT INTO \"損益表\" (\"年度\", \"股本_億\", \"財報評分\", \"收盤\", \"平均\", \"漲跌\", \"漲跌_百分比\") VALUES (?, ?, ?, ?, ?, ?, ?)\n",
      "2021-04-06 16:14:12,553 INFO sqlalchemy.engine.Engine [cached since 0.04773s ago] ('2002', 1862, 66, 42.6, 67.4, -44.9, -51.3)\n",
      "2021-04-06 16:14:12,554 INFO sqlalchemy.engine.Engine INSERT INTO \"損益表\" (\"年度\", \"股本_億\", \"財報評分\", \"收盤\", \"平均\", \"漲跌\", \"漲跌_百分比\") VALUES (?, ?, ?, ?, ?, ?, ?)\n",
      "2021-04-06 16:14:12,554 INFO sqlalchemy.engine.Engine [cached since 0.04851s ago] ('2001', 1683, 60, 87.5, 77.7, 9.0, 11.5)\n",
      "2021-04-06 16:14:12,555 INFO sqlalchemy.engine.Engine INSERT INTO \"損益表\" (\"年度\", \"股本_億\", \"財報評分\", \"收盤\", \"平均\", \"漲跌\", \"漲跌_百分比\") VALUES (?, ?, ?, ?, ?, ?, ?)\n",
      "2021-04-06 16:14:12,555 INFO sqlalchemy.engine.Engine [cached since 0.04931s ago] ('2000', 1169, 91, 78.5, 147.0, -88.5, -53.0)\n",
      "2021-04-06 16:14:12,555 INFO sqlalchemy.engine.Engine INSERT INTO \"損益表\" (\"年度\", \"股本_億\", \"財報評分\", \"收盤\", \"平均\", \"漲跌\", \"漲跌_百分比\") VALUES (?, ?, ?, ?, ?, ?, ?)\n",
      "2021-04-06 16:14:12,556 INFO sqlalchemy.engine.Engine [cached since 0.05011s ago] ('1999', 852, 74, 167.0, 120.0, 96.0, 135.0)\n",
      "2021-04-06 16:14:12,556 INFO sqlalchemy.engine.Engine INSERT INTO \"損益表\" (\"年度\", \"股本_億\", \"財報評分\", \"收盤\", \"平均\", \"漲跌\", \"漲跌_百分比\") VALUES (?, ?, ?, ?, ?, ?, ?)\n",
      "2021-04-06 16:14:12,557 INFO sqlalchemy.engine.Engine [cached since 0.05101s ago] ('1998', 605, 72, 71.0, 101.0, -41.0, -36.6)\n",
      "2021-04-06 16:14:12,559 INFO sqlalchemy.engine.Engine INSERT INTO \"損益表\" (\"年度\", \"股本_億\", \"財報評分\", \"收盤\", \"平均\", \"漲跌\", \"漲跌_百分比\") VALUES (?, ?, ?, ?, ?, ?, ?)\n",
      "2021-04-06 16:14:12,561 INFO sqlalchemy.engine.Engine [cached since 0.05481s ago] ('1997', 408, 83, 112.0, 109.0, 55.5, 98.2)\n",
      "2021-04-06 16:14:12,563 INFO sqlalchemy.engine.Engine INSERT INTO \"損益表\" (\"年度\", \"股本_億\", \"財報評分\", \"收盤\", \"平均\", \"漲跌\", \"漲跌_百分比\") VALUES (?, ?, ?, ?, ?, ?, ?)\n",
      "2021-04-06 16:14:12,564 INFO sqlalchemy.engine.Engine [cached since 0.0587s ago] ('1996', 265, 94, 56.5, 63.8, -28.5, -33.5)\n",
      "2021-04-06 16:14:12,566 INFO sqlalchemy.engine.Engine INSERT INTO \"損益表\" (\"年度\", \"股本_億\", \"財報評分\", \"收盤\", \"平均\", \"漲跌\", \"漲跌_百分比\") VALUES (?, ?, ?, ?, ?, ?, ?)\n",
      "2021-04-06 16:14:12,566 INFO sqlalchemy.engine.Engine [cached since 0.0604s ago] ('1995', 144, 91, 85.0, 128.0, -72.0, -45.9)\n",
      "2021-04-06 16:14:12,567 INFO sqlalchemy.engine.Engine INSERT INTO \"損益表\" (\"年度\", \"股本_億\", \"財報評分\", \"收盤\", \"平均\", \"漲跌\", \"漲跌_百分比\") VALUES (?, ?, ?, ?, ?, ?, ?)\n",
      "2021-04-06 16:14:12,567 INFO sqlalchemy.engine.Engine [cached since 0.06134s ago] ('1994', 78, None, 157.0, 159.0, 61.0, 63.5)\n",
      "2021-04-06 16:14:12,568 INFO sqlalchemy.engine.Engine INSERT INTO \"損益表\" (\"年度\", \"股本_億\", \"財報評分\", \"收盤\", \"平均\", \"漲跌\", \"漲跌_百分比\") VALUES (?, ?, ?, ?, ?, ?, ?)\n",
      "2021-04-06 16:14:12,568 INFO sqlalchemy.engine.Engine [cached since 0.06261s ago] ('1993', None, None, None, None, None, None)\n",
      "2021-04-06 16:14:12,569 INFO sqlalchemy.engine.Engine INSERT INTO \"損益表\" (\"年度\", \"股本_億\", \"財報評分\", \"收盤\", \"平均\", \"漲跌\", \"漲跌_百分比\") VALUES (?, ?, ?, ?, ?, ?, ?)\n"
     ]
    },
    {
     "name": "stdout",
     "output_type": "stream",
     "text": [
      "2021-04-06 16:14:12,569 INFO sqlalchemy.engine.Engine [cached since 0.06371s ago] ('1992', None, None, None, None, None, None)\n",
      "2021-04-06 16:14:12,570 INFO sqlalchemy.engine.Engine INSERT INTO \"損益表\" (\"年度\", \"股本_億\", \"財報評分\", \"收盤\", \"平均\", \"漲跌\", \"漲跌_百分比\") VALUES (?, ?, ?, ?, ?, ?, ?)\n",
      "2021-04-06 16:14:12,571 INFO sqlalchemy.engine.Engine [cached since 0.06484s ago] ('1991', None, None, None, None, None, None)\n",
      "2021-04-06 16:14:12,572 INFO sqlalchemy.engine.Engine COMMIT\n"
     ]
    }
   ],
   "source": [
    "import re\n",
    "from bs4 import BeautifulSoup\n",
    "from sqlalchemy import create_engine\n",
    "from sqlalchemy.orm import Session\n",
    "conn = create_engine('sqlite:///台積電.sqlite',echo=True)\n",
    "bs = BeautifulSoup(response.text,'lxml')\n",
    "data = bs.find('div',id='txtFinDetailData').find_all('tr',{'id':re.compile('^row')})\n",
    "session = Session(conn)\n",
    "for row in data:\n",
    "    tsmc = TSMC()\n",
    "    tdlist = row.find_all('td')\n",
    "    tsmc.年度 = tdlist[0].string\n",
    "    tsmc.股本_億 = toInt(tdlist[1].string)\n",
    "    tsmc.財報評分 = toInt(tdlist[2].string)\n",
    "    tsmc.收盤 = toFloat(tdlist[3].string)\n",
    "    tsmc.平均 = toFloat(tdlist[4].string)\n",
    "    tsmc.漲跌 = toFloat(tdlist[5].string)\n",
    "    tsmc.漲跌_百分比 = toFloat(tdlist[6].string)\n",
    "    try:\n",
    "        session.add(tsmc)\n",
    "    except:\n",
    "        session.rollback()\n",
    "        print(\"出錯\")\n",
    "session.commit()    "
   ]
  },
  {
   "cell_type": "code",
   "execution_count": 5,
   "id": "located-importance",
   "metadata": {},
   "outputs": [
    {
     "name": "stdout",
     "output_type": "stream",
     "text": [
      "2021-04-06 16:14:12,585 INFO sqlalchemy.engine.Engine BEGIN (implicit)\n",
      "2021-04-06 16:14:12,587 INFO sqlalchemy.engine.Engine SELECT \"損益表\".id AS \"損益表_id\", \"損益表\".\"年度\" AS \"損益表_年度\", \"損益表\".\"股本_億\" AS \"損益表_股本_億\", \"損益表\".\"財報評分\" AS \"損益表_財報評分\", \"損益表\".\"收盤\" AS \"損益表_收盤\", \"損益表\".\"平均\" AS \"損益表_平均\", \"損益表\".\"漲跌\" AS \"損益表_漲跌\", \"損益表\".\"漲跌_百分比\" AS \"損益表_漲跌_百分比\" \n",
      "FROM \"損益表\" ORDER BY \"損益表\".id\n",
      "2021-04-06 16:14:12,588 INFO sqlalchemy.engine.Engine [generated in 0.00058s] ()\n",
      "2021\n",
      "2020\n",
      "2019\n",
      "2018\n",
      "2017\n",
      "2016\n",
      "2015\n",
      "2014\n",
      "2013\n",
      "2012\n",
      "2011\n",
      "2010\n",
      "2009\n",
      "2008\n",
      "2007\n",
      "2006\n",
      "2005\n",
      "2004\n",
      "2003\n",
      "2002\n",
      "2001\n",
      "2000\n",
      "1999\n",
      "1998\n",
      "1997\n",
      "1996\n",
      "1995\n",
      "1994\n",
      "1993\n",
      "1992\n",
      "1991\n"
     ]
    }
   ],
   "source": [
    "#select()\n",
    "#全選\n",
    "for tsmc in session.query(TSMC).order_by(TSMC.id):\n",
    "    print(tsmc.年度)"
   ]
  },
  {
   "cell_type": "code",
   "execution_count": 6,
   "id": "binary-senegal",
   "metadata": {},
   "outputs": [
    {
     "name": "stdout",
     "output_type": "stream",
     "text": [
      "2021-04-06 16:14:12,601 INFO sqlalchemy.engine.Engine SELECT \"損益表\".id AS \"損益表_id\", \"損益表\".\"年度\" AS \"損益表_年度\", \"損益表\".\"股本_億\" AS \"損益表_股本_億\", \"損益表\".\"財報評分\" AS \"損益表_財報評分\", \"損益表\".\"收盤\" AS \"損益表_收盤\", \"損益表\".\"平均\" AS \"損益表_平均\", \"損益表\".\"漲跌\" AS \"損益表_漲跌\", \"損益表\".\"漲跌_百分比\" AS \"損益表_漲跌_百分比\" \n",
      "FROM \"損益表\" \n",
      "WHERE \"損益表\".\"年度\" = ?\n",
      " LIMIT ? OFFSET ?\n",
      "2021-04-06 16:14:12,601 INFO sqlalchemy.engine.Engine [generated in 0.00078s] ('2020', 1, 0)\n"
     ]
    },
    {
     "data": {
      "text/plain": [
       "89"
      ]
     },
     "execution_count": 6,
     "metadata": {},
     "output_type": "execute_result"
    }
   ],
   "source": [
    "#過濾只有一筆\n",
    "tsmc=session.query(TSMC).filter_by(年度='2020').first()\n",
    "tsmc.財報評分"
   ]
  },
  {
   "cell_type": "code",
   "execution_count": 7,
   "id": "broken-parts",
   "metadata": {},
   "outputs": [
    {
     "name": "stdout",
     "output_type": "stream",
     "text": [
      "2021-04-06 16:14:12,616 INFO sqlalchemy.engine.Engine SELECT \"損益表\".id AS \"損益表_id\", \"損益表\".\"年度\" AS \"損益表_年度\", \"損益表\".\"股本_億\" AS \"損益表_股本_億\", \"損益表\".\"財報評分\" AS \"損益表_財報評分\", \"損益表\".\"收盤\" AS \"損益表_收盤\", \"損益表\".\"平均\" AS \"損益表_平均\", \"損益表\".\"漲跌\" AS \"損益表_漲跌\", \"損益表\".\"漲跌_百分比\" AS \"損益表_漲跌_百分比\" \n",
      "FROM \"損益表\" \n",
      "WHERE \"損益表\".\"財報評分\" >= ? ORDER BY \"損益表\".\"年度\"\n",
      "2021-04-06 16:14:12,617 INFO sqlalchemy.engine.Engine [generated in 0.00118s] (90,)\n",
      "1995\n",
      "1996\n",
      "2000\n",
      "2005\n",
      "2006\n",
      "2007\n",
      "2008\n",
      "2009\n",
      "2010\n",
      "2011\n",
      "2014\n",
      "2015\n",
      "2016\n",
      "2017\n",
      "2018\n"
     ]
    }
   ],
   "source": [
    "#過濾有多筆\n",
    "tsmcList=session.query(TSMC).order_by(TSMC.年度).filter(TSMC.財報評分>=90).all()\n",
    "for tsmc in tsmcList:\n",
    "    print(tsmc.年度)"
   ]
  },
  {
   "cell_type": "code",
   "execution_count": 8,
   "id": "seven-carry",
   "metadata": {},
   "outputs": [
    {
     "name": "stdout",
     "output_type": "stream",
     "text": [
      "2021-04-06 16:14:12,625 INFO sqlalchemy.engine.Engine SELECT \"損益表\".id AS \"損益表_id\", \"損益表\".\"年度\" AS \"損益表_年度\", \"損益表\".\"股本_億\" AS \"損益表_股本_億\", \"損益表\".\"財報評分\" AS \"損益表_財報評分\", \"損益表\".\"收盤\" AS \"損益表_收盤\", \"損益表\".\"平均\" AS \"損益表_平均\", \"損益表\".\"漲跌\" AS \"損益表_漲跌\", \"損益表\".\"漲跌_百分比\" AS \"損益表_漲跌_百分比\" \n",
      "FROM \"損益表\" \n",
      "WHERE \"損益表\".\"年度\" = ?\n",
      " LIMIT ? OFFSET ?\n",
      "2021-04-06 16:14:12,628 INFO sqlalchemy.engine.Engine [cached since 0.027s ago] ('2020', 1, 0)\n",
      "2021-04-06 16:14:12,632 INFO sqlalchemy.engine.Engine UPDATE \"損益表\" SET \"財報評分\"=? WHERE \"損益表\".id = ?\n",
      "2021-04-06 16:14:12,633 INFO sqlalchemy.engine.Engine [generated in 0.00103s] (90, 2)\n",
      "2021-04-06 16:14:12,634 INFO sqlalchemy.engine.Engine COMMIT\n"
     ]
    }
   ],
   "source": [
    "#修改\n",
    "tsmc=session.query(TSMC).filter_by(年度='2020').first()\n",
    "tsmc.財報評分 = 90\n",
    "session.commit()"
   ]
  },
  {
   "cell_type": "code",
   "execution_count": 9,
   "id": "parental-yorkshire",
   "metadata": {},
   "outputs": [
    {
     "name": "stdout",
     "output_type": "stream",
     "text": [
      "2021-04-06 16:14:12,650 INFO sqlalchemy.engine.Engine BEGIN (implicit)\n",
      "2021-04-06 16:14:12,651 INFO sqlalchemy.engine.Engine SELECT \"損益表\".id AS \"損益表_id\", \"損益表\".\"年度\" AS \"損益表_年度\", \"損益表\".\"股本_億\" AS \"損益表_股本_億\", \"損益表\".\"財報評分\" AS \"損益表_財報評分\", \"損益表\".\"收盤\" AS \"損益表_收盤\", \"損益表\".\"平均\" AS \"損益表_平均\", \"損益表\".\"漲跌\" AS \"損益表_漲跌\", \"損益表\".\"漲跌_百分比\" AS \"損益表_漲跌_百分比\" \n",
      "FROM \"損益表\" \n",
      "WHERE \"損益表\".\"年度\" = ?\n",
      " LIMIT ? OFFSET ?\n",
      "2021-04-06 16:14:12,652 INFO sqlalchemy.engine.Engine [cached since 0.05087s ago] ('2020', 1, 0)\n",
      "2021-04-06 16:14:12,653 INFO sqlalchemy.engine.Engine DELETE FROM \"損益表\" WHERE \"損益表\".id = ?\n",
      "2021-04-06 16:14:12,654 INFO sqlalchemy.engine.Engine [generated in 0.00080s] (2,)\n",
      "2021-04-06 16:14:12,655 INFO sqlalchemy.engine.Engine COMMIT\n"
     ]
    }
   ],
   "source": [
    "#刪除\n",
    "tsmc=session.query(TSMC).filter_by(年度='2020').first()\n",
    "session.delete(tsmc)\n",
    "session.commit()"
   ]
  },
  {
   "cell_type": "code",
   "execution_count": null,
   "id": "worth-bowling",
   "metadata": {},
   "outputs": [],
   "source": []
  }
 ],
 "metadata": {
  "kernelspec": {
   "display_name": "Python 3",
   "language": "python",
   "name": "python3"
  },
  "language_info": {
   "codemirror_mode": {
    "name": "ipython",
    "version": 3
   },
   "file_extension": ".py",
   "mimetype": "text/x-python",
   "name": "python",
   "nbconvert_exporter": "python",
   "pygments_lexer": "ipython3",
   "version": "3.8.6"
  }
 },
 "nbformat": 4,
 "nbformat_minor": 5
}
