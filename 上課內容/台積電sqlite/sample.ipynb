{
 "cells": [
  {
   "cell_type": "code",
   "execution_count": 1,
   "id": "finnish-cambodia",
   "metadata": {},
   "outputs": [],
   "source": [
    "import requests\n",
    "url = \"https://goodinfo.tw/StockInfo/StockBzPerformance.asp?STOCK_ID=2330\"\n",
    "header = {'user-agent':'Mozilla/5.0 (Windows NT 10.0; Win64; x64) AppleWebKit/537.36 (KHTML, like Gecko) Chrome/89.0.4389.90 Safari/537.36'}\n",
    "response = requests.get(url,headers=header)\n",
    "response.encoding = 'utf-8'"
   ]
  },
  {
   "cell_type": "code",
   "execution_count": 2,
   "id": "extensive-deficit",
   "metadata": {},
   "outputs": [],
   "source": [
    "from bs4 import BeautifulSoup\n",
    "bs = BeautifulSoup(response.text,'lxml')\n",
    "#print(bs.prettify())"
   ]
  },
  {
   "cell_type": "code",
   "execution_count": 9,
   "id": "elder-steel",
   "metadata": {},
   "outputs": [
    {
     "name": "stdout",
     "output_type": "stream",
     "text": [
      "2021-04-06 14:11:15,174 INFO sqlalchemy.engine.Engine BEGIN (implicit)\n",
      "2021-04-06 14:11:15,174 INFO sqlalchemy.engine.Engine PRAGMA main.table_info(\"table1\")\n",
      "2021-04-06 14:11:15,174 INFO sqlalchemy.engine.Engine [raw sql] ()\n",
      "2021-04-06 14:11:15,174 INFO sqlalchemy.engine.Engine PRAGMA temp.table_info(\"table1\")\n",
      "2021-04-06 14:11:15,174 INFO sqlalchemy.engine.Engine [raw sql] ()\n",
      "2021-04-06 14:11:15,188 INFO sqlalchemy.engine.Engine \n",
      "CREATE TABLE table1 (\n",
      "\tid INTEGER NOT NULL, \n",
      "\tyear VARCHAR, \n",
      "\tfield1 INTEGER, \n",
      "\tfield2 INTEGER, \n",
      "\tfield3 FLOAT, \n",
      "\tfield4 FLOAT, \n",
      "\tfield5 FLOAT, \n",
      "\tfield6 FLOAT, \n",
      "\tPRIMARY KEY (id)\n",
      ")\n",
      "\n",
      "\n",
      "2021-04-06 14:11:15,189 INFO sqlalchemy.engine.Engine [no key 0.00065s] ()\n",
      "2021-04-06 14:11:15,219 INFO sqlalchemy.engine.Engine CREATE INDEX ix_table1_year ON table1 (year)\n",
      "2021-04-06 14:11:15,220 INFO sqlalchemy.engine.Engine [no key 0.00078s] ()\n",
      "2021-04-06 14:11:15,225 INFO sqlalchemy.engine.Engine COMMIT\n"
     ]
    }
   ],
   "source": [
    "from cdb import TSMC"
   ]
  },
  {
   "cell_type": "code",
   "execution_count": null,
   "id": "subjective-cursor",
   "metadata": {},
   "outputs": [],
   "source": []
  }
 ],
 "metadata": {
  "kernelspec": {
   "display_name": "Python 3",
   "language": "python",
   "name": "python3"
  },
  "language_info": {
   "codemirror_mode": {
    "name": "ipython",
    "version": 3
   },
   "file_extension": ".py",
   "mimetype": "text/x-python",
   "name": "python",
   "nbconvert_exporter": "python",
   "pygments_lexer": "ipython3",
   "version": "3.8.6"
  }
 },
 "nbformat": 4,
 "nbformat_minor": 5
}
