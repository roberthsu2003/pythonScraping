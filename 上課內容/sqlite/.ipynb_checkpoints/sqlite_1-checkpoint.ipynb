{
 "cells": [
  {
   "cell_type": "code",
   "execution_count": 1,
   "id": "emerging-russian",
   "metadata": {},
   "outputs": [
    {
     "data": {
      "text/plain": [
       "<sqlalchemy.engine.cursor.LegacyCursorResult at 0x2393706d820>"
      ]
     },
     "execution_count": 1,
     "metadata": {},
     "output_type": "execute_result"
    }
   ],
   "source": [
    "from sqlalchemy import create_engine\n",
    "from sqlalchemy.orm import sessionmaker\n",
    "engine = create_engine('sqlite:///foo.db')\n",
    "sql = '''create table student(\n",
    "id int not null primary key,\n",
    "name varchar(50),\n",
    "age int,\n",
    "address varchar(100)\n",
    ");\n",
    "'''\n",
    "conn = engine.connect()\n",
    "conn.execute(sql)\n"
   ]
  },
  {
   "cell_type": "code",
   "execution_count": null,
   "id": "suffering-helen",
   "metadata": {},
   "outputs": [],
   "source": [
    "#2使用ORM方式建立表格\n",
    "from sqlalchemy import create_engine, MetaData, Table, Column, Interger, String\n",
    "engine = create_engine('sqlite:///foo.db')\n",
    "metadata = MetaData(engine)\n",
    "student = Table('student', metadata,\n",
    "               Column('id', Integer, primary_key))"
   ]
  }
 ],
 "metadata": {
  "kernelspec": {
   "display_name": "Python 3",
   "language": "python",
   "name": "python3"
  },
  "language_info": {
   "codemirror_mode": {
    "name": "ipython",
    "version": 3
   },
   "file_extension": ".py",
   "mimetype": "text/x-python",
   "name": "python",
   "nbconvert_exporter": "python",
   "pygments_lexer": "ipython3",
   "version": "3.8.6"
  }
 },
 "nbformat": 4,
 "nbformat_minor": 5
}
