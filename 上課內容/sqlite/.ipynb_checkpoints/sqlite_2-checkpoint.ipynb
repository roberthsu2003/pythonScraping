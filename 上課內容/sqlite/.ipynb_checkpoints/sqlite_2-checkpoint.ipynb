{
 "cells": [
  {
   "cell_type": "code",
   "execution_count": 1,
   "id": "determined-brazil",
   "metadata": {},
   "outputs": [],
   "source": [
    "#使用SQL語法建立sqlite\n",
    "from sqlalchemy import create_engine\n",
    "engine = create_engine('sqlite:///個人資料.sqlite')\n",
    "sqlString = '''\n",
    "CREATE TABLE person (\n",
    "id int not null primary key,\n",
    "name varchar(50),\n",
    "age int,\n",
    "address varchar(100) \n",
    ");\n",
    "'''\n",
    "with engine.connect() as connection:\n",
    "    connection.execute(sqlString)"
   ]
  },
  {
   "cell_type": "code",
   "execution_count": 3,
   "id": "sitting-accused",
   "metadata": {},
   "outputs": [
    {
     "name": "stdout",
     "output_type": "stream",
     "text": [
      "2021-04-06 11:46:43,881 INFO sqlalchemy.engine.Engine BEGIN (implicit)\n",
      "2021-04-06 11:46:43,884 INFO sqlalchemy.engine.Engine PRAGMA main.table_info(\"student\")\n",
      "2021-04-06 11:46:43,885 INFO sqlalchemy.engine.Engine [raw sql] ()\n",
      "2021-04-06 11:46:43,886 INFO sqlalchemy.engine.Engine PRAGMA temp.table_info(\"student\")\n",
      "2021-04-06 11:46:43,886 INFO sqlalchemy.engine.Engine [raw sql] ()\n",
      "2021-04-06 11:46:43,887 INFO sqlalchemy.engine.Engine \n",
      "CREATE TABLE student (\n",
      "\tid INTEGER NOT NULL, \n",
      "\tname VARCHAR(50), \n",
      "\tage INTEGER, \n",
      "\taddress VARCHAR(100), \n",
      "\tPRIMARY KEY (id)\n",
      ")\n",
      "\n",
      "\n",
      "2021-04-06 11:46:43,888 INFO sqlalchemy.engine.Engine [no key 0.00062s] ()\n",
      "2021-04-06 11:46:43,907 INFO sqlalchemy.engine.Engine COMMIT\n"
     ]
    }
   ],
   "source": [
    "#ORM方式建立sqlite\n",
    "from sqlalchemy import create_engine, MetaData, Table, Column, Integer, String\n",
    "engine = create_engine('sqlite:///學生資料.sqlite',echo=True)\n",
    "metadata = MetaData(engine)\n",
    "student = Table('student', metadata,\n",
    "               Column('id', Integer, primary_key=True),\n",
    "               Column('name', String(50)),\n",
    "               Column('age', Integer),\n",
    "               Column('address', String(100))                \n",
    "               )\n",
    "metadata.create_all(engine)"
   ]
  },
  {
   "cell_type": "code",
   "execution_count": null,
   "id": "biological-elizabeth",
   "metadata": {},
   "outputs": [],
   "source": []
  }
 ],
 "metadata": {
  "kernelspec": {
   "display_name": "Python 3",
   "language": "python",
   "name": "python3"
  },
  "language_info": {
   "codemirror_mode": {
    "name": "ipython",
    "version": 3
   },
   "file_extension": ".py",
   "mimetype": "text/x-python",
   "name": "python",
   "nbconvert_exporter": "python",
   "pygments_lexer": "ipython3",
   "version": "3.8.6"
  }
 },
 "nbformat": 4,
 "nbformat_minor": 5
}
