{
 "cells": [
  {
   "cell_type": "code",
   "execution_count": 1,
   "id": "emerging-russian",
   "metadata": {},
   "outputs": [
    {
     "data": {
      "text/plain": [
       "<sqlalchemy.engine.cursor.LegacyCursorResult at 0x2393706d820>"
      ]
     },
     "execution_count": 1,
     "metadata": {},
     "output_type": "execute_result"
    }
   ],
   "source": [
    "from sqlalchemy import create_engine\n",
    "from sqlalchemy.orm import sessionmaker\n",
    "engine = create_engine('sqlite:///foo.db')\n",
    "sql = '''create table student(\n",
    "id int not null primary key,\n",
    "name varchar(50),\n",
    "age int,\n",
    "address varchar(100)\n",
    ");\n",
    "'''\n",
    "conn = engine.connect()\n",
    "conn.execute(sql)\n"
   ]
  },
  {
   "cell_type": "code",
   "execution_count": 3,
   "id": "suffering-helen",
   "metadata": {},
   "outputs": [],
   "source": [
    "#2使用ORM方式建立表格\n",
    "from sqlalchemy import create_engine, MetaData, Table, Column, Integer, String\n",
    "engine = create_engine('sqlite:///foo.db')\n",
    "metadata = MetaData(engine)\n",
    "student = Table('student', metadata,\n",
    "               Column('id', Integer, primary_key=True),\n",
    "               Column('name',String(50)),\n",
    "               Column('age',Integer),\n",
    "               Column('address',String(100))\n",
    "               )\n",
    "metadata.create_all(engine)"
   ]
  },
  {
   "cell_type": "code",
   "execution_count": 5,
   "id": "taken-thompson",
   "metadata": {},
   "outputs": [
    {
     "name": "stdout",
     "output_type": "stream",
     "text": [
      "2021-04-06 12:45:08,912 INFO sqlalchemy.engine.Engine BEGIN (implicit)\n",
      "2021-04-06 12:45:08,913 INFO sqlalchemy.engine.Engine PRAGMA main.table_info(\"a\")\n",
      "2021-04-06 12:45:08,914 INFO sqlalchemy.engine.Engine [raw sql] ()\n",
      "2021-04-06 12:45:08,915 INFO sqlalchemy.engine.Engine PRAGMA main.table_info(\"b\")\n",
      "2021-04-06 12:45:08,916 INFO sqlalchemy.engine.Engine [raw sql] ()\n",
      "2021-04-06 12:45:08,917 INFO sqlalchemy.engine.Engine COMMIT\n"
     ]
    }
   ],
   "source": [
    "from sqlalchemy import Column\n",
    "from sqlalchemy import create_engine\n",
    "from sqlalchemy import ForeignKey\n",
    "from sqlalchemy import Integer\n",
    "from sqlalchemy import String\n",
    "from sqlalchemy.ext.declarative import declarative_base\n",
    "from sqlalchemy.orm import relationship\n",
    "from sqlalchemy.orm import Session\n",
    "\n",
    "Base = declarative_base()\n",
    "\n",
    "\n",
    "class A(Base):\n",
    "    __tablename__ = \"a\"\n",
    "\n",
    "    id = Column(Integer, primary_key=True)\n",
    "    data = Column(String)\n",
    "    bs = relationship(\"B\")\n",
    "\n",
    "\n",
    "class B(Base):\n",
    "    __tablename__ = \"b\"\n",
    "    id = Column(Integer, primary_key=True)\n",
    "    a_id = Column(ForeignKey(\"a.id\"))\n",
    "    data = Column(String)\n",
    "\n",
    "\n",
    "e = create_engine(\"sqlite:///foo1.db\", echo=True)\n",
    "Base.metadata.create_all(e)"
   ]
  },
  {
   "cell_type": "code",
   "execution_count": null,
   "id": "liked-musician",
   "metadata": {},
   "outputs": [],
   "source": []
  }
 ],
 "metadata": {
  "kernelspec": {
   "display_name": "Python 3",
   "language": "python",
   "name": "python3"
  },
  "language_info": {
   "codemirror_mode": {
    "name": "ipython",
    "version": 3
   },
   "file_extension": ".py",
   "mimetype": "text/x-python",
   "name": "python",
   "nbconvert_exporter": "python",
   "pygments_lexer": "ipython3",
   "version": "3.8.6"
  }
 },
 "nbformat": 4,
 "nbformat_minor": 5
}
