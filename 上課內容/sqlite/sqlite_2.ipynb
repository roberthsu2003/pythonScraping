{
 "cells": [
  {
   "cell_type": "code",
   "execution_count": 1,
   "id": "determined-brazil",
   "metadata": {},
   "outputs": [],
   "source": [
    "#使用SQL語法建立sqlite\n",
    "from sqlalchemy import create_engine\n",
    "engine = create_engine('sqlite:///個人資料.sqlite')\n",
    "sqlString = '''\n",
    "CREATE TABLE person (\n",
    "id int not null primary key,\n",
    "name varchar(50),\n",
    "age int,\n",
    "address varchar(100) \n",
    ");\n",
    "'''\n",
    "with engine.connect() as connection:\n",
    "    connection.execute(sqlString)"
   ]
  },
  {
   "cell_type": "code",
   "execution_count": null,
   "id": "sitting-accused",
   "metadata": {},
   "outputs": [],
   "source": [
    "#"
   ]
  }
 ],
 "metadata": {
  "kernelspec": {
   "display_name": "Python 3",
   "language": "python",
   "name": "python3"
  },
  "language_info": {
   "codemirror_mode": {
    "name": "ipython",
    "version": 3
   },
   "file_extension": ".py",
   "mimetype": "text/x-python",
   "name": "python",
   "nbconvert_exporter": "python",
   "pygments_lexer": "ipython3",
   "version": "3.8.6"
  }
 },
 "nbformat": 4,
 "nbformat_minor": 5
}
