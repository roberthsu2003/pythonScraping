{
 "cells": [
  {
   "cell_type": "code",
   "execution_count": 3,
   "id": "prerequisite-class",
   "metadata": {},
   "outputs": [],
   "source": [
    "class Student():\n",
    "    def __init__(self,name,chinese=50):\n",
    "        self.name = name\n",
    "        self.__chinese = chinese\n",
    "    @property\n",
    "    def chinese(self):\n",
    "        return self.__chinese\n",
    "    \n",
    "    @chinese.setter\n",
    "    def chinese(self,input_value):\n",
    "        if input_value > 100:\n",
    "            self.__chinese = 100\n",
    "        elif input_value < 0:\n",
    "            self.__chinese = 0\n",
    "        else:\n",
    "            self.__chinese = input_value"
   ]
  },
  {
   "cell_type": "code",
   "execution_count": 4,
   "id": "pacific-pointer",
   "metadata": {},
   "outputs": [
    {
     "name": "stdout",
     "output_type": "stream",
     "text": [
      "robert\n",
      "50\n"
     ]
    }
   ],
   "source": [
    "oneStudent = Student('robert')\n",
    "print(oneStudent.name)\n",
    "print(oneStudent.chinese)"
   ]
  },
  {
   "cell_type": "code",
   "execution_count": 6,
   "id": "photographic-twins",
   "metadata": {},
   "outputs": [
    {
     "name": "stdout",
     "output_type": "stream",
     "text": [
      "alice\n",
      "100\n",
      "0\n"
     ]
    }
   ],
   "source": [
    "twoStudent = Student('alice')\n",
    "print(twoStudent.name)\n",
    "twoStudent.chinese = 100\n",
    "print(twoStudent.chinese)\n",
    "twoStudent.chinese = -10\n",
    "print(twoStudent.chinese)"
   ]
  },
  {
   "cell_type": "code",
   "execution_count": null,
   "id": "lasting-synthesis",
   "metadata": {},
   "outputs": [],
   "source": []
  }
 ],
 "metadata": {
  "kernelspec": {
   "display_name": "Python 3",
   "language": "python",
   "name": "python3"
  },
  "language_info": {
   "codemirror_mode": {
    "name": "ipython",
    "version": 3
   },
   "file_extension": ".py",
   "mimetype": "text/x-python",
   "name": "python",
   "nbconvert_exporter": "python",
   "pygments_lexer": "ipython3",
   "version": "3.8.6"
  }
 },
 "nbformat": 4,
 "nbformat_minor": 5
}
