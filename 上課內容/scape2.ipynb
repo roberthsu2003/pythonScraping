{
 "cells": [
  {
   "cell_type": "code",
   "execution_count": 1,
   "id": "alien-gamma",
   "metadata": {},
   "outputs": [
    {
     "name": "stdout",
     "output_type": "stream",
     "text": [
      "<html>\n",
      "<head>\n",
      "<title>A Useful Page</title>\n",
      "</head>\n",
      "<body>\n",
      "<h1>An Interesting Title</h1>\n",
      "<div>\n",
      "Lorem ipsum dolor sit amet, consectetur adipisicing elit, sed do eiusmod tempor incididunt ut labore et dolore magna aliqua. Ut enim ad minim veniam, quis nostrud exercitation ullamco laboris nisi ut aliquip ex ea commodo consequat. Duis aute irure dolor in reprehenderit in voluptate velit esse cillum dolore eu fugiat nulla pariatur. Excepteur sint occaecat cupidatat non proident, sunt in culpa qui officia deserunt mollit anim id est laborum.\n",
      "</div>\n",
      "</body>\n",
      "</html>\n",
      "\n"
     ]
    }
   ],
   "source": [
    "import requests\n",
    "response = requests.get(\"http://pythonscraping.com/pages/page1.html\")\n",
    "print(response.text)"
   ]
  },
  {
   "cell_type": "code",
   "execution_count": 9,
   "id": "turkish-flexibility",
   "metadata": {},
   "outputs": [
    {
     "data": {
      "text/plain": [
       "<h1>An Interesting Title</h1>"
      ]
     },
     "execution_count": 9,
     "metadata": {},
     "output_type": "execute_result"
    }
   ],
   "source": [
    "from bs4 import BeautifulSoup\n",
    "bs = BeautifulSoup(response.text,'lxml')\n",
    "bs.__class__\n",
    "bs.h1\n",
    "bs.body.h1\n",
    "bs.html.body.h1\n",
    "bs.html.h1"
   ]
  },
  {
   "cell_type": "code",
   "execution_count": 19,
   "id": "rotary-modeling",
   "metadata": {},
   "outputs": [
    {
     "name": "stdout",
     "output_type": "stream",
     "text": [
      "找不到伺服器\n"
     ]
    }
   ],
   "source": [
    "import requests\n",
    "from requests import HTTPError,ConnectionError\n",
    "try:\n",
    "    response = requests.get(\"http://pythonscraping.com/pages1/page1.html\")\n",
    "    response.raise_for_status()\n",
    "except ConnectionError:\n",
    "    print('找不到伺服器')\n",
    "except HTTPError as e:\n",
    "    print(e.__class__)\n",
    "    print(e)\n",
    "except Exception as e:\n",
    "    print(\"出現不知的錯誤\")\n",
    "    print(e)\n",
    "else:\n",
    "    print(\"沒有出現錯誤\")\n"
   ]
  },
  {
   "cell_type": "code",
   "execution_count": null,
   "id": "developing-weekly",
   "metadata": {},
   "outputs": [],
   "source": []
  }
 ],
 "metadata": {
  "kernelspec": {
   "display_name": "Python 3",
   "language": "python",
   "name": "python3"
  },
  "language_info": {
   "codemirror_mode": {
    "name": "ipython",
    "version": 3
   },
   "file_extension": ".py",
   "mimetype": "text/x-python",
   "name": "python",
   "nbconvert_exporter": "python",
   "pygments_lexer": "ipython3",
   "version": "3.8.6"
  }
 },
 "nbformat": 4,
 "nbformat_minor": 5
}
