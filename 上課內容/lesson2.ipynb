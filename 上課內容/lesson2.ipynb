{
 "cells": [
  {
   "cell_type": "code",
   "execution_count": 2,
   "id": "furnished-lesbian",
   "metadata": {},
   "outputs": [
    {
     "name": "stdout",
     "output_type": "stream",
     "text": [
      "\n",
      "<html>\n",
      "<head>\n",
      "<title>A Useful Page</title>\n",
      "</head>\n",
      "<body>\n",
      "<h1>An Interesting Title</h1>\n",
      "<p class=\"title\"><b>The Dormouse's story</b></p>\n",
      "<p class=\"story\">Once upon a time there were three little sisters; and their names were\n",
      "<a class=\"sister\" href=\"http://example.com/elsie\" id=\"link1\">\n",
      "    Elsie\n",
      "</a>\n",
      ",\n",
      "<a class=\"sister\" href=\"http://example.com/lacie\" id=\"link2\">\n",
      " Lacie\n",
      "</a>\n",
      "and\n",
      "<a class=\"sister\" href=\"http://example.com/tillie\" id=\"link3\">\n",
      "Tillie\n",
      "</a>\n",
      "and they lived at the bottom of a well.\n",
      "</p>\n",
      "\n",
      "<div class='article'>\n",
      "Lorem ipsum dolor sit amet, consectetur adipisicing elit, sed do eiusmod tempor \n",
      "incididunt ut labore et dolore magna aliqua. Ut enim ad minim veniam, quis nostrud \n",
      "exercitation ullamco laboris nisi ut aliquip ex ea commodo consequat. Duis aute \n",
      "irure dolor in reprehenderit in voluptate velit esse cillum dolore eu fugiat nulla \n",
      "pariatur. Excepteur sint occaecat cupidatat non proident, sunt in culpa qui officia \n",
      "deserunt mollit anim id est laborum.\n",
      "</div>\n",
      "</body>\n",
      "</html>\n",
      "\n"
     ]
    }
   ],
   "source": [
    "html_doc = \"\"\"\n",
    "<html>\n",
    "<head>\n",
    "<title>A Useful Page</title>\n",
    "</head>\n",
    "<body>\n",
    "<h1>An Interesting Title</h1>\n",
    "<p class=\"title\"><b>The Dormouse's story</b></p>\n",
    "<p class=\"story\">Once upon a time there were three little sisters; and their names were\n",
    "<a class=\"sister\" href=\"http://example.com/elsie\" id=\"link1\">\n",
    "    Elsie\n",
    "</a>\n",
    ",\n",
    "<a class=\"sister\" href=\"http://example.com/lacie\" id=\"link2\">\n",
    " Lacie\n",
    "</a>\n",
    "and\n",
    "<a class=\"sister\" href=\"http://example.com/tillie\" id=\"link3\">\n",
    "Tillie\n",
    "</a>\n",
    "and they lived at the bottom of a well.\n",
    "</p>\n",
    "\n",
    "<div class='article'>\n",
    "Lorem ipsum dolor sit amet, consectetur adipisicing elit, sed do eiusmod tempor \n",
    "incididunt ut labore et dolore magna aliqua. Ut enim ad minim veniam, quis nostrud \n",
    "exercitation ullamco laboris nisi ut aliquip ex ea commodo consequat. Duis aute \n",
    "irure dolor in reprehenderit in voluptate velit esse cillum dolore eu fugiat nulla \n",
    "pariatur. Excepteur sint occaecat cupidatat non proident, sunt in culpa qui officia \n",
    "deserunt mollit anim id est laborum.\n",
    "</div>\n",
    "</body>\n",
    "</html>\n",
    "\"\"\"\n",
    "print(html_doc)"
   ]
  },
  {
   "cell_type": "code",
   "execution_count": 4,
   "id": "amateur-operator",
   "metadata": {},
   "outputs": [],
   "source": [
    "from bs4 import BeautifulSoup"
   ]
  },
  {
   "cell_type": "code",
   "execution_count": null,
   "id": "binary-circuit",
   "metadata": {},
   "outputs": [],
   "source": []
  }
 ],
 "metadata": {
  "kernelspec": {
   "display_name": "Python 3",
   "language": "python",
   "name": "python3"
  },
  "language_info": {
   "codemirror_mode": {
    "name": "ipython",
    "version": 3
   },
   "file_extension": ".py",
   "mimetype": "text/x-python",
   "name": "python",
   "nbconvert_exporter": "python",
   "pygments_lexer": "ipython3",
   "version": "3.8.6"
  }
 },
 "nbformat": 4,
 "nbformat_minor": 5
}
