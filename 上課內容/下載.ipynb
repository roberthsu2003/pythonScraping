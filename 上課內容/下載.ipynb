{
 "cells": [
  {
   "cell_type": "code",
   "execution_count": 1,
   "id": "earlier-solomon",
   "metadata": {},
   "outputs": [
    {
     "data": {
      "text/plain": [
       "requests.models.Response"
      ]
     },
     "execution_count": 1,
     "metadata": {},
     "output_type": "execute_result"
    }
   ],
   "source": [
    "import requests\n",
    "res = requests.get('https://api.github.com/events')\n",
    "res.__class__"
   ]
  },
  {
   "cell_type": "code",
   "execution_count": 2,
   "id": "prostate-fields",
   "metadata": {},
   "outputs": [
    {
     "data": {
      "text/plain": [
       "200"
      ]
     },
     "execution_count": 2,
     "metadata": {},
     "output_type": "execute_result"
    }
   ],
   "source": [
    "res.status_code"
   ]
  },
  {
   "cell_type": "code",
   "execution_count": 3,
   "id": "charming-mainland",
   "metadata": {},
   "outputs": [
    {
     "data": {
      "text/plain": [
       "'utf-8'"
      ]
     },
     "execution_count": 3,
     "metadata": {},
     "output_type": "execute_result"
    }
   ],
   "source": [
    "res.encoding"
   ]
  },
  {
   "cell_type": "code",
   "execution_count": 4,
   "id": "early-beverage",
   "metadata": {},
   "outputs": [
    {
     "data": {
      "text/plain": [
       "'https://api.github.com/events'"
      ]
     },
     "execution_count": 4,
     "metadata": {},
     "output_type": "execute_result"
    }
   ],
   "source": [
    "res.url"
   ]
  },
  {
   "cell_type": "code",
   "execution_count": 5,
   "id": "existing-wallace",
   "metadata": {},
   "outputs": [
    {
     "name": "stdout",
     "output_type": "stream",
     "text": [
      "下載成功\n"
     ]
    }
   ],
   "source": [
    "if res.status_code == 200:\n",
    "    print('下載成功')\n",
    "    gitHubData = res.json()"
   ]
  },
  {
   "cell_type": "code",
   "execution_count": 6,
   "id": "functional-tender",
   "metadata": {},
   "outputs": [
    {
     "data": {
      "text/plain": [
       "['a', 'b', 'c', 'd', 'e']"
      ]
     },
     "execution_count": 6,
     "metadata": {},
     "output_type": "execute_result"
    }
   ],
   "source": [
    "li = ['a','b','c','d','e']\n",
    "li"
   ]
  },
  {
   "cell_type": "code",
   "execution_count": 7,
   "id": "miniature-average",
   "metadata": {},
   "outputs": [
    {
     "data": {
      "text/plain": [
       "'a'"
      ]
     },
     "execution_count": 7,
     "metadata": {},
     "output_type": "execute_result"
    }
   ],
   "source": [
    "li[0]"
   ]
  },
  {
   "cell_type": "code",
   "execution_count": 8,
   "id": "sustainable-circuit",
   "metadata": {},
   "outputs": [
    {
     "data": {
      "text/plain": [
       "['f', 'b', 'c', 'd', 'e']"
      ]
     },
     "execution_count": 8,
     "metadata": {},
     "output_type": "execute_result"
    }
   ],
   "source": [
    "li[0] = 'f'\n",
    "li"
   ]
  },
  {
   "cell_type": "code",
   "execution_count": 9,
   "id": "powerful-black",
   "metadata": {},
   "outputs": [
    {
     "name": "stdout",
     "output_type": "stream",
     "text": [
      "f\n",
      "b\n",
      "c\n",
      "d\n",
      "e\n"
     ]
    }
   ],
   "source": [
    "for item in li:\n",
    "    print(item)"
   ]
  },
  {
   "cell_type": "code",
   "execution_count": 10,
   "id": "given-accessory",
   "metadata": {},
   "outputs": [
    {
     "data": {
      "text/plain": [
       "'japan'"
      ]
     },
     "execution_count": 10,
     "metadata": {},
     "output_type": "execute_result"
    }
   ],
   "source": [
    "codes = {'tw':'taiwan', 'jp':'japan', 'hk':'hongkong'}\n",
    "codes['jp']"
   ]
  },
  {
   "cell_type": "code",
   "execution_count": 11,
   "id": "foreign-socket",
   "metadata": {},
   "outputs": [
    {
     "name": "stdout",
     "output_type": "stream",
     "text": [
      "taiwan\n",
      "japan\n",
      "hongkong\n"
     ]
    }
   ],
   "source": [
    "for item in codes:\n",
    "    print(codes[item])"
   ]
  },
  {
   "cell_type": "code",
   "execution_count": 12,
   "id": "banned-adventure",
   "metadata": {},
   "outputs": [
    {
     "data": {
      "text/plain": [
       "list"
      ]
     },
     "execution_count": 12,
     "metadata": {},
     "output_type": "execute_result"
    }
   ],
   "source": [
    "gitHubData.__class__\n"
   ]
  },
  {
   "cell_type": "code",
   "execution_count": 14,
   "id": "activated-addiction",
   "metadata": {},
   "outputs": [
    {
     "name": "stdout",
     "output_type": "stream",
     "text": [
      "15278845454\n",
      "=============\n",
      "15278845460\n",
      "=============\n",
      "15278845456\n",
      "=============\n",
      "15278845451\n",
      "=============\n",
      "15278845459\n",
      "=============\n",
      "15278845446\n",
      "=============\n",
      "15278845444\n",
      "=============\n",
      "15278845445\n",
      "=============\n",
      "15278845440\n",
      "=============\n",
      "15278845431\n",
      "=============\n",
      "15278845425\n",
      "=============\n",
      "15278845427\n",
      "=============\n",
      "15278845422\n",
      "=============\n",
      "15278845417\n",
      "=============\n",
      "15278845418\n",
      "=============\n",
      "15278845411\n",
      "=============\n",
      "15278845407\n",
      "=============\n",
      "15278845408\n",
      "=============\n",
      "15278845409\n",
      "=============\n",
      "15278845403\n",
      "=============\n",
      "15278845392\n",
      "=============\n",
      "15278845400\n",
      "=============\n",
      "15278845396\n",
      "=============\n",
      "15278845393\n",
      "=============\n",
      "15278845386\n",
      "=============\n",
      "15278845380\n",
      "=============\n",
      "15278845385\n",
      "=============\n",
      "15278845383\n",
      "=============\n",
      "15278845378\n",
      "=============\n",
      "15278845373\n",
      "=============\n"
     ]
    }
   ],
   "source": [
    "for item in gitHubData:\n",
    "    print(item[\"id\"])\n",
    "    print(\"=============\")"
   ]
  },
  {
   "cell_type": "code",
   "execution_count": null,
   "id": "offensive-irish",
   "metadata": {},
   "outputs": [],
   "source": []
  }
 ],
 "metadata": {
  "kernelspec": {
   "display_name": "Python 3",
   "language": "python",
   "name": "python3"
  },
  "language_info": {
   "codemirror_mode": {
    "name": "ipython",
    "version": 3
   },
   "file_extension": ".py",
   "mimetype": "text/x-python",
   "name": "python",
   "nbconvert_exporter": "python",
   "pygments_lexer": "ipython3",
   "version": "3.8.6"
  }
 },
 "nbformat": 4,
 "nbformat_minor": 5
}
