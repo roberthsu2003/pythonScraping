{
 "cells": [
  {
   "cell_type": "code",
   "execution_count": 3,
   "id": "authorized-growing",
   "metadata": {},
   "outputs": [],
   "source": [
    "import requests\n",
    "from bs4 import BeautifulSoup\n",
    "response = requests.get('http://pythonscraping.com/pages/page3.html')"
   ]
  },
  {
   "cell_type": "code",
   "execution_count": 7,
   "id": "present-vietnamese",
   "metadata": {},
   "outputs": [
    {
     "name": "stdout",
     "output_type": "stream",
     "text": [
      "<class 'bs4.element.NavigableString'>\n",
      "<class 'bs4.element.Tag'>\n",
      "<class 'bs4.element.NavigableString'>\n",
      "<class 'bs4.element.Tag'>\n",
      "<class 'bs4.element.NavigableString'>\n",
      "<class 'bs4.element.Tag'>\n",
      "<class 'bs4.element.NavigableString'>\n",
      "<class 'bs4.element.Tag'>\n",
      "<class 'bs4.element.NavigableString'>\n",
      "<class 'bs4.element.Tag'>\n",
      "<class 'bs4.element.NavigableString'>\n",
      "<class 'bs4.element.Tag'>\n",
      "<class 'bs4.element.NavigableString'>\n"
     ]
    }
   ],
   "source": [
    "from bs4 import BeautifulSoup\n",
    "bs = BeautifulSoup(response.text,'lxml')\n",
    "childrenList = bs.find('table',id='giftList').children\n",
    "for children in childrenList:\n",
    "    print(children.__class__)\n",
    "    #print(children)"
   ]
  },
  {
   "cell_type": "code",
   "execution_count": null,
   "id": "julian-newspaper",
   "metadata": {},
   "outputs": [],
   "source": []
  }
 ],
 "metadata": {
  "kernelspec": {
   "display_name": "Python 3",
   "language": "python",
   "name": "python3"
  },
  "language_info": {
   "codemirror_mode": {
    "name": "ipython",
    "version": 3
   },
   "file_extension": ".py",
   "mimetype": "text/x-python",
   "name": "python",
   "nbconvert_exporter": "python",
   "pygments_lexer": "ipython3",
   "version": "3.8.6"
  }
 },
 "nbformat": 4,
 "nbformat_minor": 5
}
