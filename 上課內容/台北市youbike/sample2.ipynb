{
 "cells": [
  {
   "cell_type": "code",
   "execution_count": 3,
   "id": "perceived-alloy",
   "metadata": {},
   "outputs": [],
   "source": [
    "#取所有頁面內目前日期所有文章內容\n",
    "#將取得一頁內容的程式成為函式，並傳出一頁的內容,有無前面連結\n",
    "from bs4 import BeautifulSoup\n",
    "import requests\n",
    "import re\n",
    "def contentOfOnePage(URL,pttToday):\n",
    "    headers = {\"user-agent\":\"Mozilla/5.0 (Macintosh; Intel Mac OS X 11_2_1) AppleWebKit/537.36 (KHTML, like Gecko) Chrome/88.0.4324.182 Safari/537.36\"}\n",
    "    \n",
    "    #建立detail cookies\n",
    "    jar = requests.cookies.RequestsCookieJar()\n",
    "    jar.set('over18','1',domain='www.ptt.cc',path='/')\n",
    "\n",
    "    response = requests.get(URL,headers=headers,cookies=jar)\n",
    "    if response.status_code != 200:\n",
    "        print(\"連線有問題\",response.status_code)\n",
    "        return None\n",
    "       \n",
    "    \n",
    "    soup = BeautifulSoup(response.text,'html.parser')\n",
    "    \n",
    "    \n",
    "    pre_url_block = soup.find('div','btn-group btn-group-paging')\n",
    "    pre_url_element = pre_url_block.find_all('a', 'btn wide')[1]\n",
    "    pre_url = \"https://www.ptt.cc\" + pre_url_element['href']\n",
    "    \n",
    "    r_entElements = soup.find_all('div',{\"class\":\"r-ent\"})\n",
    "    articlesOfpage = []    \n",
    "    for element in r_entElements:\n",
    "        pushNum = element.find('div','nrec').get_text().strip()  #取得推文數\n",
    "        titleElement = element.find('div','title') #取得推文元素\n",
    "        title = titleElement.get_text().strip() #取得title        \n",
    "        try: #無作者會是None\n",
    "            titleLink = titleElement.a['href'] #取得文章連結網址\n",
    "            author = element.find('div','author').text #取得作者\n",
    "        except:\n",
    "            titleLink = '無網址'\n",
    "            author = \"無作者\"\n",
    "        #print(title)\n",
    "        #print(re.match(r\"(\\[公告\\]|\\[協尋\\])\",title,re.I))\n",
    "        if re.match(r\"(\\[公告\\]|\\[協尋\\])\",title,re.I): continue  #檢查有前面有[公告]或[協尋]就continue\n",
    "        #print(element.find('div','date').text.strip())\n",
    "        if element.find('div','date').text.strip() == pttToday:             \n",
    "            oneArticle = {}\n",
    "            try:\n",
    "                oneArticle['推文數'] = int(pushNum) if pushNum!=\"\" else 0 #如果推文數是空字串則傳回0\n",
    "            except:\n",
    "                oneArticle['推文數'] = 100\n",
    "            \n",
    "            oneArticle['文章標題'] = title\n",
    "            oneArticle['文章連結'] = titleLink\n",
    "            oneArticle['作者'] = author\n",
    "            articlesOfpage.append(oneArticle)\n",
    "        else:\n",
    "            pre_url = None #日期不對就將上一頁設為None\n",
    "            break\n",
    "            \n",
    "    return articlesOfpage, pre_url  #傳出tuple,前面為所有文章,後面為前一頁網址,如果本日文章已經結束,則傳回None"
   ]
  },
  {
   "cell_type": "code",
   "execution_count": 5,
   "id": "appropriate-plain",
   "metadata": {},
   "outputs": [
    {
     "name": "stdout",
     "output_type": "stream",
     "text": [
      "文章數 9\n",
      "顯示前50筆文章:\n",
      "{'推文數': 0, '文章標題': 'Re: [問卦] 拜耳案是不是台灣人民自己雙標的例子呀!', '文章連結': '/bbs/Gossiping/M.1615253301.A.111.html', '作者': 'gmooshan'}\n",
      "{'推文數': 0, '文章標題': '[問卦] 台男那麼多時間管理大師 真的有比較好嗎', '文章連結': '/bbs/Gossiping/M.1615253374.A.68F.html', '作者': 'Vincent6964'}\n",
      "{'推文數': 0, '文章標題': 'Re: [新聞] 王定宇驚爆同居顏若芳 網撻伐：顏色對了', '文章連結': '/bbs/Gossiping/M.1615253380.A.9CE.html', '作者': 'nasa709'}\n",
      "{'推文數': 0, '文章標題': 'Re: [問卦] 同性戀怎麼沒有被天擇淘汰', '文章連結': '/bbs/Gossiping/M.1615253388.A.C24.html', '作者': 'ZaneTrout'}\n",
      "{'推文數': 2, '文章標題': '[問卦] 同房不同床的純友誼還有多少人辦得到', '文章連結': '/bbs/Gossiping/M.1615253401.A.8B2.html', '作者': 'ROC92'}\n",
      "{'推文數': 0, '文章標題': 'Re: [新聞] 快訊／高雄駁二特區凌晨大火\\u3000濃煙沖天「', '文章連結': '/bbs/Gossiping/M.1615253437.A.286.html', '作者': 'Gjoy'}\n",
      "{'推文數': 0, '文章標題': '[問卦] 簽藻礁同意書的人漲電費 你ok嗎', '文章連結': '/bbs/Gossiping/M.1615253463.A.C70.html', '作者': 'rocephin'}\n",
      "{'推文數': 1, '文章標題': '[新聞] 南部變慶記之都？蘇貞昌：突發情仇殺難免', '文章連結': '/bbs/Gossiping/M.1615253490.A.B8C.html', '作者': 's48692003'}\n",
      "{'推文數': 0, '文章標題': 'Re: [問卦] 環團廢死同志八卦，台灣四大害？', '文章連結': '/bbs/Gossiping/M.1615253533.A.196.html', '作者': 'kashima228'}\n"
     ]
    }
   ],
   "source": [
    "import time\n",
    "pptUrl = \"https://www.ptt.cc/bbs/Gossiping/index.html\"\n",
    "articles = []\n",
    "#取得目前日期\n",
    "today = time.strftime('%m/%d')\n",
    "#符合ptt日期格式\n",
    "pttToday = today.lstrip('0')\n",
    "while pptUrl != None: #檢查有沒有日期是否為今日,如果是None就不是今天的日期\n",
    "    articlesOfpage, pptUrl = contentOfOnePage(pptUrl,pttToday)\n",
    "    #print(pptUrl)\n",
    "    articles += articlesOfpage\n",
    "print('文章數',len(articles))\n",
    "print('顯示前50筆文章:')\n",
    "for article in articles[:50]:\n",
    "    print(article)"
   ]
  },
  {
   "cell_type": "code",
   "execution_count": null,
   "id": "outer-owner",
   "metadata": {},
   "outputs": [],
   "source": []
  }
 ],
 "metadata": {
  "kernelspec": {
   "display_name": "Python 3",
   "language": "python",
   "name": "python3"
  },
  "language_info": {
   "codemirror_mode": {
    "name": "ipython",
    "version": 3
   },
   "file_extension": ".py",
   "mimetype": "text/x-python",
   "name": "python",
   "nbconvert_exporter": "python",
   "pygments_lexer": "ipython3",
   "version": "3.8.6"
  }
 },
 "nbformat": 4,
 "nbformat_minor": 5
}
