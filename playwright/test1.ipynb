{
 "cells": [
  {
   "cell_type": "code",
   "execution_count": null,
   "id": "114f17f5",
   "metadata": {},
   "outputs": [
    {
     "ename": "AttributeError",
     "evalue": "'coroutine' object has no attribute 'new_page'",
     "output_type": "error",
     "traceback": [
      "\u001b[31m---------------------------------------------------------------------------\u001b[39m",
      "\u001b[31mAttributeError\u001b[39m                            Traceback (most recent call last)",
      "\u001b[36mCell\u001b[39m\u001b[36m \u001b[39m\u001b[32mIn[1]\u001b[39m\u001b[32m, line 6\u001b[39m\n\u001b[32m      3\u001b[39m \u001b[38;5;28;01masync\u001b[39;00m \u001b[38;5;28;01mwith\u001b[39;00m async_playwright() \u001b[38;5;28;01mas\u001b[39;00m playwright:\n\u001b[32m      4\u001b[39m     \u001b[38;5;66;03m# Launch a browser\u001b[39;00m\n\u001b[32m      5\u001b[39m     browser = playwright.chromium.launch()\n\u001b[32m----> \u001b[39m\u001b[32m6\u001b[39m     page = \u001b[38;5;28;01mawait\u001b[39;00m \u001b[43mbrowser\u001b[49m\u001b[43m.\u001b[49m\u001b[43mnew_page\u001b[49m()\n\u001b[32m      7\u001b[39m     \u001b[38;5;28;01mawait\u001b[39;00m page.goto(\u001b[33m\"\u001b[39m\u001b[33mhttps://playwright.dev/python\u001b[39m\u001b[33m\"\u001b[39m)\n\u001b[32m      8\u001b[39m     \u001b[38;5;28;01mawait\u001b[39;00m browser.close()\n",
      "\u001b[31mAttributeError\u001b[39m: 'coroutine' object has no attribute 'new_page'"
     ]
    }
   ],
   "source": [
    "\n",
    "from playwright.async_api import async_playwright\n",
    "\n",
    "async with async_playwright() as playwright:\n",
    "    # Launch a browser\n",
    "    browser = playwright.chromium.launch()\n",
    "    await page.goto(\"https://playwright.dev/python\")\n",
    "    await browser.close()\n"
   ]
  }
 ],
 "metadata": {
  "kernelspec": {
   "display_name": "web_crawler",
   "language": "python",
   "name": "python3"
  },
  "language_info": {
   "codemirror_mode": {
    "name": "ipython",
    "version": 3
   },
   "file_extension": ".py",
   "mimetype": "text/x-python",
   "name": "python",
   "nbconvert_exporter": "python",
   "pygments_lexer": "ipython3",
   "version": "3.11.13"
  }
 },
 "nbformat": 4,
 "nbformat_minor": 5
}
